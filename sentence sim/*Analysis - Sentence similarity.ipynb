{
 "cells": [
  {
   "cell_type": "code",
   "execution_count": 1,
   "id": "db21ba41",
   "metadata": {},
   "outputs": [],
   "source": [
    "import pandas as pd\n",
    "from sentence_transformers import SentenceTransformer, util\n",
    "from tqdm import tqdm\n",
    "\n",
    "import nltk\n",
    "\n",
    "import Levenshtein"
   ]
  },
  {
   "cell_type": "code",
   "execution_count": 2,
   "id": "619d2b99",
   "metadata": {},
   "outputs": [
    {
     "data": {
      "text/plain": [
       "16666"
      ]
     },
     "execution_count": 2,
     "metadata": {},
     "output_type": "execute_result"
    }
   ],
   "source": [
    "df_ipccreport_body = pd.read_csv(\"df_ipccreport_body.csv\")\n",
    "df_ipccreport_body_trunc = df_ipccreport_body[['text','geography_iso','author','document_name','date','types0','text_block_id']]\n",
    "len(df_ipccreport_body)"
   ]
  },
  {
   "cell_type": "code",
   "execution_count": 3,
   "id": "7d31a946",
   "metadata": {},
   "outputs": [
    {
     "data": {
      "text/plain": [
       "498"
      ]
     },
     "execution_count": 3,
     "metadata": {},
     "output_type": "execute_result"
    }
   ],
   "source": [
    "ipcc_report_names = pd.DataFrame(df_ipccreport_body.groupby('date_document_name')['text'].count())\n",
    "#ipcc_reports.sort_values(['date_document_name'],ascending=False).head(60)\n",
    "df_ipccreport_body_sfp = df_ipccreport_body[df_ipccreport_body['document_name'].str.contains(\"Summary for Policymakers\")]\n",
    "len(df_ipccreport_body_sfp)"
   ]
  },
  {
   "cell_type": "code",
   "execution_count": 4,
   "id": "600ddae7",
   "metadata": {},
   "outputs": [
    {
     "data": {
      "text/plain": [
       "18848"
      ]
     },
     "execution_count": 4,
     "metadata": {},
     "output_type": "execute_result"
    }
   ],
   "source": [
    "df_ipccmentions_body = pd.read_csv(\"df_ipccmentions_body.csv\")\n",
    "df_ipccmentions_body_trunc = df_ipccmentions_body[['text','geography_iso','author','document_name','date','types0','text_block_id']]\n",
    "len(df_ipccmentions_body)"
   ]
  },
  {
   "cell_type": "markdown",
   "id": "c2a1ff51",
   "metadata": {},
   "source": [
    "## Paragraphs to sentences"
   ]
  },
  {
   "cell_type": "code",
   "execution_count": 5,
   "id": "2be17bc0",
   "metadata": {},
   "outputs": [],
   "source": [
    "# find some way of uniquely identifying sentences that is not using the text"
   ]
  },
  {
   "cell_type": "code",
   "execution_count": 6,
   "id": "8e8e631c",
   "metadata": {},
   "outputs": [],
   "source": [
    "def para_to_sent(text_list):\n",
    "    sent_list = []\n",
    "    index_list = []\n",
    "    for i in range(len(text_list)):\n",
    "            text = text_list[i]\n",
    "            sent_text = nltk.sent_tokenize(text)\n",
    "            # Add sentences list to main list, and their index\n",
    "            sent_list += sent_text\n",
    "            for j in range(len(sent_text)):\n",
    "                index_list += [i]\n",
    "    print(len(text_list))\n",
    "    print(len(sent_list))\n",
    "    sent_df = pd.DataFrame(list(zip(sent_list, index_list)),\n",
    "              columns=['Sentence','Row_index'])\n",
    "    return sent_df"
   ]
  },
  {
   "cell_type": "code",
   "execution_count": 7,
   "id": "7b0ee7b6",
   "metadata": {},
   "outputs": [
    {
     "name": "stdout",
     "output_type": "stream",
     "text": [
      "16666\n",
      "66991\n"
     ]
    },
    {
     "data": {
      "text/plain": [
       "56077"
      ]
     },
     "execution_count": 7,
     "metadata": {},
     "output_type": "execute_result"
    }
   ],
   "source": [
    "# df_ipccreport_body\n",
    "df_ipccreport_body_sent_df = para_to_sent(df_ipccreport_body['text'])\n",
    "df_ipccreport_body_sent_df = df_ipccreport_body_sent_df[(df_ipccreport_body_sent_df['Sentence'].str.count(' ') + 1)>=5]\n",
    "df_ipccreport_body_sent_df = df_ipccreport_body_sent_df.reset_index(drop=True)\n",
    "len(df_ipccreport_body_sent_df)"
   ]
  },
  {
   "cell_type": "code",
   "execution_count": 8,
   "id": "2ee7887b",
   "metadata": {},
   "outputs": [
    {
     "name": "stdout",
     "output_type": "stream",
     "text": [
      "18848\n",
      "52656\n"
     ]
    },
    {
     "data": {
      "text/plain": [
       "49541"
      ]
     },
     "execution_count": 8,
     "metadata": {},
     "output_type": "execute_result"
    }
   ],
   "source": [
    "# df_ipccmentions_body\n",
    "df_ipccmentions_body_sent_df = para_to_sent(df_ipccmentions_body['text'])\n",
    "df_ipccmentions_body_sent_df = df_ipccmentions_body_sent_df[(df_ipccmentions_body_sent_df['Sentence'].str.count(' ') + 1)>=5]\n",
    "df_ipccmentions_body_sent_df = df_ipccmentions_body_sent_df.reset_index(drop=True)\n",
    "len(df_ipccmentions_body_sent_df)"
   ]
  },
  {
   "cell_type": "markdown",
   "id": "35ec663f",
   "metadata": {},
   "source": [
    "## Levenshtein distance"
   ]
  },
  {
   "cell_type": "code",
   "execution_count": 9,
   "id": "15bef9fe",
   "metadata": {},
   "outputs": [],
   "source": [
    "def compute_levenshtein(a,b):\n",
    "    dist = Levenshtein.distance(a, b)\n",
    "    rat = Levenshtein.ratio(a, b)\n",
    "    mb = Levenshtein.matching_blocks(Levenshtein.editops(a,b), a, b)\n",
    "    matching = []\n",
    "    for x in mb:\n",
    "        # Only include matching strings of a certain length\n",
    "        if x[2]>5:\n",
    "           match = a[x[0]:x[0]+x[2]]\n",
    "           matching.append(match)\n",
    "    #print(rat)\n",
    "    return dist, rat, matching"
   ]
  },
  {
   "cell_type": "code",
   "execution_count": 31,
   "id": "121d5dc3",
   "metadata": {},
   "outputs": [
    {
     "name": "stderr",
     "output_type": "stream",
     "text": [
      "100%|██████████████████████████████████| 56077/56077 [44:07:52<00:00,  2.83s/it]\n"
     ]
    }
   ],
   "source": [
    "a_list = []\n",
    "a_idx_list = []\n",
    "b_list = []\n",
    "b_idx_list = []\n",
    "dist_list = []\n",
    "ratio_list = []\n",
    "matching_list = []\n",
    "\n",
    "#for i in tqdm(range(10000)):\n",
    "#    for j in range(10000):\n",
    "\n",
    "for i in tqdm(range(len(df_ipccreport_body_sent_df))):\n",
    "    for j in range(len(df_ipccmentions_body_sent_df)):\n",
    "        #print(i)\n",
    "        #print(j)\n",
    "\n",
    "        report_sent = df_ipccreport_body_sent_df['Sentence'][i]\n",
    "        report_sent_ri = df_ipccreport_body_sent_df['Row_index'][i]\n",
    "\n",
    "        mentions_sent = df_ipccmentions_body_sent_df['Sentence'][j]\n",
    "        mentions_sent_ri = df_ipccmentions_body_sent_df['Row_index'][j]\n",
    "\n",
    "        dist, ratio, matching = compute_levenshtein(report_sent,mentions_sent)\n",
    "        \n",
    "        if ratio > 0.6:\n",
    "            a_list.append(report_sent)\n",
    "            a_idx_list.append(report_sent_ri)\n",
    "            b_list.append(mentions_sent)\n",
    "            b_idx_list.append(mentions_sent_ri)\n",
    "            \n",
    "            dist_list.append(dist)\n",
    "            ratio_list.append(ratio)\n",
    "            matching_list.append(matching)\n",
    "            # print(report_sent)\n",
    "            # print(mentions_sent)\n",
    "            # print(dist)\n",
    "            # print(ratio)\n",
    "            # print(matching)\n",
    "            # print('\\n')  "
   ]
  },
  {
   "cell_type": "code",
   "execution_count": null,
   "id": "304cf02b",
   "metadata": {},
   "outputs": [],
   "source": [
    "# Also need the dataframe from IPCC report to itself"
   ]
  },
  {
   "cell_type": "code",
   "execution_count": 32,
   "id": "fbf3745f",
   "metadata": {},
   "outputs": [],
   "source": [
    "# Combine into dataframe\n",
    "sent_sim = pd.DataFrame(list(zip(a_list, a_idx_list, b_list, b_idx_list, dist_list, ratio_list, matching_list)),\n",
    "              columns=['Text (IPCC report)','Text (IPCC report) - Row Index','Text (IPCC mentions)','Text (IPCC mentions) - Row Index', 'Distance', 'Ratio', 'Matching Text'])"
   ]
  },
  {
   "cell_type": "code",
   "execution_count": 34,
   "id": "753e9aec",
   "metadata": {},
   "outputs": [
    {
     "data": {
      "text/plain": [
       "5785"
      ]
     },
     "execution_count": 34,
     "metadata": {},
     "output_type": "execute_result"
    }
   ],
   "source": [
    "len(sent_sim)\n",
    "#pd.set_option('display.max_colwidth', 500)"
   ]
  },
  {
   "cell_type": "code",
   "execution_count": 35,
   "id": "7b60a2ca",
   "metadata": {},
   "outputs": [],
   "source": [
    "sent_sim.to_csv(\"sent_sim20240423.csv\")"
   ]
  },
  {
   "cell_type": "code",
   "execution_count": null,
   "id": "cfff6161",
   "metadata": {},
   "outputs": [],
   "source": [
    "# Change all to lower then perform the matching?"
   ]
  }
 ],
 "metadata": {
  "kernelspec": {
   "display_name": "Python 3 (ipykernel)",
   "language": "python",
   "name": "python3"
  },
  "language_info": {
   "codemirror_mode": {
    "name": "ipython",
    "version": 3
   },
   "file_extension": ".py",
   "mimetype": "text/x-python",
   "name": "python",
   "nbconvert_exporter": "python",
   "pygments_lexer": "ipython3",
   "version": "3.11.5"
  }
 },
 "nbformat": 4,
 "nbformat_minor": 5
}

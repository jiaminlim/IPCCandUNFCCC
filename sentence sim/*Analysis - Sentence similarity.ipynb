{
 "cells": [
  {
   "cell_type": "code",
   "execution_count": 3,
   "id": "db21ba41",
   "metadata": {},
   "outputs": [],
   "source": [
    "import pandas as pd\n",
    "from sentence_transformers import SentenceTransformer, util\n",
    "from tqdm import tqdm\n",
    "\n",
    "import nltk\n",
    "\n",
    "import Levenshtein"
   ]
  },
  {
   "cell_type": "code",
   "execution_count": 4,
   "id": "619d2b99",
   "metadata": {},
   "outputs": [
    {
     "ename": "FileNotFoundError",
     "evalue": "[Errno 2] No such file or directory: 'df_ipccreport_body.csv'",
     "output_type": "error",
     "traceback": [
      "\u001b[0;31m---------------------------------------------------------------------------\u001b[0m",
      "\u001b[0;31mFileNotFoundError\u001b[0m                         Traceback (most recent call last)",
      "Cell \u001b[0;32mIn[4], line 1\u001b[0m\n\u001b[0;32m----> 1\u001b[0m df_ipccreport_body \u001b[38;5;241m=\u001b[39m pd\u001b[38;5;241m.\u001b[39mread_csv(\u001b[38;5;124m\"\u001b[39m\u001b[38;5;124mdf_ipccreport_body.csv\u001b[39m\u001b[38;5;124m\"\u001b[39m)\n\u001b[1;32m      2\u001b[0m df_ipccreport_body_trunc \u001b[38;5;241m=\u001b[39m df_ipccreport_body[[\u001b[38;5;124m'\u001b[39m\u001b[38;5;124mtext\u001b[39m\u001b[38;5;124m'\u001b[39m,\u001b[38;5;124m'\u001b[39m\u001b[38;5;124mgeography_iso\u001b[39m\u001b[38;5;124m'\u001b[39m,\u001b[38;5;124m'\u001b[39m\u001b[38;5;124mauthor\u001b[39m\u001b[38;5;124m'\u001b[39m,\u001b[38;5;124m'\u001b[39m\u001b[38;5;124mdocument_name\u001b[39m\u001b[38;5;124m'\u001b[39m,\u001b[38;5;124m'\u001b[39m\u001b[38;5;124mdate\u001b[39m\u001b[38;5;124m'\u001b[39m,\u001b[38;5;124m'\u001b[39m\u001b[38;5;124mtypes0\u001b[39m\u001b[38;5;124m'\u001b[39m,\u001b[38;5;124m'\u001b[39m\u001b[38;5;124mtext_block_id\u001b[39m\u001b[38;5;124m'\u001b[39m]]\n\u001b[1;32m      3\u001b[0m \u001b[38;5;28mlen\u001b[39m(df_ipccreport_body)\n",
      "File \u001b[0;32m~/anaconda3/lib/python3.11/site-packages/pandas/io/parsers/readers.py:912\u001b[0m, in \u001b[0;36mread_csv\u001b[0;34m(filepath_or_buffer, sep, delimiter, header, names, index_col, usecols, dtype, engine, converters, true_values, false_values, skipinitialspace, skiprows, skipfooter, nrows, na_values, keep_default_na, na_filter, verbose, skip_blank_lines, parse_dates, infer_datetime_format, keep_date_col, date_parser, date_format, dayfirst, cache_dates, iterator, chunksize, compression, thousands, decimal, lineterminator, quotechar, quoting, doublequote, escapechar, comment, encoding, encoding_errors, dialect, on_bad_lines, delim_whitespace, low_memory, memory_map, float_precision, storage_options, dtype_backend)\u001b[0m\n\u001b[1;32m    899\u001b[0m kwds_defaults \u001b[38;5;241m=\u001b[39m _refine_defaults_read(\n\u001b[1;32m    900\u001b[0m     dialect,\n\u001b[1;32m    901\u001b[0m     delimiter,\n\u001b[0;32m   (...)\u001b[0m\n\u001b[1;32m    908\u001b[0m     dtype_backend\u001b[38;5;241m=\u001b[39mdtype_backend,\n\u001b[1;32m    909\u001b[0m )\n\u001b[1;32m    910\u001b[0m kwds\u001b[38;5;241m.\u001b[39mupdate(kwds_defaults)\n\u001b[0;32m--> 912\u001b[0m \u001b[38;5;28;01mreturn\u001b[39;00m _read(filepath_or_buffer, kwds)\n",
      "File \u001b[0;32m~/anaconda3/lib/python3.11/site-packages/pandas/io/parsers/readers.py:577\u001b[0m, in \u001b[0;36m_read\u001b[0;34m(filepath_or_buffer, kwds)\u001b[0m\n\u001b[1;32m    574\u001b[0m _validate_names(kwds\u001b[38;5;241m.\u001b[39mget(\u001b[38;5;124m\"\u001b[39m\u001b[38;5;124mnames\u001b[39m\u001b[38;5;124m\"\u001b[39m, \u001b[38;5;28;01mNone\u001b[39;00m))\n\u001b[1;32m    576\u001b[0m \u001b[38;5;66;03m# Create the parser.\u001b[39;00m\n\u001b[0;32m--> 577\u001b[0m parser \u001b[38;5;241m=\u001b[39m TextFileReader(filepath_or_buffer, \u001b[38;5;241m*\u001b[39m\u001b[38;5;241m*\u001b[39mkwds)\n\u001b[1;32m    579\u001b[0m \u001b[38;5;28;01mif\u001b[39;00m chunksize \u001b[38;5;129;01mor\u001b[39;00m iterator:\n\u001b[1;32m    580\u001b[0m     \u001b[38;5;28;01mreturn\u001b[39;00m parser\n",
      "File \u001b[0;32m~/anaconda3/lib/python3.11/site-packages/pandas/io/parsers/readers.py:1407\u001b[0m, in \u001b[0;36mTextFileReader.__init__\u001b[0;34m(self, f, engine, **kwds)\u001b[0m\n\u001b[1;32m   1404\u001b[0m     \u001b[38;5;28mself\u001b[39m\u001b[38;5;241m.\u001b[39moptions[\u001b[38;5;124m\"\u001b[39m\u001b[38;5;124mhas_index_names\u001b[39m\u001b[38;5;124m\"\u001b[39m] \u001b[38;5;241m=\u001b[39m kwds[\u001b[38;5;124m\"\u001b[39m\u001b[38;5;124mhas_index_names\u001b[39m\u001b[38;5;124m\"\u001b[39m]\n\u001b[1;32m   1406\u001b[0m \u001b[38;5;28mself\u001b[39m\u001b[38;5;241m.\u001b[39mhandles: IOHandles \u001b[38;5;241m|\u001b[39m \u001b[38;5;28;01mNone\u001b[39;00m \u001b[38;5;241m=\u001b[39m \u001b[38;5;28;01mNone\u001b[39;00m\n\u001b[0;32m-> 1407\u001b[0m \u001b[38;5;28mself\u001b[39m\u001b[38;5;241m.\u001b[39m_engine \u001b[38;5;241m=\u001b[39m \u001b[38;5;28mself\u001b[39m\u001b[38;5;241m.\u001b[39m_make_engine(f, \u001b[38;5;28mself\u001b[39m\u001b[38;5;241m.\u001b[39mengine)\n",
      "File \u001b[0;32m~/anaconda3/lib/python3.11/site-packages/pandas/io/parsers/readers.py:1661\u001b[0m, in \u001b[0;36mTextFileReader._make_engine\u001b[0;34m(self, f, engine)\u001b[0m\n\u001b[1;32m   1659\u001b[0m     \u001b[38;5;28;01mif\u001b[39;00m \u001b[38;5;124m\"\u001b[39m\u001b[38;5;124mb\u001b[39m\u001b[38;5;124m\"\u001b[39m \u001b[38;5;129;01mnot\u001b[39;00m \u001b[38;5;129;01min\u001b[39;00m mode:\n\u001b[1;32m   1660\u001b[0m         mode \u001b[38;5;241m+\u001b[39m\u001b[38;5;241m=\u001b[39m \u001b[38;5;124m\"\u001b[39m\u001b[38;5;124mb\u001b[39m\u001b[38;5;124m\"\u001b[39m\n\u001b[0;32m-> 1661\u001b[0m \u001b[38;5;28mself\u001b[39m\u001b[38;5;241m.\u001b[39mhandles \u001b[38;5;241m=\u001b[39m get_handle(\n\u001b[1;32m   1662\u001b[0m     f,\n\u001b[1;32m   1663\u001b[0m     mode,\n\u001b[1;32m   1664\u001b[0m     encoding\u001b[38;5;241m=\u001b[39m\u001b[38;5;28mself\u001b[39m\u001b[38;5;241m.\u001b[39moptions\u001b[38;5;241m.\u001b[39mget(\u001b[38;5;124m\"\u001b[39m\u001b[38;5;124mencoding\u001b[39m\u001b[38;5;124m\"\u001b[39m, \u001b[38;5;28;01mNone\u001b[39;00m),\n\u001b[1;32m   1665\u001b[0m     compression\u001b[38;5;241m=\u001b[39m\u001b[38;5;28mself\u001b[39m\u001b[38;5;241m.\u001b[39moptions\u001b[38;5;241m.\u001b[39mget(\u001b[38;5;124m\"\u001b[39m\u001b[38;5;124mcompression\u001b[39m\u001b[38;5;124m\"\u001b[39m, \u001b[38;5;28;01mNone\u001b[39;00m),\n\u001b[1;32m   1666\u001b[0m     memory_map\u001b[38;5;241m=\u001b[39m\u001b[38;5;28mself\u001b[39m\u001b[38;5;241m.\u001b[39moptions\u001b[38;5;241m.\u001b[39mget(\u001b[38;5;124m\"\u001b[39m\u001b[38;5;124mmemory_map\u001b[39m\u001b[38;5;124m\"\u001b[39m, \u001b[38;5;28;01mFalse\u001b[39;00m),\n\u001b[1;32m   1667\u001b[0m     is_text\u001b[38;5;241m=\u001b[39mis_text,\n\u001b[1;32m   1668\u001b[0m     errors\u001b[38;5;241m=\u001b[39m\u001b[38;5;28mself\u001b[39m\u001b[38;5;241m.\u001b[39moptions\u001b[38;5;241m.\u001b[39mget(\u001b[38;5;124m\"\u001b[39m\u001b[38;5;124mencoding_errors\u001b[39m\u001b[38;5;124m\"\u001b[39m, \u001b[38;5;124m\"\u001b[39m\u001b[38;5;124mstrict\u001b[39m\u001b[38;5;124m\"\u001b[39m),\n\u001b[1;32m   1669\u001b[0m     storage_options\u001b[38;5;241m=\u001b[39m\u001b[38;5;28mself\u001b[39m\u001b[38;5;241m.\u001b[39moptions\u001b[38;5;241m.\u001b[39mget(\u001b[38;5;124m\"\u001b[39m\u001b[38;5;124mstorage_options\u001b[39m\u001b[38;5;124m\"\u001b[39m, \u001b[38;5;28;01mNone\u001b[39;00m),\n\u001b[1;32m   1670\u001b[0m )\n\u001b[1;32m   1671\u001b[0m \u001b[38;5;28;01massert\u001b[39;00m \u001b[38;5;28mself\u001b[39m\u001b[38;5;241m.\u001b[39mhandles \u001b[38;5;129;01mis\u001b[39;00m \u001b[38;5;129;01mnot\u001b[39;00m \u001b[38;5;28;01mNone\u001b[39;00m\n\u001b[1;32m   1672\u001b[0m f \u001b[38;5;241m=\u001b[39m \u001b[38;5;28mself\u001b[39m\u001b[38;5;241m.\u001b[39mhandles\u001b[38;5;241m.\u001b[39mhandle\n",
      "File \u001b[0;32m~/anaconda3/lib/python3.11/site-packages/pandas/io/common.py:859\u001b[0m, in \u001b[0;36mget_handle\u001b[0;34m(path_or_buf, mode, encoding, compression, memory_map, is_text, errors, storage_options)\u001b[0m\n\u001b[1;32m    854\u001b[0m \u001b[38;5;28;01melif\u001b[39;00m \u001b[38;5;28misinstance\u001b[39m(handle, \u001b[38;5;28mstr\u001b[39m):\n\u001b[1;32m    855\u001b[0m     \u001b[38;5;66;03m# Check whether the filename is to be opened in binary mode.\u001b[39;00m\n\u001b[1;32m    856\u001b[0m     \u001b[38;5;66;03m# Binary mode does not support 'encoding' and 'newline'.\u001b[39;00m\n\u001b[1;32m    857\u001b[0m     \u001b[38;5;28;01mif\u001b[39;00m ioargs\u001b[38;5;241m.\u001b[39mencoding \u001b[38;5;129;01mand\u001b[39;00m \u001b[38;5;124m\"\u001b[39m\u001b[38;5;124mb\u001b[39m\u001b[38;5;124m\"\u001b[39m \u001b[38;5;129;01mnot\u001b[39;00m \u001b[38;5;129;01min\u001b[39;00m ioargs\u001b[38;5;241m.\u001b[39mmode:\n\u001b[1;32m    858\u001b[0m         \u001b[38;5;66;03m# Encoding\u001b[39;00m\n\u001b[0;32m--> 859\u001b[0m         handle \u001b[38;5;241m=\u001b[39m \u001b[38;5;28mopen\u001b[39m(\n\u001b[1;32m    860\u001b[0m             handle,\n\u001b[1;32m    861\u001b[0m             ioargs\u001b[38;5;241m.\u001b[39mmode,\n\u001b[1;32m    862\u001b[0m             encoding\u001b[38;5;241m=\u001b[39mioargs\u001b[38;5;241m.\u001b[39mencoding,\n\u001b[1;32m    863\u001b[0m             errors\u001b[38;5;241m=\u001b[39merrors,\n\u001b[1;32m    864\u001b[0m             newline\u001b[38;5;241m=\u001b[39m\u001b[38;5;124m\"\u001b[39m\u001b[38;5;124m\"\u001b[39m,\n\u001b[1;32m    865\u001b[0m         )\n\u001b[1;32m    866\u001b[0m     \u001b[38;5;28;01melse\u001b[39;00m:\n\u001b[1;32m    867\u001b[0m         \u001b[38;5;66;03m# Binary mode\u001b[39;00m\n\u001b[1;32m    868\u001b[0m         handle \u001b[38;5;241m=\u001b[39m \u001b[38;5;28mopen\u001b[39m(handle, ioargs\u001b[38;5;241m.\u001b[39mmode)\n",
      "\u001b[0;31mFileNotFoundError\u001b[0m: [Errno 2] No such file or directory: 'df_ipccreport_body.csv'"
     ]
    }
   ],
   "source": [
    "df_ipccreport_body = pd.read_csv(r'/Users/jiaminlim/Documents/Research/climate_nlp/IPCCandPolicy/datasets/df_ipccreport_body.csv\")\n",
    "df_ipccreport_body_trunc = df_ipccreport_body[['text','geography_iso','author','document_name','date','types0','text_block_id']]\n",
    "len(df_ipccreport_body)"
   ]
  },
  {
   "cell_type": "code",
   "execution_count": 3,
   "id": "7d31a946",
   "metadata": {},
   "outputs": [
    {
     "data": {
      "text/plain": [
       "498"
      ]
     },
     "execution_count": 3,
     "metadata": {},
     "output_type": "execute_result"
    }
   ],
   "source": [
    "ipcc_report_names = pd.DataFrame(df_ipccreport_body.groupby('date_document_name')['text'].count())\n",
    "#ipcc_reports.sort_values(['date_document_name'],ascending=False).head(60)\n",
    "df_ipccreport_body_sfp = df_ipccreport_body[df_ipccreport_body['document_name'].str.contains(\"Summary for Policymakers\")]\n",
    "len(df_ipccreport_body_sfp)"
   ]
  },
  {
   "cell_type": "code",
   "execution_count": 4,
   "id": "600ddae7",
   "metadata": {},
   "outputs": [
    {
     "data": {
      "text/plain": [
       "18848"
      ]
     },
     "execution_count": 4,
     "metadata": {},
     "output_type": "execute_result"
    }
   ],
   "source": [
    "df_ipccmentions_body = pd.read_csv(\"df_ipccmentions_body.csv\")\n",
    "df_ipccmentions_body_trunc = df_ipccmentions_body[['text','geography_iso','author','document_name','date','types0','text_block_id']]\n",
    "len(df_ipccmentions_body)"
   ]
  },
  {
   "cell_type": "markdown",
   "id": "c2a1ff51",
   "metadata": {},
   "source": [
    "## Paragraphs to sentences"
   ]
  },
  {
   "cell_type": "code",
   "execution_count": 1,
   "id": "8e8e631c",
   "metadata": {},
   "outputs": [],
   "source": [
    "def para_to_sent(text_list):\n",
    "    sent_list = []\n",
    "    index_list = []\n",
    "    for i in range(len(text_list)):\n",
    "            text = text_list[i]\n",
    "            sent_text = nltk.sent_tokenize(text)\n",
    "            # Add sentences list to main list, and their index\n",
    "            sent_list += sent_text\n",
    "            for j in range(len(sent_text)):\n",
    "                index_list += [i]\n",
    "    print(len(text_list))\n",
    "    print(len(sent_list))\n",
    "    sent_df = pd.DataFrame(list(zip(sent_list, index_list)),\n",
    "              columns=['Sentence','Row_index'])\n",
    "    return sent_df"
   ]
  },
  {
   "cell_type": "code",
   "execution_count": 2,
   "id": "7b0ee7b6",
   "metadata": {},
   "outputs": [
    {
     "ename": "NameError",
     "evalue": "name 'df_ipccreport_body' is not defined",
     "output_type": "error",
     "traceback": [
      "\u001b[0;31m---------------------------------------------------------------------------\u001b[0m",
      "\u001b[0;31mNameError\u001b[0m                                 Traceback (most recent call last)",
      "Cell \u001b[0;32mIn[2], line 2\u001b[0m\n\u001b[1;32m      1\u001b[0m \u001b[38;5;66;03m# df_ipccreport_body\u001b[39;00m\n\u001b[0;32m----> 2\u001b[0m df_ipccreport_body_sent_df \u001b[38;5;241m=\u001b[39m para_to_sent(df_ipccreport_body[\u001b[38;5;124m'\u001b[39m\u001b[38;5;124mtext\u001b[39m\u001b[38;5;124m'\u001b[39m])\n\u001b[1;32m      3\u001b[0m df_ipccreport_body_sent_df \u001b[38;5;241m=\u001b[39m df_ipccreport_body_sent_df[(df_ipccreport_body_sent_df[\u001b[38;5;124m'\u001b[39m\u001b[38;5;124mSentence\u001b[39m\u001b[38;5;124m'\u001b[39m]\u001b[38;5;241m.\u001b[39mstr\u001b[38;5;241m.\u001b[39mcount(\u001b[38;5;124m'\u001b[39m\u001b[38;5;124m \u001b[39m\u001b[38;5;124m'\u001b[39m) \u001b[38;5;241m+\u001b[39m \u001b[38;5;241m1\u001b[39m)\u001b[38;5;241m>\u001b[39m\u001b[38;5;241m=\u001b[39m\u001b[38;5;241m5\u001b[39m]\n\u001b[1;32m      4\u001b[0m df_ipccreport_body_sent_df \u001b[38;5;241m=\u001b[39m df_ipccreport_body_sent_df\u001b[38;5;241m.\u001b[39mreset_index(drop\u001b[38;5;241m=\u001b[39m\u001b[38;5;28;01mTrue\u001b[39;00m)\n",
      "\u001b[0;31mNameError\u001b[0m: name 'df_ipccreport_body' is not defined"
     ]
    }
   ],
   "source": [
    "# df_ipccreport_body\n",
    "df_ipccreport_body_sent_df = para_to_sent(df_ipccreport_body['text'])\n",
    "df_ipccreport_body_sent_df = df_ipccreport_body_sent_df[(df_ipccreport_body_sent_df['Sentence'].str.count(' ') + 1)>=5]\n",
    "df_ipccreport_body_sent_df = df_ipccreport_body_sent_df.reset_index(drop=True)\n",
    "len(df_ipccreport_body_sent_df)"
   ]
  },
  {
   "cell_type": "code",
   "execution_count": 8,
   "id": "2ee7887b",
   "metadata": {},
   "outputs": [
    {
     "name": "stdout",
     "output_type": "stream",
     "text": [
      "18848\n",
      "52656\n"
     ]
    },
    {
     "data": {
      "text/plain": [
       "49541"
      ]
     },
     "execution_count": 8,
     "metadata": {},
     "output_type": "execute_result"
    }
   ],
   "source": [
    "# df_ipccmentions_body\n",
    "df_ipccmentions_body_sent_df = para_to_sent(df_ipccmentions_body['text'])\n",
    "df_ipccmentions_body_sent_df = df_ipccmentions_body_sent_df[(df_ipccmentions_body_sent_df['Sentence'].str.count(' ') + 1)>=5]\n",
    "df_ipccmentions_body_sent_df = df_ipccmentions_body_sent_df.reset_index(drop=True)\n",
    "len(df_ipccmentions_body_sent_df)"
   ]
  },
  {
   "cell_type": "markdown",
   "id": "35ec663f",
   "metadata": {},
   "source": [
    "## Levenshtein distance"
   ]
  },
  {
   "cell_type": "code",
   "execution_count": 9,
   "id": "15bef9fe",
   "metadata": {},
   "outputs": [],
   "source": [
    "def compute_levenshtein(a,b):\n",
    "    dist = Levenshtein.distance(a, b)\n",
    "    rat = Levenshtein.ratio(a, b)\n",
    "    mb = Levenshtein.matching_blocks(Levenshtein.editops(a,b), a, b)\n",
    "    matching = []\n",
    "    for x in mb:\n",
    "        # Only include matching strings of a certain length\n",
    "        if x[2]>5:\n",
    "           match = a[x[0]:x[0]+x[2]]\n",
    "           matching.append(match)\n",
    "    #print(rat)\n",
    "    return dist, rat, matching"
   ]
  },
  {
   "cell_type": "code",
   "execution_count": 31,
   "id": "121d5dc3",
   "metadata": {},
   "outputs": [
    {
     "name": "stderr",
     "output_type": "stream",
     "text": [
      "100%|██████████████████████████████████| 56077/56077 [44:07:52<00:00,  2.83s/it]\n"
     ]
    }
   ],
   "source": [
    "a_list = []\n",
    "a_idx_list = []\n",
    "b_list = []\n",
    "b_idx_list = []\n",
    "dist_list = []\n",
    "ratio_list = []\n",
    "matching_list = []\n",
    "\n",
    "#for i in tqdm(range(10000)):\n",
    "#    for j in range(10000):\n",
    "\n",
    "for i in tqdm(range(len(df_ipccreport_body_sent_df))):\n",
    "    for j in range(len(df_ipccmentions_body_sent_df)):\n",
    "        #print(i)\n",
    "        #print(j)\n",
    "\n",
    "        report_sent = df_ipccreport_body_sent_df['Sentence'][i]\n",
    "        report_sent_ri = df_ipccreport_body_sent_df['Row_index'][i]\n",
    "\n",
    "        mentions_sent = df_ipccmentions_body_sent_df['Sentence'][j]\n",
    "        mentions_sent_ri = df_ipccmentions_body_sent_df['Row_index'][j]\n",
    "\n",
    "        dist, ratio, matching = compute_levenshtein(report_sent,mentions_sent)\n",
    "        \n",
    "        if ratio > 0.6:\n",
    "            a_list.append(report_sent)\n",
    "            a_idx_list.append(report_sent_ri)\n",
    "            b_list.append(mentions_sent)\n",
    "            b_idx_list.append(mentions_sent_ri)\n",
    "            \n",
    "            dist_list.append(dist)\n",
    "            ratio_list.append(ratio)\n",
    "            matching_list.append(matching)\n",
    "            # print(report_sent)\n",
    "            # print(mentions_sent)\n",
    "            # print(dist)\n",
    "            # print(ratio)\n",
    "            # print(matching)\n",
    "            # print('\\n')  "
   ]
  },
  {
   "cell_type": "code",
   "execution_count": 32,
   "id": "fbf3745f",
   "metadata": {},
   "outputs": [],
   "source": [
    "# Combine into dataframe\n",
    "sent_sim = pd.DataFrame(list(zip(a_list, a_idx_list, b_list, b_idx_list, dist_list, ratio_list, matching_list)),\n",
    "              columns=['Text (IPCC report)','Text (IPCC report) - Row Index','Text (IPCC mentions)','Text (IPCC mentions) - Row Index', 'Distance', 'Ratio', 'Matching Text'])"
   ]
  },
  {
   "cell_type": "code",
   "execution_count": 34,
   "id": "753e9aec",
   "metadata": {},
   "outputs": [
    {
     "data": {
      "text/plain": [
       "5785"
      ]
     },
     "execution_count": 34,
     "metadata": {},
     "output_type": "execute_result"
    }
   ],
   "source": [
    "len(sent_sim)\n",
    "sent_sim.to_csv(\"sent_sim20240423.csv\")"
   ]
  }
 ],
 "metadata": {
  "kernelspec": {
   "display_name": "Python 3 (ipykernel)",
   "language": "python",
   "name": "python3"
  },
  "language_info": {
   "codemirror_mode": {
    "name": "ipython",
    "version": 3
   },
   "file_extension": ".py",
   "mimetype": "text/x-python",
   "name": "python",
   "nbconvert_exporter": "python",
   "pygments_lexer": "ipython3",
   "version": "3.11.5"
  }
 },
 "nbformat": 4,
 "nbformat_minor": 5
}

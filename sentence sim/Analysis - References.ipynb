{
 "cells": [
  {
   "cell_type": "code",
   "execution_count": 5,
   "id": "ff09f901",
   "metadata": {},
   "outputs": [],
   "source": [
    "import pandas as pd"
   ]
  },
  {
   "cell_type": "code",
   "execution_count": 8,
   "id": "d443611e",
   "metadata": {},
   "outputs": [],
   "source": [
    "link = r'/Users/jiaminlim/Documents/Research/climate_nlp/IPCCandPolicy/datasets/df_ipccmentions_ipccrefs.csv'\n",
    "df_ipccmentions_ipccrefs = pd.read_csv(link)"
   ]
  },
  {
   "cell_type": "code",
   "execution_count": null,
   "id": "ed8dd547",
   "metadata": {},
   "outputs": [],
   "source": [
    "# Split dataframe by first 4 full stops\n",
    "new = df_ipccref['text'].str.split(\".\", n=1, expand=True)\n",
    "df_ipccref[\"Org\"] = new[0]\n",
    "df_ipccref[\"Other\"] = new[1]\n",
    "\n",
    "new1 = df_ipccref[\"Other\"].str.split(\".\", n=1, expand=True)\n",
    "df_ipccref[\"Year\"] = new1[0]\n",
    "df_ipccref[\"Other\"] = new1[1]\n",
    "\n",
    "new2 = df_ipccref[\"Other\"].str.split(\".\", n=1, expand=True)\n",
    "df_ipccref[\"Title\"] = new2[0]\n",
    "df_ipccref[\"Other\"] = new2[1]"
   ]
  },
  {
   "cell_type": "code",
   "execution_count": null,
   "id": "de196d42",
   "metadata": {},
   "outputs": [],
   "source": [
    "# Clean dataframe\n",
    "# Remove \\n with space in title (likely also text)\n",
    "df_ipccref['Title'] = df_ipccref['Title'].str.replace(\"\\n\", \" \")\n",
    "df_ipccref['Title'] = df_ipccref['Title'].replace(r\"^ +| +$\", r\"\", regex=True)\n",
    "\n",
    "\n",
    "# In year - remove brackets\n",
    "df_ipccref['Year'] = df_ipccref['text'].str.replace(\"(\", \"\")\n",
    "df_ipccref['Year'] = df_ipccref['text'].str.replace(\")\", \"\")"
   ]
  },
  {
   "cell_type": "code",
   "execution_count": 9,
   "id": "bcec1073",
   "metadata": {},
   "outputs": [],
   "source": [
    "### Search terms"
   ]
  },
  {
   "cell_type": "code",
   "execution_count": 13,
   "id": "7e8a608d",
   "metadata": {},
   "outputs": [
    {
     "data": {
      "text/plain": [
       "85"
      ]
     },
     "execution_count": 13,
     "metadata": {},
     "output_type": "execute_result"
    }
   ],
   "source": [
    "fourth = df_ipccmentions_ipccrefs[df_ipccmentions_ipccrefs['text'].str.contains(\"Fourth Assessment\")]\n",
    "len(fourth)"
   ]
  },
  {
   "cell_type": "code",
   "execution_count": 14,
   "id": "32aad09f",
   "metadata": {},
   "outputs": [
    {
     "data": {
      "text/plain": [
       "126"
      ]
     },
     "execution_count": 14,
     "metadata": {},
     "output_type": "execute_result"
    }
   ],
   "source": [
    "fifth = df_ipccmentions_ipccrefs[df_ipccmentions_ipccrefs['text'].str.contains(\"Fifth Assessment\")]\n",
    "len(fifth)"
   ]
  },
  {
   "cell_type": "code",
   "execution_count": 15,
   "id": "f79dfa78",
   "metadata": {},
   "outputs": [
    {
     "data": {
      "text/plain": [
       "15"
      ]
     },
     "execution_count": 15,
     "metadata": {},
     "output_type": "execute_result"
    }
   ],
   "source": [
    "sixth = df_ipccmentions_ipccrefs[df_ipccmentions_ipccrefs['text'].str.contains(\"Sixth Assessment\")]\n",
    "len(sixth)"
   ]
  },
  {
   "cell_type": "code",
   "execution_count": 19,
   "id": "b2a703ca",
   "metadata": {},
   "outputs": [
    {
     "data": {
      "text/plain": [
       "112"
      ]
     },
     "execution_count": 19,
     "metadata": {},
     "output_type": "execute_result"
    }
   ],
   "source": [
    "guidelines = df_ipccmentions_ipccrefs[df_ipccmentions_ipccrefs['text'].str.contains(\"2006 IPCC guidelines for national greenhouse gas inventories\", case=False)]\n",
    "len(guidelines)\n"
   ]
  },
  {
   "cell_type": "code",
   "execution_count": 20,
   "id": "528f5267",
   "metadata": {},
   "outputs": [
    {
     "data": {
      "text/plain": [
       "35"
      ]
     },
     "execution_count": 20,
     "metadata": {},
     "output_type": "execute_result"
    }
   ],
   "source": [
    "land = df_ipccmentions_ipccrefs[df_ipccmentions_ipccrefs['text'].str.contains(\"Good Practice Guidance for Land Use, Land-Use Change and Forestry\", case=False)]\n",
    "len(land)"
   ]
  },
  {
   "cell_type": "code",
   "execution_count": null,
   "id": "95f3505e",
   "metadata": {},
   "outputs": [],
   "source": []
  }
 ],
 "metadata": {
  "kernelspec": {
   "display_name": "Python 3 (ipykernel)",
   "language": "python",
   "name": "python3"
  },
  "language_info": {
   "codemirror_mode": {
    "name": "ipython",
    "version": 3
   },
   "file_extension": ".py",
   "mimetype": "text/x-python",
   "name": "python",
   "nbconvert_exporter": "python",
   "pygments_lexer": "ipython3",
   "version": "3.11.5"
  }
 },
 "nbformat": 4,
 "nbformat_minor": 5
}

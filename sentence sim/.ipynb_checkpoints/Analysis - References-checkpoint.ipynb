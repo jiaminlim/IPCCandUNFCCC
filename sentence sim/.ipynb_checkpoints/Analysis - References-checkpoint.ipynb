{
 "cells": [
  {
   "cell_type": "code",
   "execution_count": 2,
   "id": "ff09f901",
   "metadata": {},
   "outputs": [],
   "source": [
    "import pandas as pd"
   ]
  },
  {
   "cell_type": "code",
   "execution_count": 3,
   "id": "d443611e",
   "metadata": {},
   "outputs": [],
   "source": [
    "df_ipccmentions_ipccrefs = pd.read_csv(\"df_ipccmentions_ipccrefs.csv\")"
   ]
  },
  {
   "cell_type": "code",
   "execution_count": null,
   "id": "ed8dd547",
   "metadata": {},
   "outputs": [],
   "source": [
    "# Split dataframe by first 4 full stops\n",
    "new = df_ipccref['text'].str.split(\".\", n=1, expand=True)\n",
    "df_ipccref[\"Org\"] = new[0]\n",
    "df_ipccref[\"Other\"] = new[1]\n",
    "\n",
    "new1 = df_ipccref[\"Other\"].str.split(\".\", n=1, expand=True)\n",
    "df_ipccref[\"Year\"] = new1[0]\n",
    "df_ipccref[\"Other\"] = new1[1]\n",
    "\n",
    "new2 = df_ipccref[\"Other\"].str.split(\".\", n=1, expand=True)\n",
    "df_ipccref[\"Title\"] = new2[0]\n",
    "df_ipccref[\"Other\"] = new2[1]"
   ]
  },
  {
   "cell_type": "code",
   "execution_count": null,
   "id": "de196d42",
   "metadata": {},
   "outputs": [],
   "source": [
    "# Clean dataframe\n",
    "# Remove \\n with space in title (likely also text)\n",
    "df_ipccref['Title'] = df_ipccref['Title'].str.replace(\"\\n\", \" \")\n",
    "df_ipccref['Title'] = df_ipccref['Title'].replace(r\"^ +| +$\", r\"\", regex=True)\n",
    "\n",
    "\n",
    "# In year - remove brackets\n",
    "df_ipccref['Year'] = df_ipccref['text'].str.replace(\"(\", \"\")\n",
    "df_ipccref['Year'] = df_ipccref['text'].str.replace(\")\", \"\")"
   ]
  },
  {
   "cell_type": "code",
   "execution_count": null,
   "id": "7d9a574c",
   "metadata": {},
   "outputs": [],
   "source": [
    "### Search terms"
   ]
  },
  {
   "cell_type": "code",
   "execution_count": null,
   "id": "7e8a608d",
   "metadata": {},
   "outputs": [],
   "source": [
    " = (df['text'].str.contains(\"IPCC Special Report on the impacts of global warming of 1.5°C above pre\"))\n"
   ]
  }
 ],
 "metadata": {
  "kernelspec": {
   "display_name": "Python 3 (ipykernel)",
   "language": "python",
   "name": "python3"
  },
  "language_info": {
   "codemirror_mode": {
    "name": "ipython",
    "version": 3
   },
   "file_extension": ".py",
   "mimetype": "text/x-python",
   "name": "python",
   "nbconvert_exporter": "python",
   "pygments_lexer": "ipython3",
   "version": "3.11.5"
  }
 },
 "nbformat": 4,
 "nbformat_minor": 5
}

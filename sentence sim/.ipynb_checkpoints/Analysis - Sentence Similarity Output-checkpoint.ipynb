{
 "cells": [
  {
   "cell_type": "code",
   "execution_count": 1,
   "id": "c06da6de",
   "metadata": {},
   "outputs": [],
   "source": [
    "import pandas as pd\n",
    "import numpy as np"
   ]
  },
  {
   "cell_type": "code",
   "execution_count": 2,
   "id": "9c29d1a8",
   "metadata": {},
   "outputs": [
    {
     "data": {
      "text/plain": [
       "5785"
      ]
     },
     "execution_count": 2,
     "metadata": {},
     "output_type": "execute_result"
    }
   ],
   "source": [
    "sent_sim = pd.read_csv('sent_sim20240423.csv')\n",
    "len(sent_sim)"
   ]
  },
  {
   "cell_type": "code",
   "execution_count": 3,
   "id": "3cdfc01e",
   "metadata": {},
   "outputs": [],
   "source": [
    "#sent_count = pd.DataFrame(sent_sim.groupby(['Text (IPCC report)']).size().sort_values(ascending=False)). reset_index()\n",
    "#sent_count.columns = ['Text (IPCC report)', 'pair_count']\n",
    "#sent_count[sent_count['pair_count'] > 3].to_csv(\"sent_count20240416.csv\")"
   ]
  },
  {
   "cell_type": "code",
   "execution_count": 4,
   "id": "01673fd5",
   "metadata": {},
   "outputs": [],
   "source": [
    "sent_sim['Text (IPCC report) - Combined']= sent_sim['Text (IPCC report) - Row Index'].apply(str) + \"-\" + sent_sim['Text (IPCC report)']\n",
    "sent_sim['Text (IPCC mentions) - Combined']= sent_sim['Text (IPCC mentions) - Row Index'].apply(str) + \"-\" + sent_sim['Text (IPCC mentions)']"
   ]
  },
  {
   "cell_type": "code",
   "execution_count": 5,
   "id": "eea3da6b",
   "metadata": {},
   "outputs": [
    {
     "data": {
      "text/html": [
       "<div>\n",
       "<style scoped>\n",
       "    .dataframe tbody tr th:only-of-type {\n",
       "        vertical-align: middle;\n",
       "    }\n",
       "\n",
       "    .dataframe tbody tr th {\n",
       "        vertical-align: top;\n",
       "    }\n",
       "\n",
       "    .dataframe thead th {\n",
       "        text-align: right;\n",
       "    }\n",
       "</style>\n",
       "<table border=\"1\" class=\"dataframe\">\n",
       "  <thead>\n",
       "    <tr style=\"text-align: right;\">\n",
       "      <th></th>\n",
       "      <th>Text (IPCC report) - Combined</th>\n",
       "      <th>Text (IPCC mentions) - Combined</th>\n",
       "      <th>Text (IPCC mentions) - Row Index</th>\n",
       "      <th>Text (IPCC mentions)</th>\n",
       "      <th>Distance</th>\n",
       "      <th>Ratio</th>\n",
       "      <th>Matching Text</th>\n",
       "    </tr>\n",
       "  </thead>\n",
       "  <tbody>\n",
       "    <tr>\n",
       "      <th>0</th>\n",
       "      <td>4-Center for Global Environmental Research, Na...</td>\n",
       "      <td>4217-Department of Geography, University Colle...</td>\n",
       "      <td>4217</td>\n",
       "      <td>Department of Geography, University College Lo...</td>\n",
       "      <td>62</td>\n",
       "      <td>0.747967</td>\n",
       "      <td>[' for Global Environmental Research, National...</td>\n",
       "    </tr>\n",
       "    <tr>\n",
       "      <th>1</th>\n",
       "      <td>4-Center for Global Environmental Research, Na...</td>\n",
       "      <td>9955-London and Tsukuba, Japan: Department of ...</td>\n",
       "      <td>9955</td>\n",
       "      <td>London and Tsukuba, Japan: Department of Geogr...</td>\n",
       "      <td>91</td>\n",
       "      <td>0.664234</td>\n",
       "      <td>['for Global Environmental Research, National ...</td>\n",
       "    </tr>\n",
       "    <tr>\n",
       "      <th>2</th>\n",
       "      <td>12-Adaptation takes place at international, na...</td>\n",
       "      <td>15390-A series of consultations were held at t...</td>\n",
       "      <td>15390</td>\n",
       "      <td>A series of consultations were held at the nat...</td>\n",
       "      <td>42</td>\n",
       "      <td>0.609929</td>\n",
       "      <td>[' national and ', 'al levels.']</td>\n",
       "    </tr>\n",
       "    <tr>\n",
       "      <th>3</th>\n",
       "      <td>17-This chapter frames the context, knowledge-...</td>\n",
       "      <td>5922-We have warmly welcomed the IPCC's specia...</td>\n",
       "      <td>5922</td>\n",
       "      <td>We have warmly welcomed the IPCC's special rep...</td>\n",
       "      <td>147</td>\n",
       "      <td>0.756374</td>\n",
       "      <td>[' of 1.5', 'bove pre-industrial levels and re...</td>\n",
       "    </tr>\n",
       "    <tr>\n",
       "      <th>4</th>\n",
       "      <td>17-This chapter frames the context, knowledge-...</td>\n",
       "      <td>8305-Taking into account the best available sc...</td>\n",
       "      <td>8305</td>\n",
       "      <td>Taking into account the best available science...</td>\n",
       "      <td>201</td>\n",
       "      <td>0.707046</td>\n",
       "      <td>[' the impacts of ', 'global warming ', 'above...</td>\n",
       "    </tr>\n",
       "    <tr>\n",
       "      <th>...</th>\n",
       "      <td>...</td>\n",
       "      <td>...</td>\n",
       "      <td>...</td>\n",
       "      <td>...</td>\n",
       "      <td>...</td>\n",
       "      <td>...</td>\n",
       "      <td>...</td>\n",
       "    </tr>\n",
       "    <tr>\n",
       "      <th>5780</th>\n",
       "      <td>16646-In: Loss and Damage from Climate Change.</td>\n",
       "      <td>9322-Intergovernmental Panel on Climate Change.</td>\n",
       "      <td>9322</td>\n",
       "      <td>Intergovernmental Panel on Climate Change.</td>\n",
       "      <td>20</td>\n",
       "      <td>0.609756</td>\n",
       "      <td>[' Climate Change.']</td>\n",
       "    </tr>\n",
       "    <tr>\n",
       "      <th>5781</th>\n",
       "      <td>16646-In: Loss and Damage from Climate Change.</td>\n",
       "      <td>9805-Intergovernmental Panel on Climate Change.</td>\n",
       "      <td>9805</td>\n",
       "      <td>Intergovernmental Panel on Climate Change.</td>\n",
       "      <td>20</td>\n",
       "      <td>0.609756</td>\n",
       "      <td>[' Climate Change.']</td>\n",
       "    </tr>\n",
       "    <tr>\n",
       "      <th>5782</th>\n",
       "      <td>16646-In: Loss and Damage from Climate Change.</td>\n",
       "      <td>12620-Intergovernmental Panel on Climate Change.</td>\n",
       "      <td>12620</td>\n",
       "      <td>Intergovernmental Panel on Climate Change.</td>\n",
       "      <td>20</td>\n",
       "      <td>0.609756</td>\n",
       "      <td>[' Climate Change.']</td>\n",
       "    </tr>\n",
       "    <tr>\n",
       "      <th>5783</th>\n",
       "      <td>16646-In: Loss and Damage from Climate Change.</td>\n",
       "      <td>15316-Intergovernmental Panel on Climate Change.</td>\n",
       "      <td>15316</td>\n",
       "      <td>Intergovernmental Panel on Climate Change.</td>\n",
       "      <td>20</td>\n",
       "      <td>0.609756</td>\n",
       "      <td>[' Climate Change.']</td>\n",
       "    </tr>\n",
       "    <tr>\n",
       "      <th>5784</th>\n",
       "      <td>16651-et al, 2016: Tropical cyclones and clima...</td>\n",
       "      <td>17242-clean growth and climate change.</td>\n",
       "      <td>17242</td>\n",
       "      <td>clean growth and climate change.</td>\n",
       "      <td>26</td>\n",
       "      <td>0.609756</td>\n",
       "      <td>[' and climate change.']</td>\n",
       "    </tr>\n",
       "  </tbody>\n",
       "</table>\n",
       "<p>5785 rows × 7 columns</p>\n",
       "</div>"
      ],
      "text/plain": [
       "                          Text (IPCC report) - Combined  \\\n",
       "0     4-Center for Global Environmental Research, Na...   \n",
       "1     4-Center for Global Environmental Research, Na...   \n",
       "2     12-Adaptation takes place at international, na...   \n",
       "3     17-This chapter frames the context, knowledge-...   \n",
       "4     17-This chapter frames the context, knowledge-...   \n",
       "...                                                 ...   \n",
       "5780     16646-In: Loss and Damage from Climate Change.   \n",
       "5781     16646-In: Loss and Damage from Climate Change.   \n",
       "5782     16646-In: Loss and Damage from Climate Change.   \n",
       "5783     16646-In: Loss and Damage from Climate Change.   \n",
       "5784  16651-et al, 2016: Tropical cyclones and clima...   \n",
       "\n",
       "                        Text (IPCC mentions) - Combined  \\\n",
       "0     4217-Department of Geography, University Colle...   \n",
       "1     9955-London and Tsukuba, Japan: Department of ...   \n",
       "2     15390-A series of consultations were held at t...   \n",
       "3     5922-We have warmly welcomed the IPCC's specia...   \n",
       "4     8305-Taking into account the best available sc...   \n",
       "...                                                 ...   \n",
       "5780    9322-Intergovernmental Panel on Climate Change.   \n",
       "5781    9805-Intergovernmental Panel on Climate Change.   \n",
       "5782   12620-Intergovernmental Panel on Climate Change.   \n",
       "5783   15316-Intergovernmental Panel on Climate Change.   \n",
       "5784             17242-clean growth and climate change.   \n",
       "\n",
       "      Text (IPCC mentions) - Row Index  \\\n",
       "0                                 4217   \n",
       "1                                 9955   \n",
       "2                                15390   \n",
       "3                                 5922   \n",
       "4                                 8305   \n",
       "...                                ...   \n",
       "5780                              9322   \n",
       "5781                              9805   \n",
       "5782                             12620   \n",
       "5783                             15316   \n",
       "5784                             17242   \n",
       "\n",
       "                                   Text (IPCC mentions)  Distance     Ratio  \\\n",
       "0     Department of Geography, University College Lo...        62  0.747967   \n",
       "1     London and Tsukuba, Japan: Department of Geogr...        91  0.664234   \n",
       "2     A series of consultations were held at the nat...        42  0.609929   \n",
       "3     We have warmly welcomed the IPCC's special rep...       147  0.756374   \n",
       "4     Taking into account the best available science...       201  0.707046   \n",
       "...                                                 ...       ...       ...   \n",
       "5780         Intergovernmental Panel on Climate Change.        20  0.609756   \n",
       "5781         Intergovernmental Panel on Climate Change.        20  0.609756   \n",
       "5782         Intergovernmental Panel on Climate Change.        20  0.609756   \n",
       "5783         Intergovernmental Panel on Climate Change.        20  0.609756   \n",
       "5784                   clean growth and climate change.        26  0.609756   \n",
       "\n",
       "                                          Matching Text  \n",
       "0     [' for Global Environmental Research, National...  \n",
       "1     ['for Global Environmental Research, National ...  \n",
       "2                      [' national and ', 'al levels.']  \n",
       "3     [' of 1.5', 'bove pre-industrial levels and re...  \n",
       "4     [' the impacts of ', 'global warming ', 'above...  \n",
       "...                                                 ...  \n",
       "5780                               [' Climate Change.']  \n",
       "5781                               [' Climate Change.']  \n",
       "5782                               [' Climate Change.']  \n",
       "5783                               [' Climate Change.']  \n",
       "5784                           [' and climate change.']  \n",
       "\n",
       "[5785 rows x 7 columns]"
      ]
     },
     "execution_count": 5,
     "metadata": {},
     "output_type": "execute_result"
    }
   ],
   "source": [
    "sent_sim = sent_sim[['Text (IPCC report) - Combined','Text (IPCC mentions) - Combined','Text (IPCC mentions) - Row Index','Text (IPCC mentions)','Distance','Ratio','Matching Text']]\n",
    "sent_sim"
   ]
  },
  {
   "cell_type": "code",
   "execution_count": null,
   "id": "275b937d",
   "metadata": {},
   "outputs": [],
   "source": [
    "# Post-processing\n",
    "t1 = ~sent_sim['Text (IPCC report) - Combined'].str.contains(\"-of the Intergovernmental Panel on Climate Change.\")\n",
    "t2 = ~sent_sim['Text (IPCC report) - Combined'].str.contains(\"-Report of the Intergovernmental Panel on Climate Change.\")\n",
    "t3 = ~sent_sim['Text (IPCC report) - Combined'].str.contains(\"Cambridge University Press, Cambridge\")\n",
    "t4 = ~sent_sim['Text (IPCC report) - Combined'].str.contains(\"Table\")\n",
    "sent_sim = sent_sim[t1 & t2 & t3 & t4]\n",
    "len(sent_sim)"
   ]
  },
  {
   "cell_type": "code",
   "execution_count": null,
   "id": "bf3f9997",
   "metadata": {},
   "outputs": [],
   "source": [
    "pd.DataFrame(sent_sim.groupby('Text (IPCC report) - Combined')['Text (IPCC mentions) - Combined'].count().sort_values(ascending=False)).head(50)"
   ]
  },
  {
   "cell_type": "code",
   "execution_count": null,
   "id": "635e7e0b",
   "metadata": {},
   "outputs": [],
   "source": [
    "df_ipccmentions_body = pd.read_csv(\"df_ipccmentions_body.csv\")"
   ]
  },
  {
   "cell_type": "code",
   "execution_count": null,
   "id": "4b4d8847",
   "metadata": {},
   "outputs": [],
   "source": [
    "pd.set_option('max_colwidth', 1000)\n",
    "# Write a function"
   ]
  },
  {
   "cell_type": "code",
   "execution_count": null,
   "id": "c42b285d",
   "metadata": {},
   "outputs": [],
   "source": [
    "def create_text_panels(text):\n",
    "    # text=\"15598-It links to the IPCC Guidelines on National Greenhouse Gas Inventories in the land sector.\"\n",
    "    df1 = sent_sim[sent_sim['Text (IPCC report) - Combined']==text]\n",
    "    df1 = df1.rename(columns={'Text (IPCC mentions)': 'sentence_text'})\n",
    "    df1['Ratio'] = df1['Ratio'].round(2)\n",
    "    df1 = df1.sort_values(by='Ratio',ascending=False)\n",
    "    \n",
    "    ind_list = df1['Text (IPCC mentions) - Row Index']\n",
    "    \n",
    "    df2 = df_ipccmentions_body[['text','geography_iso','document_name','date','text_block_id']].iloc[ind_list]\n",
    "    df2['text_block_id'] = df2['text_block_id'].str.replace(\"_\",\"\")\n",
    "    df2 = df2.rename(columns={'text': 'paragraph_text'})\n",
    "\n",
    "    df1.reset_index(drop=True, inplace=True)    \n",
    "    df2.reset_index(drop=True, inplace=True)\n",
    "    df_comb = pd.concat([df1,df2],axis=1)\n",
    "    df_comb =df_comb[['sentence_text','paragraph_text','geography_iso','document_name','date','text_block_id','Ratio','Matching Text']]\n",
    "    df_comb\n",
    "    \n",
    "    df1 = df1[['Text (IPCC report) - Combined','Text (IPCC mentions) - Combined','Distance','Ratio','Matching Text']]\n",
    "\n",
    "    return df1, df_comb"
   ]
  },
  {
   "cell_type": "code",
   "execution_count": null,
   "id": "6d73592a",
   "metadata": {},
   "outputs": [],
   "source": [
    "#text=\"15598-It links to the IPCC Guidelines on National Greenhouse Gas Inventories in the land sector.\"\n",
    "#text=\"5954-The most important trace gases contributing to the greenhouse effect are carbon dioxide (CO₂), ozone (O₂), methane (CH₂), nitrous oxide (NO), perfluorocarbons (PFCs), chlorofluorocarbons (CFCs), hydrofluorocarbons (HFCs), sulphur hexafluoride (SF) and water vapour (H₂O).\"\n",
    "#text=\"13079-The ocean warming trend documented in the IPCC Fifth Assessment Report (ARS) has continued.\"\n",
    "#text = \"13622-Emissions are converted into CO-equivalents based on global warming potentials with a 100-year time horizon (GWP100) from the IPCC Sixth Assessment Report.\"\n",
    "text = \"15193-The uncertainty of these global estimates is high.\"\n",
    "\n",
    "score_df, matchingrows_df = create_text_panels(text)\n",
    "score_df"
   ]
  },
  {
   "cell_type": "code",
   "execution_count": null,
   "id": "1bf521c6",
   "metadata": {
    "scrolled": true
   },
   "outputs": [],
   "source": [
    "score_df['Matching Text'].value_counts()"
   ]
  },
  {
   "cell_type": "code",
   "execution_count": null,
   "id": "621e436d",
   "metadata": {
    "scrolled": true
   },
   "outputs": [],
   "source": [
    "matchingrows_df"
   ]
  },
  {
   "cell_type": "code",
   "execution_count": null,
   "id": "7506fce1",
   "metadata": {},
   "outputs": [],
   "source": [
    "matchingrows_df['geography_iso'].nunique()"
   ]
  },
  {
   "cell_type": "code",
   "execution_count": null,
   "id": "73c501d6",
   "metadata": {},
   "outputs": [],
   "source": []
  }
 ],
 "metadata": {
  "kernelspec": {
   "display_name": "Python 3 (ipykernel)",
   "language": "python",
   "name": "python3"
  },
  "language_info": {
   "codemirror_mode": {
    "name": "ipython",
    "version": 3
   },
   "file_extension": ".py",
   "mimetype": "text/x-python",
   "name": "python",
   "nbconvert_exporter": "python",
   "pygments_lexer": "ipython3",
   "version": "3.11.5"
  }
 },
 "nbformat": 4,
 "nbformat_minor": 5
}

{
 "cells": [
  {
   "cell_type": "code",
   "execution_count": 1,
   "id": "6d6e2057",
   "metadata": {},
   "outputs": [],
   "source": [
    "import pandas as pd"
   ]
  },
  {
   "cell_type": "code",
   "execution_count": 3,
   "id": "66043163",
   "metadata": {},
   "outputs": [],
   "source": [
    "link = r'/Users/jiaminlim/Documents/Research/climate_nlp/IPCCandPolicy/datasets/df_ipccreport_body.csv'\n",
    "df_ipccreport_body = pd.read_csv(link)\n",
    "df_ipccreport_body_trunc = df_ipccreport_body[['text','geography_iso','author','document_name','date','types0','text_block_id']]"
   ]
  },
  {
   "cell_type": "code",
   "execution_count": 4,
   "id": "eb0d3ddf",
   "metadata": {},
   "outputs": [],
   "source": [
    "link = r'/Users/jiaminlim/Documents/Research/climate_nlp/IPCCandPolicy/datasets/df_ipccmentions_body.csv'\n",
    "df_ipccmentions_body = pd.read_csv(link)\n",
    "df_ipccmentions_body_trunc = df_ipccmentions_body[['text','geography_iso','author','document_name','date','types0','text_block_id']]"
   ]
  },
  {
   "cell_type": "code",
   "execution_count": 5,
   "id": "f73c9a1f",
   "metadata": {},
   "outputs": [],
   "source": [
    "#a = \"Resilience in this report is defined as the capacity of social, economic and environmental systems to cope with a hazardous event or trend or disturbance, responding or reorganising in ways that maintain their essential function, identity and structure while also maintaining the capacity for adaptation, learning and transformation.\"\n",
    "#b = \"Resilience is the capacity of social, economic and environmental systems to cope with a hazardous event or trend or disturbance, responding or reorganizing in ways that maintain their essential function, identity and structure while also maintaining the capacity for adaptation, learning and transformation.\"\n",
    "\n",
    "#a = \"Annual finance flows targeting adaptation for Africa, for example, are billions of US dollars less than the lowest adaptation cost estimates for near-term climate change\"\n",
    "#b = \"According to the IPCC, annual finance flows targeting adaptation for Africa are billions of US dollars less than the lowest adaptation cost estimates for near-term climate change.\"\n",
    "\n",
    "#a = \"The atmosphere and ocean have warmed, the amounts of snow and ice have diminished, sea level has risen, and the concentrations of greenhouse gases have increased\"\n",
    "#b = \"The atmosphere and ocean are getting warm, the amount of snow and ice have decreased, sea level has risen, and the concentrations of GHGS have increased\"\n",
    "\n",
    "#a = \"While there is medium confidence that the Atlantic Meridional Overturning Circulation (AMOC) will not experience an abrupt collapse before 2100, if it were to occur\"\n",
    "#b = \"In the sixth assessment report of IPCC (2021) it was concluded that there is medium confidence that the Atlantic Meridional Overturning Circulation (AMOC) will not experience an abrupt collapse before 2100\"\n",
    "\n",
    "#a = \"In this context, exposure is defined as the presence of people; livelihoods; species or ecosystems; environmental functions, services and resources; infrastructure; or economic, social or cultural assets in places and settings that could be adversely affected.\"\n",
    "#b = \"Exposure refers to the presence of people; livelihoods; species or ecosystems; environmental functions, services, and resources; infrastructure; or economic, social, or cultural assets in places and settings that could be adversely affected (IPCC, 2018, p.549).\"\n",
    "\n",
    "#a = \"IPCC Special Report on the impacts of global warming of 1.5°C above pre\"\n",
    "\n",
    "# a = \"Contribution of Working Group\"\n",
    "\n",
    "#a = 'By definition, the characteristics of what is called extreme weather may vary from place to place in an absolute sense.'\n",
    "\n",
    "a = \"Note that the United Nations Framework Convention on Climate Change (UNFCCC), in its Article 1, defines climate change as: 'a change of climate which is attributed directly or indirectly to human activity that alters the composition of the global atmosphere and which is in addition to natural climate variability observed over comparable time periods.\""
   ]
  },
  {
   "cell_type": "code",
   "execution_count": 6,
   "id": "839c7fb4",
   "metadata": {},
   "outputs": [
    {
     "name": "stderr",
     "output_type": "stream",
     "text": [
      "/var/folders/tj/w37gcb090bj93v3xpklf678r0000gn/T/ipykernel_33045/1674587813.py:1: SettingWithCopyWarning: \n",
      "A value is trying to be set on a copy of a slice from a DataFrame.\n",
      "Try using .loc[row_indexer,col_indexer] = value instead\n",
      "\n",
      "See the caveats in the documentation: https://pandas.pydata.org/pandas-docs/stable/user_guide/indexing.html#returning-a-view-versus-a-copy\n",
      "  df_ipccreport_body_trunc['text'] = df_ipccreport_body_trunc['text'].map(str)\n",
      "/var/folders/tj/w37gcb090bj93v3xpklf678r0000gn/T/ipykernel_33045/1674587813.py:2: SettingWithCopyWarning: \n",
      "A value is trying to be set on a copy of a slice from a DataFrame.\n",
      "Try using .loc[row_indexer,col_indexer] = value instead\n",
      "\n",
      "See the caveats in the documentation: https://pandas.pydata.org/pandas-docs/stable/user_guide/indexing.html#returning-a-view-versus-a-copy\n",
      "  df_ipccmentions_body_trunc['text'] = df_ipccmentions_body_trunc['text'].map(str)\n"
     ]
    }
   ],
   "source": [
    "df_ipccreport_body_trunc['text'] = df_ipccreport_body_trunc['text'].map(str)\n",
    "df_ipccmentions_body_trunc['text'] = df_ipccmentions_body_trunc['text'].map(str)"
   ]
  },
  {
   "cell_type": "code",
   "execution_count": 7,
   "id": "ff1a6770",
   "metadata": {},
   "outputs": [],
   "source": [
    "df0 = df_ipccreport_body_trunc[df_ipccreport_body_trunc['text'].str.contains(a, regex=False)]\n",
    "df1 = df_ipccmentions_body_trunc[df_ipccmentions_body_trunc['text'].str.contains(a, regex=False)]\n",
    "df_merged = pd.concat([df0,df1], ignore_index=True)"
   ]
  },
  {
   "cell_type": "code",
   "execution_count": 8,
   "id": "f89475fe",
   "metadata": {},
   "outputs": [
    {
     "data": {
      "text/plain": [
       "3"
      ]
     },
     "execution_count": 8,
     "metadata": {},
     "output_type": "execute_result"
    }
   ],
   "source": [
    "pd.set_option('display.max_colwidth', None)\n",
    "len(df_merged)"
   ]
  },
  {
   "cell_type": "code",
   "execution_count": 9,
   "id": "f0715836",
   "metadata": {},
   "outputs": [
    {
     "data": {
      "text/html": [
       "<div>\n",
       "<style scoped>\n",
       "    .dataframe tbody tr th:only-of-type {\n",
       "        vertical-align: middle;\n",
       "    }\n",
       "\n",
       "    .dataframe tbody tr th {\n",
       "        vertical-align: top;\n",
       "    }\n",
       "\n",
       "    .dataframe thead th {\n",
       "        text-align: right;\n",
       "    }\n",
       "</style>\n",
       "<table border=\"1\" class=\"dataframe\">\n",
       "  <thead>\n",
       "    <tr style=\"text-align: right;\">\n",
       "      <th></th>\n",
       "      <th>text</th>\n",
       "      <th>geography_iso</th>\n",
       "      <th>author</th>\n",
       "      <th>document_name</th>\n",
       "      <th>date</th>\n",
       "      <th>types0</th>\n",
       "      <th>text_block_id</th>\n",
       "    </tr>\n",
       "  </thead>\n",
       "  <tbody>\n",
       "    <tr>\n",
       "      <th>0</th>\n",
       "      <td>A change in the state of the climate that can be identified (e.g., by using statistical tests) by changes in the mean and/or the variability of its properties and that persists for an extended period, typically decades or longer. Climate change may be due to natural internal processes or external forcings such as modulations of the solar cycles, volcanic eruptions and persistent anthropogenic changes in the composition of the atmosphere or in land use. Note that the United Nations Framework Convention on Climate Change (UNFCCC), in its Article 1, defines climate change as: 'a change of climate which is attributed directly or indirectly to human activity that alters the composition of the global atmosphere and which is in addition to natural climate variability observed over comparable time periods. The UNFCCC thus makes a distinction between climate change attributable to human activities altering the atmospheric composition and climate variability attributable to natural causes. See also Global warming, Ocean acidification (OA) and Detection and attribution.</td>\n",
       "      <td>NaN</td>\n",
       "      <td>['IPCC']</td>\n",
       "      <td>Annexes</td>\n",
       "      <td>2019-09-01</td>\n",
       "      <td>IPCC Report</td>\n",
       "      <td>p_6_b_11</td>\n",
       "    </tr>\n",
       "    <tr>\n",
       "      <th>1</th>\n",
       "      <td>Climate change A change in the state of the climate that can be identified (e.g., by using statistical tests) by changes in the mean and/ or the variability of its properties and that persists for an extended period, typically decades or longer. Climate change may be due to natural internal processes or external forcings such as modulations of the solar cycles, volcanic eruptions and persistent anthropogenic changes in the composition of the atmosphere or in land use. Note that the United Nations Framework Convention on Climate Change (UNFCCC), in its Article 1, defines climate change as: 'a change of climate which is attributed directly or indirectly to human activity that alters the composition of the global atmosphere and which is in addition to natural climate variability observed over comparable time periods. The UNFCCC thus makes a distinction between climate change attributable to human activities altering the atmospheric composition and climate variability attributable to natural causes.</td>\n",
       "      <td>NaN</td>\n",
       "      <td>['IPCC']</td>\n",
       "      <td>Annex I: Glossary</td>\n",
       "      <td>2022-04-04</td>\n",
       "      <td>IPCC Report</td>\n",
       "      <td>p_6_b_9</td>\n",
       "    </tr>\n",
       "    <tr>\n",
       "      <th>2</th>\n",
       "      <td>[Note that the United Nations Framework Convention on Climate Change (UNFCCC), in its Article 1, defines climate change as: 'a change of climate which is attributed directly or indirectly to human activity that alters the composition of the global atmosphere and which is in addition to natural climate variability observed over comparable time periods. The UNFCCC thus makes a distinction between climate change attributable to human activities altering the atmospheric composition and climate variability attributable to natural causes.]</td>\n",
       "      <td>NaN</td>\n",
       "      <td>['IPCC']</td>\n",
       "      <td>AR6 Synthesis Report: Annex I: Glossary</td>\n",
       "      <td>2023-03-01</td>\n",
       "      <td>IPCC Report</td>\n",
       "      <td>p_3_b_8</td>\n",
       "    </tr>\n",
       "  </tbody>\n",
       "</table>\n",
       "</div>"
      ],
      "text/plain": [
       "                                                                                                                                                                                                                                                                                                                                                                                                                                                                                                                                                                                                                                                                                                                                                                                                                                                                                                                                                                                                                                                                                                                  text  \\\n",
       "0  A change in the state of the climate that can be identified (e.g., by using statistical tests) by changes in the mean and/or the variability of its properties and that persists for an extended period, typically decades or longer. Climate change may be due to natural internal processes or external forcings such as modulations of the solar cycles, volcanic eruptions and persistent anthropogenic changes in the composition of the atmosphere or in land use. Note that the United Nations Framework Convention on Climate Change (UNFCCC), in its Article 1, defines climate change as: 'a change of climate which is attributed directly or indirectly to human activity that alters the composition of the global atmosphere and which is in addition to natural climate variability observed over comparable time periods. The UNFCCC thus makes a distinction between climate change attributable to human activities altering the atmospheric composition and climate variability attributable to natural causes. See also Global warming, Ocean acidification (OA) and Detection and attribution.   \n",
       "1                                                                   Climate change A change in the state of the climate that can be identified (e.g., by using statistical tests) by changes in the mean and/ or the variability of its properties and that persists for an extended period, typically decades or longer. Climate change may be due to natural internal processes or external forcings such as modulations of the solar cycles, volcanic eruptions and persistent anthropogenic changes in the composition of the atmosphere or in land use. Note that the United Nations Framework Convention on Climate Change (UNFCCC), in its Article 1, defines climate change as: 'a change of climate which is attributed directly or indirectly to human activity that alters the composition of the global atmosphere and which is in addition to natural climate variability observed over comparable time periods. The UNFCCC thus makes a distinction between climate change attributable to human activities altering the atmospheric composition and climate variability attributable to natural causes.   \n",
       "2                                                                                                                                                                                                                                                                                                                                                                                                                                                                                                                                                          [Note that the United Nations Framework Convention on Climate Change (UNFCCC), in its Article 1, defines climate change as: 'a change of climate which is attributed directly or indirectly to human activity that alters the composition of the global atmosphere and which is in addition to natural climate variability observed over comparable time periods. The UNFCCC thus makes a distinction between climate change attributable to human activities altering the atmospheric composition and climate variability attributable to natural causes.]   \n",
       "\n",
       "  geography_iso    author                            document_name  \\\n",
       "0           NaN  ['IPCC']                                  Annexes   \n",
       "1           NaN  ['IPCC']                        Annex I: Glossary   \n",
       "2           NaN  ['IPCC']  AR6 Synthesis Report: Annex I: Glossary   \n",
       "\n",
       "         date       types0 text_block_id  \n",
       "0  2019-09-01  IPCC Report      p_6_b_11  \n",
       "1  2022-04-04  IPCC Report       p_6_b_9  \n",
       "2  2023-03-01  IPCC Report       p_3_b_8  "
      ]
     },
     "execution_count": 9,
     "metadata": {},
     "output_type": "execute_result"
    }
   ],
   "source": [
    "df_merged.head(20)"
   ]
  },
  {
   "cell_type": "code",
   "execution_count": 45,
   "id": "2c0a0154",
   "metadata": {},
   "outputs": [
    {
     "data": {
      "text/plain": [
       "14"
      ]
     },
     "execution_count": 45,
     "metadata": {},
     "output_type": "execute_result"
    }
   ],
   "source": [
    "len(df_merged)"
   ]
  },
  {
   "cell_type": "code",
   "execution_count": 39,
   "id": "9f3fdb02",
   "metadata": {},
   "outputs": [],
   "source": [
    "df_merged.to_csv(\"IPCC1.5_matches.csv\")"
   ]
  },
  {
   "cell_type": "code",
   "execution_count": null,
   "id": "73e68f3c",
   "metadata": {},
   "outputs": [],
   "source": []
  }
 ],
 "metadata": {
  "kernelspec": {
   "display_name": "Python 3 (ipykernel)",
   "language": "python",
   "name": "python3"
  },
  "language_info": {
   "codemirror_mode": {
    "name": "ipython",
    "version": 3
   },
   "file_extension": ".py",
   "mimetype": "text/x-python",
   "name": "python",
   "nbconvert_exporter": "python",
   "pygments_lexer": "ipython3",
   "version": "3.11.5"
  }
 },
 "nbformat": 4,
 "nbformat_minor": 5
}

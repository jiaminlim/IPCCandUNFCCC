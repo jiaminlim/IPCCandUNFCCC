{
 "cells": [
  {
   "cell_type": "code",
   "execution_count": 51,
   "id": "35f92cdf",
   "metadata": {},
   "outputs": [],
   "source": [
    "import pandas as pd\n",
    "import numpy as np\n",
    "\n",
    "from umap import UMAP\n",
    "\n",
    "# Plotting library\n",
    "import matplotlib.pyplot as plt\n",
    "\n",
    "# Topic modelling\n",
    "from bertopic import BERTopic\n",
    "from hdbscan import HDBSCAN\n",
    "\n",
    "# Removing stop words\n",
    "from sklearn.feature_extraction.text import CountVectorizer\n",
    "from sklearn.feature_extraction import text\n",
    "from bertopic.vectorizers import ClassTfidfTransformer\n",
    "from bertopic.representation import KeyBERTInspired"
   ]
  },
  {
   "cell_type": "code",
   "execution_count": 52,
   "id": "2f3a9f01",
   "metadata": {},
   "outputs": [
    {
     "data": {
      "text/plain": [
       "18848"
      ]
     },
     "execution_count": 52,
     "metadata": {},
     "output_type": "execute_result"
    }
   ],
   "source": [
    "df_ipcc_mentions_body = pd.read_csv('df_ipccmentions_body.csv')\n",
    "df_ipcc_mentions_body['text']  = df_ipcc_mentions_body['text'].astype('str')\n",
    "mentions = df_ipcc_mentions_body.text.to_list()\n",
    "len(mentions)"
   ]
  },
  {
   "cell_type": "code",
   "execution_count": 53,
   "id": "1814fdfc",
   "metadata": {},
   "outputs": [
    {
     "data": {
      "text/plain": [
       "16666"
      ]
     },
     "execution_count": 53,
     "metadata": {},
     "output_type": "execute_result"
    }
   ],
   "source": [
    "df_ipccreport = pd.read_csv('df_ipccreport_body.csv')\n",
    "df_ipccreport_sfp = df_ipccreport[df_ipccreport['document_name'].str.contains(\"Summary for Policymakers\")]\n",
    "report = df_ipccreport.text.to_list()\n",
    "len(report)"
   ]
  },
  {
   "cell_type": "code",
   "execution_count": 54,
   "id": "55a23a86",
   "metadata": {},
   "outputs": [],
   "source": [
    "# text.ENGLISH_STOP_WORDS\n",
    "my_additional_stop_words = {'et','al','institute','university','climate','change','box','figure','table','ipcc','emission','emissions','guidelines'}\n",
    "stop_words_custom = list(text.ENGLISH_STOP_WORDS.union(my_additional_stop_words))\n",
    "# stop_words_custom"
   ]
  },
  {
   "cell_type": "code",
   "execution_count": 55,
   "id": "db305cde",
   "metadata": {},
   "outputs": [],
   "source": [
    "# https://maartengr.github.io/BERTopic/faq.html\n",
    "umap_model = UMAP(n_neighbors=15, n_components=5,\n",
    "                  min_dist=0.0, metric='cosine', random_state=42)"
   ]
  },
  {
   "cell_type": "code",
   "execution_count": 56,
   "id": "f2f3c227",
   "metadata": {},
   "outputs": [],
   "source": [
    "def create_topics(no_clusters, stopword_removal, text):\n",
    "\n",
    "    # Note: min_cluster_size = the minimum size a final cluster can be; min_samples = the minimum number of neighbours to a core point\n",
    "    hdbscan_model = HDBSCAN(min_cluster_size=100, metric='euclidean',\n",
    "                        cluster_selection_method='eom', prediction_data=True, min_samples=5)\n",
    "\n",
    "    match stopword_removal:\n",
    "        case \"CountVectorizer\":\n",
    "            vectorizer_model = CountVectorizer(stop_words=stop_words_custom)\n",
    "            model = BERTopic(verbose=True,\n",
    "                             nr_topics=no_clusters,\n",
    "                             vectorizer_model=vectorizer_model,\n",
    "                             hdbscan_model=hdbscan_model,\n",
    "                             calculate_probabilities=True,\n",
    "                             umap_model=umap_model)\n",
    "\n",
    "        case \"ClassTfidfTransformer\":\n",
    "            ctfidf_model = ClassTfidfTransformer(reduce_frequent_words=True)\n",
    "            model = BERTopic(ctfidf_model=ctfidf_model,\n",
    "                             nr_topics=no_clusters,\n",
    "                             hdbscan_model=hdbscan_model,\n",
    "                             calculate_probabilities=True,\n",
    "                             umap_model=umap_model)\n",
    "\n",
    "        case \"KeyBERTInspired\":\n",
    "            representation_model = KeyBERTInspired()\n",
    "            model30_nostopwords3 = BERTopic(representation_model=representation_model,\n",
    "                                            nr_topics=no_clusters,\n",
    "                                            hdbscan_model=hdbscan_model,\n",
    "                                            calculate_probabilities=True,\n",
    "                                            umap_model=umap_model)\n",
    "\n",
    "    topics, probs = model.fit_transform(text)\n",
    "    return topics, probs, model"
   ]
  },
  {
   "cell_type": "code",
   "execution_count": 82,
   "id": "63d90ce6",
   "metadata": {},
   "outputs": [],
   "source": [
    "def add_topics_to_df(topics, probs, model, df_text, text_list):\n",
    "    # Reduce outliers by using probabilities to assign them to topics\n",
    "    new_topics = model.reduce_outliers(text_list, topics, probabilities=probs, strategy=\"probabilities\")\n",
    "    topics_old = pd.DataFrame(topics).value_counts()\n",
    "    topics_new = pd.DataFrame(new_topics).value_counts()\n",
    "\n",
    "    # Create new topic dataframe and merge with full df\n",
    "    df_doctopic = pd.DataFrame({\"text_dup\": text_list, \"Topic\": new_topics})\n",
    "    df_full = pd.concat([df_text , df_doctopic], axis=1,  join='inner')\n",
    "    # print(df_full)\n",
    "\n",
    "    # Merge in topic name into full df\n",
    "    df_topicnames = model.get_topic_info()[['Topic','Name']]\n",
    "    df_full = df_full.merge(df_topicnames, on = 'Topic',how='left')\n",
    "    return topics_old, topics_new, df_full\n",
    "            #df_text, df_doctopic,\n"
   ]
  },
  {
   "cell_type": "markdown",
   "id": "e50c9b47",
   "metadata": {},
   "source": [
    "## IPCC mentions body"
   ]
  },
  {
   "cell_type": "code",
   "execution_count": null,
   "id": "62889d4f",
   "metadata": {},
   "outputs": [],
   "source": [
    "topics, probs, model = create_topics(\"auto\", \"CountVectorizer\", mentions)\n",
    "model.visualize_barchart()"
   ]
  },
  {
   "cell_type": "code",
   "execution_count": null,
   "id": "52fe3c32",
   "metadata": {},
   "outputs": [],
   "source": [
    "representative_docs = model.get_representative_docs()\n",
    "representative_docs"
   ]
  },
  {
   "cell_type": "code",
   "execution_count": null,
   "id": "b1c06ec3",
   "metadata": {},
   "outputs": [],
   "source": [
    "pd.DataFrame(representative_docs).to_csv(\"mentions_topics_final_reps_fixed_20240521.csv\")"
   ]
  },
  {
   "cell_type": "code",
   "execution_count": null,
   "id": "c181d87a",
   "metadata": {},
   "outputs": [],
   "source": [
    "topics_old, topics_new, df_full_wtopics = add_topics_to_df(topics, probs, model, df_ipcc_mentions_body, mentions)"
   ]
  },
  {
   "cell_type": "code",
   "execution_count": null,
   "id": "7968bdf8",
   "metadata": {},
   "outputs": [],
   "source": [
    "topics_oldandnew = pd.merge(topics_old, topics_new, how='left',left_index=True,right_index=True)\n",
    "topics_oldandnew.to_csv('topic_dist_20240521.csv')"
   ]
  },
  {
   "cell_type": "code",
   "execution_count": null,
   "id": "722af50f",
   "metadata": {},
   "outputs": [],
   "source": [
    "df_full_wtopics.to_csv(\"mentions_topics_final_fixed_20240521.csv\")"
   ]
  },
  {
   "cell_type": "markdown",
   "id": "59b43913",
   "metadata": {},
   "source": [
    "## IPCC report"
   ]
  },
  {
   "cell_type": "code",
   "execution_count": 91,
   "id": "4a43a5c1",
   "metadata": {},
   "outputs": [
    {
     "name": "stderr",
     "output_type": "stream",
     "text": [
      "2024-05-21 08:11:17,284 - BERTopic - Embedding - Transforming documents to embeddings.\n"
     ]
    },
    {
     "data": {
      "application/vnd.jupyter.widget-view+json": {
       "model_id": "6dbe5acbc07c4f25bf865d5b11f28b1a",
       "version_major": 2,
       "version_minor": 0
      },
      "text/plain": [
       "Batches:   0%|          | 0/521 [00:00<?, ?it/s]"
      ]
     },
     "metadata": {},
     "output_type": "display_data"
    },
    {
     "name": "stderr",
     "output_type": "stream",
     "text": [
      "2024-05-21 08:16:14,845 - BERTopic - Embedding - Completed ✓\n",
      "2024-05-21 08:16:14,848 - BERTopic - Dimensionality - Fitting the dimensionality reduction algorithm\n",
      "2024-05-21 08:16:28,473 - BERTopic - Dimensionality - Completed ✓\n",
      "2024-05-21 08:16:28,476 - BERTopic - Cluster - Start clustering the reduced embeddings\n",
      "huggingface/tokenizers: The current process just got forked, after parallelism has already been used. Disabling parallelism to avoid deadlocks...\n",
      "To disable this warning, you can either:\n",
      "\t- Avoid using `tokenizers` before the fork if possible\n",
      "\t- Explicitly set the environment variable TOKENIZERS_PARALLELISM=(true | false)\n",
      "huggingface/tokenizers: The current process just got forked, after parallelism has already been used. Disabling parallelism to avoid deadlocks...\n",
      "To disable this warning, you can either:\n",
      "\t- Avoid using `tokenizers` before the fork if possible\n",
      "\t- Explicitly set the environment variable TOKENIZERS_PARALLELISM=(true | false)\n",
      "huggingface/tokenizers: The current process just got forked, after parallelism has already been used. Disabling parallelism to avoid deadlocks...\n",
      "To disable this warning, you can either:\n",
      "\t- Avoid using `tokenizers` before the fork if possible\n",
      "\t- Explicitly set the environment variable TOKENIZERS_PARALLELISM=(true | false)\n",
      "huggingface/tokenizers: The current process just got forked, after parallelism has already been used. Disabling parallelism to avoid deadlocks...\n",
      "To disable this warning, you can either:\n",
      "\t- Avoid using `tokenizers` before the fork if possible\n",
      "\t- Explicitly set the environment variable TOKENIZERS_PARALLELISM=(true | false)\n",
      "12877.98s - pydevd: Sending message related to process being replaced timed-out after 5 seconds\n",
      "12878.17s - pydevd: Sending message related to process being replaced timed-out after 5 seconds\n",
      "12878.35s - pydevd: Sending message related to process being replaced timed-out after 5 seconds\n",
      "0.01s - Debugger warning: It seems that frozen modules are being used, which may\n",
      "0.00s - make the debugger miss breakpoints. Please pass -Xfrozen_modules=off\n",
      "0.00s - to python to disable frozen modules.\n",
      "0.00s - Note: Debugging will proceed. Set PYDEVD_DISABLE_FILE_VALIDATION=1 to disable this validation.\n",
      "0.00s - Debugger warning: It seems that frozen modules are being used, which may\n",
      "0.00s - make the debugger miss breakpoints. Please pass -Xfrozen_modules=off\n",
      "0.00s - to python to disable frozen modules.\n",
      "0.00s - Note: Debugging will proceed. Set PYDEVD_DISABLE_FILE_VALIDATION=1 to disable this validation.\n",
      "12878.56s - pydevd: Sending message related to process being replaced timed-out after 5 seconds\n",
      "0.00s - Debugger warning: It seems that frozen modules are being used, which may\n",
      "0.00s - make the debugger miss breakpoints. Please pass -Xfrozen_modules=off\n",
      "0.00s - to python to disable frozen modules.\n",
      "0.00s - Note: Debugging will proceed. Set PYDEVD_DISABLE_FILE_VALIDATION=1 to disable this validation.\n",
      "0.00s - Debugger warning: It seems that frozen modules are being used, which may\n",
      "0.00s - make the debugger miss breakpoints. Please pass -Xfrozen_modules=off\n",
      "0.00s - to python to disable frozen modules.\n",
      "0.00s - Note: Debugging will proceed. Set PYDEVD_DISABLE_FILE_VALIDATION=1 to disable this validation.\n",
      "2024-05-21 08:16:39,451 - BERTopic - Cluster - Completed ✓\n",
      "2024-05-21 08:16:39,454 - BERTopic - Representation - Extracting topics from clusters using representation models.\n",
      "2024-05-21 08:16:43,581 - BERTopic - Representation - Completed ✓\n",
      "2024-05-21 08:16:43,583 - BERTopic - Topic reduction - Reducing number of topics\n",
      "2024-05-21 08:16:47,526 - BERTopic - Topic reduction - Reduced number of topics from 41 to 21\n"
     ]
    },
    {
     "data": {
      "application/vnd.plotly.v1+json": {
       "config": {
        "plotlyServerURL": "https://plot.ly"
       },
       "data": [
        {
         "marker": {
          "color": "#D55E00"
         },
         "orientation": "h",
         "type": "bar",
         "x": [
          0.01832616586698812,
          0.019014039305938295,
          0.01958723072678409,
          0.01964253873395644,
          0.0210400697235314
         ],
         "xaxis": "x",
         "y": [
          "ocean  ",
          "changes  ",
          "ice  ",
          "warming  ",
          "confidence  "
         ],
         "yaxis": "y"
        },
        {
         "marker": {
          "color": "#0072B2"
         },
         "orientation": "h",
         "type": "bar",
         "x": [
          0.017409383089050087,
          0.017976424470312488,
          0.020452786475567534,
          0.020858415050704494,
          0.023033213161865625
         ],
         "xaxis": "x2",
         "y": [
          "adaptation  ",
          "mitigation  ",
          "pathways  ",
          "development  ",
          "energy  "
         ],
         "yaxis": "y2"
        },
        {
         "marker": {
          "color": "#CC79A7"
         },
         "orientation": "h",
         "type": "bar",
         "x": [
          0.021134149530624743,
          0.021763587440688945,
          0.0231014745636087,
          0.027224079752736757,
          0.07612131242645767
         ],
         "xaxis": "x3",
         "y": [
          "systems  ",
          "land  ",
          "security  ",
          "production  ",
          "food  "
         ],
         "yaxis": "y3"
        },
        {
         "marker": {
          "color": "#E69F00"
         },
         "orientation": "h",
         "type": "bar",
         "x": [
          0.03514462312223164,
          0.03638607346561072,
          0.04694411608720386,
          0.05342262019397723,
          0.060708277854192
         ],
         "xaxis": "x4",
         "y": [
          "dust  ",
          "erosion  ",
          "land  ",
          "degradation  ",
          "desertification  "
         ],
         "yaxis": "y4"
        },
        {
         "marker": {
          "color": "#56B4E9"
         },
         "orientation": "h",
         "type": "bar",
         "x": [
          0.041550121940684734,
          0.043613376235586386,
          0.04590065813271428,
          0.05753909375595133,
          0.06773950604430358
         ],
         "xaxis": "x5",
         "y": [
          "carbon  ",
          "land  ",
          "beccs  ",
          "cdr  ",
          "bioenergy  "
         ],
         "yaxis": "y5"
        },
        {
         "marker": {
          "color": "#009E73"
         },
         "orientation": "h",
         "type": "bar",
         "x": [
          0.04575544522500522,
          0.0638054640543111,
          0.06709148218436076,
          0.12153676206530688,
          0.15484543055022573
         ],
         "xaxis": "x6",
         "y": [
          "based  ",
          "land  ",
          "management  ",
          "response  ",
          "options  "
         ],
         "yaxis": "y6"
        },
        {
         "marker": {
          "color": "#F0E442"
         },
         "orientation": "h",
         "type": "bar",
         "x": [
          0.0528343637418821,
          0.057251883442430915,
          0.05773988278654096,
          0.06054692682533257,
          0.06103396297604261
         ],
         "xaxis": "x7",
         "y": [
          "forcing  ",
          "radiative  ",
          "radiation  ",
          "aerosol  ",
          "srm  "
         ],
         "yaxis": "y7"
        },
        {
         "marker": {
          "color": "#D55E00"
         },
         "orientation": "h",
         "type": "bar",
         "x": [
          0.027623103811782207,
          0.029582910514347024,
          0.03830204652396058,
          0.04592160227630028,
          0.08059617559913622
         ],
         "xaxis": "x8",
         "y": [
          "risk  ",
          "sea  ",
          "protection  ",
          "slr  ",
          "coastal  "
         ],
         "yaxis": "y8"
        }
       ],
       "layout": {
        "annotations": [
         {
          "font": {
           "size": 16
          },
          "showarrow": false,
          "text": "Topic 0",
          "x": 0.0875,
          "xanchor": "center",
          "xref": "paper",
          "y": 1,
          "yanchor": "bottom",
          "yref": "paper"
         },
         {
          "font": {
           "size": 16
          },
          "showarrow": false,
          "text": "Topic 1",
          "x": 0.36250000000000004,
          "xanchor": "center",
          "xref": "paper",
          "y": 1,
          "yanchor": "bottom",
          "yref": "paper"
         },
         {
          "font": {
           "size": 16
          },
          "showarrow": false,
          "text": "Topic 2",
          "x": 0.6375000000000001,
          "xanchor": "center",
          "xref": "paper",
          "y": 1,
          "yanchor": "bottom",
          "yref": "paper"
         },
         {
          "font": {
           "size": 16
          },
          "showarrow": false,
          "text": "Topic 3",
          "x": 0.9125,
          "xanchor": "center",
          "xref": "paper",
          "y": 1,
          "yanchor": "bottom",
          "yref": "paper"
         },
         {
          "font": {
           "size": 16
          },
          "showarrow": false,
          "text": "Topic 4",
          "x": 0.0875,
          "xanchor": "center",
          "xref": "paper",
          "y": 0.4,
          "yanchor": "bottom",
          "yref": "paper"
         },
         {
          "font": {
           "size": 16
          },
          "showarrow": false,
          "text": "Topic 5",
          "x": 0.36250000000000004,
          "xanchor": "center",
          "xref": "paper",
          "y": 0.4,
          "yanchor": "bottom",
          "yref": "paper"
         },
         {
          "font": {
           "size": 16
          },
          "showarrow": false,
          "text": "Topic 6",
          "x": 0.6375000000000001,
          "xanchor": "center",
          "xref": "paper",
          "y": 0.4,
          "yanchor": "bottom",
          "yref": "paper"
         },
         {
          "font": {
           "size": 16
          },
          "showarrow": false,
          "text": "Topic 7",
          "x": 0.9125,
          "xanchor": "center",
          "xref": "paper",
          "y": 0.4,
          "yanchor": "bottom",
          "yref": "paper"
         }
        ],
        "height": 500,
        "hoverlabel": {
         "bgcolor": "white",
         "font": {
          "family": "Rockwell",
          "size": 16
         }
        },
        "showlegend": false,
        "template": {
         "data": {
          "bar": [
           {
            "error_x": {
             "color": "#2a3f5f"
            },
            "error_y": {
             "color": "#2a3f5f"
            },
            "marker": {
             "line": {
              "color": "white",
              "width": 0.5
             },
             "pattern": {
              "fillmode": "overlay",
              "size": 10,
              "solidity": 0.2
             }
            },
            "type": "bar"
           }
          ],
          "barpolar": [
           {
            "marker": {
             "line": {
              "color": "white",
              "width": 0.5
             },
             "pattern": {
              "fillmode": "overlay",
              "size": 10,
              "solidity": 0.2
             }
            },
            "type": "barpolar"
           }
          ],
          "carpet": [
           {
            "aaxis": {
             "endlinecolor": "#2a3f5f",
             "gridcolor": "#C8D4E3",
             "linecolor": "#C8D4E3",
             "minorgridcolor": "#C8D4E3",
             "startlinecolor": "#2a3f5f"
            },
            "baxis": {
             "endlinecolor": "#2a3f5f",
             "gridcolor": "#C8D4E3",
             "linecolor": "#C8D4E3",
             "minorgridcolor": "#C8D4E3",
             "startlinecolor": "#2a3f5f"
            },
            "type": "carpet"
           }
          ],
          "choropleth": [
           {
            "colorbar": {
             "outlinewidth": 0,
             "ticks": ""
            },
            "type": "choropleth"
           }
          ],
          "contour": [
           {
            "colorbar": {
             "outlinewidth": 0,
             "ticks": ""
            },
            "colorscale": [
             [
              0,
              "#0d0887"
             ],
             [
              0.1111111111111111,
              "#46039f"
             ],
             [
              0.2222222222222222,
              "#7201a8"
             ],
             [
              0.3333333333333333,
              "#9c179e"
             ],
             [
              0.4444444444444444,
              "#bd3786"
             ],
             [
              0.5555555555555556,
              "#d8576b"
             ],
             [
              0.6666666666666666,
              "#ed7953"
             ],
             [
              0.7777777777777778,
              "#fb9f3a"
             ],
             [
              0.8888888888888888,
              "#fdca26"
             ],
             [
              1,
              "#f0f921"
             ]
            ],
            "type": "contour"
           }
          ],
          "contourcarpet": [
           {
            "colorbar": {
             "outlinewidth": 0,
             "ticks": ""
            },
            "type": "contourcarpet"
           }
          ],
          "heatmap": [
           {
            "colorbar": {
             "outlinewidth": 0,
             "ticks": ""
            },
            "colorscale": [
             [
              0,
              "#0d0887"
             ],
             [
              0.1111111111111111,
              "#46039f"
             ],
             [
              0.2222222222222222,
              "#7201a8"
             ],
             [
              0.3333333333333333,
              "#9c179e"
             ],
             [
              0.4444444444444444,
              "#bd3786"
             ],
             [
              0.5555555555555556,
              "#d8576b"
             ],
             [
              0.6666666666666666,
              "#ed7953"
             ],
             [
              0.7777777777777778,
              "#fb9f3a"
             ],
             [
              0.8888888888888888,
              "#fdca26"
             ],
             [
              1,
              "#f0f921"
             ]
            ],
            "type": "heatmap"
           }
          ],
          "heatmapgl": [
           {
            "colorbar": {
             "outlinewidth": 0,
             "ticks": ""
            },
            "colorscale": [
             [
              0,
              "#0d0887"
             ],
             [
              0.1111111111111111,
              "#46039f"
             ],
             [
              0.2222222222222222,
              "#7201a8"
             ],
             [
              0.3333333333333333,
              "#9c179e"
             ],
             [
              0.4444444444444444,
              "#bd3786"
             ],
             [
              0.5555555555555556,
              "#d8576b"
             ],
             [
              0.6666666666666666,
              "#ed7953"
             ],
             [
              0.7777777777777778,
              "#fb9f3a"
             ],
             [
              0.8888888888888888,
              "#fdca26"
             ],
             [
              1,
              "#f0f921"
             ]
            ],
            "type": "heatmapgl"
           }
          ],
          "histogram": [
           {
            "marker": {
             "pattern": {
              "fillmode": "overlay",
              "size": 10,
              "solidity": 0.2
             }
            },
            "type": "histogram"
           }
          ],
          "histogram2d": [
           {
            "colorbar": {
             "outlinewidth": 0,
             "ticks": ""
            },
            "colorscale": [
             [
              0,
              "#0d0887"
             ],
             [
              0.1111111111111111,
              "#46039f"
             ],
             [
              0.2222222222222222,
              "#7201a8"
             ],
             [
              0.3333333333333333,
              "#9c179e"
             ],
             [
              0.4444444444444444,
              "#bd3786"
             ],
             [
              0.5555555555555556,
              "#d8576b"
             ],
             [
              0.6666666666666666,
              "#ed7953"
             ],
             [
              0.7777777777777778,
              "#fb9f3a"
             ],
             [
              0.8888888888888888,
              "#fdca26"
             ],
             [
              1,
              "#f0f921"
             ]
            ],
            "type": "histogram2d"
           }
          ],
          "histogram2dcontour": [
           {
            "colorbar": {
             "outlinewidth": 0,
             "ticks": ""
            },
            "colorscale": [
             [
              0,
              "#0d0887"
             ],
             [
              0.1111111111111111,
              "#46039f"
             ],
             [
              0.2222222222222222,
              "#7201a8"
             ],
             [
              0.3333333333333333,
              "#9c179e"
             ],
             [
              0.4444444444444444,
              "#bd3786"
             ],
             [
              0.5555555555555556,
              "#d8576b"
             ],
             [
              0.6666666666666666,
              "#ed7953"
             ],
             [
              0.7777777777777778,
              "#fb9f3a"
             ],
             [
              0.8888888888888888,
              "#fdca26"
             ],
             [
              1,
              "#f0f921"
             ]
            ],
            "type": "histogram2dcontour"
           }
          ],
          "mesh3d": [
           {
            "colorbar": {
             "outlinewidth": 0,
             "ticks": ""
            },
            "type": "mesh3d"
           }
          ],
          "parcoords": [
           {
            "line": {
             "colorbar": {
              "outlinewidth": 0,
              "ticks": ""
             }
            },
            "type": "parcoords"
           }
          ],
          "pie": [
           {
            "automargin": true,
            "type": "pie"
           }
          ],
          "scatter": [
           {
            "fillpattern": {
             "fillmode": "overlay",
             "size": 10,
             "solidity": 0.2
            },
            "type": "scatter"
           }
          ],
          "scatter3d": [
           {
            "line": {
             "colorbar": {
              "outlinewidth": 0,
              "ticks": ""
             }
            },
            "marker": {
             "colorbar": {
              "outlinewidth": 0,
              "ticks": ""
             }
            },
            "type": "scatter3d"
           }
          ],
          "scattercarpet": [
           {
            "marker": {
             "colorbar": {
              "outlinewidth": 0,
              "ticks": ""
             }
            },
            "type": "scattercarpet"
           }
          ],
          "scattergeo": [
           {
            "marker": {
             "colorbar": {
              "outlinewidth": 0,
              "ticks": ""
             }
            },
            "type": "scattergeo"
           }
          ],
          "scattergl": [
           {
            "marker": {
             "colorbar": {
              "outlinewidth": 0,
              "ticks": ""
             }
            },
            "type": "scattergl"
           }
          ],
          "scattermapbox": [
           {
            "marker": {
             "colorbar": {
              "outlinewidth": 0,
              "ticks": ""
             }
            },
            "type": "scattermapbox"
           }
          ],
          "scatterpolar": [
           {
            "marker": {
             "colorbar": {
              "outlinewidth": 0,
              "ticks": ""
             }
            },
            "type": "scatterpolar"
           }
          ],
          "scatterpolargl": [
           {
            "marker": {
             "colorbar": {
              "outlinewidth": 0,
              "ticks": ""
             }
            },
            "type": "scatterpolargl"
           }
          ],
          "scatterternary": [
           {
            "marker": {
             "colorbar": {
              "outlinewidth": 0,
              "ticks": ""
             }
            },
            "type": "scatterternary"
           }
          ],
          "surface": [
           {
            "colorbar": {
             "outlinewidth": 0,
             "ticks": ""
            },
            "colorscale": [
             [
              0,
              "#0d0887"
             ],
             [
              0.1111111111111111,
              "#46039f"
             ],
             [
              0.2222222222222222,
              "#7201a8"
             ],
             [
              0.3333333333333333,
              "#9c179e"
             ],
             [
              0.4444444444444444,
              "#bd3786"
             ],
             [
              0.5555555555555556,
              "#d8576b"
             ],
             [
              0.6666666666666666,
              "#ed7953"
             ],
             [
              0.7777777777777778,
              "#fb9f3a"
             ],
             [
              0.8888888888888888,
              "#fdca26"
             ],
             [
              1,
              "#f0f921"
             ]
            ],
            "type": "surface"
           }
          ],
          "table": [
           {
            "cells": {
             "fill": {
              "color": "#EBF0F8"
             },
             "line": {
              "color": "white"
             }
            },
            "header": {
             "fill": {
              "color": "#C8D4E3"
             },
             "line": {
              "color": "white"
             }
            },
            "type": "table"
           }
          ]
         },
         "layout": {
          "annotationdefaults": {
           "arrowcolor": "#2a3f5f",
           "arrowhead": 0,
           "arrowwidth": 1
          },
          "autotypenumbers": "strict",
          "coloraxis": {
           "colorbar": {
            "outlinewidth": 0,
            "ticks": ""
           }
          },
          "colorscale": {
           "diverging": [
            [
             0,
             "#8e0152"
            ],
            [
             0.1,
             "#c51b7d"
            ],
            [
             0.2,
             "#de77ae"
            ],
            [
             0.3,
             "#f1b6da"
            ],
            [
             0.4,
             "#fde0ef"
            ],
            [
             0.5,
             "#f7f7f7"
            ],
            [
             0.6,
             "#e6f5d0"
            ],
            [
             0.7,
             "#b8e186"
            ],
            [
             0.8,
             "#7fbc41"
            ],
            [
             0.9,
             "#4d9221"
            ],
            [
             1,
             "#276419"
            ]
           ],
           "sequential": [
            [
             0,
             "#0d0887"
            ],
            [
             0.1111111111111111,
             "#46039f"
            ],
            [
             0.2222222222222222,
             "#7201a8"
            ],
            [
             0.3333333333333333,
             "#9c179e"
            ],
            [
             0.4444444444444444,
             "#bd3786"
            ],
            [
             0.5555555555555556,
             "#d8576b"
            ],
            [
             0.6666666666666666,
             "#ed7953"
            ],
            [
             0.7777777777777778,
             "#fb9f3a"
            ],
            [
             0.8888888888888888,
             "#fdca26"
            ],
            [
             1,
             "#f0f921"
            ]
           ],
           "sequentialminus": [
            [
             0,
             "#0d0887"
            ],
            [
             0.1111111111111111,
             "#46039f"
            ],
            [
             0.2222222222222222,
             "#7201a8"
            ],
            [
             0.3333333333333333,
             "#9c179e"
            ],
            [
             0.4444444444444444,
             "#bd3786"
            ],
            [
             0.5555555555555556,
             "#d8576b"
            ],
            [
             0.6666666666666666,
             "#ed7953"
            ],
            [
             0.7777777777777778,
             "#fb9f3a"
            ],
            [
             0.8888888888888888,
             "#fdca26"
            ],
            [
             1,
             "#f0f921"
            ]
           ]
          },
          "colorway": [
           "#636efa",
           "#EF553B",
           "#00cc96",
           "#ab63fa",
           "#FFA15A",
           "#19d3f3",
           "#FF6692",
           "#B6E880",
           "#FF97FF",
           "#FECB52"
          ],
          "font": {
           "color": "#2a3f5f"
          },
          "geo": {
           "bgcolor": "white",
           "lakecolor": "white",
           "landcolor": "white",
           "showlakes": true,
           "showland": true,
           "subunitcolor": "#C8D4E3"
          },
          "hoverlabel": {
           "align": "left"
          },
          "hovermode": "closest",
          "mapbox": {
           "style": "light"
          },
          "paper_bgcolor": "white",
          "plot_bgcolor": "white",
          "polar": {
           "angularaxis": {
            "gridcolor": "#EBF0F8",
            "linecolor": "#EBF0F8",
            "ticks": ""
           },
           "bgcolor": "white",
           "radialaxis": {
            "gridcolor": "#EBF0F8",
            "linecolor": "#EBF0F8",
            "ticks": ""
           }
          },
          "scene": {
           "xaxis": {
            "backgroundcolor": "white",
            "gridcolor": "#DFE8F3",
            "gridwidth": 2,
            "linecolor": "#EBF0F8",
            "showbackground": true,
            "ticks": "",
            "zerolinecolor": "#EBF0F8"
           },
           "yaxis": {
            "backgroundcolor": "white",
            "gridcolor": "#DFE8F3",
            "gridwidth": 2,
            "linecolor": "#EBF0F8",
            "showbackground": true,
            "ticks": "",
            "zerolinecolor": "#EBF0F8"
           },
           "zaxis": {
            "backgroundcolor": "white",
            "gridcolor": "#DFE8F3",
            "gridwidth": 2,
            "linecolor": "#EBF0F8",
            "showbackground": true,
            "ticks": "",
            "zerolinecolor": "#EBF0F8"
           }
          },
          "shapedefaults": {
           "line": {
            "color": "#2a3f5f"
           }
          },
          "ternary": {
           "aaxis": {
            "gridcolor": "#DFE8F3",
            "linecolor": "#A2B1C6",
            "ticks": ""
           },
           "baxis": {
            "gridcolor": "#DFE8F3",
            "linecolor": "#A2B1C6",
            "ticks": ""
           },
           "bgcolor": "white",
           "caxis": {
            "gridcolor": "#DFE8F3",
            "linecolor": "#A2B1C6",
            "ticks": ""
           }
          },
          "title": {
           "x": 0.05
          },
          "xaxis": {
           "automargin": true,
           "gridcolor": "#EBF0F8",
           "linecolor": "#EBF0F8",
           "ticks": "",
           "title": {
            "standoff": 15
           },
           "zerolinecolor": "#EBF0F8",
           "zerolinewidth": 2
          },
          "yaxis": {
           "automargin": true,
           "gridcolor": "#EBF0F8",
           "linecolor": "#EBF0F8",
           "ticks": "",
           "title": {
            "standoff": 15
           },
           "zerolinecolor": "#EBF0F8",
           "zerolinewidth": 2
          }
         }
        },
        "title": {
         "font": {
          "color": "Black",
          "size": 22
         },
         "text": "Topic Word Scores",
         "x": 0.5,
         "xanchor": "center",
         "yanchor": "top"
        },
        "width": 1000,
        "xaxis": {
         "anchor": "y",
         "domain": [
          0,
          0.175
         ],
         "showgrid": true
        },
        "xaxis2": {
         "anchor": "y2",
         "domain": [
          0.275,
          0.45
         ],
         "showgrid": true
        },
        "xaxis3": {
         "anchor": "y3",
         "domain": [
          0.55,
          0.7250000000000001
         ],
         "showgrid": true
        },
        "xaxis4": {
         "anchor": "y4",
         "domain": [
          0.825,
          1
         ],
         "showgrid": true
        },
        "xaxis5": {
         "anchor": "y5",
         "domain": [
          0,
          0.175
         ],
         "showgrid": true
        },
        "xaxis6": {
         "anchor": "y6",
         "domain": [
          0.275,
          0.45
         ],
         "showgrid": true
        },
        "xaxis7": {
         "anchor": "y7",
         "domain": [
          0.55,
          0.7250000000000001
         ],
         "showgrid": true
        },
        "xaxis8": {
         "anchor": "y8",
         "domain": [
          0.825,
          1
         ],
         "showgrid": true
        },
        "yaxis": {
         "anchor": "x",
         "domain": [
          0.6000000000000001,
          1
         ],
         "showgrid": true
        },
        "yaxis2": {
         "anchor": "x2",
         "domain": [
          0.6000000000000001,
          1
         ],
         "showgrid": true
        },
        "yaxis3": {
         "anchor": "x3",
         "domain": [
          0.6000000000000001,
          1
         ],
         "showgrid": true
        },
        "yaxis4": {
         "anchor": "x4",
         "domain": [
          0.6000000000000001,
          1
         ],
         "showgrid": true
        },
        "yaxis5": {
         "anchor": "x5",
         "domain": [
          0,
          0.4
         ],
         "showgrid": true
        },
        "yaxis6": {
         "anchor": "x6",
         "domain": [
          0,
          0.4
         ],
         "showgrid": true
        },
        "yaxis7": {
         "anchor": "x7",
         "domain": [
          0,
          0.4
         ],
         "showgrid": true
        },
        "yaxis8": {
         "anchor": "x8",
         "domain": [
          0,
          0.4
         ],
         "showgrid": true
        }
       }
      },
      "text/html": [
       "<div>                            <div id=\"083502b5-a96d-426c-a734-144a7d42e6c7\" class=\"plotly-graph-div\" style=\"height:500px; width:1000px;\"></div>            <script type=\"text/javascript\">                require([\"plotly\"], function(Plotly) {                    window.PLOTLYENV=window.PLOTLYENV || {};                                    if (document.getElementById(\"083502b5-a96d-426c-a734-144a7d42e6c7\")) {                    Plotly.newPlot(                        \"083502b5-a96d-426c-a734-144a7d42e6c7\",                        [{\"marker\":{\"color\":\"#D55E00\"},\"orientation\":\"h\",\"x\":[0.01832616586698812,0.019014039305938295,0.01958723072678409,0.01964253873395644,0.0210400697235314],\"y\":[\"ocean  \",\"changes  \",\"ice  \",\"warming  \",\"confidence  \"],\"type\":\"bar\",\"xaxis\":\"x\",\"yaxis\":\"y\"},{\"marker\":{\"color\":\"#0072B2\"},\"orientation\":\"h\",\"x\":[0.017409383089050087,0.017976424470312488,0.020452786475567534,0.020858415050704494,0.023033213161865625],\"y\":[\"adaptation  \",\"mitigation  \",\"pathways  \",\"development  \",\"energy  \"],\"type\":\"bar\",\"xaxis\":\"x2\",\"yaxis\":\"y2\"},{\"marker\":{\"color\":\"#CC79A7\"},\"orientation\":\"h\",\"x\":[0.021134149530624743,0.021763587440688945,0.0231014745636087,0.027224079752736757,0.07612131242645767],\"y\":[\"systems  \",\"land  \",\"security  \",\"production  \",\"food  \"],\"type\":\"bar\",\"xaxis\":\"x3\",\"yaxis\":\"y3\"},{\"marker\":{\"color\":\"#E69F00\"},\"orientation\":\"h\",\"x\":[0.03514462312223164,0.03638607346561072,0.04694411608720386,0.05342262019397723,0.060708277854192],\"y\":[\"dust  \",\"erosion  \",\"land  \",\"degradation  \",\"desertification  \"],\"type\":\"bar\",\"xaxis\":\"x4\",\"yaxis\":\"y4\"},{\"marker\":{\"color\":\"#56B4E9\"},\"orientation\":\"h\",\"x\":[0.041550121940684734,0.043613376235586386,0.04590065813271428,0.05753909375595133,0.06773950604430358],\"y\":[\"carbon  \",\"land  \",\"beccs  \",\"cdr  \",\"bioenergy  \"],\"type\":\"bar\",\"xaxis\":\"x5\",\"yaxis\":\"y5\"},{\"marker\":{\"color\":\"#009E73\"},\"orientation\":\"h\",\"x\":[0.04575544522500522,0.0638054640543111,0.06709148218436076,0.12153676206530688,0.15484543055022573],\"y\":[\"based  \",\"land  \",\"management  \",\"response  \",\"options  \"],\"type\":\"bar\",\"xaxis\":\"x6\",\"yaxis\":\"y6\"},{\"marker\":{\"color\":\"#F0E442\"},\"orientation\":\"h\",\"x\":[0.0528343637418821,0.057251883442430915,0.05773988278654096,0.06054692682533257,0.06103396297604261],\"y\":[\"forcing  \",\"radiative  \",\"radiation  \",\"aerosol  \",\"srm  \"],\"type\":\"bar\",\"xaxis\":\"x7\",\"yaxis\":\"y7\"},{\"marker\":{\"color\":\"#D55E00\"},\"orientation\":\"h\",\"x\":[0.027623103811782207,0.029582910514347024,0.03830204652396058,0.04592160227630028,0.08059617559913622],\"y\":[\"risk  \",\"sea  \",\"protection  \",\"slr  \",\"coastal  \"],\"type\":\"bar\",\"xaxis\":\"x8\",\"yaxis\":\"y8\"}],                        {\"template\":{\"data\":{\"barpolar\":[{\"marker\":{\"line\":{\"color\":\"white\",\"width\":0.5},\"pattern\":{\"fillmode\":\"overlay\",\"size\":10,\"solidity\":0.2}},\"type\":\"barpolar\"}],\"bar\":[{\"error_x\":{\"color\":\"#2a3f5f\"},\"error_y\":{\"color\":\"#2a3f5f\"},\"marker\":{\"line\":{\"color\":\"white\",\"width\":0.5},\"pattern\":{\"fillmode\":\"overlay\",\"size\":10,\"solidity\":0.2}},\"type\":\"bar\"}],\"carpet\":[{\"aaxis\":{\"endlinecolor\":\"#2a3f5f\",\"gridcolor\":\"#C8D4E3\",\"linecolor\":\"#C8D4E3\",\"minorgridcolor\":\"#C8D4E3\",\"startlinecolor\":\"#2a3f5f\"},\"baxis\":{\"endlinecolor\":\"#2a3f5f\",\"gridcolor\":\"#C8D4E3\",\"linecolor\":\"#C8D4E3\",\"minorgridcolor\":\"#C8D4E3\",\"startlinecolor\":\"#2a3f5f\"},\"type\":\"carpet\"}],\"choropleth\":[{\"colorbar\":{\"outlinewidth\":0,\"ticks\":\"\"},\"type\":\"choropleth\"}],\"contourcarpet\":[{\"colorbar\":{\"outlinewidth\":0,\"ticks\":\"\"},\"type\":\"contourcarpet\"}],\"contour\":[{\"colorbar\":{\"outlinewidth\":0,\"ticks\":\"\"},\"colorscale\":[[0.0,\"#0d0887\"],[0.1111111111111111,\"#46039f\"],[0.2222222222222222,\"#7201a8\"],[0.3333333333333333,\"#9c179e\"],[0.4444444444444444,\"#bd3786\"],[0.5555555555555556,\"#d8576b\"],[0.6666666666666666,\"#ed7953\"],[0.7777777777777778,\"#fb9f3a\"],[0.8888888888888888,\"#fdca26\"],[1.0,\"#f0f921\"]],\"type\":\"contour\"}],\"heatmapgl\":[{\"colorbar\":{\"outlinewidth\":0,\"ticks\":\"\"},\"colorscale\":[[0.0,\"#0d0887\"],[0.1111111111111111,\"#46039f\"],[0.2222222222222222,\"#7201a8\"],[0.3333333333333333,\"#9c179e\"],[0.4444444444444444,\"#bd3786\"],[0.5555555555555556,\"#d8576b\"],[0.6666666666666666,\"#ed7953\"],[0.7777777777777778,\"#fb9f3a\"],[0.8888888888888888,\"#fdca26\"],[1.0,\"#f0f921\"]],\"type\":\"heatmapgl\"}],\"heatmap\":[{\"colorbar\":{\"outlinewidth\":0,\"ticks\":\"\"},\"colorscale\":[[0.0,\"#0d0887\"],[0.1111111111111111,\"#46039f\"],[0.2222222222222222,\"#7201a8\"],[0.3333333333333333,\"#9c179e\"],[0.4444444444444444,\"#bd3786\"],[0.5555555555555556,\"#d8576b\"],[0.6666666666666666,\"#ed7953\"],[0.7777777777777778,\"#fb9f3a\"],[0.8888888888888888,\"#fdca26\"],[1.0,\"#f0f921\"]],\"type\":\"heatmap\"}],\"histogram2dcontour\":[{\"colorbar\":{\"outlinewidth\":0,\"ticks\":\"\"},\"colorscale\":[[0.0,\"#0d0887\"],[0.1111111111111111,\"#46039f\"],[0.2222222222222222,\"#7201a8\"],[0.3333333333333333,\"#9c179e\"],[0.4444444444444444,\"#bd3786\"],[0.5555555555555556,\"#d8576b\"],[0.6666666666666666,\"#ed7953\"],[0.7777777777777778,\"#fb9f3a\"],[0.8888888888888888,\"#fdca26\"],[1.0,\"#f0f921\"]],\"type\":\"histogram2dcontour\"}],\"histogram2d\":[{\"colorbar\":{\"outlinewidth\":0,\"ticks\":\"\"},\"colorscale\":[[0.0,\"#0d0887\"],[0.1111111111111111,\"#46039f\"],[0.2222222222222222,\"#7201a8\"],[0.3333333333333333,\"#9c179e\"],[0.4444444444444444,\"#bd3786\"],[0.5555555555555556,\"#d8576b\"],[0.6666666666666666,\"#ed7953\"],[0.7777777777777778,\"#fb9f3a\"],[0.8888888888888888,\"#fdca26\"],[1.0,\"#f0f921\"]],\"type\":\"histogram2d\"}],\"histogram\":[{\"marker\":{\"pattern\":{\"fillmode\":\"overlay\",\"size\":10,\"solidity\":0.2}},\"type\":\"histogram\"}],\"mesh3d\":[{\"colorbar\":{\"outlinewidth\":0,\"ticks\":\"\"},\"type\":\"mesh3d\"}],\"parcoords\":[{\"line\":{\"colorbar\":{\"outlinewidth\":0,\"ticks\":\"\"}},\"type\":\"parcoords\"}],\"pie\":[{\"automargin\":true,\"type\":\"pie\"}],\"scatter3d\":[{\"line\":{\"colorbar\":{\"outlinewidth\":0,\"ticks\":\"\"}},\"marker\":{\"colorbar\":{\"outlinewidth\":0,\"ticks\":\"\"}},\"type\":\"scatter3d\"}],\"scattercarpet\":[{\"marker\":{\"colorbar\":{\"outlinewidth\":0,\"ticks\":\"\"}},\"type\":\"scattercarpet\"}],\"scattergeo\":[{\"marker\":{\"colorbar\":{\"outlinewidth\":0,\"ticks\":\"\"}},\"type\":\"scattergeo\"}],\"scattergl\":[{\"marker\":{\"colorbar\":{\"outlinewidth\":0,\"ticks\":\"\"}},\"type\":\"scattergl\"}],\"scattermapbox\":[{\"marker\":{\"colorbar\":{\"outlinewidth\":0,\"ticks\":\"\"}},\"type\":\"scattermapbox\"}],\"scatterpolargl\":[{\"marker\":{\"colorbar\":{\"outlinewidth\":0,\"ticks\":\"\"}},\"type\":\"scatterpolargl\"}],\"scatterpolar\":[{\"marker\":{\"colorbar\":{\"outlinewidth\":0,\"ticks\":\"\"}},\"type\":\"scatterpolar\"}],\"scatter\":[{\"fillpattern\":{\"fillmode\":\"overlay\",\"size\":10,\"solidity\":0.2},\"type\":\"scatter\"}],\"scatterternary\":[{\"marker\":{\"colorbar\":{\"outlinewidth\":0,\"ticks\":\"\"}},\"type\":\"scatterternary\"}],\"surface\":[{\"colorbar\":{\"outlinewidth\":0,\"ticks\":\"\"},\"colorscale\":[[0.0,\"#0d0887\"],[0.1111111111111111,\"#46039f\"],[0.2222222222222222,\"#7201a8\"],[0.3333333333333333,\"#9c179e\"],[0.4444444444444444,\"#bd3786\"],[0.5555555555555556,\"#d8576b\"],[0.6666666666666666,\"#ed7953\"],[0.7777777777777778,\"#fb9f3a\"],[0.8888888888888888,\"#fdca26\"],[1.0,\"#f0f921\"]],\"type\":\"surface\"}],\"table\":[{\"cells\":{\"fill\":{\"color\":\"#EBF0F8\"},\"line\":{\"color\":\"white\"}},\"header\":{\"fill\":{\"color\":\"#C8D4E3\"},\"line\":{\"color\":\"white\"}},\"type\":\"table\"}]},\"layout\":{\"annotationdefaults\":{\"arrowcolor\":\"#2a3f5f\",\"arrowhead\":0,\"arrowwidth\":1},\"autotypenumbers\":\"strict\",\"coloraxis\":{\"colorbar\":{\"outlinewidth\":0,\"ticks\":\"\"}},\"colorscale\":{\"diverging\":[[0,\"#8e0152\"],[0.1,\"#c51b7d\"],[0.2,\"#de77ae\"],[0.3,\"#f1b6da\"],[0.4,\"#fde0ef\"],[0.5,\"#f7f7f7\"],[0.6,\"#e6f5d0\"],[0.7,\"#b8e186\"],[0.8,\"#7fbc41\"],[0.9,\"#4d9221\"],[1,\"#276419\"]],\"sequential\":[[0.0,\"#0d0887\"],[0.1111111111111111,\"#46039f\"],[0.2222222222222222,\"#7201a8\"],[0.3333333333333333,\"#9c179e\"],[0.4444444444444444,\"#bd3786\"],[0.5555555555555556,\"#d8576b\"],[0.6666666666666666,\"#ed7953\"],[0.7777777777777778,\"#fb9f3a\"],[0.8888888888888888,\"#fdca26\"],[1.0,\"#f0f921\"]],\"sequentialminus\":[[0.0,\"#0d0887\"],[0.1111111111111111,\"#46039f\"],[0.2222222222222222,\"#7201a8\"],[0.3333333333333333,\"#9c179e\"],[0.4444444444444444,\"#bd3786\"],[0.5555555555555556,\"#d8576b\"],[0.6666666666666666,\"#ed7953\"],[0.7777777777777778,\"#fb9f3a\"],[0.8888888888888888,\"#fdca26\"],[1.0,\"#f0f921\"]]},\"colorway\":[\"#636efa\",\"#EF553B\",\"#00cc96\",\"#ab63fa\",\"#FFA15A\",\"#19d3f3\",\"#FF6692\",\"#B6E880\",\"#FF97FF\",\"#FECB52\"],\"font\":{\"color\":\"#2a3f5f\"},\"geo\":{\"bgcolor\":\"white\",\"lakecolor\":\"white\",\"landcolor\":\"white\",\"showlakes\":true,\"showland\":true,\"subunitcolor\":\"#C8D4E3\"},\"hoverlabel\":{\"align\":\"left\"},\"hovermode\":\"closest\",\"mapbox\":{\"style\":\"light\"},\"paper_bgcolor\":\"white\",\"plot_bgcolor\":\"white\",\"polar\":{\"angularaxis\":{\"gridcolor\":\"#EBF0F8\",\"linecolor\":\"#EBF0F8\",\"ticks\":\"\"},\"bgcolor\":\"white\",\"radialaxis\":{\"gridcolor\":\"#EBF0F8\",\"linecolor\":\"#EBF0F8\",\"ticks\":\"\"}},\"scene\":{\"xaxis\":{\"backgroundcolor\":\"white\",\"gridcolor\":\"#DFE8F3\",\"gridwidth\":2,\"linecolor\":\"#EBF0F8\",\"showbackground\":true,\"ticks\":\"\",\"zerolinecolor\":\"#EBF0F8\"},\"yaxis\":{\"backgroundcolor\":\"white\",\"gridcolor\":\"#DFE8F3\",\"gridwidth\":2,\"linecolor\":\"#EBF0F8\",\"showbackground\":true,\"ticks\":\"\",\"zerolinecolor\":\"#EBF0F8\"},\"zaxis\":{\"backgroundcolor\":\"white\",\"gridcolor\":\"#DFE8F3\",\"gridwidth\":2,\"linecolor\":\"#EBF0F8\",\"showbackground\":true,\"ticks\":\"\",\"zerolinecolor\":\"#EBF0F8\"}},\"shapedefaults\":{\"line\":{\"color\":\"#2a3f5f\"}},\"ternary\":{\"aaxis\":{\"gridcolor\":\"#DFE8F3\",\"linecolor\":\"#A2B1C6\",\"ticks\":\"\"},\"baxis\":{\"gridcolor\":\"#DFE8F3\",\"linecolor\":\"#A2B1C6\",\"ticks\":\"\"},\"bgcolor\":\"white\",\"caxis\":{\"gridcolor\":\"#DFE8F3\",\"linecolor\":\"#A2B1C6\",\"ticks\":\"\"}},\"title\":{\"x\":0.05},\"xaxis\":{\"automargin\":true,\"gridcolor\":\"#EBF0F8\",\"linecolor\":\"#EBF0F8\",\"ticks\":\"\",\"title\":{\"standoff\":15},\"zerolinecolor\":\"#EBF0F8\",\"zerolinewidth\":2},\"yaxis\":{\"automargin\":true,\"gridcolor\":\"#EBF0F8\",\"linecolor\":\"#EBF0F8\",\"ticks\":\"\",\"title\":{\"standoff\":15},\"zerolinecolor\":\"#EBF0F8\",\"zerolinewidth\":2}}},\"xaxis\":{\"anchor\":\"y\",\"domain\":[0.0,0.175],\"showgrid\":true},\"yaxis\":{\"anchor\":\"x\",\"domain\":[0.6000000000000001,1.0],\"showgrid\":true},\"xaxis2\":{\"anchor\":\"y2\",\"domain\":[0.275,0.45],\"showgrid\":true},\"yaxis2\":{\"anchor\":\"x2\",\"domain\":[0.6000000000000001,1.0],\"showgrid\":true},\"xaxis3\":{\"anchor\":\"y3\",\"domain\":[0.55,0.7250000000000001],\"showgrid\":true},\"yaxis3\":{\"anchor\":\"x3\",\"domain\":[0.6000000000000001,1.0],\"showgrid\":true},\"xaxis4\":{\"anchor\":\"y4\",\"domain\":[0.825,1.0],\"showgrid\":true},\"yaxis4\":{\"anchor\":\"x4\",\"domain\":[0.6000000000000001,1.0],\"showgrid\":true},\"xaxis5\":{\"anchor\":\"y5\",\"domain\":[0.0,0.175],\"showgrid\":true},\"yaxis5\":{\"anchor\":\"x5\",\"domain\":[0.0,0.4],\"showgrid\":true},\"xaxis6\":{\"anchor\":\"y6\",\"domain\":[0.275,0.45],\"showgrid\":true},\"yaxis6\":{\"anchor\":\"x6\",\"domain\":[0.0,0.4],\"showgrid\":true},\"xaxis7\":{\"anchor\":\"y7\",\"domain\":[0.55,0.7250000000000001],\"showgrid\":true},\"yaxis7\":{\"anchor\":\"x7\",\"domain\":[0.0,0.4],\"showgrid\":true},\"xaxis8\":{\"anchor\":\"y8\",\"domain\":[0.825,1.0],\"showgrid\":true},\"yaxis8\":{\"anchor\":\"x8\",\"domain\":[0.0,0.4],\"showgrid\":true},\"annotations\":[{\"font\":{\"size\":16},\"showarrow\":false,\"text\":\"Topic 0\",\"x\":0.0875,\"xanchor\":\"center\",\"xref\":\"paper\",\"y\":1.0,\"yanchor\":\"bottom\",\"yref\":\"paper\"},{\"font\":{\"size\":16},\"showarrow\":false,\"text\":\"Topic 1\",\"x\":0.36250000000000004,\"xanchor\":\"center\",\"xref\":\"paper\",\"y\":1.0,\"yanchor\":\"bottom\",\"yref\":\"paper\"},{\"font\":{\"size\":16},\"showarrow\":false,\"text\":\"Topic 2\",\"x\":0.6375000000000001,\"xanchor\":\"center\",\"xref\":\"paper\",\"y\":1.0,\"yanchor\":\"bottom\",\"yref\":\"paper\"},{\"font\":{\"size\":16},\"showarrow\":false,\"text\":\"Topic 3\",\"x\":0.9125,\"xanchor\":\"center\",\"xref\":\"paper\",\"y\":1.0,\"yanchor\":\"bottom\",\"yref\":\"paper\"},{\"font\":{\"size\":16},\"showarrow\":false,\"text\":\"Topic 4\",\"x\":0.0875,\"xanchor\":\"center\",\"xref\":\"paper\",\"y\":0.4,\"yanchor\":\"bottom\",\"yref\":\"paper\"},{\"font\":{\"size\":16},\"showarrow\":false,\"text\":\"Topic 5\",\"x\":0.36250000000000004,\"xanchor\":\"center\",\"xref\":\"paper\",\"y\":0.4,\"yanchor\":\"bottom\",\"yref\":\"paper\"},{\"font\":{\"size\":16},\"showarrow\":false,\"text\":\"Topic 6\",\"x\":0.6375000000000001,\"xanchor\":\"center\",\"xref\":\"paper\",\"y\":0.4,\"yanchor\":\"bottom\",\"yref\":\"paper\"},{\"font\":{\"size\":16},\"showarrow\":false,\"text\":\"Topic 7\",\"x\":0.9125,\"xanchor\":\"center\",\"xref\":\"paper\",\"y\":0.4,\"yanchor\":\"bottom\",\"yref\":\"paper\"}],\"title\":{\"font\":{\"size\":22,\"color\":\"Black\"},\"text\":\"Topic Word Scores\",\"x\":0.5,\"xanchor\":\"center\",\"yanchor\":\"top\"},\"hoverlabel\":{\"font\":{\"size\":16,\"family\":\"Rockwell\"},\"bgcolor\":\"white\"},\"showlegend\":false,\"width\":1000,\"height\":500},                        {\"responsive\": true}                    ).then(function(){\n",
       "                            \n",
       "var gd = document.getElementById('083502b5-a96d-426c-a734-144a7d42e6c7');\n",
       "var x = new MutationObserver(function (mutations, observer) {{\n",
       "        var display = window.getComputedStyle(gd).display;\n",
       "        if (!display || display === 'none') {{\n",
       "            console.log([gd, 'removed!']);\n",
       "            Plotly.purge(gd);\n",
       "            observer.disconnect();\n",
       "        }}\n",
       "}});\n",
       "\n",
       "// Listen for the removal of the full notebook cells\n",
       "var notebookContainer = gd.closest('#notebook-container');\n",
       "if (notebookContainer) {{\n",
       "    x.observe(notebookContainer, {childList: true});\n",
       "}}\n",
       "\n",
       "// Listen for the clearing of the current output cell\n",
       "var outputEl = gd.closest('.output');\n",
       "if (outputEl) {{\n",
       "    x.observe(outputEl, {childList: true});\n",
       "}}\n",
       "\n",
       "                        })                };                });            </script>        </div>"
      ]
     },
     "metadata": {},
     "output_type": "display_data"
    }
   ],
   "source": [
    "topics, probs, model = create_topics(\"auto\", \"CountVectorizer\", report)\n",
    "model.visualize_barchart()"
   ]
  },
  {
   "cell_type": "code",
   "execution_count": 92,
   "id": "f8d340a8",
   "metadata": {},
   "outputs": [
    {
     "data": {
      "text/plain": [
       "{-1: ['confidence). The number of people whose livelihood depends on degraded lands has been estimated to be about 1.5 billion worldwide (very low confidence). People in degraded areas who directly depend on natural resources for subsistence, food security and income, including women and youth with limited adaptation options, are especially vulnerable to land degradation and dimate change (high confidence). Land degradation reduces land productivity and increases the workload of managing the land, affecting women disproportionally in some regions. Land degradation and climate change act as threat multipliers for already precarious livelihoods (very high confidence), leaving them highly sensitive to extreme climatic events, with consequences such as poverty and food insecurity (high confidence) and, in some cases, migration, conflict and loss of cultural heritage (low confidence). Changes in vegetation cover and distribution due to climate change increase the risk of land degradation in some areas (medium confidence). Climate change will have detrimental effects on livelihoods, habitats and infrastructure through increased rates of land degradation (high confidence) and from new degradation patterns (low evidence, high agreement). (4.1.6, 4.2.1, 4.7)',\n",
       "  \"C.3.6 Maintaining the resilience of biodiversity and ecosystem services at a global scale depends on effective and equitable conservation of approximately 30% to 50% of Earth's land, freshwater and ocean areas, including currently near-natural ecosystems (high confidence). Conservation, protection and restoration of terrestrial, freshwater, coastal and ocean ecosystems, together with targeted management to adapt to unavoidable impacts of climate change reduces the vulnerability of biodiversity and ecosystem services to climate change (high confidence), reduces coastal erosion and flooding (high confidence), and could increase carbon uptake and storage if global warming is limited (medium confidence). Rebuilding overexploited or depleted fisheries reduces negative climate change impacts on fisheries (medium confidence) and supports food security, biodiversity, human health and well-being (high confidence). Land restoration contributes to climate change mitigation and adaptation with synergies via enhanced ecosystem services and with economically positive returns and co-benefits for poverty reduction and improved livelihoods (high confidence). Cooperation, and inclusive decision making, with Indigenous Peoples and local communities, as well as recognition of inherent rights of Indigenous Peoples, is integral to successful adaptation and mitigation across forests and other ecosystems (high confidence). (4.5.4, 4.6) (Figure SPM.7)\",\n",
       "  'Adaptation to water-related risks and impacts make up the majority (~60%) of all documented adaptation (high confidence). A large number of these adaptation responses are in the agriculture sector and these include on-farm water management, water storage, soil moisture conservation, and irrigation. Other adaptations in agriculture include cultivar improvements, agroforestry, community-based adaptation and farm and landscape diversification among others (high confidence). For inland flooding, combinations of non-structural measures like early warning systems, enhancing natural water retention such as by restoring wetlands and rivers, and land use planning such as no build zones or upstream forest management, can reduce flood risk (medium confidence). Some land-related adaptation actions such as sustainable food production, improved and sustainable forest management, soil organic carbon management, ecosystem conservation and land restoration, reduced deforestation and degradation, and reduced food loss and waste are being undertaken, and can have mitigation co-benefits (high confidence). Adaptation actions that increase the resilience of biodiversity and ecosystem services to climate change include responses like minimising additional stresses or disturbances, reducing fragmentation, increasing natural habitat extent, connectivity and heterogeneity, and protecting small-scale refugia where microclimate conditions can allow species to persist (high confidence). Most innovations in urban adaptation have occurred through advances in disaster risk management, social safety nets and green/blue infrastructure (medium confidence). Many adaptation measures that benefit health and wellbeing are found in other sectors (e.g., food, livelihoods, social protection, water and sanitation, infrastructure) (high confidence). (WGII SPM C.2.1, WGII SPM C.2.2, WGII TS.D.1.2, WGII TS.D.1.4, WGII TS.D.4.2, WGII TS.D.8.3, WGII 4 ES; SRCCL SPM B.1.1}'],\n",
       " 0: [\"As mentioned in Section 3.3.1, there is an important land-sea warming contrast, with stronger warming on land (see also Christensen et al., 2013; Collins et al., 2013; Seneviratne et al., 2016), which implies that regional warming on land is generally more than 1.5°C even when mean global warming is at 1.5°C. As highlighted in Seneviratne et al. (2016), this feature is generally stronger for temperature extremes (Figures 3.4 and 3.5; Supplementary Material 3.SM.2). For differences in regional temperature extremes at a mean global warming of 1.5°C versus 2°C, that is, a difference of 0.5°C in global warming, this implies differences of as much as 1°C-1.5°C in some locations, which are two to three times larger than the differences in global mean temperature. For hot extremes, the strongest warming is found in central and eastern North America, central and southern Europe, the Mediterranean, western and central Asia, and southern Africa (Figures 3.4 and 3.5) (medium confidence). These regions are all characterized by a strong soil-moisture-temperature coupling and projected increased dryness (Vogel et al., 2017), which leads to a reduction in evaporative cooling in the projections. Some of these regions also show a wide range of responses to temperature extremes, in particular central Europe and central North America, owing to discrepancies in the representation of the underlying processes in current climate models (Vogel et al, 2017). For mean temperature and cold extremes, the strongest warming is found in the northern high-latitude regions (high confidence). This is due to substantial ice-snow-albedo-temperature feedbacks (Figure 3.3 and Figure 3.4, middle) related to the known 'polar amplification' mechanism (e.g., IPCC, 2013; Masson-Delmotte et al, 2013).\",\n",
       "  'The rate of sea level rise since the mid-19th century has been larger than the mean rate of the previous two millennia (high confidence). Over the period 1901 to 2010, global mean sea level rose by 0.19 (0.17-0.21) m (high confidence) (Church et al, 2013; Table SM1.1). Sea level rise continues due to freshwater added to the ocean by melting of glaciers and ice sheets, and as a result of ocean expansion due to continuous ocean warming, with a projected acceleration and century to millennial-scale commitments for ongoing rise (Section 4.2.3). In SROCC, recent developments of ice sheet modelling are assessed (Sections 1.8, 4.3, Cross-Chapter Box 8 in Chapter 3) and the projected sea level rise at the end of 21st century is higher than reported in ARS but with a larger uncertainty range (Sections 4.2.3.2, 4.2.3.3).',\n",
       "  'Figure SPM.3 (continued): (a) depth integrated net primary production (NPP from CMPS), (b) total animal biomass (depth integrated, including fishes and invertebrates from FISHMIP), (c) maximum fisheries catch potential and (d) impacts and risks for coastal and open ocean ecosystems. The three left panels represent the simulated (a,b) and observed (c) mean values for the recent past (1986-2005), the middle and right panels represent projected changes (%) by 2081-2100 relative to recent past under low (RCP2.6) and high (RCP8.5) greenhouse gas emissions scenario (Box SPM. 1), respectively. Total animal biomass in the recent past (b, left panel) represents the projected total animal biomass by each spatial pixel relative to the global average (c) \"Average observed fisheries catch in the recent past (based on data from the Sea Around Us global fisheries database); projected changes in maximum fisheries catch potential in shelf seas are based on the average outputs from two fisheries and marine ecosystem models. To indicate areas of model inconsistency, shaded areas represent regions where models disagree in the direction of change for more than: (a) and (b) 3 out of 10 model projections, and (c) one out of two models. Although unshaded, the projected change in the Arctic and Antarctic regions in (b) total animal biomass and (c) fisheries catch potential have low confidence due to uncertainties associated with modelling multiple interacting drivers and ecosystem responses. Projections presented in (b) and (c) are driven by changes in ocean physical and biogeochemical conditions e.g., temperature, oxygen level, and net primary production projected from CMIPS Earth system models. The epipelagic refers to the uppermost part of the ocean with depth <200 m from the surface where there is enough sunlight to allow photosynthesis. (d) Assessment of risks for coastal and open ocean ecosystems based on observed and projected climate impacts on ecosystem structure, functioning and biodiversity. Impacts and risks are shown in relation to changes in Global Mean Surface Temperature (GMST) relative to pre-industrial level. Since assessments of risks and impacts are based on global mean Sea Surface Temperature (SST), the corresponding SST levels are shown. The assessment of risk transitions is described in Chapter 5 Sections 5.2, 5.3, 5.2.5 and 5.3.7 and Supplementary Materials SM5.3, Table SM5.6, Table SM5.8 and other parts of the underlying report. The figure indicates assessed risks at approximate warming levels and increasing climate-related hazards in the ocean: ocean warming, acidification, deoxygenation, increased density stratification, changes in carbon fluxes, sea level rise, and increased frequency and/or intensity of extreme events. The assessment considers the natural adaptive capacity of the ecosystems, their exposure and vulnerability. Impact and risk levels do not consider risk reduction strategies such as human interventions, or future changes in non-climatic drivers. Risks for ecosystems were assessed by considering biological, biogeochemical, geomorphological and physical aspects. Higher risks associated with compound effects of climate hazards include habitat and biodiversity lass, changes in species composition and distribution ranges, and impacts/risks on ecosystem structure and functioning, including changes in animal plant biomass and density, productivity, carbon fluxes, and sediment transport. As part of the assessment, literature was compiled and data extracted into a summary table. A multi-round expert elicitation process was undertaken with independent evaluation of threshold judgement, and a final consensus discussion. Further information on methods and underlying literature can be found in Chapter 5, Sections 5.2 and 5.3 and Supplementary Material. (3.2.3, 3.2.4, 5.2, 5.3, 5.2.5, 5.3.7, SM5.6, SM5.8, Figure 5.16, Crass Chapter Bax 1 in Chapter 1 Table CCB1]'],\n",
       " 1: ['If obstacles to accelerated mitigation are rooted in underlying structural features of society, then transforming such structures can support emission reductions (4.2.6). Countries and regions will have different starting points for transition pathways. Some critical differences between countries include climate conditions resulting in different heating and cooling needs, endowments with different energy resources, patterns of spatial development, and political and economic conditions (4.2.5). The way countries develop determines their capacity to accelerate mitigation and achieve other sustainable development objectives simultaneously (medium confidence) (4.3.1, 4.3.2). Yet meeting ambitious mitigation and development goals cannot be achieved through incremental change (robust evidence, medium agreement). Though development pathways result from the actions of a wide range of actors, it is possible to shift development pathways through policies and enhancing enabling conditions (limited evidence, medium agreement).',\n",
       "  'International climate agreements, rising national ambitions for climate action, along with rising public awareness are accelerating efforts to address climate change at multiple levels of governance. Mitigation policies have contributed to a decrease in global energy and carbon intensity, with several countries achieving GHG emission reductions for over a decade. Low-emission technologies are becoming more affordable, with many low or zero emissions options now available for energy, buildings, transport, and industry. Adaptation planning and implementation progress has generated multiple benefits, with effective adaptation options having the potential to reduce climate risks and contribute to sustainable development. Global tracked finance for mitigation and adaptation has seen an upward trend since AR5, but falls short of needs. (high confidence)',\n",
       "  \"Approaches that align goals and actions across sectors provide opportunities for multiple and largescale benefits and avoided damages in the near-term. Such measures can also achieve greater benefits through cascading effects across sectors (medium confidence). For example, the feasibility of using land for both agriculture and centralised solar production can increase when such options are combined (high confidence). Similarly, integrated transport and energy infrastructure planning and operations can together reduce the environmental, social, and economic impacts of decarbonising the transport and energy sectors (high confidence). The implementation of packages of multiple city-scale mitigation strategies can have cascading effects across sectors and reduce GHG emissions both within and outside a city's administrative boundaries (very high confidence). Integrated design approaches to the construction and retrofit of buildings provide increasing examples of zero energy or zero carbon buildings in several regions. To minimise maladaptation, multi-sectoral, multi-actor and inclusive planning with flexible pathways encourages lowregret and timely actions that keep options open, ensure benefits in multiple sectors and systems and suggest the available solution space for adapting to long-term climate change (very high confidence). Trade-offs in terms of employment, water use, land-use competition and biodiversity, as well as access to, and the affordability of, energy, food, and water can be avoided by well-implemented land-based mitigation options, especially those that do not threaten existing sustainable land uses and land rights, with frameworks for integrated policy implementation (high confidence) (WGII SPM C.2, WGII SPM C.2.1-2.13, WGII SPM C.4.4; WGIII SPM C.6.3, WGIII SPM C.6, WGIII SPM C.7.2, WGIII SPM C.8.5, WGIII SPM D.1.2, WGIII SPM D.1.5, WGIII SPM E.1.2)\"],\n",
       " 2: ['compatible with lower emissions have demonstrable positive impacts on land use and food security (high confidence). Food security is also negatively affected by food loss and waste (estimated as 25-30% of total food produced) (medium confidence). Barriers to improved food security include economic drivers (prices, availability and stability of supply) and traditional, social and cultural norms around food eating practices. Climate change is expected to increase variability in food production and prices globally (high confidence), but the trade in food commodities can buffer these effects. Trade can provide embodied flows of water, land and nutrients (medium confidence). Food trade can also have negative environmental impacts by displacing the effects of overconsumption (medium confidence). Future food systems and trade patterns will be shaped as much by policies as by economics (medium confidence). (1.2.1, 1.3.3)',\n",
       "  'Food loss and waste impacts food security by reducing global and local food availability, limiting food access due to an increase in food prices and a decrease of producer income, affecting future food production due to the unstainable use of natural resources (HLPE 2014). Food loss is defined as the reduction of edible food during production, postharvest, and processing, whereas food discarded by consumers is considered as food waste (FAO 2011b). Combined food loss and waste amount to 25-30% of total food produced (medium confidence). During 2010-2016, global food loss and waste equalled 8-10% of total GHG emissions (medium confidence); and cost about 1 trillion USD per year (low confidence) (FAO 2014b).',\n",
       "  'Sustainable food supply and food consumption, based on nutritionally balanced and diverse diets, would enhance food security under climate and socio-economic changes (high confidence). Improving food access, utilisation, quality and safety to enhance nutrition, and promoting globally equitable diets compatible with lower emissions have demonstrable positive impacts on land use and food security (high confidence). Food security is also negatively affected by food loss and waste (estimated as 25-30% of total food produced) (medium confidence). Barriers to improved food security include economic drivers (prices, availability and stability of supply) and traditional, social and cultural norms around food eating practices. Climate change is expected to increase variability in food production and prices globally (high confidence), but the trade in food commodities can buffer these effects. Trade can provide embodied'],\n",
       " 3: ['In this report, desertification is defined as land degradation in arid, semi-arid, and dry sub-humid areas resulting from many factors, including climatic variations and human activities (United Nations Convention to Combat Desertification (UNCCD) 1994). Land degradation is a negative trend in land condition, caused by direct or indirect human-induced processes including anthropogenic climate change, expressed as long-term reduction or loss of at least one of the following: biological productivity, ecological integrity or value to humans (Section 4.1.3). Arid, semi-arid, and dry sub-humid areas, together with hyper-arid areas, constitute drylands (UNEP 1992), home to about 3 billion people (van der Esch et al 2017). The difference between desertification and land degradation is not process-based but geographic. Although land degradation can occur anywhere across the world, when it occurs in drylands, it is considered desertification (FAQ 1.3). Desertification is not limited to irreversible forms of land degradation, nor is it equated to desert expansion, but represents all forms and levels of land degradation occurring in drylands.',\n",
       "  'Table 4.2 | Interaction of human and climate drivers can exacerbate desertification and land degradation. Climate change exacerbates the rate and magnitude of several ongoing land degradation and desertification processes. Human drivers of land degradation and desertification include expanding agriculture, agricultural practices and forest management. In turn, land degradation and desertification are also drivers of climate change through GHG emissions, reduced rates of carbon uptake, and reduced capacity of ecosystems to act as carbon sinks into the future. Impacts on climate change are either warming (in red) or cooling (in blue).',\n",
       "  'Desertification is land degradation in arid, semi-arid, and dry sub-humid areas, collectively known as drylands, resulting from many factors, including human activities and climatic variations. The range and intensity of desertification have increased in some dryland areas over the past several decades (high confidence). Drylands currently cover about 46.2% (+0.8%) of the global land area and are home to 3 billion people. The multiplicity and complexity of the processes of desertification make its quantification difficult. Desertification hotspots, as identified by a decline in vegetation productivity between the 1980s and 2000s, extended to about 9.2% of drylands (0.5%), affecting about 500 (+120) million people in 2015. The highest numbers of people affected are in South and East Asia, the circum Sahara region including North Africa and the Middle East including the Arabian Peninsula (low confidence). Other dryland regions have also experienced desertification. Desertification has already reduced agricultural productivity and incomes (high confidence) and contributed to the loss of biodiversity in some dryland regions (medium confidence). In many dryland areas, spread of invasive plants has led to losses in ecosystem services (high confidence), while over-extraction is leading to groundwater depletion (high confidence). Unsustainable land management, particularly when coupled with droughts, has contributed to higher dust-storm activity, reducing human well-being in drylands and beyond (high confidence). Dust storms were associated with global cardiopulmonary mortality of about 402,000 people in 2005. Higher intensity of sand storms and sand dune movements are causing disruption and damage to transportation and solar and wind energy harvesting infrastructures (high confidence). (3.1.1, 3.1.4, 3.2.1, 3.3.1, 3.4.1, 3.4.2, 3.4.2, 3.7.3, 3.7.4)'],\n",
       " 4: ['Bioenergy with carbon dioxide capture and storage (BECCS) Carbon dioxide capture and storage (CCS) technology applied to a bioenergy facility. Note that depending on the total emissions of the BECCS supply chain, carbon dioxide (CO₂) can be removed from the atmosphere. See also Bioenergy, and Carbon dioxide capture and storage (CCS).',\n",
       "  'IAMs assume bioenergy to be supplied mostly from second generation biomass feedstocks such as dedicated cellulosic crops (for example Miscanthus or poplar) as well as agricultural and forest residues. Detailed process IAMs include land-use models that capture competition for land for different uses (food, feed, fiber, bioenergy, carbon storage, biodiversity protection) under a range of dynamic factors including socio-economic drivers, productivity increases in crop and livestock systems, food demand, and land, environmental biodiversity, and carbon policies. Assumptions about these factors can vary widely between different scenarios (Calvin et al, 2014; Popp et al., 2017; van Vuuren et al., 2018). IAMS capture a number of potential environmental impacts from bioenergy production, in particular indirect land-use change emissions from land conversion and nitrogen and water use for bioenergy production (Kraxner et al., 2013; Bodirsky et al, 2014; Bonsch et al, 2014; Obersteiner et al., 2016; Humpenöder et al., 2018). The impact of bioenergy production on soil degradation is an area of active IAM development and was not comprehensively accounted for in the mitigation pathways assessed in this report (but is, for example, in Frank et al., 2017). Whether bioenergy has large adverse impacts on environmental and societal goals depends in large parts on the governance of land use (Haberl et al., 2013; Erb et al., 2016b; Obersteiner et al., 2016; Humpenöder et al., 2018). Here IAMs often make idealized assumptions about effective land management, such as full protection of the land carbon stock by conservation measures and a global carbon price, respectively, but variations on these assumptions have also been explored (Calvin et al., 2014; Popp et al, 2014a).',\n",
       "  'Bioenergy with carbon dioxide capture and storage (BECCS) Carbon dioxide capture and storage (CCS) technology applied to a bioenergy facility. Note that depending on the total emissions of the BECCS supply chain, carbon dioxide (CO₂) can be removed from the atmosphere. See also Carbon dioxide capture and storage (CCS), Anthropogenic removals and Carbon dioxide removal (CDR).'],\n",
       " 5: ['In this section, the impacts on desertification of integrated response options based on land management are assessed.',\n",
       "  'In this section, the impacts on climate change adaptation of integrated response options based on land management are assessed.',\n",
       "  'Table 6.8 Integrated response options based on land management of all/other ecosystems.'],\n",
       " 6: [\"Aerosol A suspension of airborne solid or liquid particles, with typical particle size in the range of a few nanometres to several tens of micrometres and atmospheric lifetimes of up to several days in the troposphere and up to years in the stratosphere. The term aerosol, which includes both the particles and the suspending gas, is often used in this report in its plural form to mean 'aerosol particles'. Aerosols may be of either natural or anthropogenic origin in the troposphere; stratospheric aerosols mostly stem from volcanic eruptions. Aerosols can cause an effective radiative forcing directly through scattering and absorbing radiation (aerosol-radiation interaction), and indirectly by acting as cloud condensation nuclei or  cloud interaction), and upon deposition on snow- or ice-covered surfaces. Atmospheric aerosols may be either emitted as primary particulate matter or formed within the atmosphere from gaseous precursors (secondary production). Aerosols may be composed of sea salt, organic carbon, black carbon (BC), mineral species (mainly desert dust), sulphate, nitrate and ammonium or their mixtures. See also Short-lived climate forcers (SLCFs).\",\n",
       "  '5 y y at Effective radiative forcing (ERF) See Radiative forcing, Aerosol effective radiative forcing (ERFari+aci) (under Aerosol- radiation interaction), Effective radiative forcing (or effect) due to aerosol-cloud interactions (ERFaci) (under Aerosol-cloud interaction) and Effective radiative forcing (or effect) due to aerosol-radiation interactions (ERFari) (under Aerosol-radiation interaction).',\n",
       "  \"A suspension of airborne solid or liquid particles, with typical particle size in the range of a few nanometres to several tens of micrometres and atmospheric lifetimes of up to several days in the troposphere and up to years in the stratosphere. The term aerosol, which includes both the particles and the suspending gas, is often used in this report in its plural form to mean 'aerosol particles'. Aerosols may be of either natural or anthropogenic origin in the troposphere; stratospheric aerosols mostly stem from volcanic eruptions. Aerosols can cause an effective radiative forcing directly through scattering and absorbing radiation (aerosol-radiation interaction), and indirectly by acting as cloud condensation nuclei or ice nucleating particles that affect the properties of clouds (aerosol-cloud interaction), and upon deposition on snow- or ice-covered surfaces. Atmospheric aerosols may be either emitted as primary particulate matter or formed within the atmosphere from gaseous precursors (secondary production). Aerosols may be composed of sea salt, organic carbon, black carbon (BC), mineral species (mainly desert dust), sulphate, nitrate and ammonium or their mixtures. See also: Particulate matter (PM), Aerosol-radiation interaction, Short-lived climate forcers (SLCFs).\"],\n",
       " 7: ['Figure SPM.S| Sea level rise risks and responses. The term response is used here instead of adaptation because some responses, such as retreat, may or may not be considered to be adaptation. (a) shows the combined risk of coastal flooding, erosion and salinization for illustrative geographies in 2100, due to changing mean and extreme sea levels under RCP2.6 and RCP8.5 and under two response scenarios. Risks under RCPs 4.5 and 6.0 were not assessed due to a lack of literature for the assessed geographies. The assessment does not account for changes in extreme sea level beyond those directly induced by mean sea level rise, risk levels could increase if other changes in extreme sea levels were considered (e.g., due to changes in cyclone intensity). Panel a) considers a socioeconomic scenario with relatively stable coastal population density over the century. (SM4.3.2) Risks to illustrative geographies have been assessed based on relative sea level changes projected for a set of specific examples: New York City, Shanghai and Rotterdam for resource-rich coastal cities covering a wide range of response experiences; South Tarawa, Fongafale and Male\\' for urban atoll islands; Mekong and Ganges-Brahmaputra-Meghna for large tropical agricultural deltas; and Bykovskiy, Shishmaref, Kivalina, Tuktoyaktuk and Shingle Point for Arctic communities located in regions remote from rapid glacio-isostatic adjustment. [4.2, 4.3.4, SM4.2) The assessment distinguishes between two contrasting response scenarios. \"No-to-moderate response\" describes efforts as of today (ie, no further significant action or new types of actions). \"Maximum potential response\" represents a combination of responses implemented to their full extent and thus significant additional efforts compared to today, assuming minimal financial, social and political barriers. The assessment has been conducted for each sea level rise and response scenario, as indicated by the burning embers in the figure, in-between risk levels are interpolated. [4.3.3] The assessment criteria include exposure and vulnerability (density of assets, level of degradation of terrestrial and marine buffer ecosystems), coastal hazards (flooding, shoreline erosion, salinization), in-situ responses (hard engineered coastal defenses, ecosystem restoration or creation of new natural buffers areas, and subsidence management) and planned relocation. Planned relocation refers to managed retreat or resettlement as described in Chapter 4, Le, proactive and local-scale measures to reduce risk by relocating people, assets and infrastructure. Forced displacement is not considered in this assessment. Panel (a) also highlights the relative contributions of in-situ responses and planned relocation to the total risk reduction. (b) schematically illustrates the risk reduction (vertical arrows) and risk delay (horizontal arrows) through mitigation and/or responses to sea level rise. (c) summarizes and assesses responses to sea level rise in terms of their effectiveness, costs, co-benefits, drawbacks, economic efficiency and associated governance challenges. (4.4.2) (d) presents generic steps of an adaptive decision-making approach, as well as key enabling conditions for responses to sea level rise. [4.4.4, 4.4.5)',\n",
       "  'SLR, as well as the context for adaptation, will vary regionally and locally, thus action to reduce risks related to SLR takes different forms depending on the local circumstances. \"Hard protection\\', like dikes and seawalls, can effectively reduce risk under two or more metres of SLR but it is inevitable that limits will be reached. Such protection produces benefits that exceed its costs in low-lying coastal areas that are densely populated, as is the case for many coastal cities and some small islands, but in general, poorer regions will not be able to afford hard protection. Maintaining healthy coastal ecosystems, like mangroves, seagrass beds or coral reefs, can provide \\'soft protection\\' and other benefits. SLR can also be accommodated\\' by raising buildings on the shoreline, for example. Land can be reclaimed from the sea by building outwards and upwards. In coastal locations where the risk is very high and cannot be effectively reduced, \\'retreat\\' from the shoreline is the only way to eliminate such risk. Avoiding new development commitments in areas exposed to coastal hazards and SLR also avoids additional risk.',\n",
       "  'Flood risk studies that have included adaptation find that hard coastal protection is generally very effective in reducing flood risks during the 21st century even under high SLR scenarios (high confidence; Hinkel et al., 2014; Diaz, 2016; Brown et al., 2018a; Hinkell et al, 2018; Lincke and Hinkel, 2018; Tamura et al., 2019) (Section 4.4.2.2.2). For example, Hinkel et al. (2014) find that under 25-123 cm of SLR in 2100 and all SSPs, hard coastal protection reduces the annual number of people affected by coastal floods and EAD by 2-3 orders of magnitude. Under high-end SLR and beyond the 21st century, effectiveness of coastal adaptation is expected to decline rapidly, but there is a lack of studies addressing this issue. Furthermore, there is a lack of studies taking into account responses beyond hard protection such as ecosystem-based adaptation, accommodation, advance and retreat (Sections 4.4.2).'],\n",
       " 8: ['Emission scenario A plausible representation of the future development of emissions of substances that are radiatively active (e.g., greenhouse gases (GHGS), aerosols) based on a coherent and internally consistent set of assumptions about driving forces (such as demographic and socio-economic development, technological change, energy and land use) and their key relationships. Concentration scenarios, derived from emission scenarios, are often used as input to a climate model to compute climate projections. See also Baseline scenario, Mitigation scenario, Representative Concentration Pathways (RCPs) (under Pathways), Shared socio-economic pathways (SSP) (under Pathways), Scenario, Socio-economic scenario, and Transformation pathway.',\n",
       "  'Emission scenario A plausible representation of the future development of emissions of substances that are radiatively active (e.g., greenhouse gases (GHGS), aerosols) based on a coherent and internally consistent set of assumptions about driving forces (such as demographic and socio-economic development, technological change, energy and land use) and their key relationships. Concentration scenarios, derived from emission scenarios, are often used as input to a climate model to compute climate projections. See also Baseline scenario, Mitigation scenario, Socio-economic scenario, Scenario, Representative Concentration Pathways (RCPs) (under Pathways), Shared Socio-economic Pathways (SSPS) (under Pathways) and Transformation pathways (under Pathways).',\n",
       "  'A plausible representation of the future development of emissions of substances that are radiatively active (e.g., greenhouse gases, or aerosols) based on a coherent and internally consistent set of assumptions about driving forces (such as demographic and socioeconomic development, technological change, energy and land use) and their key relationships. Concentration scenarios, derived from emission scenarios, are often used as input to a climate model to compute climate projections. See also Driver, Forcing, Mitigation scenario, Radiative forcing, Representative concentration pathways (RCPs, under Pathways), Shared socioeconomic pathways (SSPs, under Pathways) and Scenario.'],\n",
       " 9: ['Department of Geographical Sciences, University of Maryland the United States of America',\n",
       "  'Institute for Governance & Sustainable Development The United States of America',\n",
       "  'U.S. Department of Health and Human Services The United States of America'],\n",
       " 10: ['In this Special Report, the degree of agreement within the scientific body of knowledge on a particular finding is assessed based on multiple lines of evidence (e.g., mechanistic understanding, theory, data, models, expert judgement) and expressed qualitatively (Mastrandrea et al, 2010). See also Confidence, Likelihood and Uncertainty.',\n",
       "  'The robustness of a finding based on the type, amount, quality and consistency of evidence (e.g, mechanistic understanding, theory, data, models, expert judgment) and on the degree of agreement across multiple lines of evidence. In this Special Report, confidence is expressed qualitatively (Mastrandrea et al, 2010). See Section 1.8.3 for the list of confidence levels used. See also Likelihood and Uncertainty.',\n",
       "  'This technical summary complements and expands the key findings of the Working Group (WG) Il contribution to the Sixth Assessment Report (AR6) presented in the Summary for Policymakers and covers literature accepted for publication by 1 September 2021. It provides technical understanding and is developed from the key findings of chapters and cross-chapter papers (CCPs) as presented in their executive summaries and integrates across them. The report builds on the WGIl contribution to the Fifth Assessment Report (ARS) of the IPCC and three special reports of the AR6 cycle providing new knowledge and updates. The three special reports are the Special Report on Global Warming of 1.5°C (2018), an IPCC special report on the impacts of global warming of 1.5°C above pre-industrial levels and related global greenhouse gas emission pathways in the context of strengthening the global response to the threat of climate change, sustainable development and efforts to eradicate poverty; the Special Report on Climate Change and Land, which is concerned with climate change, desertification, land degradation, sustainable land management, food security, and greenhouse gas fluxes in terrestrial ecosystems (2019); and the Special Report on the Ocean and Cryosphere in a Changing Climate (2019). The WGIl assessment integrates with the WGI (the physical science basis) and WGIII (mitigation of climate change) contributions and contributes to the Synthesis Report.'],\n",
       " 11: ['Integrated water management provides large co-benefits for adaptation (Dillon and Arshad 2016) by improving the resilience of food crop production systems to future climate change (Porter et al 2014) (Chapter 2 and Table 6.7). Improving irrigation systems and integrated water resource management, such as enhancing urban and rural water supplies and reducing water evaporation losses (Dillon and Arshad 2016), are significant options for enhancing climate adaptation. Many technical innovations (e.g., precision water management) can lead to beneficial adaptation outcomes by increasing water availability and the reliability of agricultural production, using different techniques of water harvesting, storage, and its judicious utilisation through',\n",
       "  'Attribution of success in soil and water conservation measures was confounded by inadequate monitoring of rainfall variability and lack of catchment hydrologic indicators (Bhalla et al 2013). Social and economic trade-offs included bias of benefits to downstream crop producers at the expense of pastoralists, women and upstream communities. This biased distribution of IWM benefits could potentially be addressed by compensation for environmental services between communities (Kerr et al 2002). The successes in some areas also led to increased demand for water, especially groundwater, since there has been no corresponding social regulation of water use after improvement in water regime (Samuel et al. 2007). Policies and management did not ensure water allocation to sectors with the highest social and economic benefits (Batchelor et al 2003). Limited field evidence of the positive impacts of rainwater harvesting at the local scale is available, but there are several potential negative impacts at the watershed scale (Glendenning et al 2012). Furthermore, watershed projects are known to have led to more water scarcity, and higher expectations for irrigation water supply, further exacerbating water scarcity (Bharucha et al. 2014).',\n",
       "  'policies aimed at improving water use efficiency in different sectors of the economy, especially in agriculture and industry, or public advocacy campaigns raising societal awareness and bringing about behavioural change to reduce wasteful water consumption in the residential sector are among such drought risk mitigation policies (Tsakiris 2017). Public outreach and monitoring of communicable diseases, air and water quality were found to be useful for reducing health impacts of droughts (Yusa et al 2015). The evidence from household responses to drought in Cape Town, South Africa, between 2015 and 2017, suggests that media coverage and social media could play a decisive role in changing water consumption behaviour, even more so than official water consumption restrictions (Booysen et al 2019). Drought risk mitigation approaches are less costly than providing drought relief after the occurrence of droughts. To illustrate, Harou et al. (2010) found that establishment of water markets in California considerably reduced drought costs. Application of water saving technologies reduced drought costs in Iran by 282 million USD (Salami et al 2009). Booker et al. (2005) calculated that inter-regional trade in water could reduce drought costs by 20-30% in the Rio Grande basin, USA. Increasing rainfall variability under climate change can make the forms of index insurance based on rainfall less efficient (Kath et al. 2019). A number of diverse water property instruments, including instruments allowing water transfer, together with the technological and institutional ability to adjust water allocation, can improve timely adjustment to droughts (Hurlbert 2018). Supply-side water management, providing for proportionate reductions in water delivery, prevents the important climate change adaptation option of managing water according to need or demand (Hurlbert and Mussetta 2016). Exclusive use of a water market to govern water allocation similarly prevents the recognition of the human right to water at times of drought (Hurlbert 2018). Policies aiming to secure land tenure, and to expand access to markets, agricultural advisory services and effective climate services, as well as to create off-farm employment opportunities, can facilitate the adoption of drought risk mitigation practices (Alam 2015; Kusunose and Lybbert 2014), increasing resilience to climate change (Section 3.6.3), while also contributing to SLM (Sections 3.6.3 and 4.8.1, and Table 5.7).'],\n",
       " 12: ['Carbon price The price for avoided or released carbon dioxide (CO) or CO,-equivalent emissions. This may refer to the rate of a carbon tax, or the price of emission permits. In many models that are used to assess the economic costs of mitigation, carbon prices are used as a proxy to represent the level of effort in mitigation policies. See also Mitigation.',\n",
       "  'Economic instruments have been effective in reducing emissions, complemented by regulatory instruments mainly at the national and also sub-national and regional level (high confidence). Where implemented, carbon pricing instruments have incentivised low-cost emissions reduction measures, but have been less effective, on their own and at prevailing prices during the assessment period, in promoting the higher-cost measures necessary for further reductions (medium confidence). Equity and distributional impacts of such carbon pricing instruments can be addressed by using revenue from carbon taxes or emissions trading to support low-income households, among other approaches (high confidence). Practical experience has informed instrument design and helped to improve predictability, environmental effectiveness, economic efficiency, distributional goals and social acceptance (high confidence). Removing fossil fuel subsidies would reduce emissions, improve public revenue and macroeconomic performance, and yield other environmental and sustainable development benefits; subsidy removal may have adverse distributional impacts especially on the most economically vulnerable groups which, in some cases can be mitigated by measures such as redistributing revenue saved, all of which depend on national circumstances (high confidence); fossil fuel subsidy removal is projected by various studies to reduce global CO₂ emissions by 1-4%, and GHG emissions by up to 10% by 2030, varying across regions (medium confidence). (6.3, 13.6)',\n",
       "  'C.6.4 Regulatory and economic instruments could support deep emissions reductions if scaled up and applied more widely (high confidence). Scaling up and enhancing the use of regulatory instruments can improve mitigation outcomes in sectoral applications, consistent with national circumstances (high confidence). Where implemented, carbon pricing instruments have incentivized low-cost emissions reduction measures but have been less effective, on their own and at prevailing prices during the assessment period, to promote higher-cost measures necessary for further reductions (medium confidence). Equity and distributional impacts of such carbon pricing instruments, e.g., carbon taxes and emissions trading, can be addressed by using revenue to support low-income households, among other approaches. Removing fossil fuel subsidies would reduce emissions and yield benefits such as improved public revenue, macroeconomic and sustainability performance; subsidy removal can have adverse distributional impacts, especially on the most economically vulnerable groups which, in some cases can be mitigated by measures such as redistributing revenue saved, all of which depend on national circumstances (high confidence). Economy-wide policy packages, such as public spending commitments, pricing reforms, can meet short-term economic goals while reducing emissions and shifting development pathways towards sustainability (medium confidence). Effective policy packages would be comprehensive, consistent, balanced across objectives, and tailored to national circumstances (high confidence). {2.2.2, 4.7)'],\n",
       " 13: ['Multiple datasets and models show that the rate of ocean uptake of atmospheric CO₂ has continued to strengthen in the recent two decades in response to the increasing concentration of CO₂ in the atmosphere. The very likely range for ocean uptake is between 20-30% of total anthropogenic emissions in the recent two decades. Evidence is growing that the ocean carbon sink is dynamic on decadal timescales, especially in the Southern Ocean, which has affected the total global ocean carbon sink (medium confidence). (5.2.2.3)',\n",
       "  'The carbon cycle provides for additional feedbacks on climate owing to the sensitivity of land-atmosphere and ocean-atmosphere carbon fluxes and storage to changes in climate and in atmospheric CO₂ (Figure TS.17c). Because of the time scales associated with land and ocean carbon uptake, these feedbacks are known to be scenario dependent. Feedback estimates deviate from linearity in scenarios of stabilizing or reducing concentrations. With high confidence, increased atmospheric CO₂ will lead to increased land and ocean carbon uptake, acting as a negative feedback on climate change. It is likely that a warmer climate will lead to reduced land and ocean carbon uptake, acting as a positive feedback (Box TS.5). (4.3.2, 5.4.1-5)',\n",
       "  'Multiple datasets and models show that the rate of ocean uptake of atmospheric CO₂ has continued to strengthen in the recent two decades in response to the increasing concentration of CO₂ in the atmosphere. The very likely range for ocean uptake is between 20-30% of total anthropogenic emissions in the recent two decades. Evidence is growing that the ocean carbon sink is dynamic on decadal timescales, especially in the Southern Ocean, which has affected the total global ocean carbon sink (medium confidence). (5.2.2.3)'],\n",
       " 14: ['Land degradation processes with direct impact on soil and terrestrial biota have great relevance in terms of CO₂ exchange with the atmosphere, given the magnitude and activity of these reservoirs in the global carbon cycle. As the most widespread form of soil degradation, erosion detaches the surface soil material, which typically hosts the highest organic carbon stocks, favouring the mineralisation and release as CO₂. Yet complementary processes such as carbon burial may compensate for this effect, making soil erosion a long-term carbon sink (low agreement, limited evidence), (Wang et al. (2017b), but see also Chappell et al. (2016)). Precise estimation of the CO₂ released from eroded lands is challenged by the fact that only a fraction of the detached carbon is eventually lost to the atmosphere. It is important to acknowledge that a substantial fraction of the eroded material may preserve its organic carbon load in field conditions. Moreover, carbon sequestration may be favoured through the burial of both the deposited material and the surface of its hosting soil at the deposition location (Quinton et al. 2010). The cascading effects of erosion on other environmental processes at the affected sites can often cause net CO₂ emissions through their indirect influence on soil fertility, and the balance of organic carbon inputs and outputs, interacting with other non-erosive soil degradation processes (such as nutrient depletion, compaction and salinisation), which can lead to the same net carbon effects (see Table 4.1) (van de Koppel et al. 1997).',\n",
       "  'Agroforestry can curb GHG emissions of CO₂, CH4, and N₂0 in agricultural systems in both developed and developing countries (see Glossary for definition) (see Chapter 2, Section 2.5.1 and Figure 2.24). Soil carbon sequestration, together with biological N fixation, improved land health and underlying ecosystem services may be enhanced through agricultural lands management practices used by large-scale and smallholder farmers, such as incorporation of trees within farms or in hedges (manure addition, green manures, cover crops, etc.), whilst promoting greater soil organic matter and nutrients (and thus soil organic carbon) content and improve soil structure (Mbow et al. 2014b) (Table 5.5). The tree cover increases the microbial activity of the soil and increases the productivity of the grass under cover. CO₂ emissions are furthermore lessened indirectly, through lower rates of erosion due to better soil structure and more plant cover in diversified farming systems than in monocultures. There is great potential for increasing above-ground and soil carbon stocks, reducing soil erosion and degradation, and mitigating GHG emissions.',\n",
       "  'Global warming is expected to accelerate soil organic carbon (SOC) turnover, since the decomposition of the soil organic matter by microbial activity begins with low soil water availability, but this moisture is insufficient for plant productivity (Austin et al. 2004) (Section 3.4.1.1). SOC is also lost due to soil erosion (Lal 2009); therefore, in some dryland areas leading to SOC decline (Sections 3.3.3 and 3.5.2) and the transfer of carbon (C) from soil to the atmosphere (Lal 2009).'],\n",
       " 15: ['Disaster risk management (DRM) Processes for designing. implementing, and evaluating strategies, policies, and measures to improve the understanding of current and future disaster risk, foster disaster risk reduction and transfer, and promote continuous improvement in disaster preparedness, prevention and protection, response, and recovery practices, with the explicit purpose of increasing human security, well-being, quality of life, and sustainable development (SD).',\n",
       "  'Disaster risk management (DRM) Processes for designing, implementing, and evaluating strategies, policies, and measures to improve the understanding of current and future disaster risk, foster disaster risk reduction and transfer, and promote continuous improvement in disaster preparedness, prevention and protection, response, and recovery practices, with the explicit purpose of increasing human security, well-being, quality of life, and sustainable development (UNISDR, 2017).',\n",
       "  'Disaster risk management (DRM) Processes for designing, implementing, and evaluating strategies, policies, and measures to improve the understanding of disaster risk, foster disaster risk reduction and transfer, and promote continuous improvement in disaster preparedness, response, and recovery practices, with the explicit purpose of increasing human security, well-being, quality of life, and sustainable development.'],\n",
       " 16: ['Figure TS.31 | Geophysical, environmental-ecological, technological, economic, socio-cultural and institutional factors can enable or act as barriers to the deployment of response options. Chapter-level assessment for selected mitigation options. Overlaps may exist in the mitigation options assessed and presented by sector and system, and feasibility might differ depending on the demarcation of that option in each sector. Chapters 6, 8, 9, 10, and 12 assess mitigation response options across six feasibility dimensions: geophysical environmental-ecological technological economic, socio-cultural and institutional. AFOLU (Chapter 7) and industry (Chapter 11) are not included because of the heterogeneity of options in these sectors. For each dimension, a set of feasibility indicators was identified. Examples of indicators include impacts on land use, air pollution, economic costs, technology scalability, public acceptance and political acceptance (see Box TS.15, and Annex II.N.11 for a detailed explanation). An indicator could refer to a barrier or an enabler to implementation, or could refer to both a barrier or an enabler, depending on the context, speed, and scale of implementation. Dark blue bars indicate the extent of enablers to deployment within each dimension. This is shown relative to the maximum number of possible enablers, as indicated by the light blue shading. Dark orange bars indicate the extent of barriers to deployment within each dimension. This is shown relative to the maximum number of possible barriers, as indicated by light orange shading. A light grey dot indicates that there is limited or no evidence to assess the option. A dark grey dot indicates that one of the feasibility indicators within that dimension is not relevant for the deployment of the option. The relevant sections in the underlying chapters include references to the literature on which the assessment is based and indicate whether the feasibility of an option varies depending on context (e.g., region), scale (e.g., small, medium or full scale), speed (e.g., implementation in 2030 versus 2050) and warming level (e.g., 1.5°C versus 2°C). (6.4, 85, 9.10, 10.8, 123, Annex II.IV.11)',\n",
       "  'In this report, feasibility refers to the potential for a mitigation or adaptation option to be implemented. Factors influencing feasibility are context-dependent, temporally dynamic, and may vary between different groups and actors. Feasibility depends on geophysical, environmental-ecological, technological, economic, socio-cultural and institutional factors that enable or constrain the implementation of an option. The feasibility of options may change when different options are combined and increase when enabling conditions are strengthened. See also: Enabling conditions (for adaptation and mitigation options).',\n",
       "  'Feasibility In this report, feasibility refers to the potential for a mitigation or adaptation option to be implemented. Factors influencing feasibility are context-dependent, temporally dynamic, and may vary between different groups and actors. Feasibility depends on geophysical, environmental-ecological technological, economic, socio-cultural and institutional factors that enable or constrain the implementation of an option. The feasibility of options may change when different options are combined, and increase when enabling conditions are strengthened. See also Enabling conditions'],\n",
       " 17: ['Anthropogenic climate change has increased observed precipitation (medium confidence), winds (low confidence), and extreme sea level events (high confidence) associated with some tropical cyclones, which has increased intensity of multiple extreme events and associated cascading impacts (high confidence). Anthropogenic climate change may have contributed to a poleward migration of maximum tropical cyclone intensity in the western North Pacific in recent decades related to anthropogenically-forced tropical expansion (low confidence). There is emerging evidence for an increase in the annual global proportion of Category 4 or 5 tropical cyclones in recent decades (low confidence). (6.3, Table 6.2, Figure 6.2, Box 6.1)',\n",
       "  'The average intensity of tropical cyclones, the proportion of Category 4 and 5 tropical cyclones and the associated average precipitation rates are projected to increase for a 2°C global temperature rise above any baseline period (medium confidence). Rising mean sea levels will contribute to higher extreme sea levels associated with tropical cyclones (very high confidence). Coastal hazards will be exacerbated by an increase in the average intensity, magnitude of storm surge and precipitation rates of tropical cyclones. There are greater increases projected under RCP8.5 than under RCP2.6 from around mid-century to 2100 (medium confidence). There is low confidence in changes in the future frequency of tropical cyclones at the global scale. (6.3.1)',\n",
       "  'The average intensity of tropical cyclones, the proportion of Category 4 and 5 tropical cyclones and the associated average precipitation rates are projected to increase for a 2°C global temperature rise above any baseline period (medium confidence). Rising mean sea levels will contribute to higher extreme sea levels associated with tropical cyclones (very high confidence). Coastal hazards will be exacerbated by an increase in the average intensity, magnitude of storm surge and precipitation rates of tropical cyclones. There are greater increases projected under RCP8.5 than under RCP2.6 from around mid-century to 2100 (medium confidence). There is low confidence in changes in the future frequency of tropical cyclones at the global scale. (6.3.1)'],\n",
       " 18: ['A functional unit consisting of living organisms, their non-living environment and the interactions within and between them. The components included in a given ecosystem and its spatial boundaries depend on the purpose for which the ecosystem is defined: in some cases, they are relatively sharp, while in others they are diffuse. Ecosystem boundaries can change over time. Ecosystems are nested within other ecosystems, and their scale can range from very small to the entire biosphere. In the current era, most ecosystems either contain people as key organisms or are influenced by the effects of human activities in their environment. See also Ecosystem services and Ecosystem health.',\n",
       "  'Ecosystem An ecosystem is a functional unit consisting of living organisms, their non-living environment and the interactions within and between them. The components included in a given ecosystem and its spatial boundaries depend on the purpose for which the ecosystem is defined: in some cases they are relatively sharp, while in others they are diffuse. Ecosystem boundaries can change over time. Ecosystems are nested within other ecosystems and their scale can range from very small to the entire biosphere. In the current era, most ecosystems either contain people as key organisms, or are influenced by the effects of human activities in their environment. See also Ecosystem services.',\n",
       "  'An ecosystem is a functional unit consisting of living organisms, their nonliving environment and the interactions within and between them. The components included in a given ecosystem and its spatial boundaries depend on the purpose for which the ecosystem is defined: in some cases, they are relatively sharp, while in others they are diffuse. Ecosystem boundaries can change over time. Ecosystems are nested within other ecosystems and their scale can range from very small to the entire biosphere. In the current era, most ecosystems either contain people as key organisms, or are influenced by the effects of human activities in their environment. See also: Ecosystem health, Ecosystem services.'],\n",
       " 19: ['This special report assesses new knowledge since the IPCC 5th Assessment Report (ARS) and the Special Report on Global Warming of 1.5°C (SR15) on how the ocean and cryosphere have and are expected to change with ongoing global warming, the risks and opportunities these changes bring to ecosystems and people, and mitigation, adaptation and governance options for reducing future risks. Chapter 1 provides context on the importance of the ocean and cryosphere, and the framework for the assessments in subsequent chapters of the report.',\n",
       "  'This special report assesses new knowledge since the IPCC 5th Assessment Report (ARS) and the Special Report on Global Warming of 1.5°C (SR15) on how the ocean and cryosphere have and are expected to change with ongoing global warming, the risks and opportunities these changes bring to ecosystems and people, and mitigation, adaptation and governance options for reducing future risks. Chapter 1 provides context on the importance of the ocean and cryosphere, and the framework for the assessments in subsequent chapters of the report.',\n",
       "  'Each chapter of SROCC presents an integrated storyline on the ocean and/or cryosphere in a changing climate. The chapter assessments each present evidence of the pervasive changes that are already underway in the ocean and cryosphere (Figure 1.5). The impacts that physical changes in the ocean and cryosphere have had on ecosystems and people are assessed, along with lessons learned from adaptation measures that have already been employed to avoid adverse impacts. The assessments of future change in the ocean and cryosphere demonstrate the growing and accelerating changes projected for the future and identify the reduced impacts and risks that choices for a low greenhouse gas emission future would have compared with a high emission future (Figure 1.5). Potential adaptation strategies to reduce future risks to ecosystems and people are assessed, including identifying where limits to adaptation may be exceeded. The local-to global-scale responses for charting CRDPs are also assessed.']}"
      ]
     },
     "execution_count": 92,
     "metadata": {},
     "output_type": "execute_result"
    }
   ],
   "source": [
    "representative_docs = model.get_representative_docs()\n",
    "representative_docs"
   ]
  },
  {
   "cell_type": "code",
   "execution_count": 93,
   "id": "a7aa951f",
   "metadata": {},
   "outputs": [],
   "source": [
    "pd.DataFrame(representative_docs).to_csv(\"ipcc_topics_final_reps_fixed_20240521.csv\")"
   ]
  },
  {
   "cell_type": "code",
   "execution_count": 95,
   "id": "9ba5503e",
   "metadata": {},
   "outputs": [],
   "source": [
    "topics_old, topics_new, df_full_wtopics = add_topics_to_df(topics, probs, model, df_ipccreport, report)\n",
    "topics_oldandnew = pd.merge(topics_old, topics_new, how='left',left_index=True,right_index=True)\n",
    "topics_oldandnew.to_csv('ipcc_topic_dist_20240521.csv')"
   ]
  },
  {
   "cell_type": "code",
   "execution_count": 96,
   "id": "55e18d49",
   "metadata": {},
   "outputs": [],
   "source": [
    "df_full_wtopics.to_csv(\"ipcc_topics_final_fixed_20240521.csv\")"
   ]
  },
  {
   "cell_type": "markdown",
   "id": "2042cd80",
   "metadata": {},
   "source": [
    "## Combined corpus"
   ]
  },
  {
   "cell_type": "code",
   "execution_count": 58,
   "id": "3d6bd718",
   "metadata": {},
   "outputs": [],
   "source": [
    "df_comb = pd.concat([df_ipccreport, df_ipcc_mentions_body], ignore_index=True, sort=False)\n",
    "df_comb[\"doc_type_major\"] = df_comb[\"types0\"].where(df_comb[\"types0\"] == \"IPCC Report\", other='Country Policy Reports')"
   ]
  },
  {
   "cell_type": "code",
   "execution_count": 59,
   "id": "c9239071",
   "metadata": {},
   "outputs": [],
   "source": [
    "list_comb = df_comb.text.to_list()"
   ]
  },
  {
   "cell_type": "code",
   "execution_count": 60,
   "id": "0eb5f5f2",
   "metadata": {},
   "outputs": [
    {
     "name": "stderr",
     "output_type": "stream",
     "text": [
      "2024-05-21 06:57:42,141 - BERTopic - Embedding - Transforming documents to embeddings.\n"
     ]
    },
    {
     "data": {
      "application/vnd.jupyter.widget-view+json": {
       "model_id": "77e6324d53c74a7abc280d6f6d0883e1",
       "version_major": 2,
       "version_minor": 0
      },
      "text/plain": [
       "Batches:   0%|          | 0/1110 [00:00<?, ?it/s]"
      ]
     },
     "metadata": {},
     "output_type": "display_data"
    },
    {
     "name": "stderr",
     "output_type": "stream",
     "text": [
      "2024-05-21 07:06:33,305 - BERTopic - Embedding - Completed ✓\n",
      "2024-05-21 07:06:33,308 - BERTopic - Dimensionality - Fitting the dimensionality reduction algorithm\n",
      "2024-05-21 07:07:00,597 - BERTopic - Dimensionality - Completed ✓\n",
      "2024-05-21 07:07:00,600 - BERTopic - Cluster - Start clustering the reduced embeddings\n",
      "huggingface/tokenizers: The current process just got forked, after parallelism has already been used. Disabling parallelism to avoid deadlocks...\n",
      "To disable this warning, you can either:\n",
      "\t- Avoid using `tokenizers` before the fork if possible\n",
      "\t- Explicitly set the environment variable TOKENIZERS_PARALLELISM=(true | false)\n",
      "huggingface/tokenizers: The current process just got forked, after parallelism has already been used. Disabling parallelism to avoid deadlocks...\n",
      "To disable this warning, you can either:\n",
      "\t- Avoid using `tokenizers` before the fork if possible\n",
      "\t- Explicitly set the environment variable TOKENIZERS_PARALLELISM=(true | false)\n",
      "huggingface/tokenizers: The current process just got forked, after parallelism has already been used. Disabling parallelism to avoid deadlocks...\n",
      "To disable this warning, you can either:\n",
      "\t- Avoid using `tokenizers` before the fork if possible\n",
      "\t- Explicitly set the environment variable TOKENIZERS_PARALLELISM=(true | false)\n",
      "huggingface/tokenizers: The current process just got forked, after parallelism has already been used. Disabling parallelism to avoid deadlocks...\n",
      "To disable this warning, you can either:\n",
      "\t- Avoid using `tokenizers` before the fork if possible\n",
      "\t- Explicitly set the environment variable TOKENIZERS_PARALLELISM=(true | false)\n",
      "8710.14s - pydevd: Sending message related to process being replaced timed-out after 5 seconds\n",
      "8710.34s - pydevd: Sending message related to process being replaced timed-out after 5 seconds\n",
      "8710.52s - pydevd: Sending message related to process being replaced timed-out after 5 seconds\n",
      "0.00s - Debugger warning: It seems that frozen modules are being used, which may\n",
      "0.00s - make the debugger miss breakpoints. Please pass -Xfrozen_modules=off\n",
      "0.00s - to python to disable frozen modules.\n",
      "0.00s - Note: Debugging will proceed. Set PYDEVD_DISABLE_FILE_VALIDATION=1 to disable this validation.\n",
      "0.00s - Debugger warning: It seems that frozen modules are being used, which may\n",
      "0.00s - make the debugger miss breakpoints. Please pass -Xfrozen_modules=off\n",
      "0.00s - to python to disable frozen modules.\n",
      "0.00s - Note: Debugging will proceed. Set PYDEVD_DISABLE_FILE_VALIDATION=1 to disable this validation.\n",
      "8710.71s - pydevd: Sending message related to process being replaced timed-out after 5 seconds\n",
      "0.00s - Debugger warning: It seems that frozen modules are being used, which may\n",
      "0.00s - make the debugger miss breakpoints. Please pass -Xfrozen_modules=off\n",
      "0.00s - to python to disable frozen modules.\n",
      "0.00s - Note: Debugging will proceed. Set PYDEVD_DISABLE_FILE_VALIDATION=1 to disable this validation.\n",
      "0.00s - Debugger warning: It seems that frozen modules are being used, which may\n",
      "0.00s - make the debugger miss breakpoints. Please pass -Xfrozen_modules=off\n",
      "0.00s - to python to disable frozen modules.\n",
      "0.00s - Note: Debugging will proceed. Set PYDEVD_DISABLE_FILE_VALIDATION=1 to disable this validation.\n",
      "2024-05-21 07:07:15,572 - BERTopic - Cluster - Completed ✓\n",
      "2024-05-21 07:07:15,574 - BERTopic - Representation - Extracting topics from clusters using representation models.\n",
      "2024-05-21 07:07:22,224 - BERTopic - Representation - Completed ✓\n",
      "2024-05-21 07:07:22,228 - BERTopic - Topic reduction - Reducing number of topics\n",
      "2024-05-21 07:07:29,013 - BERTopic - Topic reduction - Reduced number of topics from 30 to 16\n"
     ]
    },
    {
     "data": {
      "application/vnd.plotly.v1+json": {
       "config": {
        "plotlyServerURL": "https://plot.ly"
       },
       "data": [
        {
         "marker": {
          "color": "#D55E00"
         },
         "orientation": "h",
         "type": "bar",
         "x": [
          0.014846847059127593,
          0.016091091001350637,
          0.018160219570208636,
          0.019943458809689837,
          0.02081926786404747
         ],
         "xaxis": "x",
         "y": [
          "warming  ",
          "2017  ",
          "global  ",
          "high  ",
          "confidence  "
         ],
         "yaxis": "y"
        },
        {
         "marker": {
          "color": "#0072B2"
         },
         "orientation": "h",
         "type": "bar",
         "x": [
          0.03267067450503098,
          0.03577231616713149,
          0.03936294838160402,
          0.04501487063974555,
          0.04648680027508073
         ],
         "xaxis": "x2",
         "y": [
          "national  ",
          "used  ",
          "inventory  ",
          "2006  ",
          "ghg  "
         ],
         "yaxis": "y2"
        },
        {
         "marker": {
          "color": "#CC79A7"
         },
         "orientation": "h",
         "type": "bar",
         "x": [
          0.03368496850357877,
          0.03421053595797175,
          0.050309199723071595,
          0.051515026901919274,
          0.08171214967880881
         ],
         "xaxis": "x3",
         "y": [
          "solid  ",
          "used  ",
          "manure  ",
          "2006  ",
          "waste  "
         ],
         "yaxis": "y3"
        },
        {
         "marker": {
          "color": "#E69F00"
         },
         "orientation": "h",
         "type": "bar",
         "x": [
          0.03908544616538454,
          0.04626097239912681,
          0.04861483702170641,
          0.06927448758817661,
          0.08058434206289054
         ],
         "xaxis": "x4",
         "y": [
          "use  ",
          "carbon  ",
          "biomass  ",
          "forest  ",
          "land  "
         ],
         "yaxis": "y4"
        },
        {
         "marker": {
          "color": "#56B4E9"
         },
         "orientation": "h",
         "type": "bar",
         "x": [
          0.051697962265077,
          0.05212344538183539,
          0.06572046960240975,
          0.0957243101974063,
          0.1872188146353598
         ],
         "xaxis": "x5",
         "y": [
          "2006  ",
          "activity  ",
          "data  ",
          "uncertainties  ",
          "uncertainty  "
         ],
         "yaxis": "y5"
        },
        {
         "marker": {
          "color": "#009E73"
         },
         "orientation": "h",
         "type": "bar",
         "x": [
          0.04223181625361775,
          0.05030752558818839,
          0.05348316725660008,
          0.059046407489749535,
          0.11442012441001301
         ],
         "xaxis": "x6",
         "y": [
          "equation  ",
          "chapter  ",
          "page  ",
          "volume  ",
          "2006  "
         ],
         "yaxis": "y6"
        },
        {
         "marker": {
          "color": "#F0E442"
         },
         "orientation": "h",
         "type": "bar",
         "x": [
          0.05361001349191213,
          0.11015173191206075,
          0.12140355910656003,
          0.1300024030875982,
          0.1340608750780038
         ],
         "xaxis": "x7",
         "y": [
          "2006  ",
          "gas  ",
          "greenhouse  ",
          "inventories  ",
          "national  "
         ],
         "yaxis": "y7"
        },
        {
         "marker": {
          "color": "#D55E00"
         },
         "orientation": "h",
         "type": "bar",
         "x": [
          0.09066693203369806,
          0.09144498923634323,
          0.09842120237040763,
          0.1719634329835001,
          0.21551096558122645
         ],
         "xaxis": "x8",
         "y": [
          "analysis  ",
          "level  ",
          "trend  ",
          "categories  ",
          "key  "
         ],
         "yaxis": "y8"
        }
       ],
       "layout": {
        "annotations": [
         {
          "font": {
           "size": 16
          },
          "showarrow": false,
          "text": "Topic 0",
          "x": 0.0875,
          "xanchor": "center",
          "xref": "paper",
          "y": 1,
          "yanchor": "bottom",
          "yref": "paper"
         },
         {
          "font": {
           "size": 16
          },
          "showarrow": false,
          "text": "Topic 1",
          "x": 0.36250000000000004,
          "xanchor": "center",
          "xref": "paper",
          "y": 1,
          "yanchor": "bottom",
          "yref": "paper"
         },
         {
          "font": {
           "size": 16
          },
          "showarrow": false,
          "text": "Topic 2",
          "x": 0.6375000000000001,
          "xanchor": "center",
          "xref": "paper",
          "y": 1,
          "yanchor": "bottom",
          "yref": "paper"
         },
         {
          "font": {
           "size": 16
          },
          "showarrow": false,
          "text": "Topic 3",
          "x": 0.9125,
          "xanchor": "center",
          "xref": "paper",
          "y": 1,
          "yanchor": "bottom",
          "yref": "paper"
         },
         {
          "font": {
           "size": 16
          },
          "showarrow": false,
          "text": "Topic 4",
          "x": 0.0875,
          "xanchor": "center",
          "xref": "paper",
          "y": 0.4,
          "yanchor": "bottom",
          "yref": "paper"
         },
         {
          "font": {
           "size": 16
          },
          "showarrow": false,
          "text": "Topic 5",
          "x": 0.36250000000000004,
          "xanchor": "center",
          "xref": "paper",
          "y": 0.4,
          "yanchor": "bottom",
          "yref": "paper"
         },
         {
          "font": {
           "size": 16
          },
          "showarrow": false,
          "text": "Topic 6",
          "x": 0.6375000000000001,
          "xanchor": "center",
          "xref": "paper",
          "y": 0.4,
          "yanchor": "bottom",
          "yref": "paper"
         },
         {
          "font": {
           "size": 16
          },
          "showarrow": false,
          "text": "Topic 7",
          "x": 0.9125,
          "xanchor": "center",
          "xref": "paper",
          "y": 0.4,
          "yanchor": "bottom",
          "yref": "paper"
         }
        ],
        "height": 500,
        "hoverlabel": {
         "bgcolor": "white",
         "font": {
          "family": "Rockwell",
          "size": 16
         }
        },
        "showlegend": false,
        "template": {
         "data": {
          "bar": [
           {
            "error_x": {
             "color": "#2a3f5f"
            },
            "error_y": {
             "color": "#2a3f5f"
            },
            "marker": {
             "line": {
              "color": "white",
              "width": 0.5
             },
             "pattern": {
              "fillmode": "overlay",
              "size": 10,
              "solidity": 0.2
             }
            },
            "type": "bar"
           }
          ],
          "barpolar": [
           {
            "marker": {
             "line": {
              "color": "white",
              "width": 0.5
             },
             "pattern": {
              "fillmode": "overlay",
              "size": 10,
              "solidity": 0.2
             }
            },
            "type": "barpolar"
           }
          ],
          "carpet": [
           {
            "aaxis": {
             "endlinecolor": "#2a3f5f",
             "gridcolor": "#C8D4E3",
             "linecolor": "#C8D4E3",
             "minorgridcolor": "#C8D4E3",
             "startlinecolor": "#2a3f5f"
            },
            "baxis": {
             "endlinecolor": "#2a3f5f",
             "gridcolor": "#C8D4E3",
             "linecolor": "#C8D4E3",
             "minorgridcolor": "#C8D4E3",
             "startlinecolor": "#2a3f5f"
            },
            "type": "carpet"
           }
          ],
          "choropleth": [
           {
            "colorbar": {
             "outlinewidth": 0,
             "ticks": ""
            },
            "type": "choropleth"
           }
          ],
          "contour": [
           {
            "colorbar": {
             "outlinewidth": 0,
             "ticks": ""
            },
            "colorscale": [
             [
              0,
              "#0d0887"
             ],
             [
              0.1111111111111111,
              "#46039f"
             ],
             [
              0.2222222222222222,
              "#7201a8"
             ],
             [
              0.3333333333333333,
              "#9c179e"
             ],
             [
              0.4444444444444444,
              "#bd3786"
             ],
             [
              0.5555555555555556,
              "#d8576b"
             ],
             [
              0.6666666666666666,
              "#ed7953"
             ],
             [
              0.7777777777777778,
              "#fb9f3a"
             ],
             [
              0.8888888888888888,
              "#fdca26"
             ],
             [
              1,
              "#f0f921"
             ]
            ],
            "type": "contour"
           }
          ],
          "contourcarpet": [
           {
            "colorbar": {
             "outlinewidth": 0,
             "ticks": ""
            },
            "type": "contourcarpet"
           }
          ],
          "heatmap": [
           {
            "colorbar": {
             "outlinewidth": 0,
             "ticks": ""
            },
            "colorscale": [
             [
              0,
              "#0d0887"
             ],
             [
              0.1111111111111111,
              "#46039f"
             ],
             [
              0.2222222222222222,
              "#7201a8"
             ],
             [
              0.3333333333333333,
              "#9c179e"
             ],
             [
              0.4444444444444444,
              "#bd3786"
             ],
             [
              0.5555555555555556,
              "#d8576b"
             ],
             [
              0.6666666666666666,
              "#ed7953"
             ],
             [
              0.7777777777777778,
              "#fb9f3a"
             ],
             [
              0.8888888888888888,
              "#fdca26"
             ],
             [
              1,
              "#f0f921"
             ]
            ],
            "type": "heatmap"
           }
          ],
          "heatmapgl": [
           {
            "colorbar": {
             "outlinewidth": 0,
             "ticks": ""
            },
            "colorscale": [
             [
              0,
              "#0d0887"
             ],
             [
              0.1111111111111111,
              "#46039f"
             ],
             [
              0.2222222222222222,
              "#7201a8"
             ],
             [
              0.3333333333333333,
              "#9c179e"
             ],
             [
              0.4444444444444444,
              "#bd3786"
             ],
             [
              0.5555555555555556,
              "#d8576b"
             ],
             [
              0.6666666666666666,
              "#ed7953"
             ],
             [
              0.7777777777777778,
              "#fb9f3a"
             ],
             [
              0.8888888888888888,
              "#fdca26"
             ],
             [
              1,
              "#f0f921"
             ]
            ],
            "type": "heatmapgl"
           }
          ],
          "histogram": [
           {
            "marker": {
             "pattern": {
              "fillmode": "overlay",
              "size": 10,
              "solidity": 0.2
             }
            },
            "type": "histogram"
           }
          ],
          "histogram2d": [
           {
            "colorbar": {
             "outlinewidth": 0,
             "ticks": ""
            },
            "colorscale": [
             [
              0,
              "#0d0887"
             ],
             [
              0.1111111111111111,
              "#46039f"
             ],
             [
              0.2222222222222222,
              "#7201a8"
             ],
             [
              0.3333333333333333,
              "#9c179e"
             ],
             [
              0.4444444444444444,
              "#bd3786"
             ],
             [
              0.5555555555555556,
              "#d8576b"
             ],
             [
              0.6666666666666666,
              "#ed7953"
             ],
             [
              0.7777777777777778,
              "#fb9f3a"
             ],
             [
              0.8888888888888888,
              "#fdca26"
             ],
             [
              1,
              "#f0f921"
             ]
            ],
            "type": "histogram2d"
           }
          ],
          "histogram2dcontour": [
           {
            "colorbar": {
             "outlinewidth": 0,
             "ticks": ""
            },
            "colorscale": [
             [
              0,
              "#0d0887"
             ],
             [
              0.1111111111111111,
              "#46039f"
             ],
             [
              0.2222222222222222,
              "#7201a8"
             ],
             [
              0.3333333333333333,
              "#9c179e"
             ],
             [
              0.4444444444444444,
              "#bd3786"
             ],
             [
              0.5555555555555556,
              "#d8576b"
             ],
             [
              0.6666666666666666,
              "#ed7953"
             ],
             [
              0.7777777777777778,
              "#fb9f3a"
             ],
             [
              0.8888888888888888,
              "#fdca26"
             ],
             [
              1,
              "#f0f921"
             ]
            ],
            "type": "histogram2dcontour"
           }
          ],
          "mesh3d": [
           {
            "colorbar": {
             "outlinewidth": 0,
             "ticks": ""
            },
            "type": "mesh3d"
           }
          ],
          "parcoords": [
           {
            "line": {
             "colorbar": {
              "outlinewidth": 0,
              "ticks": ""
             }
            },
            "type": "parcoords"
           }
          ],
          "pie": [
           {
            "automargin": true,
            "type": "pie"
           }
          ],
          "scatter": [
           {
            "fillpattern": {
             "fillmode": "overlay",
             "size": 10,
             "solidity": 0.2
            },
            "type": "scatter"
           }
          ],
          "scatter3d": [
           {
            "line": {
             "colorbar": {
              "outlinewidth": 0,
              "ticks": ""
             }
            },
            "marker": {
             "colorbar": {
              "outlinewidth": 0,
              "ticks": ""
             }
            },
            "type": "scatter3d"
           }
          ],
          "scattercarpet": [
           {
            "marker": {
             "colorbar": {
              "outlinewidth": 0,
              "ticks": ""
             }
            },
            "type": "scattercarpet"
           }
          ],
          "scattergeo": [
           {
            "marker": {
             "colorbar": {
              "outlinewidth": 0,
              "ticks": ""
             }
            },
            "type": "scattergeo"
           }
          ],
          "scattergl": [
           {
            "marker": {
             "colorbar": {
              "outlinewidth": 0,
              "ticks": ""
             }
            },
            "type": "scattergl"
           }
          ],
          "scattermapbox": [
           {
            "marker": {
             "colorbar": {
              "outlinewidth": 0,
              "ticks": ""
             }
            },
            "type": "scattermapbox"
           }
          ],
          "scatterpolar": [
           {
            "marker": {
             "colorbar": {
              "outlinewidth": 0,
              "ticks": ""
             }
            },
            "type": "scatterpolar"
           }
          ],
          "scatterpolargl": [
           {
            "marker": {
             "colorbar": {
              "outlinewidth": 0,
              "ticks": ""
             }
            },
            "type": "scatterpolargl"
           }
          ],
          "scatterternary": [
           {
            "marker": {
             "colorbar": {
              "outlinewidth": 0,
              "ticks": ""
             }
            },
            "type": "scatterternary"
           }
          ],
          "surface": [
           {
            "colorbar": {
             "outlinewidth": 0,
             "ticks": ""
            },
            "colorscale": [
             [
              0,
              "#0d0887"
             ],
             [
              0.1111111111111111,
              "#46039f"
             ],
             [
              0.2222222222222222,
              "#7201a8"
             ],
             [
              0.3333333333333333,
              "#9c179e"
             ],
             [
              0.4444444444444444,
              "#bd3786"
             ],
             [
              0.5555555555555556,
              "#d8576b"
             ],
             [
              0.6666666666666666,
              "#ed7953"
             ],
             [
              0.7777777777777778,
              "#fb9f3a"
             ],
             [
              0.8888888888888888,
              "#fdca26"
             ],
             [
              1,
              "#f0f921"
             ]
            ],
            "type": "surface"
           }
          ],
          "table": [
           {
            "cells": {
             "fill": {
              "color": "#EBF0F8"
             },
             "line": {
              "color": "white"
             }
            },
            "header": {
             "fill": {
              "color": "#C8D4E3"
             },
             "line": {
              "color": "white"
             }
            },
            "type": "table"
           }
          ]
         },
         "layout": {
          "annotationdefaults": {
           "arrowcolor": "#2a3f5f",
           "arrowhead": 0,
           "arrowwidth": 1
          },
          "autotypenumbers": "strict",
          "coloraxis": {
           "colorbar": {
            "outlinewidth": 0,
            "ticks": ""
           }
          },
          "colorscale": {
           "diverging": [
            [
             0,
             "#8e0152"
            ],
            [
             0.1,
             "#c51b7d"
            ],
            [
             0.2,
             "#de77ae"
            ],
            [
             0.3,
             "#f1b6da"
            ],
            [
             0.4,
             "#fde0ef"
            ],
            [
             0.5,
             "#f7f7f7"
            ],
            [
             0.6,
             "#e6f5d0"
            ],
            [
             0.7,
             "#b8e186"
            ],
            [
             0.8,
             "#7fbc41"
            ],
            [
             0.9,
             "#4d9221"
            ],
            [
             1,
             "#276419"
            ]
           ],
           "sequential": [
            [
             0,
             "#0d0887"
            ],
            [
             0.1111111111111111,
             "#46039f"
            ],
            [
             0.2222222222222222,
             "#7201a8"
            ],
            [
             0.3333333333333333,
             "#9c179e"
            ],
            [
             0.4444444444444444,
             "#bd3786"
            ],
            [
             0.5555555555555556,
             "#d8576b"
            ],
            [
             0.6666666666666666,
             "#ed7953"
            ],
            [
             0.7777777777777778,
             "#fb9f3a"
            ],
            [
             0.8888888888888888,
             "#fdca26"
            ],
            [
             1,
             "#f0f921"
            ]
           ],
           "sequentialminus": [
            [
             0,
             "#0d0887"
            ],
            [
             0.1111111111111111,
             "#46039f"
            ],
            [
             0.2222222222222222,
             "#7201a8"
            ],
            [
             0.3333333333333333,
             "#9c179e"
            ],
            [
             0.4444444444444444,
             "#bd3786"
            ],
            [
             0.5555555555555556,
             "#d8576b"
            ],
            [
             0.6666666666666666,
             "#ed7953"
            ],
            [
             0.7777777777777778,
             "#fb9f3a"
            ],
            [
             0.8888888888888888,
             "#fdca26"
            ],
            [
             1,
             "#f0f921"
            ]
           ]
          },
          "colorway": [
           "#636efa",
           "#EF553B",
           "#00cc96",
           "#ab63fa",
           "#FFA15A",
           "#19d3f3",
           "#FF6692",
           "#B6E880",
           "#FF97FF",
           "#FECB52"
          ],
          "font": {
           "color": "#2a3f5f"
          },
          "geo": {
           "bgcolor": "white",
           "lakecolor": "white",
           "landcolor": "white",
           "showlakes": true,
           "showland": true,
           "subunitcolor": "#C8D4E3"
          },
          "hoverlabel": {
           "align": "left"
          },
          "hovermode": "closest",
          "mapbox": {
           "style": "light"
          },
          "paper_bgcolor": "white",
          "plot_bgcolor": "white",
          "polar": {
           "angularaxis": {
            "gridcolor": "#EBF0F8",
            "linecolor": "#EBF0F8",
            "ticks": ""
           },
           "bgcolor": "white",
           "radialaxis": {
            "gridcolor": "#EBF0F8",
            "linecolor": "#EBF0F8",
            "ticks": ""
           }
          },
          "scene": {
           "xaxis": {
            "backgroundcolor": "white",
            "gridcolor": "#DFE8F3",
            "gridwidth": 2,
            "linecolor": "#EBF0F8",
            "showbackground": true,
            "ticks": "",
            "zerolinecolor": "#EBF0F8"
           },
           "yaxis": {
            "backgroundcolor": "white",
            "gridcolor": "#DFE8F3",
            "gridwidth": 2,
            "linecolor": "#EBF0F8",
            "showbackground": true,
            "ticks": "",
            "zerolinecolor": "#EBF0F8"
           },
           "zaxis": {
            "backgroundcolor": "white",
            "gridcolor": "#DFE8F3",
            "gridwidth": 2,
            "linecolor": "#EBF0F8",
            "showbackground": true,
            "ticks": "",
            "zerolinecolor": "#EBF0F8"
           }
          },
          "shapedefaults": {
           "line": {
            "color": "#2a3f5f"
           }
          },
          "ternary": {
           "aaxis": {
            "gridcolor": "#DFE8F3",
            "linecolor": "#A2B1C6",
            "ticks": ""
           },
           "baxis": {
            "gridcolor": "#DFE8F3",
            "linecolor": "#A2B1C6",
            "ticks": ""
           },
           "bgcolor": "white",
           "caxis": {
            "gridcolor": "#DFE8F3",
            "linecolor": "#A2B1C6",
            "ticks": ""
           }
          },
          "title": {
           "x": 0.05
          },
          "xaxis": {
           "automargin": true,
           "gridcolor": "#EBF0F8",
           "linecolor": "#EBF0F8",
           "ticks": "",
           "title": {
            "standoff": 15
           },
           "zerolinecolor": "#EBF0F8",
           "zerolinewidth": 2
          },
          "yaxis": {
           "automargin": true,
           "gridcolor": "#EBF0F8",
           "linecolor": "#EBF0F8",
           "ticks": "",
           "title": {
            "standoff": 15
           },
           "zerolinecolor": "#EBF0F8",
           "zerolinewidth": 2
          }
         }
        },
        "title": {
         "font": {
          "color": "Black",
          "size": 22
         },
         "text": "Topic Word Scores",
         "x": 0.5,
         "xanchor": "center",
         "yanchor": "top"
        },
        "width": 1000,
        "xaxis": {
         "anchor": "y",
         "domain": [
          0,
          0.175
         ],
         "showgrid": true
        },
        "xaxis2": {
         "anchor": "y2",
         "domain": [
          0.275,
          0.45
         ],
         "showgrid": true
        },
        "xaxis3": {
         "anchor": "y3",
         "domain": [
          0.55,
          0.7250000000000001
         ],
         "showgrid": true
        },
        "xaxis4": {
         "anchor": "y4",
         "domain": [
          0.825,
          1
         ],
         "showgrid": true
        },
        "xaxis5": {
         "anchor": "y5",
         "domain": [
          0,
          0.175
         ],
         "showgrid": true
        },
        "xaxis6": {
         "anchor": "y6",
         "domain": [
          0.275,
          0.45
         ],
         "showgrid": true
        },
        "xaxis7": {
         "anchor": "y7",
         "domain": [
          0.55,
          0.7250000000000001
         ],
         "showgrid": true
        },
        "xaxis8": {
         "anchor": "y8",
         "domain": [
          0.825,
          1
         ],
         "showgrid": true
        },
        "yaxis": {
         "anchor": "x",
         "domain": [
          0.6000000000000001,
          1
         ],
         "showgrid": true
        },
        "yaxis2": {
         "anchor": "x2",
         "domain": [
          0.6000000000000001,
          1
         ],
         "showgrid": true
        },
        "yaxis3": {
         "anchor": "x3",
         "domain": [
          0.6000000000000001,
          1
         ],
         "showgrid": true
        },
        "yaxis4": {
         "anchor": "x4",
         "domain": [
          0.6000000000000001,
          1
         ],
         "showgrid": true
        },
        "yaxis5": {
         "anchor": "x5",
         "domain": [
          0,
          0.4
         ],
         "showgrid": true
        },
        "yaxis6": {
         "anchor": "x6",
         "domain": [
          0,
          0.4
         ],
         "showgrid": true
        },
        "yaxis7": {
         "anchor": "x7",
         "domain": [
          0,
          0.4
         ],
         "showgrid": true
        },
        "yaxis8": {
         "anchor": "x8",
         "domain": [
          0,
          0.4
         ],
         "showgrid": true
        }
       }
      },
      "text/html": [
       "<div>                            <div id=\"d93fd8d4-2940-45aa-a9e6-2a11deecac84\" class=\"plotly-graph-div\" style=\"height:500px; width:1000px;\"></div>            <script type=\"text/javascript\">                require([\"plotly\"], function(Plotly) {                    window.PLOTLYENV=window.PLOTLYENV || {};                                    if (document.getElementById(\"d93fd8d4-2940-45aa-a9e6-2a11deecac84\")) {                    Plotly.newPlot(                        \"d93fd8d4-2940-45aa-a9e6-2a11deecac84\",                        [{\"marker\":{\"color\":\"#D55E00\"},\"orientation\":\"h\",\"x\":[0.014846847059127593,0.016091091001350637,0.018160219570208636,0.019943458809689837,0.02081926786404747],\"y\":[\"warming  \",\"2017  \",\"global  \",\"high  \",\"confidence  \"],\"type\":\"bar\",\"xaxis\":\"x\",\"yaxis\":\"y\"},{\"marker\":{\"color\":\"#0072B2\"},\"orientation\":\"h\",\"x\":[0.03267067450503098,0.03577231616713149,0.03936294838160402,0.04501487063974555,0.04648680027508073],\"y\":[\"national  \",\"used  \",\"inventory  \",\"2006  \",\"ghg  \"],\"type\":\"bar\",\"xaxis\":\"x2\",\"yaxis\":\"y2\"},{\"marker\":{\"color\":\"#CC79A7\"},\"orientation\":\"h\",\"x\":[0.03368496850357877,0.03421053595797175,0.050309199723071595,0.051515026901919274,0.08171214967880881],\"y\":[\"solid  \",\"used  \",\"manure  \",\"2006  \",\"waste  \"],\"type\":\"bar\",\"xaxis\":\"x3\",\"yaxis\":\"y3\"},{\"marker\":{\"color\":\"#E69F00\"},\"orientation\":\"h\",\"x\":[0.03908544616538454,0.04626097239912681,0.04861483702170641,0.06927448758817661,0.08058434206289054],\"y\":[\"use  \",\"carbon  \",\"biomass  \",\"forest  \",\"land  \"],\"type\":\"bar\",\"xaxis\":\"x4\",\"yaxis\":\"y4\"},{\"marker\":{\"color\":\"#56B4E9\"},\"orientation\":\"h\",\"x\":[0.051697962265077,0.05212344538183539,0.06572046960240975,0.0957243101974063,0.1872188146353598],\"y\":[\"2006  \",\"activity  \",\"data  \",\"uncertainties  \",\"uncertainty  \"],\"type\":\"bar\",\"xaxis\":\"x5\",\"yaxis\":\"y5\"},{\"marker\":{\"color\":\"#009E73\"},\"orientation\":\"h\",\"x\":[0.04223181625361775,0.05030752558818839,0.05348316725660008,0.059046407489749535,0.11442012441001301],\"y\":[\"equation  \",\"chapter  \",\"page  \",\"volume  \",\"2006  \"],\"type\":\"bar\",\"xaxis\":\"x6\",\"yaxis\":\"y6\"},{\"marker\":{\"color\":\"#F0E442\"},\"orientation\":\"h\",\"x\":[0.05361001349191213,0.11015173191206075,0.12140355910656003,0.1300024030875982,0.1340608750780038],\"y\":[\"2006  \",\"gas  \",\"greenhouse  \",\"inventories  \",\"national  \"],\"type\":\"bar\",\"xaxis\":\"x7\",\"yaxis\":\"y7\"},{\"marker\":{\"color\":\"#D55E00\"},\"orientation\":\"h\",\"x\":[0.09066693203369806,0.09144498923634323,0.09842120237040763,0.1719634329835001,0.21551096558122645],\"y\":[\"analysis  \",\"level  \",\"trend  \",\"categories  \",\"key  \"],\"type\":\"bar\",\"xaxis\":\"x8\",\"yaxis\":\"y8\"}],                        {\"template\":{\"data\":{\"barpolar\":[{\"marker\":{\"line\":{\"color\":\"white\",\"width\":0.5},\"pattern\":{\"fillmode\":\"overlay\",\"size\":10,\"solidity\":0.2}},\"type\":\"barpolar\"}],\"bar\":[{\"error_x\":{\"color\":\"#2a3f5f\"},\"error_y\":{\"color\":\"#2a3f5f\"},\"marker\":{\"line\":{\"color\":\"white\",\"width\":0.5},\"pattern\":{\"fillmode\":\"overlay\",\"size\":10,\"solidity\":0.2}},\"type\":\"bar\"}],\"carpet\":[{\"aaxis\":{\"endlinecolor\":\"#2a3f5f\",\"gridcolor\":\"#C8D4E3\",\"linecolor\":\"#C8D4E3\",\"minorgridcolor\":\"#C8D4E3\",\"startlinecolor\":\"#2a3f5f\"},\"baxis\":{\"endlinecolor\":\"#2a3f5f\",\"gridcolor\":\"#C8D4E3\",\"linecolor\":\"#C8D4E3\",\"minorgridcolor\":\"#C8D4E3\",\"startlinecolor\":\"#2a3f5f\"},\"type\":\"carpet\"}],\"choropleth\":[{\"colorbar\":{\"outlinewidth\":0,\"ticks\":\"\"},\"type\":\"choropleth\"}],\"contourcarpet\":[{\"colorbar\":{\"outlinewidth\":0,\"ticks\":\"\"},\"type\":\"contourcarpet\"}],\"contour\":[{\"colorbar\":{\"outlinewidth\":0,\"ticks\":\"\"},\"colorscale\":[[0.0,\"#0d0887\"],[0.1111111111111111,\"#46039f\"],[0.2222222222222222,\"#7201a8\"],[0.3333333333333333,\"#9c179e\"],[0.4444444444444444,\"#bd3786\"],[0.5555555555555556,\"#d8576b\"],[0.6666666666666666,\"#ed7953\"],[0.7777777777777778,\"#fb9f3a\"],[0.8888888888888888,\"#fdca26\"],[1.0,\"#f0f921\"]],\"type\":\"contour\"}],\"heatmapgl\":[{\"colorbar\":{\"outlinewidth\":0,\"ticks\":\"\"},\"colorscale\":[[0.0,\"#0d0887\"],[0.1111111111111111,\"#46039f\"],[0.2222222222222222,\"#7201a8\"],[0.3333333333333333,\"#9c179e\"],[0.4444444444444444,\"#bd3786\"],[0.5555555555555556,\"#d8576b\"],[0.6666666666666666,\"#ed7953\"],[0.7777777777777778,\"#fb9f3a\"],[0.8888888888888888,\"#fdca26\"],[1.0,\"#f0f921\"]],\"type\":\"heatmapgl\"}],\"heatmap\":[{\"colorbar\":{\"outlinewidth\":0,\"ticks\":\"\"},\"colorscale\":[[0.0,\"#0d0887\"],[0.1111111111111111,\"#46039f\"],[0.2222222222222222,\"#7201a8\"],[0.3333333333333333,\"#9c179e\"],[0.4444444444444444,\"#bd3786\"],[0.5555555555555556,\"#d8576b\"],[0.6666666666666666,\"#ed7953\"],[0.7777777777777778,\"#fb9f3a\"],[0.8888888888888888,\"#fdca26\"],[1.0,\"#f0f921\"]],\"type\":\"heatmap\"}],\"histogram2dcontour\":[{\"colorbar\":{\"outlinewidth\":0,\"ticks\":\"\"},\"colorscale\":[[0.0,\"#0d0887\"],[0.1111111111111111,\"#46039f\"],[0.2222222222222222,\"#7201a8\"],[0.3333333333333333,\"#9c179e\"],[0.4444444444444444,\"#bd3786\"],[0.5555555555555556,\"#d8576b\"],[0.6666666666666666,\"#ed7953\"],[0.7777777777777778,\"#fb9f3a\"],[0.8888888888888888,\"#fdca26\"],[1.0,\"#f0f921\"]],\"type\":\"histogram2dcontour\"}],\"histogram2d\":[{\"colorbar\":{\"outlinewidth\":0,\"ticks\":\"\"},\"colorscale\":[[0.0,\"#0d0887\"],[0.1111111111111111,\"#46039f\"],[0.2222222222222222,\"#7201a8\"],[0.3333333333333333,\"#9c179e\"],[0.4444444444444444,\"#bd3786\"],[0.5555555555555556,\"#d8576b\"],[0.6666666666666666,\"#ed7953\"],[0.7777777777777778,\"#fb9f3a\"],[0.8888888888888888,\"#fdca26\"],[1.0,\"#f0f921\"]],\"type\":\"histogram2d\"}],\"histogram\":[{\"marker\":{\"pattern\":{\"fillmode\":\"overlay\",\"size\":10,\"solidity\":0.2}},\"type\":\"histogram\"}],\"mesh3d\":[{\"colorbar\":{\"outlinewidth\":0,\"ticks\":\"\"},\"type\":\"mesh3d\"}],\"parcoords\":[{\"line\":{\"colorbar\":{\"outlinewidth\":0,\"ticks\":\"\"}},\"type\":\"parcoords\"}],\"pie\":[{\"automargin\":true,\"type\":\"pie\"}],\"scatter3d\":[{\"line\":{\"colorbar\":{\"outlinewidth\":0,\"ticks\":\"\"}},\"marker\":{\"colorbar\":{\"outlinewidth\":0,\"ticks\":\"\"}},\"type\":\"scatter3d\"}],\"scattercarpet\":[{\"marker\":{\"colorbar\":{\"outlinewidth\":0,\"ticks\":\"\"}},\"type\":\"scattercarpet\"}],\"scattergeo\":[{\"marker\":{\"colorbar\":{\"outlinewidth\":0,\"ticks\":\"\"}},\"type\":\"scattergeo\"}],\"scattergl\":[{\"marker\":{\"colorbar\":{\"outlinewidth\":0,\"ticks\":\"\"}},\"type\":\"scattergl\"}],\"scattermapbox\":[{\"marker\":{\"colorbar\":{\"outlinewidth\":0,\"ticks\":\"\"}},\"type\":\"scattermapbox\"}],\"scatterpolargl\":[{\"marker\":{\"colorbar\":{\"outlinewidth\":0,\"ticks\":\"\"}},\"type\":\"scatterpolargl\"}],\"scatterpolar\":[{\"marker\":{\"colorbar\":{\"outlinewidth\":0,\"ticks\":\"\"}},\"type\":\"scatterpolar\"}],\"scatter\":[{\"fillpattern\":{\"fillmode\":\"overlay\",\"size\":10,\"solidity\":0.2},\"type\":\"scatter\"}],\"scatterternary\":[{\"marker\":{\"colorbar\":{\"outlinewidth\":0,\"ticks\":\"\"}},\"type\":\"scatterternary\"}],\"surface\":[{\"colorbar\":{\"outlinewidth\":0,\"ticks\":\"\"},\"colorscale\":[[0.0,\"#0d0887\"],[0.1111111111111111,\"#46039f\"],[0.2222222222222222,\"#7201a8\"],[0.3333333333333333,\"#9c179e\"],[0.4444444444444444,\"#bd3786\"],[0.5555555555555556,\"#d8576b\"],[0.6666666666666666,\"#ed7953\"],[0.7777777777777778,\"#fb9f3a\"],[0.8888888888888888,\"#fdca26\"],[1.0,\"#f0f921\"]],\"type\":\"surface\"}],\"table\":[{\"cells\":{\"fill\":{\"color\":\"#EBF0F8\"},\"line\":{\"color\":\"white\"}},\"header\":{\"fill\":{\"color\":\"#C8D4E3\"},\"line\":{\"color\":\"white\"}},\"type\":\"table\"}]},\"layout\":{\"annotationdefaults\":{\"arrowcolor\":\"#2a3f5f\",\"arrowhead\":0,\"arrowwidth\":1},\"autotypenumbers\":\"strict\",\"coloraxis\":{\"colorbar\":{\"outlinewidth\":0,\"ticks\":\"\"}},\"colorscale\":{\"diverging\":[[0,\"#8e0152\"],[0.1,\"#c51b7d\"],[0.2,\"#de77ae\"],[0.3,\"#f1b6da\"],[0.4,\"#fde0ef\"],[0.5,\"#f7f7f7\"],[0.6,\"#e6f5d0\"],[0.7,\"#b8e186\"],[0.8,\"#7fbc41\"],[0.9,\"#4d9221\"],[1,\"#276419\"]],\"sequential\":[[0.0,\"#0d0887\"],[0.1111111111111111,\"#46039f\"],[0.2222222222222222,\"#7201a8\"],[0.3333333333333333,\"#9c179e\"],[0.4444444444444444,\"#bd3786\"],[0.5555555555555556,\"#d8576b\"],[0.6666666666666666,\"#ed7953\"],[0.7777777777777778,\"#fb9f3a\"],[0.8888888888888888,\"#fdca26\"],[1.0,\"#f0f921\"]],\"sequentialminus\":[[0.0,\"#0d0887\"],[0.1111111111111111,\"#46039f\"],[0.2222222222222222,\"#7201a8\"],[0.3333333333333333,\"#9c179e\"],[0.4444444444444444,\"#bd3786\"],[0.5555555555555556,\"#d8576b\"],[0.6666666666666666,\"#ed7953\"],[0.7777777777777778,\"#fb9f3a\"],[0.8888888888888888,\"#fdca26\"],[1.0,\"#f0f921\"]]},\"colorway\":[\"#636efa\",\"#EF553B\",\"#00cc96\",\"#ab63fa\",\"#FFA15A\",\"#19d3f3\",\"#FF6692\",\"#B6E880\",\"#FF97FF\",\"#FECB52\"],\"font\":{\"color\":\"#2a3f5f\"},\"geo\":{\"bgcolor\":\"white\",\"lakecolor\":\"white\",\"landcolor\":\"white\",\"showlakes\":true,\"showland\":true,\"subunitcolor\":\"#C8D4E3\"},\"hoverlabel\":{\"align\":\"left\"},\"hovermode\":\"closest\",\"mapbox\":{\"style\":\"light\"},\"paper_bgcolor\":\"white\",\"plot_bgcolor\":\"white\",\"polar\":{\"angularaxis\":{\"gridcolor\":\"#EBF0F8\",\"linecolor\":\"#EBF0F8\",\"ticks\":\"\"},\"bgcolor\":\"white\",\"radialaxis\":{\"gridcolor\":\"#EBF0F8\",\"linecolor\":\"#EBF0F8\",\"ticks\":\"\"}},\"scene\":{\"xaxis\":{\"backgroundcolor\":\"white\",\"gridcolor\":\"#DFE8F3\",\"gridwidth\":2,\"linecolor\":\"#EBF0F8\",\"showbackground\":true,\"ticks\":\"\",\"zerolinecolor\":\"#EBF0F8\"},\"yaxis\":{\"backgroundcolor\":\"white\",\"gridcolor\":\"#DFE8F3\",\"gridwidth\":2,\"linecolor\":\"#EBF0F8\",\"showbackground\":true,\"ticks\":\"\",\"zerolinecolor\":\"#EBF0F8\"},\"zaxis\":{\"backgroundcolor\":\"white\",\"gridcolor\":\"#DFE8F3\",\"gridwidth\":2,\"linecolor\":\"#EBF0F8\",\"showbackground\":true,\"ticks\":\"\",\"zerolinecolor\":\"#EBF0F8\"}},\"shapedefaults\":{\"line\":{\"color\":\"#2a3f5f\"}},\"ternary\":{\"aaxis\":{\"gridcolor\":\"#DFE8F3\",\"linecolor\":\"#A2B1C6\",\"ticks\":\"\"},\"baxis\":{\"gridcolor\":\"#DFE8F3\",\"linecolor\":\"#A2B1C6\",\"ticks\":\"\"},\"bgcolor\":\"white\",\"caxis\":{\"gridcolor\":\"#DFE8F3\",\"linecolor\":\"#A2B1C6\",\"ticks\":\"\"}},\"title\":{\"x\":0.05},\"xaxis\":{\"automargin\":true,\"gridcolor\":\"#EBF0F8\",\"linecolor\":\"#EBF0F8\",\"ticks\":\"\",\"title\":{\"standoff\":15},\"zerolinecolor\":\"#EBF0F8\",\"zerolinewidth\":2},\"yaxis\":{\"automargin\":true,\"gridcolor\":\"#EBF0F8\",\"linecolor\":\"#EBF0F8\",\"ticks\":\"\",\"title\":{\"standoff\":15},\"zerolinecolor\":\"#EBF0F8\",\"zerolinewidth\":2}}},\"xaxis\":{\"anchor\":\"y\",\"domain\":[0.0,0.175],\"showgrid\":true},\"yaxis\":{\"anchor\":\"x\",\"domain\":[0.6000000000000001,1.0],\"showgrid\":true},\"xaxis2\":{\"anchor\":\"y2\",\"domain\":[0.275,0.45],\"showgrid\":true},\"yaxis2\":{\"anchor\":\"x2\",\"domain\":[0.6000000000000001,1.0],\"showgrid\":true},\"xaxis3\":{\"anchor\":\"y3\",\"domain\":[0.55,0.7250000000000001],\"showgrid\":true},\"yaxis3\":{\"anchor\":\"x3\",\"domain\":[0.6000000000000001,1.0],\"showgrid\":true},\"xaxis4\":{\"anchor\":\"y4\",\"domain\":[0.825,1.0],\"showgrid\":true},\"yaxis4\":{\"anchor\":\"x4\",\"domain\":[0.6000000000000001,1.0],\"showgrid\":true},\"xaxis5\":{\"anchor\":\"y5\",\"domain\":[0.0,0.175],\"showgrid\":true},\"yaxis5\":{\"anchor\":\"x5\",\"domain\":[0.0,0.4],\"showgrid\":true},\"xaxis6\":{\"anchor\":\"y6\",\"domain\":[0.275,0.45],\"showgrid\":true},\"yaxis6\":{\"anchor\":\"x6\",\"domain\":[0.0,0.4],\"showgrid\":true},\"xaxis7\":{\"anchor\":\"y7\",\"domain\":[0.55,0.7250000000000001],\"showgrid\":true},\"yaxis7\":{\"anchor\":\"x7\",\"domain\":[0.0,0.4],\"showgrid\":true},\"xaxis8\":{\"anchor\":\"y8\",\"domain\":[0.825,1.0],\"showgrid\":true},\"yaxis8\":{\"anchor\":\"x8\",\"domain\":[0.0,0.4],\"showgrid\":true},\"annotations\":[{\"font\":{\"size\":16},\"showarrow\":false,\"text\":\"Topic 0\",\"x\":0.0875,\"xanchor\":\"center\",\"xref\":\"paper\",\"y\":1.0,\"yanchor\":\"bottom\",\"yref\":\"paper\"},{\"font\":{\"size\":16},\"showarrow\":false,\"text\":\"Topic 1\",\"x\":0.36250000000000004,\"xanchor\":\"center\",\"xref\":\"paper\",\"y\":1.0,\"yanchor\":\"bottom\",\"yref\":\"paper\"},{\"font\":{\"size\":16},\"showarrow\":false,\"text\":\"Topic 2\",\"x\":0.6375000000000001,\"xanchor\":\"center\",\"xref\":\"paper\",\"y\":1.0,\"yanchor\":\"bottom\",\"yref\":\"paper\"},{\"font\":{\"size\":16},\"showarrow\":false,\"text\":\"Topic 3\",\"x\":0.9125,\"xanchor\":\"center\",\"xref\":\"paper\",\"y\":1.0,\"yanchor\":\"bottom\",\"yref\":\"paper\"},{\"font\":{\"size\":16},\"showarrow\":false,\"text\":\"Topic 4\",\"x\":0.0875,\"xanchor\":\"center\",\"xref\":\"paper\",\"y\":0.4,\"yanchor\":\"bottom\",\"yref\":\"paper\"},{\"font\":{\"size\":16},\"showarrow\":false,\"text\":\"Topic 5\",\"x\":0.36250000000000004,\"xanchor\":\"center\",\"xref\":\"paper\",\"y\":0.4,\"yanchor\":\"bottom\",\"yref\":\"paper\"},{\"font\":{\"size\":16},\"showarrow\":false,\"text\":\"Topic 6\",\"x\":0.6375000000000001,\"xanchor\":\"center\",\"xref\":\"paper\",\"y\":0.4,\"yanchor\":\"bottom\",\"yref\":\"paper\"},{\"font\":{\"size\":16},\"showarrow\":false,\"text\":\"Topic 7\",\"x\":0.9125,\"xanchor\":\"center\",\"xref\":\"paper\",\"y\":0.4,\"yanchor\":\"bottom\",\"yref\":\"paper\"}],\"title\":{\"font\":{\"size\":22,\"color\":\"Black\"},\"text\":\"Topic Word Scores\",\"x\":0.5,\"xanchor\":\"center\",\"yanchor\":\"top\"},\"hoverlabel\":{\"font\":{\"size\":16,\"family\":\"Rockwell\"},\"bgcolor\":\"white\"},\"showlegend\":false,\"width\":1000,\"height\":500},                        {\"responsive\": true}                    ).then(function(){\n",
       "                            \n",
       "var gd = document.getElementById('d93fd8d4-2940-45aa-a9e6-2a11deecac84');\n",
       "var x = new MutationObserver(function (mutations, observer) {{\n",
       "        var display = window.getComputedStyle(gd).display;\n",
       "        if (!display || display === 'none') {{\n",
       "            console.log([gd, 'removed!']);\n",
       "            Plotly.purge(gd);\n",
       "            observer.disconnect();\n",
       "        }}\n",
       "}});\n",
       "\n",
       "// Listen for the removal of the full notebook cells\n",
       "var notebookContainer = gd.closest('#notebook-container');\n",
       "if (notebookContainer) {{\n",
       "    x.observe(notebookContainer, {childList: true});\n",
       "}}\n",
       "\n",
       "// Listen for the clearing of the current output cell\n",
       "var outputEl = gd.closest('.output');\n",
       "if (outputEl) {{\n",
       "    x.observe(outputEl, {childList: true});\n",
       "}}\n",
       "\n",
       "                        })                };                });            </script>        </div>"
      ]
     },
     "metadata": {},
     "output_type": "display_data"
    }
   ],
   "source": [
    "topics, probs, model = create_topics(\"auto\", \"CountVectorizer\", list_comb)\n",
    "model.visualize_barchart()"
   ]
  },
  {
   "cell_type": "code",
   "execution_count": 83,
   "id": "a9b25133",
   "metadata": {},
   "outputs": [],
   "source": [
    "topics_old, topics_new, df_full_comb = add_topics_to_df(topics, probs, model, df_comb, list_comb)\n",
    "# df_full_comb[\"doc_type_major\"] = df_full_comb[\"types0\"].where(df_full_comb[\"types0\"] == \"IPCC Report\", other='Country Policy Reports')\n",
    "# df_full_comb.groupby(['Name','doc_type_major'])['text'].size().unstack().plot(kind='bar', stacked=True)\n",
    "# df_full_comb"
   ]
  },
  {
   "cell_type": "code",
   "execution_count": 63,
   "id": "a5d22825",
   "metadata": {},
   "outputs": [],
   "source": [
    "topics_oldandnew = pd.merge(topics_old, topics_new, how='left',left_index=True,right_index=True)\n",
    "topics_oldandnew.to_csv('combined_topic_dist_20240521.csv')"
   ]
  },
  {
   "cell_type": "code",
   "execution_count": null,
   "id": "72f16b48",
   "metadata": {},
   "outputs": [],
   "source": [
    "representative_docs = model.get_representative_docs()\n",
    "representative_docs\n",
    "pd.DataFrame(representative_docs).to_csv(\"combined_topics_final_reps_fixed_20240521.csv\")"
   ]
  },
  {
   "cell_type": "code",
   "execution_count": 80,
   "id": "f3396675",
   "metadata": {},
   "outputs": [],
   "source": [
    "df_full_comb.to_csv(\"combined_topics_final_fixed_20240521.csv\")"
   ]
  },
  {
   "cell_type": "code",
   "execution_count": 86,
   "id": "c63320cf",
   "metadata": {},
   "outputs": [
    {
     "name": "stderr",
     "output_type": "stream",
     "text": [
      "2024-05-21 07:41:45,401 - BERTopic - Embedding - Transforming documents to embeddings.\n"
     ]
    },
    {
     "data": {
      "application/vnd.jupyter.widget-view+json": {
       "model_id": "5cc5f1daf7004a7a957a1667d3b2efed",
       "version_major": 2,
       "version_minor": 0
      },
      "text/plain": [
       "Batches:   0%|          | 0/1110 [00:00<?, ?it/s]"
      ]
     },
     "metadata": {},
     "output_type": "display_data"
    },
    {
     "name": "stderr",
     "output_type": "stream",
     "text": [
      "2024-05-21 07:50:52,053 - BERTopic - Embedding - Completed ✓\n",
      "2024-05-21 07:50:52,055 - BERTopic - Dimensionality - Fitting the dimensionality reduction algorithm\n",
      "2024-05-21 07:51:19,572 - BERTopic - Dimensionality - Completed ✓\n",
      "2024-05-21 07:51:19,575 - BERTopic - Cluster - Start clustering the reduced embeddings\n",
      "huggingface/tokenizers: The current process just got forked, after parallelism has already been used. Disabling parallelism to avoid deadlocks...\n",
      "To disable this warning, you can either:\n",
      "\t- Avoid using `tokenizers` before the fork if possible\n",
      "\t- Explicitly set the environment variable TOKENIZERS_PARALLELISM=(true | false)\n",
      "huggingface/tokenizers: The current process just got forked, after parallelism has already been used. Disabling parallelism to avoid deadlocks...\n",
      "To disable this warning, you can either:\n",
      "\t- Avoid using `tokenizers` before the fork if possible\n",
      "\t- Explicitly set the environment variable TOKENIZERS_PARALLELISM=(true | false)\n",
      "huggingface/tokenizers: The current process just got forked, after parallelism has already been used. Disabling parallelism to avoid deadlocks...\n",
      "To disable this warning, you can either:\n",
      "\t- Avoid using `tokenizers` before the fork if possible\n",
      "\t- Explicitly set the environment variable TOKENIZERS_PARALLELISM=(true | false)\n",
      "huggingface/tokenizers: The current process just got forked, after parallelism has already been used. Disabling parallelism to avoid deadlocks...\n",
      "To disable this warning, you can either:\n",
      "\t- Avoid using `tokenizers` before the fork if possible\n",
      "\t- Explicitly set the environment variable TOKENIZERS_PARALLELISM=(true | false)\n",
      "11369.11s - pydevd: Sending message related to process being replaced timed-out after 5 seconds\n",
      "11369.29s - pydevd: Sending message related to process being replaced timed-out after 5 seconds\n",
      "11369.49s - pydevd: Sending message related to process being replaced timed-out after 5 seconds\n",
      "0.00s - Debugger warning: It seems that frozen modules are being used, which may\n",
      "0.00s - make the debugger miss breakpoints. Please pass -Xfrozen_modules=off\n",
      "0.00s - to python to disable frozen modules.\n",
      "0.00s - Note: Debugging will proceed. Set PYDEVD_DISABLE_FILE_VALIDATION=1 to disable this validation.\n",
      "0.00s - Debugger warning: It seems that frozen modules are being used, which may\n",
      "0.00s - make the debugger miss breakpoints. Please pass -Xfrozen_modules=off\n",
      "0.00s - to python to disable frozen modules.\n",
      "0.00s - Note: Debugging will proceed. Set PYDEVD_DISABLE_FILE_VALIDATION=1 to disable this validation.\n",
      "11369.69s - pydevd: Sending message related to process being replaced timed-out after 5 seconds\n",
      "0.00s - Debugger warning: It seems that frozen modules are being used, which may\n",
      "0.00s - make the debugger miss breakpoints. Please pass -Xfrozen_modules=off\n",
      "0.00s - to python to disable frozen modules.\n",
      "0.00s - Note: Debugging will proceed. Set PYDEVD_DISABLE_FILE_VALIDATION=1 to disable this validation.\n",
      "0.00s - Debugger warning: It seems that frozen modules are being used, which may\n",
      "0.00s - make the debugger miss breakpoints. Please pass -Xfrozen_modules=off\n",
      "0.00s - to python to disable frozen modules.\n",
      "0.00s - Note: Debugging will proceed. Set PYDEVD_DISABLE_FILE_VALIDATION=1 to disable this validation.\n",
      "2024-05-21 07:51:34,622 - BERTopic - Cluster - Completed ✓\n",
      "2024-05-21 07:51:34,625 - BERTopic - Representation - Extracting topics from clusters using representation models.\n",
      "2024-05-21 07:51:41,523 - BERTopic - Representation - Completed ✓\n",
      "2024-05-21 07:51:41,527 - BERTopic - Topic reduction - Reducing number of topics\n",
      "2024-05-21 07:51:48,405 - BERTopic - Topic reduction - Reduced number of topics from 30 to 29\n"
     ]
    },
    {
     "data": {
      "application/vnd.plotly.v1+json": {
       "config": {
        "plotlyServerURL": "https://plot.ly"
       },
       "data": [
        {
         "marker": {
          "color": "#D55E00"
         },
         "orientation": "h",
         "type": "bar",
         "x": [
          0.012040830165502208,
          0.012935132543213742,
          0.014419206490610669,
          0.015809481387784916,
          0.016451429888813214
         ],
         "xaxis": "x",
         "y": [
          "warming  ",
          "2017  ",
          "global  ",
          "high  ",
          "confidence  "
         ],
         "yaxis": "y"
        },
        {
         "marker": {
          "color": "#0072B2"
         },
         "orientation": "h",
         "type": "bar",
         "x": [
          0.031617270806893014,
          0.03706906093182254,
          0.04124783210431465,
          0.057725351401046815,
          0.06305268021564381
         ],
         "xaxis": "x2",
         "y": [
          "use  ",
          "carbon  ",
          "biomass  ",
          "forest  ",
          "land  "
         ],
         "yaxis": "y2"
        },
        {
         "marker": {
          "color": "#CC79A7"
         },
         "orientation": "h",
         "type": "bar",
         "x": [
          0.033884516047036045,
          0.037206780502046954,
          0.037286211279761935,
          0.04297907785488431,
          0.06788522430706469
         ],
         "xaxis": "x3",
         "y": [
          "cattle  ",
          "management  ",
          "livestock  ",
          "2006  ",
          "manure  "
         ],
         "yaxis": "y3"
        },
        {
         "marker": {
          "color": "#E69F00"
         },
         "orientation": "h",
         "type": "bar",
         "x": [
          0.03964264208726224,
          0.04358219453326142,
          0.051627955846391516,
          0.082028918987982,
          0.15497490474488623
         ],
         "xaxis": "x4",
         "y": [
          "2006  ",
          "activity  ",
          "data  ",
          "uncertainties  ",
          "uncertainty  "
         ],
         "yaxis": "y4"
        },
        {
         "marker": {
          "color": "#56B4E9"
         },
         "orientation": "h",
         "type": "bar",
         "x": [
          0.03521368314258142,
          0.03531059328951526,
          0.06501641479288423,
          0.07683447945810129,
          0.18183841215679375
         ],
         "xaxis": "x5",
         "y": [
          "sites  ",
          "treatment  ",
          "disposal  ",
          "solid  ",
          "waste  "
         ],
         "yaxis": "y5"
        },
        {
         "marker": {
          "color": "#009E73"
         },
         "orientation": "h",
         "type": "bar",
         "x": [
          0.03648791902583599,
          0.041608163576284815,
          0.047414271404251467,
          0.05067785203744568,
          0.08773877810325735
         ],
         "xaxis": "x6",
         "y": [
          "equation  ",
          "chapter  ",
          "page  ",
          "volume  ",
          "2006  "
         ],
         "yaxis": "y6"
        },
        {
         "marker": {
          "color": "#F0E442"
         },
         "orientation": "h",
         "type": "bar",
         "x": [
          0.05141784958986566,
          0.05565994115410942,
          0.07120455302600988,
          0.08412712565218973,
          0.11225639727074063
         ],
         "xaxis": "x7",
         "y": [
          "second  ",
          "warming  ",
          "assessment  ",
          "report  ",
          "gwp  "
         ],
         "yaxis": "y7"
        },
        {
         "marker": {
          "color": "#D55E00"
         },
         "orientation": "h",
         "type": "bar",
         "x": [
          0.05107087475482959,
          0.051747077527439796,
          0.06946309268739863,
          0.07265643441835437,
          0.08379193925618075
         ],
         "xaxis": "x8",
         "y": [
          "inventories  ",
          "greenhouse  ",
          "national  ",
          "ghg  ",
          "inventory  "
         ],
         "yaxis": "y8"
        }
       ],
       "layout": {
        "annotations": [
         {
          "font": {
           "size": 16
          },
          "showarrow": false,
          "text": "Topic 0",
          "x": 0.0875,
          "xanchor": "center",
          "xref": "paper",
          "y": 1,
          "yanchor": "bottom",
          "yref": "paper"
         },
         {
          "font": {
           "size": 16
          },
          "showarrow": false,
          "text": "Topic 1",
          "x": 0.36250000000000004,
          "xanchor": "center",
          "xref": "paper",
          "y": 1,
          "yanchor": "bottom",
          "yref": "paper"
         },
         {
          "font": {
           "size": 16
          },
          "showarrow": false,
          "text": "Topic 2",
          "x": 0.6375000000000001,
          "xanchor": "center",
          "xref": "paper",
          "y": 1,
          "yanchor": "bottom",
          "yref": "paper"
         },
         {
          "font": {
           "size": 16
          },
          "showarrow": false,
          "text": "Topic 3",
          "x": 0.9125,
          "xanchor": "center",
          "xref": "paper",
          "y": 1,
          "yanchor": "bottom",
          "yref": "paper"
         },
         {
          "font": {
           "size": 16
          },
          "showarrow": false,
          "text": "Topic 4",
          "x": 0.0875,
          "xanchor": "center",
          "xref": "paper",
          "y": 0.4,
          "yanchor": "bottom",
          "yref": "paper"
         },
         {
          "font": {
           "size": 16
          },
          "showarrow": false,
          "text": "Topic 5",
          "x": 0.36250000000000004,
          "xanchor": "center",
          "xref": "paper",
          "y": 0.4,
          "yanchor": "bottom",
          "yref": "paper"
         },
         {
          "font": {
           "size": 16
          },
          "showarrow": false,
          "text": "Topic 6",
          "x": 0.6375000000000001,
          "xanchor": "center",
          "xref": "paper",
          "y": 0.4,
          "yanchor": "bottom",
          "yref": "paper"
         },
         {
          "font": {
           "size": 16
          },
          "showarrow": false,
          "text": "Topic 7",
          "x": 0.9125,
          "xanchor": "center",
          "xref": "paper",
          "y": 0.4,
          "yanchor": "bottom",
          "yref": "paper"
         }
        ],
        "height": 500,
        "hoverlabel": {
         "bgcolor": "white",
         "font": {
          "family": "Rockwell",
          "size": 16
         }
        },
        "showlegend": false,
        "template": {
         "data": {
          "bar": [
           {
            "error_x": {
             "color": "#2a3f5f"
            },
            "error_y": {
             "color": "#2a3f5f"
            },
            "marker": {
             "line": {
              "color": "white",
              "width": 0.5
             },
             "pattern": {
              "fillmode": "overlay",
              "size": 10,
              "solidity": 0.2
             }
            },
            "type": "bar"
           }
          ],
          "barpolar": [
           {
            "marker": {
             "line": {
              "color": "white",
              "width": 0.5
             },
             "pattern": {
              "fillmode": "overlay",
              "size": 10,
              "solidity": 0.2
             }
            },
            "type": "barpolar"
           }
          ],
          "carpet": [
           {
            "aaxis": {
             "endlinecolor": "#2a3f5f",
             "gridcolor": "#C8D4E3",
             "linecolor": "#C8D4E3",
             "minorgridcolor": "#C8D4E3",
             "startlinecolor": "#2a3f5f"
            },
            "baxis": {
             "endlinecolor": "#2a3f5f",
             "gridcolor": "#C8D4E3",
             "linecolor": "#C8D4E3",
             "minorgridcolor": "#C8D4E3",
             "startlinecolor": "#2a3f5f"
            },
            "type": "carpet"
           }
          ],
          "choropleth": [
           {
            "colorbar": {
             "outlinewidth": 0,
             "ticks": ""
            },
            "type": "choropleth"
           }
          ],
          "contour": [
           {
            "colorbar": {
             "outlinewidth": 0,
             "ticks": ""
            },
            "colorscale": [
             [
              0,
              "#0d0887"
             ],
             [
              0.1111111111111111,
              "#46039f"
             ],
             [
              0.2222222222222222,
              "#7201a8"
             ],
             [
              0.3333333333333333,
              "#9c179e"
             ],
             [
              0.4444444444444444,
              "#bd3786"
             ],
             [
              0.5555555555555556,
              "#d8576b"
             ],
             [
              0.6666666666666666,
              "#ed7953"
             ],
             [
              0.7777777777777778,
              "#fb9f3a"
             ],
             [
              0.8888888888888888,
              "#fdca26"
             ],
             [
              1,
              "#f0f921"
             ]
            ],
            "type": "contour"
           }
          ],
          "contourcarpet": [
           {
            "colorbar": {
             "outlinewidth": 0,
             "ticks": ""
            },
            "type": "contourcarpet"
           }
          ],
          "heatmap": [
           {
            "colorbar": {
             "outlinewidth": 0,
             "ticks": ""
            },
            "colorscale": [
             [
              0,
              "#0d0887"
             ],
             [
              0.1111111111111111,
              "#46039f"
             ],
             [
              0.2222222222222222,
              "#7201a8"
             ],
             [
              0.3333333333333333,
              "#9c179e"
             ],
             [
              0.4444444444444444,
              "#bd3786"
             ],
             [
              0.5555555555555556,
              "#d8576b"
             ],
             [
              0.6666666666666666,
              "#ed7953"
             ],
             [
              0.7777777777777778,
              "#fb9f3a"
             ],
             [
              0.8888888888888888,
              "#fdca26"
             ],
             [
              1,
              "#f0f921"
             ]
            ],
            "type": "heatmap"
           }
          ],
          "heatmapgl": [
           {
            "colorbar": {
             "outlinewidth": 0,
             "ticks": ""
            },
            "colorscale": [
             [
              0,
              "#0d0887"
             ],
             [
              0.1111111111111111,
              "#46039f"
             ],
             [
              0.2222222222222222,
              "#7201a8"
             ],
             [
              0.3333333333333333,
              "#9c179e"
             ],
             [
              0.4444444444444444,
              "#bd3786"
             ],
             [
              0.5555555555555556,
              "#d8576b"
             ],
             [
              0.6666666666666666,
              "#ed7953"
             ],
             [
              0.7777777777777778,
              "#fb9f3a"
             ],
             [
              0.8888888888888888,
              "#fdca26"
             ],
             [
              1,
              "#f0f921"
             ]
            ],
            "type": "heatmapgl"
           }
          ],
          "histogram": [
           {
            "marker": {
             "pattern": {
              "fillmode": "overlay",
              "size": 10,
              "solidity": 0.2
             }
            },
            "type": "histogram"
           }
          ],
          "histogram2d": [
           {
            "colorbar": {
             "outlinewidth": 0,
             "ticks": ""
            },
            "colorscale": [
             [
              0,
              "#0d0887"
             ],
             [
              0.1111111111111111,
              "#46039f"
             ],
             [
              0.2222222222222222,
              "#7201a8"
             ],
             [
              0.3333333333333333,
              "#9c179e"
             ],
             [
              0.4444444444444444,
              "#bd3786"
             ],
             [
              0.5555555555555556,
              "#d8576b"
             ],
             [
              0.6666666666666666,
              "#ed7953"
             ],
             [
              0.7777777777777778,
              "#fb9f3a"
             ],
             [
              0.8888888888888888,
              "#fdca26"
             ],
             [
              1,
              "#f0f921"
             ]
            ],
            "type": "histogram2d"
           }
          ],
          "histogram2dcontour": [
           {
            "colorbar": {
             "outlinewidth": 0,
             "ticks": ""
            },
            "colorscale": [
             [
              0,
              "#0d0887"
             ],
             [
              0.1111111111111111,
              "#46039f"
             ],
             [
              0.2222222222222222,
              "#7201a8"
             ],
             [
              0.3333333333333333,
              "#9c179e"
             ],
             [
              0.4444444444444444,
              "#bd3786"
             ],
             [
              0.5555555555555556,
              "#d8576b"
             ],
             [
              0.6666666666666666,
              "#ed7953"
             ],
             [
              0.7777777777777778,
              "#fb9f3a"
             ],
             [
              0.8888888888888888,
              "#fdca26"
             ],
             [
              1,
              "#f0f921"
             ]
            ],
            "type": "histogram2dcontour"
           }
          ],
          "mesh3d": [
           {
            "colorbar": {
             "outlinewidth": 0,
             "ticks": ""
            },
            "type": "mesh3d"
           }
          ],
          "parcoords": [
           {
            "line": {
             "colorbar": {
              "outlinewidth": 0,
              "ticks": ""
             }
            },
            "type": "parcoords"
           }
          ],
          "pie": [
           {
            "automargin": true,
            "type": "pie"
           }
          ],
          "scatter": [
           {
            "fillpattern": {
             "fillmode": "overlay",
             "size": 10,
             "solidity": 0.2
            },
            "type": "scatter"
           }
          ],
          "scatter3d": [
           {
            "line": {
             "colorbar": {
              "outlinewidth": 0,
              "ticks": ""
             }
            },
            "marker": {
             "colorbar": {
              "outlinewidth": 0,
              "ticks": ""
             }
            },
            "type": "scatter3d"
           }
          ],
          "scattercarpet": [
           {
            "marker": {
             "colorbar": {
              "outlinewidth": 0,
              "ticks": ""
             }
            },
            "type": "scattercarpet"
           }
          ],
          "scattergeo": [
           {
            "marker": {
             "colorbar": {
              "outlinewidth": 0,
              "ticks": ""
             }
            },
            "type": "scattergeo"
           }
          ],
          "scattergl": [
           {
            "marker": {
             "colorbar": {
              "outlinewidth": 0,
              "ticks": ""
             }
            },
            "type": "scattergl"
           }
          ],
          "scattermapbox": [
           {
            "marker": {
             "colorbar": {
              "outlinewidth": 0,
              "ticks": ""
             }
            },
            "type": "scattermapbox"
           }
          ],
          "scatterpolar": [
           {
            "marker": {
             "colorbar": {
              "outlinewidth": 0,
              "ticks": ""
             }
            },
            "type": "scatterpolar"
           }
          ],
          "scatterpolargl": [
           {
            "marker": {
             "colorbar": {
              "outlinewidth": 0,
              "ticks": ""
             }
            },
            "type": "scatterpolargl"
           }
          ],
          "scatterternary": [
           {
            "marker": {
             "colorbar": {
              "outlinewidth": 0,
              "ticks": ""
             }
            },
            "type": "scatterternary"
           }
          ],
          "surface": [
           {
            "colorbar": {
             "outlinewidth": 0,
             "ticks": ""
            },
            "colorscale": [
             [
              0,
              "#0d0887"
             ],
             [
              0.1111111111111111,
              "#46039f"
             ],
             [
              0.2222222222222222,
              "#7201a8"
             ],
             [
              0.3333333333333333,
              "#9c179e"
             ],
             [
              0.4444444444444444,
              "#bd3786"
             ],
             [
              0.5555555555555556,
              "#d8576b"
             ],
             [
              0.6666666666666666,
              "#ed7953"
             ],
             [
              0.7777777777777778,
              "#fb9f3a"
             ],
             [
              0.8888888888888888,
              "#fdca26"
             ],
             [
              1,
              "#f0f921"
             ]
            ],
            "type": "surface"
           }
          ],
          "table": [
           {
            "cells": {
             "fill": {
              "color": "#EBF0F8"
             },
             "line": {
              "color": "white"
             }
            },
            "header": {
             "fill": {
              "color": "#C8D4E3"
             },
             "line": {
              "color": "white"
             }
            },
            "type": "table"
           }
          ]
         },
         "layout": {
          "annotationdefaults": {
           "arrowcolor": "#2a3f5f",
           "arrowhead": 0,
           "arrowwidth": 1
          },
          "autotypenumbers": "strict",
          "coloraxis": {
           "colorbar": {
            "outlinewidth": 0,
            "ticks": ""
           }
          },
          "colorscale": {
           "diverging": [
            [
             0,
             "#8e0152"
            ],
            [
             0.1,
             "#c51b7d"
            ],
            [
             0.2,
             "#de77ae"
            ],
            [
             0.3,
             "#f1b6da"
            ],
            [
             0.4,
             "#fde0ef"
            ],
            [
             0.5,
             "#f7f7f7"
            ],
            [
             0.6,
             "#e6f5d0"
            ],
            [
             0.7,
             "#b8e186"
            ],
            [
             0.8,
             "#7fbc41"
            ],
            [
             0.9,
             "#4d9221"
            ],
            [
             1,
             "#276419"
            ]
           ],
           "sequential": [
            [
             0,
             "#0d0887"
            ],
            [
             0.1111111111111111,
             "#46039f"
            ],
            [
             0.2222222222222222,
             "#7201a8"
            ],
            [
             0.3333333333333333,
             "#9c179e"
            ],
            [
             0.4444444444444444,
             "#bd3786"
            ],
            [
             0.5555555555555556,
             "#d8576b"
            ],
            [
             0.6666666666666666,
             "#ed7953"
            ],
            [
             0.7777777777777778,
             "#fb9f3a"
            ],
            [
             0.8888888888888888,
             "#fdca26"
            ],
            [
             1,
             "#f0f921"
            ]
           ],
           "sequentialminus": [
            [
             0,
             "#0d0887"
            ],
            [
             0.1111111111111111,
             "#46039f"
            ],
            [
             0.2222222222222222,
             "#7201a8"
            ],
            [
             0.3333333333333333,
             "#9c179e"
            ],
            [
             0.4444444444444444,
             "#bd3786"
            ],
            [
             0.5555555555555556,
             "#d8576b"
            ],
            [
             0.6666666666666666,
             "#ed7953"
            ],
            [
             0.7777777777777778,
             "#fb9f3a"
            ],
            [
             0.8888888888888888,
             "#fdca26"
            ],
            [
             1,
             "#f0f921"
            ]
           ]
          },
          "colorway": [
           "#636efa",
           "#EF553B",
           "#00cc96",
           "#ab63fa",
           "#FFA15A",
           "#19d3f3",
           "#FF6692",
           "#B6E880",
           "#FF97FF",
           "#FECB52"
          ],
          "font": {
           "color": "#2a3f5f"
          },
          "geo": {
           "bgcolor": "white",
           "lakecolor": "white",
           "landcolor": "white",
           "showlakes": true,
           "showland": true,
           "subunitcolor": "#C8D4E3"
          },
          "hoverlabel": {
           "align": "left"
          },
          "hovermode": "closest",
          "mapbox": {
           "style": "light"
          },
          "paper_bgcolor": "white",
          "plot_bgcolor": "white",
          "polar": {
           "angularaxis": {
            "gridcolor": "#EBF0F8",
            "linecolor": "#EBF0F8",
            "ticks": ""
           },
           "bgcolor": "white",
           "radialaxis": {
            "gridcolor": "#EBF0F8",
            "linecolor": "#EBF0F8",
            "ticks": ""
           }
          },
          "scene": {
           "xaxis": {
            "backgroundcolor": "white",
            "gridcolor": "#DFE8F3",
            "gridwidth": 2,
            "linecolor": "#EBF0F8",
            "showbackground": true,
            "ticks": "",
            "zerolinecolor": "#EBF0F8"
           },
           "yaxis": {
            "backgroundcolor": "white",
            "gridcolor": "#DFE8F3",
            "gridwidth": 2,
            "linecolor": "#EBF0F8",
            "showbackground": true,
            "ticks": "",
            "zerolinecolor": "#EBF0F8"
           },
           "zaxis": {
            "backgroundcolor": "white",
            "gridcolor": "#DFE8F3",
            "gridwidth": 2,
            "linecolor": "#EBF0F8",
            "showbackground": true,
            "ticks": "",
            "zerolinecolor": "#EBF0F8"
           }
          },
          "shapedefaults": {
           "line": {
            "color": "#2a3f5f"
           }
          },
          "ternary": {
           "aaxis": {
            "gridcolor": "#DFE8F3",
            "linecolor": "#A2B1C6",
            "ticks": ""
           },
           "baxis": {
            "gridcolor": "#DFE8F3",
            "linecolor": "#A2B1C6",
            "ticks": ""
           },
           "bgcolor": "white",
           "caxis": {
            "gridcolor": "#DFE8F3",
            "linecolor": "#A2B1C6",
            "ticks": ""
           }
          },
          "title": {
           "x": 0.05
          },
          "xaxis": {
           "automargin": true,
           "gridcolor": "#EBF0F8",
           "linecolor": "#EBF0F8",
           "ticks": "",
           "title": {
            "standoff": 15
           },
           "zerolinecolor": "#EBF0F8",
           "zerolinewidth": 2
          },
          "yaxis": {
           "automargin": true,
           "gridcolor": "#EBF0F8",
           "linecolor": "#EBF0F8",
           "ticks": "",
           "title": {
            "standoff": 15
           },
           "zerolinecolor": "#EBF0F8",
           "zerolinewidth": 2
          }
         }
        },
        "title": {
         "font": {
          "color": "Black",
          "size": 22
         },
         "text": "Topic Word Scores",
         "x": 0.5,
         "xanchor": "center",
         "yanchor": "top"
        },
        "width": 1000,
        "xaxis": {
         "anchor": "y",
         "domain": [
          0,
          0.175
         ],
         "showgrid": true
        },
        "xaxis2": {
         "anchor": "y2",
         "domain": [
          0.275,
          0.45
         ],
         "showgrid": true
        },
        "xaxis3": {
         "anchor": "y3",
         "domain": [
          0.55,
          0.7250000000000001
         ],
         "showgrid": true
        },
        "xaxis4": {
         "anchor": "y4",
         "domain": [
          0.825,
          1
         ],
         "showgrid": true
        },
        "xaxis5": {
         "anchor": "y5",
         "domain": [
          0,
          0.175
         ],
         "showgrid": true
        },
        "xaxis6": {
         "anchor": "y6",
         "domain": [
          0.275,
          0.45
         ],
         "showgrid": true
        },
        "xaxis7": {
         "anchor": "y7",
         "domain": [
          0.55,
          0.7250000000000001
         ],
         "showgrid": true
        },
        "xaxis8": {
         "anchor": "y8",
         "domain": [
          0.825,
          1
         ],
         "showgrid": true
        },
        "yaxis": {
         "anchor": "x",
         "domain": [
          0.6000000000000001,
          1
         ],
         "showgrid": true
        },
        "yaxis2": {
         "anchor": "x2",
         "domain": [
          0.6000000000000001,
          1
         ],
         "showgrid": true
        },
        "yaxis3": {
         "anchor": "x3",
         "domain": [
          0.6000000000000001,
          1
         ],
         "showgrid": true
        },
        "yaxis4": {
         "anchor": "x4",
         "domain": [
          0.6000000000000001,
          1
         ],
         "showgrid": true
        },
        "yaxis5": {
         "anchor": "x5",
         "domain": [
          0,
          0.4
         ],
         "showgrid": true
        },
        "yaxis6": {
         "anchor": "x6",
         "domain": [
          0,
          0.4
         ],
         "showgrid": true
        },
        "yaxis7": {
         "anchor": "x7",
         "domain": [
          0,
          0.4
         ],
         "showgrid": true
        },
        "yaxis8": {
         "anchor": "x8",
         "domain": [
          0,
          0.4
         ],
         "showgrid": true
        }
       }
      },
      "text/html": [
       "<div>                            <div id=\"2ee7d0d3-d73c-4ad8-9cd5-4796a8720037\" class=\"plotly-graph-div\" style=\"height:500px; width:1000px;\"></div>            <script type=\"text/javascript\">                require([\"plotly\"], function(Plotly) {                    window.PLOTLYENV=window.PLOTLYENV || {};                                    if (document.getElementById(\"2ee7d0d3-d73c-4ad8-9cd5-4796a8720037\")) {                    Plotly.newPlot(                        \"2ee7d0d3-d73c-4ad8-9cd5-4796a8720037\",                        [{\"marker\":{\"color\":\"#D55E00\"},\"orientation\":\"h\",\"x\":[0.012040830165502208,0.012935132543213742,0.014419206490610669,0.015809481387784916,0.016451429888813214],\"y\":[\"warming  \",\"2017  \",\"global  \",\"high  \",\"confidence  \"],\"type\":\"bar\",\"xaxis\":\"x\",\"yaxis\":\"y\"},{\"marker\":{\"color\":\"#0072B2\"},\"orientation\":\"h\",\"x\":[0.031617270806893014,0.03706906093182254,0.04124783210431465,0.057725351401046815,0.06305268021564381],\"y\":[\"use  \",\"carbon  \",\"biomass  \",\"forest  \",\"land  \"],\"type\":\"bar\",\"xaxis\":\"x2\",\"yaxis\":\"y2\"},{\"marker\":{\"color\":\"#CC79A7\"},\"orientation\":\"h\",\"x\":[0.033884516047036045,0.037206780502046954,0.037286211279761935,0.04297907785488431,0.06788522430706469],\"y\":[\"cattle  \",\"management  \",\"livestock  \",\"2006  \",\"manure  \"],\"type\":\"bar\",\"xaxis\":\"x3\",\"yaxis\":\"y3\"},{\"marker\":{\"color\":\"#E69F00\"},\"orientation\":\"h\",\"x\":[0.03964264208726224,0.04358219453326142,0.051627955846391516,0.082028918987982,0.15497490474488623],\"y\":[\"2006  \",\"activity  \",\"data  \",\"uncertainties  \",\"uncertainty  \"],\"type\":\"bar\",\"xaxis\":\"x4\",\"yaxis\":\"y4\"},{\"marker\":{\"color\":\"#56B4E9\"},\"orientation\":\"h\",\"x\":[0.03521368314258142,0.03531059328951526,0.06501641479288423,0.07683447945810129,0.18183841215679375],\"y\":[\"sites  \",\"treatment  \",\"disposal  \",\"solid  \",\"waste  \"],\"type\":\"bar\",\"xaxis\":\"x5\",\"yaxis\":\"y5\"},{\"marker\":{\"color\":\"#009E73\"},\"orientation\":\"h\",\"x\":[0.03648791902583599,0.041608163576284815,0.047414271404251467,0.05067785203744568,0.08773877810325735],\"y\":[\"equation  \",\"chapter  \",\"page  \",\"volume  \",\"2006  \"],\"type\":\"bar\",\"xaxis\":\"x6\",\"yaxis\":\"y6\"},{\"marker\":{\"color\":\"#F0E442\"},\"orientation\":\"h\",\"x\":[0.05141784958986566,0.05565994115410942,0.07120455302600988,0.08412712565218973,0.11225639727074063],\"y\":[\"second  \",\"warming  \",\"assessment  \",\"report  \",\"gwp  \"],\"type\":\"bar\",\"xaxis\":\"x7\",\"yaxis\":\"y7\"},{\"marker\":{\"color\":\"#D55E00\"},\"orientation\":\"h\",\"x\":[0.05107087475482959,0.051747077527439796,0.06946309268739863,0.07265643441835437,0.08379193925618075],\"y\":[\"inventories  \",\"greenhouse  \",\"national  \",\"ghg  \",\"inventory  \"],\"type\":\"bar\",\"xaxis\":\"x8\",\"yaxis\":\"y8\"}],                        {\"template\":{\"data\":{\"barpolar\":[{\"marker\":{\"line\":{\"color\":\"white\",\"width\":0.5},\"pattern\":{\"fillmode\":\"overlay\",\"size\":10,\"solidity\":0.2}},\"type\":\"barpolar\"}],\"bar\":[{\"error_x\":{\"color\":\"#2a3f5f\"},\"error_y\":{\"color\":\"#2a3f5f\"},\"marker\":{\"line\":{\"color\":\"white\",\"width\":0.5},\"pattern\":{\"fillmode\":\"overlay\",\"size\":10,\"solidity\":0.2}},\"type\":\"bar\"}],\"carpet\":[{\"aaxis\":{\"endlinecolor\":\"#2a3f5f\",\"gridcolor\":\"#C8D4E3\",\"linecolor\":\"#C8D4E3\",\"minorgridcolor\":\"#C8D4E3\",\"startlinecolor\":\"#2a3f5f\"},\"baxis\":{\"endlinecolor\":\"#2a3f5f\",\"gridcolor\":\"#C8D4E3\",\"linecolor\":\"#C8D4E3\",\"minorgridcolor\":\"#C8D4E3\",\"startlinecolor\":\"#2a3f5f\"},\"type\":\"carpet\"}],\"choropleth\":[{\"colorbar\":{\"outlinewidth\":0,\"ticks\":\"\"},\"type\":\"choropleth\"}],\"contourcarpet\":[{\"colorbar\":{\"outlinewidth\":0,\"ticks\":\"\"},\"type\":\"contourcarpet\"}],\"contour\":[{\"colorbar\":{\"outlinewidth\":0,\"ticks\":\"\"},\"colorscale\":[[0.0,\"#0d0887\"],[0.1111111111111111,\"#46039f\"],[0.2222222222222222,\"#7201a8\"],[0.3333333333333333,\"#9c179e\"],[0.4444444444444444,\"#bd3786\"],[0.5555555555555556,\"#d8576b\"],[0.6666666666666666,\"#ed7953\"],[0.7777777777777778,\"#fb9f3a\"],[0.8888888888888888,\"#fdca26\"],[1.0,\"#f0f921\"]],\"type\":\"contour\"}],\"heatmapgl\":[{\"colorbar\":{\"outlinewidth\":0,\"ticks\":\"\"},\"colorscale\":[[0.0,\"#0d0887\"],[0.1111111111111111,\"#46039f\"],[0.2222222222222222,\"#7201a8\"],[0.3333333333333333,\"#9c179e\"],[0.4444444444444444,\"#bd3786\"],[0.5555555555555556,\"#d8576b\"],[0.6666666666666666,\"#ed7953\"],[0.7777777777777778,\"#fb9f3a\"],[0.8888888888888888,\"#fdca26\"],[1.0,\"#f0f921\"]],\"type\":\"heatmapgl\"}],\"heatmap\":[{\"colorbar\":{\"outlinewidth\":0,\"ticks\":\"\"},\"colorscale\":[[0.0,\"#0d0887\"],[0.1111111111111111,\"#46039f\"],[0.2222222222222222,\"#7201a8\"],[0.3333333333333333,\"#9c179e\"],[0.4444444444444444,\"#bd3786\"],[0.5555555555555556,\"#d8576b\"],[0.6666666666666666,\"#ed7953\"],[0.7777777777777778,\"#fb9f3a\"],[0.8888888888888888,\"#fdca26\"],[1.0,\"#f0f921\"]],\"type\":\"heatmap\"}],\"histogram2dcontour\":[{\"colorbar\":{\"outlinewidth\":0,\"ticks\":\"\"},\"colorscale\":[[0.0,\"#0d0887\"],[0.1111111111111111,\"#46039f\"],[0.2222222222222222,\"#7201a8\"],[0.3333333333333333,\"#9c179e\"],[0.4444444444444444,\"#bd3786\"],[0.5555555555555556,\"#d8576b\"],[0.6666666666666666,\"#ed7953\"],[0.7777777777777778,\"#fb9f3a\"],[0.8888888888888888,\"#fdca26\"],[1.0,\"#f0f921\"]],\"type\":\"histogram2dcontour\"}],\"histogram2d\":[{\"colorbar\":{\"outlinewidth\":0,\"ticks\":\"\"},\"colorscale\":[[0.0,\"#0d0887\"],[0.1111111111111111,\"#46039f\"],[0.2222222222222222,\"#7201a8\"],[0.3333333333333333,\"#9c179e\"],[0.4444444444444444,\"#bd3786\"],[0.5555555555555556,\"#d8576b\"],[0.6666666666666666,\"#ed7953\"],[0.7777777777777778,\"#fb9f3a\"],[0.8888888888888888,\"#fdca26\"],[1.0,\"#f0f921\"]],\"type\":\"histogram2d\"}],\"histogram\":[{\"marker\":{\"pattern\":{\"fillmode\":\"overlay\",\"size\":10,\"solidity\":0.2}},\"type\":\"histogram\"}],\"mesh3d\":[{\"colorbar\":{\"outlinewidth\":0,\"ticks\":\"\"},\"type\":\"mesh3d\"}],\"parcoords\":[{\"line\":{\"colorbar\":{\"outlinewidth\":0,\"ticks\":\"\"}},\"type\":\"parcoords\"}],\"pie\":[{\"automargin\":true,\"type\":\"pie\"}],\"scatter3d\":[{\"line\":{\"colorbar\":{\"outlinewidth\":0,\"ticks\":\"\"}},\"marker\":{\"colorbar\":{\"outlinewidth\":0,\"ticks\":\"\"}},\"type\":\"scatter3d\"}],\"scattercarpet\":[{\"marker\":{\"colorbar\":{\"outlinewidth\":0,\"ticks\":\"\"}},\"type\":\"scattercarpet\"}],\"scattergeo\":[{\"marker\":{\"colorbar\":{\"outlinewidth\":0,\"ticks\":\"\"}},\"type\":\"scattergeo\"}],\"scattergl\":[{\"marker\":{\"colorbar\":{\"outlinewidth\":0,\"ticks\":\"\"}},\"type\":\"scattergl\"}],\"scattermapbox\":[{\"marker\":{\"colorbar\":{\"outlinewidth\":0,\"ticks\":\"\"}},\"type\":\"scattermapbox\"}],\"scatterpolargl\":[{\"marker\":{\"colorbar\":{\"outlinewidth\":0,\"ticks\":\"\"}},\"type\":\"scatterpolargl\"}],\"scatterpolar\":[{\"marker\":{\"colorbar\":{\"outlinewidth\":0,\"ticks\":\"\"}},\"type\":\"scatterpolar\"}],\"scatter\":[{\"fillpattern\":{\"fillmode\":\"overlay\",\"size\":10,\"solidity\":0.2},\"type\":\"scatter\"}],\"scatterternary\":[{\"marker\":{\"colorbar\":{\"outlinewidth\":0,\"ticks\":\"\"}},\"type\":\"scatterternary\"}],\"surface\":[{\"colorbar\":{\"outlinewidth\":0,\"ticks\":\"\"},\"colorscale\":[[0.0,\"#0d0887\"],[0.1111111111111111,\"#46039f\"],[0.2222222222222222,\"#7201a8\"],[0.3333333333333333,\"#9c179e\"],[0.4444444444444444,\"#bd3786\"],[0.5555555555555556,\"#d8576b\"],[0.6666666666666666,\"#ed7953\"],[0.7777777777777778,\"#fb9f3a\"],[0.8888888888888888,\"#fdca26\"],[1.0,\"#f0f921\"]],\"type\":\"surface\"}],\"table\":[{\"cells\":{\"fill\":{\"color\":\"#EBF0F8\"},\"line\":{\"color\":\"white\"}},\"header\":{\"fill\":{\"color\":\"#C8D4E3\"},\"line\":{\"color\":\"white\"}},\"type\":\"table\"}]},\"layout\":{\"annotationdefaults\":{\"arrowcolor\":\"#2a3f5f\",\"arrowhead\":0,\"arrowwidth\":1},\"autotypenumbers\":\"strict\",\"coloraxis\":{\"colorbar\":{\"outlinewidth\":0,\"ticks\":\"\"}},\"colorscale\":{\"diverging\":[[0,\"#8e0152\"],[0.1,\"#c51b7d\"],[0.2,\"#de77ae\"],[0.3,\"#f1b6da\"],[0.4,\"#fde0ef\"],[0.5,\"#f7f7f7\"],[0.6,\"#e6f5d0\"],[0.7,\"#b8e186\"],[0.8,\"#7fbc41\"],[0.9,\"#4d9221\"],[1,\"#276419\"]],\"sequential\":[[0.0,\"#0d0887\"],[0.1111111111111111,\"#46039f\"],[0.2222222222222222,\"#7201a8\"],[0.3333333333333333,\"#9c179e\"],[0.4444444444444444,\"#bd3786\"],[0.5555555555555556,\"#d8576b\"],[0.6666666666666666,\"#ed7953\"],[0.7777777777777778,\"#fb9f3a\"],[0.8888888888888888,\"#fdca26\"],[1.0,\"#f0f921\"]],\"sequentialminus\":[[0.0,\"#0d0887\"],[0.1111111111111111,\"#46039f\"],[0.2222222222222222,\"#7201a8\"],[0.3333333333333333,\"#9c179e\"],[0.4444444444444444,\"#bd3786\"],[0.5555555555555556,\"#d8576b\"],[0.6666666666666666,\"#ed7953\"],[0.7777777777777778,\"#fb9f3a\"],[0.8888888888888888,\"#fdca26\"],[1.0,\"#f0f921\"]]},\"colorway\":[\"#636efa\",\"#EF553B\",\"#00cc96\",\"#ab63fa\",\"#FFA15A\",\"#19d3f3\",\"#FF6692\",\"#B6E880\",\"#FF97FF\",\"#FECB52\"],\"font\":{\"color\":\"#2a3f5f\"},\"geo\":{\"bgcolor\":\"white\",\"lakecolor\":\"white\",\"landcolor\":\"white\",\"showlakes\":true,\"showland\":true,\"subunitcolor\":\"#C8D4E3\"},\"hoverlabel\":{\"align\":\"left\"},\"hovermode\":\"closest\",\"mapbox\":{\"style\":\"light\"},\"paper_bgcolor\":\"white\",\"plot_bgcolor\":\"white\",\"polar\":{\"angularaxis\":{\"gridcolor\":\"#EBF0F8\",\"linecolor\":\"#EBF0F8\",\"ticks\":\"\"},\"bgcolor\":\"white\",\"radialaxis\":{\"gridcolor\":\"#EBF0F8\",\"linecolor\":\"#EBF0F8\",\"ticks\":\"\"}},\"scene\":{\"xaxis\":{\"backgroundcolor\":\"white\",\"gridcolor\":\"#DFE8F3\",\"gridwidth\":2,\"linecolor\":\"#EBF0F8\",\"showbackground\":true,\"ticks\":\"\",\"zerolinecolor\":\"#EBF0F8\"},\"yaxis\":{\"backgroundcolor\":\"white\",\"gridcolor\":\"#DFE8F3\",\"gridwidth\":2,\"linecolor\":\"#EBF0F8\",\"showbackground\":true,\"ticks\":\"\",\"zerolinecolor\":\"#EBF0F8\"},\"zaxis\":{\"backgroundcolor\":\"white\",\"gridcolor\":\"#DFE8F3\",\"gridwidth\":2,\"linecolor\":\"#EBF0F8\",\"showbackground\":true,\"ticks\":\"\",\"zerolinecolor\":\"#EBF0F8\"}},\"shapedefaults\":{\"line\":{\"color\":\"#2a3f5f\"}},\"ternary\":{\"aaxis\":{\"gridcolor\":\"#DFE8F3\",\"linecolor\":\"#A2B1C6\",\"ticks\":\"\"},\"baxis\":{\"gridcolor\":\"#DFE8F3\",\"linecolor\":\"#A2B1C6\",\"ticks\":\"\"},\"bgcolor\":\"white\",\"caxis\":{\"gridcolor\":\"#DFE8F3\",\"linecolor\":\"#A2B1C6\",\"ticks\":\"\"}},\"title\":{\"x\":0.05},\"xaxis\":{\"automargin\":true,\"gridcolor\":\"#EBF0F8\",\"linecolor\":\"#EBF0F8\",\"ticks\":\"\",\"title\":{\"standoff\":15},\"zerolinecolor\":\"#EBF0F8\",\"zerolinewidth\":2},\"yaxis\":{\"automargin\":true,\"gridcolor\":\"#EBF0F8\",\"linecolor\":\"#EBF0F8\",\"ticks\":\"\",\"title\":{\"standoff\":15},\"zerolinecolor\":\"#EBF0F8\",\"zerolinewidth\":2}}},\"xaxis\":{\"anchor\":\"y\",\"domain\":[0.0,0.175],\"showgrid\":true},\"yaxis\":{\"anchor\":\"x\",\"domain\":[0.6000000000000001,1.0],\"showgrid\":true},\"xaxis2\":{\"anchor\":\"y2\",\"domain\":[0.275,0.45],\"showgrid\":true},\"yaxis2\":{\"anchor\":\"x2\",\"domain\":[0.6000000000000001,1.0],\"showgrid\":true},\"xaxis3\":{\"anchor\":\"y3\",\"domain\":[0.55,0.7250000000000001],\"showgrid\":true},\"yaxis3\":{\"anchor\":\"x3\",\"domain\":[0.6000000000000001,1.0],\"showgrid\":true},\"xaxis4\":{\"anchor\":\"y4\",\"domain\":[0.825,1.0],\"showgrid\":true},\"yaxis4\":{\"anchor\":\"x4\",\"domain\":[0.6000000000000001,1.0],\"showgrid\":true},\"xaxis5\":{\"anchor\":\"y5\",\"domain\":[0.0,0.175],\"showgrid\":true},\"yaxis5\":{\"anchor\":\"x5\",\"domain\":[0.0,0.4],\"showgrid\":true},\"xaxis6\":{\"anchor\":\"y6\",\"domain\":[0.275,0.45],\"showgrid\":true},\"yaxis6\":{\"anchor\":\"x6\",\"domain\":[0.0,0.4],\"showgrid\":true},\"xaxis7\":{\"anchor\":\"y7\",\"domain\":[0.55,0.7250000000000001],\"showgrid\":true},\"yaxis7\":{\"anchor\":\"x7\",\"domain\":[0.0,0.4],\"showgrid\":true},\"xaxis8\":{\"anchor\":\"y8\",\"domain\":[0.825,1.0],\"showgrid\":true},\"yaxis8\":{\"anchor\":\"x8\",\"domain\":[0.0,0.4],\"showgrid\":true},\"annotations\":[{\"font\":{\"size\":16},\"showarrow\":false,\"text\":\"Topic 0\",\"x\":0.0875,\"xanchor\":\"center\",\"xref\":\"paper\",\"y\":1.0,\"yanchor\":\"bottom\",\"yref\":\"paper\"},{\"font\":{\"size\":16},\"showarrow\":false,\"text\":\"Topic 1\",\"x\":0.36250000000000004,\"xanchor\":\"center\",\"xref\":\"paper\",\"y\":1.0,\"yanchor\":\"bottom\",\"yref\":\"paper\"},{\"font\":{\"size\":16},\"showarrow\":false,\"text\":\"Topic 2\",\"x\":0.6375000000000001,\"xanchor\":\"center\",\"xref\":\"paper\",\"y\":1.0,\"yanchor\":\"bottom\",\"yref\":\"paper\"},{\"font\":{\"size\":16},\"showarrow\":false,\"text\":\"Topic 3\",\"x\":0.9125,\"xanchor\":\"center\",\"xref\":\"paper\",\"y\":1.0,\"yanchor\":\"bottom\",\"yref\":\"paper\"},{\"font\":{\"size\":16},\"showarrow\":false,\"text\":\"Topic 4\",\"x\":0.0875,\"xanchor\":\"center\",\"xref\":\"paper\",\"y\":0.4,\"yanchor\":\"bottom\",\"yref\":\"paper\"},{\"font\":{\"size\":16},\"showarrow\":false,\"text\":\"Topic 5\",\"x\":0.36250000000000004,\"xanchor\":\"center\",\"xref\":\"paper\",\"y\":0.4,\"yanchor\":\"bottom\",\"yref\":\"paper\"},{\"font\":{\"size\":16},\"showarrow\":false,\"text\":\"Topic 6\",\"x\":0.6375000000000001,\"xanchor\":\"center\",\"xref\":\"paper\",\"y\":0.4,\"yanchor\":\"bottom\",\"yref\":\"paper\"},{\"font\":{\"size\":16},\"showarrow\":false,\"text\":\"Topic 7\",\"x\":0.9125,\"xanchor\":\"center\",\"xref\":\"paper\",\"y\":0.4,\"yanchor\":\"bottom\",\"yref\":\"paper\"}],\"title\":{\"font\":{\"size\":22,\"color\":\"Black\"},\"text\":\"Topic Word Scores\",\"x\":0.5,\"xanchor\":\"center\",\"yanchor\":\"top\"},\"hoverlabel\":{\"font\":{\"size\":16,\"family\":\"Rockwell\"},\"bgcolor\":\"white\"},\"showlegend\":false,\"width\":1000,\"height\":500},                        {\"responsive\": true}                    ).then(function(){\n",
       "                            \n",
       "var gd = document.getElementById('2ee7d0d3-d73c-4ad8-9cd5-4796a8720037');\n",
       "var x = new MutationObserver(function (mutations, observer) {{\n",
       "        var display = window.getComputedStyle(gd).display;\n",
       "        if (!display || display === 'none') {{\n",
       "            console.log([gd, 'removed!']);\n",
       "            Plotly.purge(gd);\n",
       "            observer.disconnect();\n",
       "        }}\n",
       "}});\n",
       "\n",
       "// Listen for the removal of the full notebook cells\n",
       "var notebookContainer = gd.closest('#notebook-container');\n",
       "if (notebookContainer) {{\n",
       "    x.observe(notebookContainer, {childList: true});\n",
       "}}\n",
       "\n",
       "// Listen for the clearing of the current output cell\n",
       "var outputEl = gd.closest('.output');\n",
       "if (outputEl) {{\n",
       "    x.observe(outputEl, {childList: true});\n",
       "}}\n",
       "\n",
       "                        })                };                });            </script>        </div>"
      ]
     },
     "metadata": {},
     "output_type": "display_data"
    }
   ],
   "source": [
    "topics, probs, model = create_topics(29, \"CountVectorizer\", list_comb)\n",
    "model.visualize_barchart()"
   ]
  },
  {
   "cell_type": "code",
   "execution_count": 87,
   "id": "e25e680c",
   "metadata": {},
   "outputs": [],
   "source": [
    "topics_old, topics_new, df_full_comb = add_topics_to_df(topics, probs, model, df_comb, list_comb)\n",
    "# df_full_comb[\"doc_type_major\"] = df_full_comb[\"types0\"].where(df_full_comb[\"types0\"] == \"IPCC Report\", other='Country Policy Reports')\n",
    "# df_full_comb.groupby(['Name','doc_type_major'])['text'].size().unstack().plot(kind='bar', stacked=True)\n",
    "# df_full_comb"
   ]
  },
  {
   "cell_type": "code",
   "execution_count": 88,
   "id": "acb4243b",
   "metadata": {},
   "outputs": [],
   "source": [
    "topics_oldandnew = pd.merge(topics_old, topics_new, how='left',left_index=True,right_index=True)\n",
    "topics_oldandnew.to_csv('combined_topic_dist_20240521.csv')"
   ]
  },
  {
   "cell_type": "code",
   "execution_count": 89,
   "id": "cfbf9d69",
   "metadata": {},
   "outputs": [],
   "source": [
    "representative_docs = model.get_representative_docs()\n",
    "representative_docs\n",
    "pd.DataFrame(representative_docs).to_csv(\"combined_topics_final_reps_fixed_20240521.csv\")"
   ]
  },
  {
   "cell_type": "code",
   "execution_count": 90,
   "id": "19bbb4f5",
   "metadata": {},
   "outputs": [],
   "source": [
    "df_full_comb.to_csv(\"combined_topics_final_fixed_20240521.csv\")"
   ]
  },
  {
   "cell_type": "markdown",
   "id": "e760384e",
   "metadata": {},
   "source": [
    "### STM\n",
    "- Times run: 1\n",
    "- Number of topics: 30\n",
    "- Stopword removal: Yes\n",
    "- Results: Most minor topics also finely skewed\n",
    "- Note: For topics that are similar to the BERTtopic models, the distributions is just as skewed"
   ]
  },
  {
   "cell_type": "code",
   "execution_count": null,
   "id": "07430c83",
   "metadata": {},
   "outputs": [],
   "source": [
    "# Pull in STM results from 5000 samples\n",
    "topics_STM = pd.read_csv(\"topics_STM.csv\")\n",
    "topics_STM_labels = pd.read_csv(\"topics_STM_labels.csv\")\n",
    "# Check distribution in the sample"
   ]
  },
  {
   "cell_type": "code",
   "execution_count": null,
   "id": "933c1d9a",
   "metadata": {},
   "outputs": [],
   "source": [
    "topics_STM['doc_type_major'].value_counts()"
   ]
  },
  {
   "cell_type": "code",
   "execution_count": null,
   "id": "822aaf3d",
   "metadata": {},
   "outputs": [],
   "source": [
    "topics_STM_labels = topics_STM_labels.rename(columns={'Unnamed: 0': 'topic', 'x': 'topic_name'})\n",
    "topics_STM = topics_STM.merge(topics_STM_labels, on = 'topic',how='left')"
   ]
  },
  {
   "cell_type": "code",
   "execution_count": null,
   "id": "c56db0c7",
   "metadata": {},
   "outputs": [],
   "source": [
    "top10topics = pd.DataFrame(topics_STM.groupby(['topic_name'])['text'].size().head(10)).index.values.tolist()"
   ]
  },
  {
   "cell_type": "code",
   "execution_count": null,
   "id": "5a01a9fa",
   "metadata": {},
   "outputs": [],
   "source": [
    "topics_STM = topics_STM[topics_STM['topic_name'].isin(top10topics)]"
   ]
  },
  {
   "cell_type": "code",
   "execution_count": null,
   "id": "6d056cf5",
   "metadata": {},
   "outputs": [],
   "source": [
    "topics_STM.groupby(['topic_name','doc_type_major'])['text'].size().unstack().plot(kind='bar', stacked=True)"
   ]
  },
  {
   "cell_type": "code",
   "execution_count": null,
   "id": "cb437d36",
   "metadata": {},
   "outputs": [],
   "source": [
    "# Next:\n",
    "# Read how other papers process topics\n",
    "## Manually label all hundreds of topics? Then do % of each?\n",
    "## Just show top topics\n",
    "\n",
    "# Create table highlighting findings from topic modelling section\n",
    "## Table 1: IPCC mentions - topic modelling\n",
    "## Table 2: IPCC mentions vs. IPCC report - topic modelling and distributions\n"
   ]
  },
  {
   "cell_type": "code",
   "execution_count": null,
   "id": "4d91eb12",
   "metadata": {},
   "outputs": [],
   "source": []
  }
 ],
 "metadata": {
  "kernelspec": {
   "display_name": "Python 3 (ipykernel)",
   "language": "python",
   "name": "python3"
  },
  "language_info": {
   "codemirror_mode": {
    "name": "ipython",
    "version": 3
   },
   "file_extension": ".py",
   "mimetype": "text/x-python",
   "name": "python",
   "nbconvert_exporter": "python",
   "pygments_lexer": "ipython3",
   "version": "3.12.1"
  }
 },
 "nbformat": 4,
 "nbformat_minor": 5
}

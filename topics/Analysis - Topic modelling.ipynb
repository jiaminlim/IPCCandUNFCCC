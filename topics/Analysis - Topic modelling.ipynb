{
 "cells": [
  {
   "cell_type": "code",
   "execution_count": null,
   "id": "35f92cdf",
   "metadata": {},
   "outputs": [],
   "source": [
    "# Data manipulation\n",
    "import pandas as pd\n",
    "import numpy as np\n",
    "\n",
    "# Plotting library\n",
    "import matplotlib.pyplot as plt\n",
    "\n",
    "# Topic modelling\n",
    "from umap import UMAP\n",
    "from bertopic import BERTopic\n",
    "from hdbscan import HDBSCAN\n",
    "\n",
    "# Removing stop words\n",
    "from sklearn.feature_extraction.text import CountVectorizer\n",
    "from sklearn.feature_extraction import text\n",
    "from bertopic.vectorizers import ClassTfidfTransformer\n",
    "from bertopic.representation import KeyBERTInspired"
   ]
  },
  {
   "cell_type": "code",
   "execution_count": null,
   "id": "2f3a9f01",
   "metadata": {},
   "outputs": [],
   "source": [
    "link1 = r'/Users/jiaminlim/Documents/Research/climate_nlp/IPCCandPolicy/datasets/df_ipccmentions_body.csv'\n",
    "df_ipcc_mentions_body = pd.read_csv(link1)\n",
    "df_ipcc_mentions_body['text']  = df_ipcc_mentions_body['text'].astype('str')\n",
    "mentions = df_ipcc_mentions_body.text.to_list()\n",
    "len(mentions)"
   ]
  },
  {
   "cell_type": "code",
   "execution_count": null,
   "id": "1814fdfc",
   "metadata": {},
   "outputs": [],
   "source": [
    "link2 = r'/Users/jiaminlim/Documents/Research/climate_nlp/IPCCandPolicy/datasets/df_ipccreport_body.csv'\n",
    "df_ipccreport = pd.read_csv(link2)\n",
    "df_ipccreport_sfp = df_ipccreport[df_ipccreport['document_name'].str.contains(\"Summary for Policymakers\")]\n",
    "report = df_ipccreport.text.to_list()\n",
    "len(report)"
   ]
  },
  {
   "cell_type": "code",
   "execution_count": null,
   "id": "55a23a86",
   "metadata": {},
   "outputs": [],
   "source": [
    "my_additional_stop_words = {'et','al','institute','university','climate','change','box','figure','table','ipcc','emission','emissions','guidelines'}\n",
    "stop_words_custom = list(text.ENGLISH_STOP_WORDS.union(my_additional_stop_words))"
   ]
  },
  {
   "cell_type": "code",
   "execution_count": null,
   "id": "db305cde",
   "metadata": {},
   "outputs": [],
   "source": [
    "# https://maartengr.github.io/BERTopic/faq.html\n",
    "umap_model = UMAP(n_neighbors=15, n_components=5,\n",
    "                  min_dist=0.0, metric='cosine', random_state=42)"
   ]
  },
  {
   "cell_type": "code",
   "execution_count": null,
   "id": "f2f3c227",
   "metadata": {},
   "outputs": [],
   "source": [
    "def create_topics(no_clusters, stopword_removal, text):\n",
    "\n",
    "    hdbscan_model = HDBSCAN(min_cluster_size=100, metric='euclidean',\n",
    "                        cluster_selection_method='eom', prediction_data=True, min_samples=5)\n",
    "\n",
    "    match stopword_removal:\n",
    "        case \"CountVectorizer\":\n",
    "            vectorizer_model = CountVectorizer(stop_words=stop_words_custom)\n",
    "            model = BERTopic(verbose=True,\n",
    "                             nr_topics=no_clusters,\n",
    "                             vectorizer_model=vectorizer_model,\n",
    "                             hdbscan_model=hdbscan_model,\n",
    "                             calculate_probabilities=True,\n",
    "                             umap_model=umap_model)\n",
    "\n",
    "        case \"ClassTfidfTransformer\":\n",
    "            ctfidf_model = ClassTfidfTransformer(reduce_frequent_words=True)\n",
    "            model = BERTopic(ctfidf_model=ctfidf_model,\n",
    "                             nr_topics=no_clusters,\n",
    "                             hdbscan_model=hdbscan_model,\n",
    "                             calculate_probabilities=True,\n",
    "                             umap_model=umap_model)\n",
    "\n",
    "        case \"KeyBERTInspired\":\n",
    "            representation_model = KeyBERTInspired()\n",
    "            model30_nostopwords3 = BERTopic(representation_model=representation_model,\n",
    "                                            nr_topics=no_clusters,\n",
    "                                            hdbscan_model=hdbscan_model,\n",
    "                                            calculate_probabilities=True,\n",
    "                                            umap_model=umap_model)\n",
    "\n",
    "    topics, probs = model.fit_transform(text)\n",
    "    return topics, probs, model"
   ]
  },
  {
   "cell_type": "code",
   "execution_count": null,
   "id": "63d90ce6",
   "metadata": {},
   "outputs": [],
   "source": [
    "def add_topics_to_df(topics, probs, model, df_text, text_list):\n",
    "    # Reduce outliers by using probabilities to assign them to topics\n",
    "    new_topics = model.reduce_outliers(text_list, topics, probabilities=probs, strategy=\"probabilities\")\n",
    "    topics_old = pd.DataFrame(topics).value_counts()\n",
    "    topics_new = pd.DataFrame(new_topics).value_counts()\n",
    "\n",
    "    # Create new topic dataframe and merge with full df\n",
    "    df_doctopic = pd.DataFrame({\"text_dup\": text_list, \"Topic\": new_topics})\n",
    "    df_full = pd.concat([df_text , df_doctopic], axis=1,  join='inner')\n",
    "    # print(df_full)\n",
    "\n",
    "    # Merge in topic name into full df\n",
    "    df_topicnames = model.get_topic_info()[['Topic','Name']]\n",
    "    df_full = df_full.merge(df_topicnames, on = 'Topic',how='left')\n",
    "    return topics_old, topics_new, df_full"
   ]
  },
  {
   "cell_type": "markdown",
   "id": "e50c9b47",
   "metadata": {},
   "source": [
    "## IPCC mentions body"
   ]
  },
  {
   "cell_type": "code",
   "execution_count": null,
   "id": "62889d4f",
   "metadata": {},
   "outputs": [],
   "source": [
    "# Run topic model\n",
    "topics, probs, model = create_topics(\"auto\", \"CountVectorizer\", mentions)\n",
    "model.visualize_barchart()"
   ]
  },
  {
   "cell_type": "code",
   "execution_count": null,
   "id": "52fe3c32",
   "metadata": {},
   "outputs": [],
   "source": [
    "# Get representative documents\n",
    "representative_docs = model.get_representative_docs()\n",
    "representative_docs"
   ]
  },
  {
   "cell_type": "code",
   "execution_count": null,
   "id": "b1c06ec3",
   "metadata": {},
   "outputs": [],
   "source": [
    "pd.DataFrame(representative_docs).to_csv(\"mentions_topics_final_reps_fixed.csv\")"
   ]
  },
  {
   "cell_type": "code",
   "execution_count": null,
   "id": "c181d87a",
   "metadata": {},
   "outputs": [],
   "source": [
    "# Add topic labels to each row in the dataframe\n",
    "topics_old, topics_new, df_full_wtopics = add_topics_to_df(topics, probs, model, df_ipcc_mentions_body, mentions)"
   ]
  },
  {
   "cell_type": "code",
   "execution_count": null,
   "id": "7968bdf8",
   "metadata": {},
   "outputs": [],
   "source": [
    "# Output topics before and after outlier reclassification\n",
    "topics_oldandnew = pd.merge(topics_old, topics_new, how='left',left_index=True,right_index=True)\n",
    "topics_oldandnew.to_csv('topic_dist.csv')"
   ]
  },
  {
   "cell_type": "code",
   "execution_count": null,
   "id": "722af50f",
   "metadata": {},
   "outputs": [],
   "source": [
    "df_full_wtopics.to_csv(\"mentions_topics_final_fixed.csv\")"
   ]
  },
  {
   "cell_type": "markdown",
   "id": "59b43913",
   "metadata": {},
   "source": [
    "## IPCC report"
   ]
  },
  {
   "cell_type": "code",
   "execution_count": null,
   "id": "4a43a5c1",
   "metadata": {},
   "outputs": [],
   "source": [
    "# Create topic model\n",
    "topics, probs, model = create_topics(\"auto\", \"CountVectorizer\", report)\n",
    "model.visualize_barchart()"
   ]
  },
  {
   "cell_type": "code",
   "execution_count": null,
   "id": "f8d340a8",
   "metadata": {},
   "outputs": [],
   "source": [
    "# Get representative docs\n",
    "representative_docs = model.get_representative_docs()\n",
    "representative_docs"
   ]
  },
  {
   "cell_type": "code",
   "execution_count": null,
   "id": "a7aa951f",
   "metadata": {},
   "outputs": [],
   "source": [
    "pd.DataFrame(representative_docs).to_csv(\"ipcc_topics_final_reps_fixed.csv\")"
   ]
  },
  {
   "cell_type": "code",
   "execution_count": null,
   "id": "9ba5503e",
   "metadata": {},
   "outputs": [],
   "source": [
    "# Get topic distribution before and after outlier reassignment\n",
    "topics_old, topics_new, df_full_wtopics = add_topics_to_df(topics, probs, model, df_ipccreport, report)\n",
    "topics_oldandnew = pd.merge(topics_old, topics_new, how='left',left_index=True,right_index=True)\n",
    "topics_oldandnew.to_csv('ipcc_topic_dist.csv')"
   ]
  },
  {
   "cell_type": "code",
   "execution_count": null,
   "id": "55e18d49",
   "metadata": {},
   "outputs": [],
   "source": [
    "df_full_wtopics.to_csv(\"ipcc_topics_final_fixed.csv\")"
   ]
  },
  {
   "cell_type": "markdown",
   "id": "2042cd80",
   "metadata": {},
   "source": [
    "## Combined corpus"
   ]
  },
  {
   "cell_type": "code",
   "execution_count": null,
   "id": "3d6bd718",
   "metadata": {},
   "outputs": [],
   "source": [
    "# Combine IPCC mentions and IPCC report dataframe\n",
    "df_comb = pd.concat([df_ipccreport, df_ipcc_mentions_body], ignore_index=True, sort=False)\n",
    "df_comb[\"doc_type_major\"] = df_comb[\"types0\"].where(df_comb[\"types0\"] == \"IPCC Report\", other='Country Policy Reports')"
   ]
  },
  {
   "cell_type": "code",
   "execution_count": null,
   "id": "c9239071",
   "metadata": {},
   "outputs": [],
   "source": [
    "list_comb = df_comb.text.to_list()"
   ]
  },
  {
   "cell_type": "code",
   "execution_count": null,
   "id": "0eb5f5f2",
   "metadata": {},
   "outputs": [],
   "source": [
    "# Create topic model\n",
    "topics, probs, model = create_topics(\"auto\", \"CountVectorizer\", list_comb)\n",
    "model.visualize_barchart()"
   ]
  },
  {
   "cell_type": "code",
   "execution_count": null,
   "id": "a9b25133",
   "metadata": {},
   "outputs": [],
   "source": [
    "# Add topic labels to each row\n",
    "topics_old, topics_new, df_full_comb = add_topics_to_df(topics, probs, model, df_comb, list_comb)"
   ]
  },
  {
   "cell_type": "code",
   "execution_count": null,
   "id": "a5d22825",
   "metadata": {},
   "outputs": [],
   "source": [
    "# Output topics before and after outlier reclassification\n",
    "topics_oldandnew = pd.merge(topics_old, topics_new, how='left',left_index=True,right_index=True)\n",
    "topics_oldandnew.to_csv('combined_topic_dist_20240521.csv')"
   ]
  },
  {
   "cell_type": "code",
   "execution_count": null,
   "id": "72f16b48",
   "metadata": {},
   "outputs": [],
   "source": [
    "representative_docs = model.get_representative_docs()\n",
    "representative_docs\n",
    "pd.DataFrame(representative_docs).to_csv(\"combined_topics_final_reps_fixed.csv\")"
   ]
  },
  {
   "cell_type": "code",
   "execution_count": null,
   "id": "f3396675",
   "metadata": {},
   "outputs": [],
   "source": [
    "df_full_comb.to_csv(\"combined_topics_final_fixed.csv\")"
   ]
  },
  {
   "cell_type": "markdown",
   "id": "e760384e",
   "metadata": {},
   "source": [
    "### STM\n",
    "- Analysing output from STM and comparing them to BERTtopic"
   ]
  },
  {
   "cell_type": "code",
   "execution_count": null,
   "id": "07430c83",
   "metadata": {},
   "outputs": [],
   "source": [
    "# Pull in STM results from 5000 samples\n",
    "topics_STM = pd.read_csv(\"topics_STM.csv\")\n",
    "topics_STM_labels = pd.read_csv(\"topics_STM_labels.csv\")"
   ]
  },
  {
   "cell_type": "code",
   "execution_count": null,
   "id": "933c1d9a",
   "metadata": {},
   "outputs": [],
   "source": [
    "topics_STM['doc_type_major'].value_counts()"
   ]
  },
  {
   "cell_type": "code",
   "execution_count": null,
   "id": "822aaf3d",
   "metadata": {},
   "outputs": [],
   "source": [
    "topics_STM_labels = topics_STM_labels.rename(columns={'Unnamed: 0': 'topic', 'x': 'topic_name'})\n",
    "topics_STM = topics_STM.merge(topics_STM_labels, on = 'topic',how='left')"
   ]
  },
  {
   "cell_type": "code",
   "execution_count": null,
   "id": "c56db0c7",
   "metadata": {},
   "outputs": [],
   "source": [
    "top10topics = pd.DataFrame(topics_STM.groupby(['topic_name'])['text'].size().head(10)).index.values.tolist()"
   ]
  },
  {
   "cell_type": "code",
   "execution_count": null,
   "id": "5a01a9fa",
   "metadata": {},
   "outputs": [],
   "source": [
    "topics_STM = topics_STM[topics_STM['topic_name'].isin(top10topics)]"
   ]
  },
  {
   "cell_type": "code",
   "execution_count": null,
   "id": "6d056cf5",
   "metadata": {},
   "outputs": [],
   "source": [
    "topics_STM.groupby(['topic_name','doc_type_major'])['text'].size().unstack().plot(kind='bar', stacked=True)"
   ]
  },
  {
   "cell_type": "code",
   "execution_count": null,
   "id": "afff6c3b",
   "metadata": {},
   "outputs": [],
   "source": []
  }
 ],
 "metadata": {
  "kernelspec": {
   "display_name": "Python 3 (ipykernel)",
   "language": "python",
   "name": "python3"
  },
  "language_info": {
   "codemirror_mode": {
    "name": "ipython",
    "version": 3
   },
   "file_extension": ".py",
   "mimetype": "text/x-python",
   "name": "python",
   "nbconvert_exporter": "python",
   "pygments_lexer": "ipython3",
   "version": "3.11.5"
  }
 },
 "nbformat": 4,
 "nbformat_minor": 5
}

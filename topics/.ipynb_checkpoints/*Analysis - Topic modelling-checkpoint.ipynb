{
 "cells": [
  {
   "cell_type": "code",
   "execution_count": 37,
   "id": "35f92cdf",
   "metadata": {},
   "outputs": [],
   "source": [
    "import pandas as pd\n",
    "import numpy as np\n",
    "from datasets import load_dataset\n",
    "\n",
    "from umap import UMAP\n",
    "\n",
    "# Plotting library\n",
    "import matplotlib.pyplot as plt\n",
    "\n",
    "\n",
    "# Topic modelling\n",
    "from bertopic import BERTopic\n",
    "from hdbscan import HDBSCAN\n",
    "\n",
    "# Removing stop words\n",
    "from sklearn.feature_extraction.text import CountVectorizer\n",
    "from sklearn.feature_extraction import text \n",
    "from bertopic.vectorizers import ClassTfidfTransformer\n",
    "from bertopic.representation import KeyBERTInspired"
   ]
  },
  {
   "cell_type": "code",
   "execution_count": 40,
   "id": "95d8bfda",
   "metadata": {},
   "outputs": [
    {
     "data": {
      "text/plain": [
       "'0.16.0'"
      ]
     },
     "execution_count": 40,
     "metadata": {},
     "output_type": "execute_result"
    }
   ],
   "source": [
    "from importlib.metadata import version\n",
    "version('bertopic')\n"
   ]
  },
  {
   "cell_type": "code",
   "execution_count": 25,
   "id": "2f3a9f01",
   "metadata": {},
   "outputs": [
    {
     "data": {
      "text/plain": [
       "18848"
      ]
     },
     "execution_count": 25,
     "metadata": {},
     "output_type": "execute_result"
    }
   ],
   "source": [
    "df_ipcc_mentions_body = pd.read_csv('df_ipccmentions_body.csv')\n",
    "df_ipcc_mentions_body['text']  = df_ipcc_mentions_body['text'].astype('str')\n",
    "mentions = df_ipcc_mentions_body.text.to_list()\n",
    "len(mentions)"
   ]
  },
  {
   "cell_type": "code",
   "execution_count": 26,
   "id": "1814fdfc",
   "metadata": {},
   "outputs": [
    {
     "data": {
      "text/plain": [
       "16666"
      ]
     },
     "execution_count": 26,
     "metadata": {},
     "output_type": "execute_result"
    }
   ],
   "source": [
    "df_ipccreport = pd.read_csv('df_ipccreport_body.csv')\n",
    "df_ipccreport_sfp = df_ipccreport[df_ipccreport['document_name'].str.contains(\"Summary for Policymakers\")]\n",
    "report = df_ipccreport.text.to_list()\n",
    "len(report)"
   ]
  },
  {
   "cell_type": "code",
   "execution_count": 4,
   "id": "55a23a86",
   "metadata": {},
   "outputs": [],
   "source": [
    "# text.ENGLISH_STOP_WORDS\n",
    "my_additional_stop_words = {'et','al','institute','university','climate','change','box','figure','table','ipcc','emission','emissions','guidelines'}\n",
    "stop_words_custom = list(text.ENGLISH_STOP_WORDS.union(my_additional_stop_words))\n",
    "# stop_words_custom"
   ]
  },
  {
   "cell_type": "code",
   "execution_count": 32,
   "id": "db305cde",
   "metadata": {},
   "outputs": [],
   "source": [
    "# https://maartengr.github.io/BERTopic/faq.html\n",
    "umap_model = UMAP(n_neighbors=15, n_components=5, \n",
    "                  min_dist=0.0, metric='cosine', random_state=42)"
   ]
  },
  {
   "cell_type": "code",
   "execution_count": 30,
   "id": "f2f3c227",
   "metadata": {},
   "outputs": [],
   "source": [
    "def create_topics(no_clusters, stopword_removal, text):\n",
    "    \n",
    "    # Note: min_cluster_size = the minimum size a final cluster can be; min_samples = the minimum number of neighbours to a core point\n",
    "    hdbscan_model = HDBSCAN(min_cluster_size=100, metric='euclidean', \n",
    "                        cluster_selection_method='eom', prediction_data=True, min_samples=5)\n",
    "    \n",
    "    match stopword_removal:\n",
    "        case \"CountVectorizer\":\n",
    "            vectorizer_model = CountVectorizer(stop_words=stop_words_custom)\n",
    "            model = BERTopic(verbose=True, \n",
    "                             nr_topics=no_clusters, \n",
    "                             vectorizer_model=vectorizer_model, \n",
    "                             hdbscan_model=hdbscan_model,\n",
    "                             calculate_probabilities=True,\n",
    "                             umap_model=umap_model)\n",
    "\n",
    "        case \"ClassTfidfTransformer\":\n",
    "            ctfidf_model = ClassTfidfTransformer(reduce_frequent_words=True)\n",
    "            model = BERTopic(ctfidf_model=ctfidf_model, \n",
    "                             nr_topics=no_clusters, \n",
    "                             hdbscan_model=hdbscan_model,\n",
    "                             calculate_probabilities=True,\n",
    "                             umap_model=umap_model)\n",
    "\n",
    "        case \"KeyBERTInspired\":\n",
    "            representation_model = KeyBERTInspired()\n",
    "            model30_nostopwords3 = BERTopic(representation_model=representation_model, \n",
    "                                            nr_topics=no_clusters, \n",
    "                                            hdbscan_model=hdbscan_model,\n",
    "                                            calculate_probabilities=True,\n",
    "                                            umap_model=umap_model)\n",
    "    \n",
    "    topics, probs = model.fit_transform(text)\n",
    "    return topics, probs, model"
   ]
  },
  {
   "cell_type": "code",
   "execution_count": 6,
   "id": "63d90ce6",
   "metadata": {},
   "outputs": [],
   "source": [
    "def add_topics_to_df(topics, probs, model, df_text, text_list):\n",
    "    # Reduce outliers by using probabilities to assign them to topics\n",
    "    new_topics = model.reduce_outliers(text_list, topics, probabilities=probs, strategy=\"probabilities\")\n",
    "    pd.DataFrame(topics).value_counts()\n",
    "    pd.DataFrame(new_topics).value_counts()\n",
    "    \n",
    "    # Create new topic dataframe and merge with full df\n",
    "    df_doctopic = pd.DataFrame({\"text_dup\": text_list, \"Topic\": new_topics})\n",
    "    df_full = pd.concat([df_text , df_doctopic], axis=1,  join='inner')\n",
    "    df_full\n",
    "\n",
    "    # Merge in topic name into full df\n",
    "    df_topicnames = model.get_topic_info()[['Topic','Name']]\n",
    "    df_full = df_full.merge(df_topicnames, on = 'Topic',how='left')\n",
    "    return df_full"
   ]
  },
  {
   "cell_type": "markdown",
   "id": "e50c9b47",
   "metadata": {},
   "source": [
    "## IPCC mentions body"
   ]
  },
  {
   "cell_type": "code",
   "execution_count": 33,
   "id": "62889d4f",
   "metadata": {},
   "outputs": [
    {
     "name": "stderr",
     "output_type": "stream",
     "text": [
      "2024-04-18 16:41:30,034 - BERTopic - Embedding - Transforming documents to embeddings.\n"
     ]
    },
    {
     "data": {
      "application/vnd.jupyter.widget-view+json": {
       "model_id": "93aeda08b24e41e98bacd11dfb34a04f",
       "version_major": 2,
       "version_minor": 0
      },
      "text/plain": [
       "Batches:   0%|          | 0/589 [00:00<?, ?it/s]"
      ]
     },
     "metadata": {},
     "output_type": "display_data"
    },
    {
     "name": "stderr",
     "output_type": "stream",
     "text": [
      "2024-04-18 16:42:56,125 - BERTopic - Embedding - Completed ✓\n",
      "2024-04-18 16:42:56,127 - BERTopic - Dimensionality - Fitting the dimensionality reduction algorithm\n",
      "2024-04-18 16:43:08,315 - BERTopic - Dimensionality - Completed ✓\n",
      "2024-04-18 16:43:08,321 - BERTopic - Cluster - Start clustering the reduced embeddings\n",
      "2024-04-18 16:43:09,907 - BERTopic - Cluster - Completed ✓\n",
      "2024-04-18 16:43:09,908 - BERTopic - Representation - Extracting topics from clusters using representation models.\n",
      "2024-04-18 16:43:10,773 - BERTopic - Representation - Completed ✓\n",
      "2024-04-18 16:43:10,775 - BERTopic - Topic reduction - Reducing number of topics\n",
      "2024-04-18 16:43:11,494 - BERTopic - Topic reduction - Reduced number of topics from 27 to 22\n"
     ]
    },
    {
     "data": {
      "application/vnd.plotly.v1+json": {
       "config": {
        "plotlyServerURL": "https://plot.ly"
       },
       "data": [
        {
         "marker": {
          "color": "#D55E00"
         },
         "orientation": "h",
         "type": "bar",
         "x": [
          0.021587485187894072,
          0.022776273747106782,
          0.023613378197753738,
          0.025279932814083837,
          0.027229458355072067
         ],
         "xaxis": "x",
         "y": [
          "increase  ",
          "temperature  ",
          "report  ",
          "scenarios  ",
          "global  "
         ],
         "yaxis": "y"
        },
        {
         "marker": {
          "color": "#0072B2"
         },
         "orientation": "h",
         "type": "bar",
         "x": [
          0.029423394170232105,
          0.040342395001449996,
          0.04161298946097658,
          0.05655751460847991,
          0.06983453185760682
         ],
         "xaxis": "x2",
         "y": [
          "use  ",
          "biomass  ",
          "carbon  ",
          "forest  ",
          "land  "
         ],
         "yaxis": "y2"
        },
        {
         "marker": {
          "color": "#CC79A7"
         },
         "orientation": "h",
         "type": "bar",
         "x": [
          0.03085682084602417,
          0.034111882709795566,
          0.03661823891568856,
          0.04221565719043187,
          0.0613458549526846
         ],
         "xaxis": "x3",
         "y": [
          "cattle  ",
          "2006  ",
          "livestock  ",
          "management  ",
          "manure  "
         ],
         "yaxis": "y3"
        },
        {
         "marker": {
          "color": "#E69F00"
         },
         "orientation": "h",
         "type": "bar",
         "x": [
          0.04235486834807338,
          0.04317964664450092,
          0.04956038531601251,
          0.05320958520934315,
          0.11630354365672461
         ],
         "xaxis": "x4",
         "y": [
          "disposal  ",
          "treatment  ",
          "solid  ",
          "wastewater  ",
          "waste  "
         ],
         "yaxis": "y4"
        },
        {
         "marker": {
          "color": "#56B4E9"
         },
         "orientation": "h",
         "type": "bar",
         "x": [
          0.031003242754019514,
          0.038268666210597935,
          0.04225178048211455,
          0.074326319693081,
          0.13953209412060685
         ],
         "xaxis": "x5",
         "y": [
          "factors  ",
          "activity  ",
          "data  ",
          "uncertainties  ",
          "uncertainty  "
         ],
         "yaxis": "y5"
        },
        {
         "marker": {
          "color": "#009E73"
         },
         "orientation": "h",
         "type": "bar",
         "x": [
          0.04125322470220327,
          0.041773892488110434,
          0.04269452240288082,
          0.04293303250955481,
          0.04702109860237194
         ],
         "xaxis": "x6",
         "y": [
          "national  ",
          "inventories  ",
          "greenhouse  ",
          "gas  ",
          "tier  "
         ],
         "yaxis": "y6"
        },
        {
         "marker": {
          "color": "#F0E442"
         },
         "orientation": "h",
         "type": "bar",
         "x": [
          0.02770735477859019,
          0.03189500941159664,
          0.03541496782700647,
          0.04059025102127886,
          0.04858166996694539
         ],
         "xaxis": "x7",
         "y": [
          "gas  ",
          "greenhouse  ",
          "national  ",
          "inventory  ",
          "ghg  "
         ],
         "yaxis": "y7"
        },
        {
         "marker": {
          "color": "#D55E00"
         },
         "orientation": "h",
         "type": "bar",
         "x": [
          0.02612970914239057,
          0.028630387875654553,
          0.0326971969380064,
          0.033551699661521314,
          0.05242722048961612
         ],
         "xaxis": "x8",
         "y": [
          "equation  ",
          "page  ",
          "volume  ",
          "chapter  ",
          "2006  "
         ],
         "yaxis": "y8"
        }
       ],
       "layout": {
        "annotations": [
         {
          "font": {
           "size": 16
          },
          "showarrow": false,
          "text": "Topic 0",
          "x": 0.0875,
          "xanchor": "center",
          "xref": "paper",
          "y": 1,
          "yanchor": "bottom",
          "yref": "paper"
         },
         {
          "font": {
           "size": 16
          },
          "showarrow": false,
          "text": "Topic 1",
          "x": 0.36250000000000004,
          "xanchor": "center",
          "xref": "paper",
          "y": 1,
          "yanchor": "bottom",
          "yref": "paper"
         },
         {
          "font": {
           "size": 16
          },
          "showarrow": false,
          "text": "Topic 2",
          "x": 0.6375000000000001,
          "xanchor": "center",
          "xref": "paper",
          "y": 1,
          "yanchor": "bottom",
          "yref": "paper"
         },
         {
          "font": {
           "size": 16
          },
          "showarrow": false,
          "text": "Topic 3",
          "x": 0.9125,
          "xanchor": "center",
          "xref": "paper",
          "y": 1,
          "yanchor": "bottom",
          "yref": "paper"
         },
         {
          "font": {
           "size": 16
          },
          "showarrow": false,
          "text": "Topic 4",
          "x": 0.0875,
          "xanchor": "center",
          "xref": "paper",
          "y": 0.4,
          "yanchor": "bottom",
          "yref": "paper"
         },
         {
          "font": {
           "size": 16
          },
          "showarrow": false,
          "text": "Topic 5",
          "x": 0.36250000000000004,
          "xanchor": "center",
          "xref": "paper",
          "y": 0.4,
          "yanchor": "bottom",
          "yref": "paper"
         },
         {
          "font": {
           "size": 16
          },
          "showarrow": false,
          "text": "Topic 6",
          "x": 0.6375000000000001,
          "xanchor": "center",
          "xref": "paper",
          "y": 0.4,
          "yanchor": "bottom",
          "yref": "paper"
         },
         {
          "font": {
           "size": 16
          },
          "showarrow": false,
          "text": "Topic 7",
          "x": 0.9125,
          "xanchor": "center",
          "xref": "paper",
          "y": 0.4,
          "yanchor": "bottom",
          "yref": "paper"
         }
        ],
        "height": 500,
        "hoverlabel": {
         "bgcolor": "white",
         "font": {
          "family": "Rockwell",
          "size": 16
         }
        },
        "showlegend": false,
        "template": {
         "data": {
          "bar": [
           {
            "error_x": {
             "color": "#2a3f5f"
            },
            "error_y": {
             "color": "#2a3f5f"
            },
            "marker": {
             "line": {
              "color": "white",
              "width": 0.5
             },
             "pattern": {
              "fillmode": "overlay",
              "size": 10,
              "solidity": 0.2
             }
            },
            "type": "bar"
           }
          ],
          "barpolar": [
           {
            "marker": {
             "line": {
              "color": "white",
              "width": 0.5
             },
             "pattern": {
              "fillmode": "overlay",
              "size": 10,
              "solidity": 0.2
             }
            },
            "type": "barpolar"
           }
          ],
          "carpet": [
           {
            "aaxis": {
             "endlinecolor": "#2a3f5f",
             "gridcolor": "#C8D4E3",
             "linecolor": "#C8D4E3",
             "minorgridcolor": "#C8D4E3",
             "startlinecolor": "#2a3f5f"
            },
            "baxis": {
             "endlinecolor": "#2a3f5f",
             "gridcolor": "#C8D4E3",
             "linecolor": "#C8D4E3",
             "minorgridcolor": "#C8D4E3",
             "startlinecolor": "#2a3f5f"
            },
            "type": "carpet"
           }
          ],
          "choropleth": [
           {
            "colorbar": {
             "outlinewidth": 0,
             "ticks": ""
            },
            "type": "choropleth"
           }
          ],
          "contour": [
           {
            "colorbar": {
             "outlinewidth": 0,
             "ticks": ""
            },
            "colorscale": [
             [
              0,
              "#0d0887"
             ],
             [
              0.1111111111111111,
              "#46039f"
             ],
             [
              0.2222222222222222,
              "#7201a8"
             ],
             [
              0.3333333333333333,
              "#9c179e"
             ],
             [
              0.4444444444444444,
              "#bd3786"
             ],
             [
              0.5555555555555556,
              "#d8576b"
             ],
             [
              0.6666666666666666,
              "#ed7953"
             ],
             [
              0.7777777777777778,
              "#fb9f3a"
             ],
             [
              0.8888888888888888,
              "#fdca26"
             ],
             [
              1,
              "#f0f921"
             ]
            ],
            "type": "contour"
           }
          ],
          "contourcarpet": [
           {
            "colorbar": {
             "outlinewidth": 0,
             "ticks": ""
            },
            "type": "contourcarpet"
           }
          ],
          "heatmap": [
           {
            "colorbar": {
             "outlinewidth": 0,
             "ticks": ""
            },
            "colorscale": [
             [
              0,
              "#0d0887"
             ],
             [
              0.1111111111111111,
              "#46039f"
             ],
             [
              0.2222222222222222,
              "#7201a8"
             ],
             [
              0.3333333333333333,
              "#9c179e"
             ],
             [
              0.4444444444444444,
              "#bd3786"
             ],
             [
              0.5555555555555556,
              "#d8576b"
             ],
             [
              0.6666666666666666,
              "#ed7953"
             ],
             [
              0.7777777777777778,
              "#fb9f3a"
             ],
             [
              0.8888888888888888,
              "#fdca26"
             ],
             [
              1,
              "#f0f921"
             ]
            ],
            "type": "heatmap"
           }
          ],
          "heatmapgl": [
           {
            "colorbar": {
             "outlinewidth": 0,
             "ticks": ""
            },
            "colorscale": [
             [
              0,
              "#0d0887"
             ],
             [
              0.1111111111111111,
              "#46039f"
             ],
             [
              0.2222222222222222,
              "#7201a8"
             ],
             [
              0.3333333333333333,
              "#9c179e"
             ],
             [
              0.4444444444444444,
              "#bd3786"
             ],
             [
              0.5555555555555556,
              "#d8576b"
             ],
             [
              0.6666666666666666,
              "#ed7953"
             ],
             [
              0.7777777777777778,
              "#fb9f3a"
             ],
             [
              0.8888888888888888,
              "#fdca26"
             ],
             [
              1,
              "#f0f921"
             ]
            ],
            "type": "heatmapgl"
           }
          ],
          "histogram": [
           {
            "marker": {
             "pattern": {
              "fillmode": "overlay",
              "size": 10,
              "solidity": 0.2
             }
            },
            "type": "histogram"
           }
          ],
          "histogram2d": [
           {
            "colorbar": {
             "outlinewidth": 0,
             "ticks": ""
            },
            "colorscale": [
             [
              0,
              "#0d0887"
             ],
             [
              0.1111111111111111,
              "#46039f"
             ],
             [
              0.2222222222222222,
              "#7201a8"
             ],
             [
              0.3333333333333333,
              "#9c179e"
             ],
             [
              0.4444444444444444,
              "#bd3786"
             ],
             [
              0.5555555555555556,
              "#d8576b"
             ],
             [
              0.6666666666666666,
              "#ed7953"
             ],
             [
              0.7777777777777778,
              "#fb9f3a"
             ],
             [
              0.8888888888888888,
              "#fdca26"
             ],
             [
              1,
              "#f0f921"
             ]
            ],
            "type": "histogram2d"
           }
          ],
          "histogram2dcontour": [
           {
            "colorbar": {
             "outlinewidth": 0,
             "ticks": ""
            },
            "colorscale": [
             [
              0,
              "#0d0887"
             ],
             [
              0.1111111111111111,
              "#46039f"
             ],
             [
              0.2222222222222222,
              "#7201a8"
             ],
             [
              0.3333333333333333,
              "#9c179e"
             ],
             [
              0.4444444444444444,
              "#bd3786"
             ],
             [
              0.5555555555555556,
              "#d8576b"
             ],
             [
              0.6666666666666666,
              "#ed7953"
             ],
             [
              0.7777777777777778,
              "#fb9f3a"
             ],
             [
              0.8888888888888888,
              "#fdca26"
             ],
             [
              1,
              "#f0f921"
             ]
            ],
            "type": "histogram2dcontour"
           }
          ],
          "mesh3d": [
           {
            "colorbar": {
             "outlinewidth": 0,
             "ticks": ""
            },
            "type": "mesh3d"
           }
          ],
          "parcoords": [
           {
            "line": {
             "colorbar": {
              "outlinewidth": 0,
              "ticks": ""
             }
            },
            "type": "parcoords"
           }
          ],
          "pie": [
           {
            "automargin": true,
            "type": "pie"
           }
          ],
          "scatter": [
           {
            "fillpattern": {
             "fillmode": "overlay",
             "size": 10,
             "solidity": 0.2
            },
            "type": "scatter"
           }
          ],
          "scatter3d": [
           {
            "line": {
             "colorbar": {
              "outlinewidth": 0,
              "ticks": ""
             }
            },
            "marker": {
             "colorbar": {
              "outlinewidth": 0,
              "ticks": ""
             }
            },
            "type": "scatter3d"
           }
          ],
          "scattercarpet": [
           {
            "marker": {
             "colorbar": {
              "outlinewidth": 0,
              "ticks": ""
             }
            },
            "type": "scattercarpet"
           }
          ],
          "scattergeo": [
           {
            "marker": {
             "colorbar": {
              "outlinewidth": 0,
              "ticks": ""
             }
            },
            "type": "scattergeo"
           }
          ],
          "scattergl": [
           {
            "marker": {
             "colorbar": {
              "outlinewidth": 0,
              "ticks": ""
             }
            },
            "type": "scattergl"
           }
          ],
          "scattermapbox": [
           {
            "marker": {
             "colorbar": {
              "outlinewidth": 0,
              "ticks": ""
             }
            },
            "type": "scattermapbox"
           }
          ],
          "scatterpolar": [
           {
            "marker": {
             "colorbar": {
              "outlinewidth": 0,
              "ticks": ""
             }
            },
            "type": "scatterpolar"
           }
          ],
          "scatterpolargl": [
           {
            "marker": {
             "colorbar": {
              "outlinewidth": 0,
              "ticks": ""
             }
            },
            "type": "scatterpolargl"
           }
          ],
          "scatterternary": [
           {
            "marker": {
             "colorbar": {
              "outlinewidth": 0,
              "ticks": ""
             }
            },
            "type": "scatterternary"
           }
          ],
          "surface": [
           {
            "colorbar": {
             "outlinewidth": 0,
             "ticks": ""
            },
            "colorscale": [
             [
              0,
              "#0d0887"
             ],
             [
              0.1111111111111111,
              "#46039f"
             ],
             [
              0.2222222222222222,
              "#7201a8"
             ],
             [
              0.3333333333333333,
              "#9c179e"
             ],
             [
              0.4444444444444444,
              "#bd3786"
             ],
             [
              0.5555555555555556,
              "#d8576b"
             ],
             [
              0.6666666666666666,
              "#ed7953"
             ],
             [
              0.7777777777777778,
              "#fb9f3a"
             ],
             [
              0.8888888888888888,
              "#fdca26"
             ],
             [
              1,
              "#f0f921"
             ]
            ],
            "type": "surface"
           }
          ],
          "table": [
           {
            "cells": {
             "fill": {
              "color": "#EBF0F8"
             },
             "line": {
              "color": "white"
             }
            },
            "header": {
             "fill": {
              "color": "#C8D4E3"
             },
             "line": {
              "color": "white"
             }
            },
            "type": "table"
           }
          ]
         },
         "layout": {
          "annotationdefaults": {
           "arrowcolor": "#2a3f5f",
           "arrowhead": 0,
           "arrowwidth": 1
          },
          "autotypenumbers": "strict",
          "coloraxis": {
           "colorbar": {
            "outlinewidth": 0,
            "ticks": ""
           }
          },
          "colorscale": {
           "diverging": [
            [
             0,
             "#8e0152"
            ],
            [
             0.1,
             "#c51b7d"
            ],
            [
             0.2,
             "#de77ae"
            ],
            [
             0.3,
             "#f1b6da"
            ],
            [
             0.4,
             "#fde0ef"
            ],
            [
             0.5,
             "#f7f7f7"
            ],
            [
             0.6,
             "#e6f5d0"
            ],
            [
             0.7,
             "#b8e186"
            ],
            [
             0.8,
             "#7fbc41"
            ],
            [
             0.9,
             "#4d9221"
            ],
            [
             1,
             "#276419"
            ]
           ],
           "sequential": [
            [
             0,
             "#0d0887"
            ],
            [
             0.1111111111111111,
             "#46039f"
            ],
            [
             0.2222222222222222,
             "#7201a8"
            ],
            [
             0.3333333333333333,
             "#9c179e"
            ],
            [
             0.4444444444444444,
             "#bd3786"
            ],
            [
             0.5555555555555556,
             "#d8576b"
            ],
            [
             0.6666666666666666,
             "#ed7953"
            ],
            [
             0.7777777777777778,
             "#fb9f3a"
            ],
            [
             0.8888888888888888,
             "#fdca26"
            ],
            [
             1,
             "#f0f921"
            ]
           ],
           "sequentialminus": [
            [
             0,
             "#0d0887"
            ],
            [
             0.1111111111111111,
             "#46039f"
            ],
            [
             0.2222222222222222,
             "#7201a8"
            ],
            [
             0.3333333333333333,
             "#9c179e"
            ],
            [
             0.4444444444444444,
             "#bd3786"
            ],
            [
             0.5555555555555556,
             "#d8576b"
            ],
            [
             0.6666666666666666,
             "#ed7953"
            ],
            [
             0.7777777777777778,
             "#fb9f3a"
            ],
            [
             0.8888888888888888,
             "#fdca26"
            ],
            [
             1,
             "#f0f921"
            ]
           ]
          },
          "colorway": [
           "#636efa",
           "#EF553B",
           "#00cc96",
           "#ab63fa",
           "#FFA15A",
           "#19d3f3",
           "#FF6692",
           "#B6E880",
           "#FF97FF",
           "#FECB52"
          ],
          "font": {
           "color": "#2a3f5f"
          },
          "geo": {
           "bgcolor": "white",
           "lakecolor": "white",
           "landcolor": "white",
           "showlakes": true,
           "showland": true,
           "subunitcolor": "#C8D4E3"
          },
          "hoverlabel": {
           "align": "left"
          },
          "hovermode": "closest",
          "mapbox": {
           "style": "light"
          },
          "paper_bgcolor": "white",
          "plot_bgcolor": "white",
          "polar": {
           "angularaxis": {
            "gridcolor": "#EBF0F8",
            "linecolor": "#EBF0F8",
            "ticks": ""
           },
           "bgcolor": "white",
           "radialaxis": {
            "gridcolor": "#EBF0F8",
            "linecolor": "#EBF0F8",
            "ticks": ""
           }
          },
          "scene": {
           "xaxis": {
            "backgroundcolor": "white",
            "gridcolor": "#DFE8F3",
            "gridwidth": 2,
            "linecolor": "#EBF0F8",
            "showbackground": true,
            "ticks": "",
            "zerolinecolor": "#EBF0F8"
           },
           "yaxis": {
            "backgroundcolor": "white",
            "gridcolor": "#DFE8F3",
            "gridwidth": 2,
            "linecolor": "#EBF0F8",
            "showbackground": true,
            "ticks": "",
            "zerolinecolor": "#EBF0F8"
           },
           "zaxis": {
            "backgroundcolor": "white",
            "gridcolor": "#DFE8F3",
            "gridwidth": 2,
            "linecolor": "#EBF0F8",
            "showbackground": true,
            "ticks": "",
            "zerolinecolor": "#EBF0F8"
           }
          },
          "shapedefaults": {
           "line": {
            "color": "#2a3f5f"
           }
          },
          "ternary": {
           "aaxis": {
            "gridcolor": "#DFE8F3",
            "linecolor": "#A2B1C6",
            "ticks": ""
           },
           "baxis": {
            "gridcolor": "#DFE8F3",
            "linecolor": "#A2B1C6",
            "ticks": ""
           },
           "bgcolor": "white",
           "caxis": {
            "gridcolor": "#DFE8F3",
            "linecolor": "#A2B1C6",
            "ticks": ""
           }
          },
          "title": {
           "x": 0.05
          },
          "xaxis": {
           "automargin": true,
           "gridcolor": "#EBF0F8",
           "linecolor": "#EBF0F8",
           "ticks": "",
           "title": {
            "standoff": 15
           },
           "zerolinecolor": "#EBF0F8",
           "zerolinewidth": 2
          },
          "yaxis": {
           "automargin": true,
           "gridcolor": "#EBF0F8",
           "linecolor": "#EBF0F8",
           "ticks": "",
           "title": {
            "standoff": 15
           },
           "zerolinecolor": "#EBF0F8",
           "zerolinewidth": 2
          }
         }
        },
        "title": {
         "font": {
          "color": "Black",
          "size": 22
         },
         "text": "Topic Word Scores",
         "x": 0.5,
         "xanchor": "center",
         "yanchor": "top"
        },
        "width": 1000,
        "xaxis": {
         "anchor": "y",
         "domain": [
          0,
          0.175
         ],
         "showgrid": true
        },
        "xaxis2": {
         "anchor": "y2",
         "domain": [
          0.275,
          0.45
         ],
         "showgrid": true
        },
        "xaxis3": {
         "anchor": "y3",
         "domain": [
          0.55,
          0.7250000000000001
         ],
         "showgrid": true
        },
        "xaxis4": {
         "anchor": "y4",
         "domain": [
          0.825,
          1
         ],
         "showgrid": true
        },
        "xaxis5": {
         "anchor": "y5",
         "domain": [
          0,
          0.175
         ],
         "showgrid": true
        },
        "xaxis6": {
         "anchor": "y6",
         "domain": [
          0.275,
          0.45
         ],
         "showgrid": true
        },
        "xaxis7": {
         "anchor": "y7",
         "domain": [
          0.55,
          0.7250000000000001
         ],
         "showgrid": true
        },
        "xaxis8": {
         "anchor": "y8",
         "domain": [
          0.825,
          1
         ],
         "showgrid": true
        },
        "yaxis": {
         "anchor": "x",
         "domain": [
          0.6000000000000001,
          1
         ],
         "showgrid": true
        },
        "yaxis2": {
         "anchor": "x2",
         "domain": [
          0.6000000000000001,
          1
         ],
         "showgrid": true
        },
        "yaxis3": {
         "anchor": "x3",
         "domain": [
          0.6000000000000001,
          1
         ],
         "showgrid": true
        },
        "yaxis4": {
         "anchor": "x4",
         "domain": [
          0.6000000000000001,
          1
         ],
         "showgrid": true
        },
        "yaxis5": {
         "anchor": "x5",
         "domain": [
          0,
          0.4
         ],
         "showgrid": true
        },
        "yaxis6": {
         "anchor": "x6",
         "domain": [
          0,
          0.4
         ],
         "showgrid": true
        },
        "yaxis7": {
         "anchor": "x7",
         "domain": [
          0,
          0.4
         ],
         "showgrid": true
        },
        "yaxis8": {
         "anchor": "x8",
         "domain": [
          0,
          0.4
         ],
         "showgrid": true
        }
       }
      },
      "text/html": [
       "<div>                            <div id=\"902ea83f-27b1-4c5e-b5ff-ae76df6edeb6\" class=\"plotly-graph-div\" style=\"height:500px; width:1000px;\"></div>            <script type=\"text/javascript\">                require([\"plotly\"], function(Plotly) {                    window.PLOTLYENV=window.PLOTLYENV || {};                                    if (document.getElementById(\"902ea83f-27b1-4c5e-b5ff-ae76df6edeb6\")) {                    Plotly.newPlot(                        \"902ea83f-27b1-4c5e-b5ff-ae76df6edeb6\",                        [{\"marker\":{\"color\":\"#D55E00\"},\"orientation\":\"h\",\"x\":[0.021587485187894072,0.022776273747106782,0.023613378197753738,0.025279932814083837,0.027229458355072067],\"y\":[\"increase  \",\"temperature  \",\"report  \",\"scenarios  \",\"global  \"],\"type\":\"bar\",\"xaxis\":\"x\",\"yaxis\":\"y\"},{\"marker\":{\"color\":\"#0072B2\"},\"orientation\":\"h\",\"x\":[0.029423394170232105,0.040342395001449996,0.04161298946097658,0.05655751460847991,0.06983453185760682],\"y\":[\"use  \",\"biomass  \",\"carbon  \",\"forest  \",\"land  \"],\"type\":\"bar\",\"xaxis\":\"x2\",\"yaxis\":\"y2\"},{\"marker\":{\"color\":\"#CC79A7\"},\"orientation\":\"h\",\"x\":[0.03085682084602417,0.034111882709795566,0.03661823891568856,0.04221565719043187,0.0613458549526846],\"y\":[\"cattle  \",\"2006  \",\"livestock  \",\"management  \",\"manure  \"],\"type\":\"bar\",\"xaxis\":\"x3\",\"yaxis\":\"y3\"},{\"marker\":{\"color\":\"#E69F00\"},\"orientation\":\"h\",\"x\":[0.04235486834807338,0.04317964664450092,0.04956038531601251,0.05320958520934315,0.11630354365672461],\"y\":[\"disposal  \",\"treatment  \",\"solid  \",\"wastewater  \",\"waste  \"],\"type\":\"bar\",\"xaxis\":\"x4\",\"yaxis\":\"y4\"},{\"marker\":{\"color\":\"#56B4E9\"},\"orientation\":\"h\",\"x\":[0.031003242754019514,0.038268666210597935,0.04225178048211455,0.074326319693081,0.13953209412060685],\"y\":[\"factors  \",\"activity  \",\"data  \",\"uncertainties  \",\"uncertainty  \"],\"type\":\"bar\",\"xaxis\":\"x5\",\"yaxis\":\"y5\"},{\"marker\":{\"color\":\"#009E73\"},\"orientation\":\"h\",\"x\":[0.04125322470220327,0.041773892488110434,0.04269452240288082,0.04293303250955481,0.04702109860237194],\"y\":[\"national  \",\"inventories  \",\"greenhouse  \",\"gas  \",\"tier  \"],\"type\":\"bar\",\"xaxis\":\"x6\",\"yaxis\":\"y6\"},{\"marker\":{\"color\":\"#F0E442\"},\"orientation\":\"h\",\"x\":[0.02770735477859019,0.03189500941159664,0.03541496782700647,0.04059025102127886,0.04858166996694539],\"y\":[\"gas  \",\"greenhouse  \",\"national  \",\"inventory  \",\"ghg  \"],\"type\":\"bar\",\"xaxis\":\"x7\",\"yaxis\":\"y7\"},{\"marker\":{\"color\":\"#D55E00\"},\"orientation\":\"h\",\"x\":[0.02612970914239057,0.028630387875654553,0.0326971969380064,0.033551699661521314,0.05242722048961612],\"y\":[\"equation  \",\"page  \",\"volume  \",\"chapter  \",\"2006  \"],\"type\":\"bar\",\"xaxis\":\"x8\",\"yaxis\":\"y8\"}],                        {\"template\":{\"data\":{\"barpolar\":[{\"marker\":{\"line\":{\"color\":\"white\",\"width\":0.5},\"pattern\":{\"fillmode\":\"overlay\",\"size\":10,\"solidity\":0.2}},\"type\":\"barpolar\"}],\"bar\":[{\"error_x\":{\"color\":\"#2a3f5f\"},\"error_y\":{\"color\":\"#2a3f5f\"},\"marker\":{\"line\":{\"color\":\"white\",\"width\":0.5},\"pattern\":{\"fillmode\":\"overlay\",\"size\":10,\"solidity\":0.2}},\"type\":\"bar\"}],\"carpet\":[{\"aaxis\":{\"endlinecolor\":\"#2a3f5f\",\"gridcolor\":\"#C8D4E3\",\"linecolor\":\"#C8D4E3\",\"minorgridcolor\":\"#C8D4E3\",\"startlinecolor\":\"#2a3f5f\"},\"baxis\":{\"endlinecolor\":\"#2a3f5f\",\"gridcolor\":\"#C8D4E3\",\"linecolor\":\"#C8D4E3\",\"minorgridcolor\":\"#C8D4E3\",\"startlinecolor\":\"#2a3f5f\"},\"type\":\"carpet\"}],\"choropleth\":[{\"colorbar\":{\"outlinewidth\":0,\"ticks\":\"\"},\"type\":\"choropleth\"}],\"contourcarpet\":[{\"colorbar\":{\"outlinewidth\":0,\"ticks\":\"\"},\"type\":\"contourcarpet\"}],\"contour\":[{\"colorbar\":{\"outlinewidth\":0,\"ticks\":\"\"},\"colorscale\":[[0.0,\"#0d0887\"],[0.1111111111111111,\"#46039f\"],[0.2222222222222222,\"#7201a8\"],[0.3333333333333333,\"#9c179e\"],[0.4444444444444444,\"#bd3786\"],[0.5555555555555556,\"#d8576b\"],[0.6666666666666666,\"#ed7953\"],[0.7777777777777778,\"#fb9f3a\"],[0.8888888888888888,\"#fdca26\"],[1.0,\"#f0f921\"]],\"type\":\"contour\"}],\"heatmapgl\":[{\"colorbar\":{\"outlinewidth\":0,\"ticks\":\"\"},\"colorscale\":[[0.0,\"#0d0887\"],[0.1111111111111111,\"#46039f\"],[0.2222222222222222,\"#7201a8\"],[0.3333333333333333,\"#9c179e\"],[0.4444444444444444,\"#bd3786\"],[0.5555555555555556,\"#d8576b\"],[0.6666666666666666,\"#ed7953\"],[0.7777777777777778,\"#fb9f3a\"],[0.8888888888888888,\"#fdca26\"],[1.0,\"#f0f921\"]],\"type\":\"heatmapgl\"}],\"heatmap\":[{\"colorbar\":{\"outlinewidth\":0,\"ticks\":\"\"},\"colorscale\":[[0.0,\"#0d0887\"],[0.1111111111111111,\"#46039f\"],[0.2222222222222222,\"#7201a8\"],[0.3333333333333333,\"#9c179e\"],[0.4444444444444444,\"#bd3786\"],[0.5555555555555556,\"#d8576b\"],[0.6666666666666666,\"#ed7953\"],[0.7777777777777778,\"#fb9f3a\"],[0.8888888888888888,\"#fdca26\"],[1.0,\"#f0f921\"]],\"type\":\"heatmap\"}],\"histogram2dcontour\":[{\"colorbar\":{\"outlinewidth\":0,\"ticks\":\"\"},\"colorscale\":[[0.0,\"#0d0887\"],[0.1111111111111111,\"#46039f\"],[0.2222222222222222,\"#7201a8\"],[0.3333333333333333,\"#9c179e\"],[0.4444444444444444,\"#bd3786\"],[0.5555555555555556,\"#d8576b\"],[0.6666666666666666,\"#ed7953\"],[0.7777777777777778,\"#fb9f3a\"],[0.8888888888888888,\"#fdca26\"],[1.0,\"#f0f921\"]],\"type\":\"histogram2dcontour\"}],\"histogram2d\":[{\"colorbar\":{\"outlinewidth\":0,\"ticks\":\"\"},\"colorscale\":[[0.0,\"#0d0887\"],[0.1111111111111111,\"#46039f\"],[0.2222222222222222,\"#7201a8\"],[0.3333333333333333,\"#9c179e\"],[0.4444444444444444,\"#bd3786\"],[0.5555555555555556,\"#d8576b\"],[0.6666666666666666,\"#ed7953\"],[0.7777777777777778,\"#fb9f3a\"],[0.8888888888888888,\"#fdca26\"],[1.0,\"#f0f921\"]],\"type\":\"histogram2d\"}],\"histogram\":[{\"marker\":{\"pattern\":{\"fillmode\":\"overlay\",\"size\":10,\"solidity\":0.2}},\"type\":\"histogram\"}],\"mesh3d\":[{\"colorbar\":{\"outlinewidth\":0,\"ticks\":\"\"},\"type\":\"mesh3d\"}],\"parcoords\":[{\"line\":{\"colorbar\":{\"outlinewidth\":0,\"ticks\":\"\"}},\"type\":\"parcoords\"}],\"pie\":[{\"automargin\":true,\"type\":\"pie\"}],\"scatter3d\":[{\"line\":{\"colorbar\":{\"outlinewidth\":0,\"ticks\":\"\"}},\"marker\":{\"colorbar\":{\"outlinewidth\":0,\"ticks\":\"\"}},\"type\":\"scatter3d\"}],\"scattercarpet\":[{\"marker\":{\"colorbar\":{\"outlinewidth\":0,\"ticks\":\"\"}},\"type\":\"scattercarpet\"}],\"scattergeo\":[{\"marker\":{\"colorbar\":{\"outlinewidth\":0,\"ticks\":\"\"}},\"type\":\"scattergeo\"}],\"scattergl\":[{\"marker\":{\"colorbar\":{\"outlinewidth\":0,\"ticks\":\"\"}},\"type\":\"scattergl\"}],\"scattermapbox\":[{\"marker\":{\"colorbar\":{\"outlinewidth\":0,\"ticks\":\"\"}},\"type\":\"scattermapbox\"}],\"scatterpolargl\":[{\"marker\":{\"colorbar\":{\"outlinewidth\":0,\"ticks\":\"\"}},\"type\":\"scatterpolargl\"}],\"scatterpolar\":[{\"marker\":{\"colorbar\":{\"outlinewidth\":0,\"ticks\":\"\"}},\"type\":\"scatterpolar\"}],\"scatter\":[{\"fillpattern\":{\"fillmode\":\"overlay\",\"size\":10,\"solidity\":0.2},\"type\":\"scatter\"}],\"scatterternary\":[{\"marker\":{\"colorbar\":{\"outlinewidth\":0,\"ticks\":\"\"}},\"type\":\"scatterternary\"}],\"surface\":[{\"colorbar\":{\"outlinewidth\":0,\"ticks\":\"\"},\"colorscale\":[[0.0,\"#0d0887\"],[0.1111111111111111,\"#46039f\"],[0.2222222222222222,\"#7201a8\"],[0.3333333333333333,\"#9c179e\"],[0.4444444444444444,\"#bd3786\"],[0.5555555555555556,\"#d8576b\"],[0.6666666666666666,\"#ed7953\"],[0.7777777777777778,\"#fb9f3a\"],[0.8888888888888888,\"#fdca26\"],[1.0,\"#f0f921\"]],\"type\":\"surface\"}],\"table\":[{\"cells\":{\"fill\":{\"color\":\"#EBF0F8\"},\"line\":{\"color\":\"white\"}},\"header\":{\"fill\":{\"color\":\"#C8D4E3\"},\"line\":{\"color\":\"white\"}},\"type\":\"table\"}]},\"layout\":{\"annotationdefaults\":{\"arrowcolor\":\"#2a3f5f\",\"arrowhead\":0,\"arrowwidth\":1},\"autotypenumbers\":\"strict\",\"coloraxis\":{\"colorbar\":{\"outlinewidth\":0,\"ticks\":\"\"}},\"colorscale\":{\"diverging\":[[0,\"#8e0152\"],[0.1,\"#c51b7d\"],[0.2,\"#de77ae\"],[0.3,\"#f1b6da\"],[0.4,\"#fde0ef\"],[0.5,\"#f7f7f7\"],[0.6,\"#e6f5d0\"],[0.7,\"#b8e186\"],[0.8,\"#7fbc41\"],[0.9,\"#4d9221\"],[1,\"#276419\"]],\"sequential\":[[0.0,\"#0d0887\"],[0.1111111111111111,\"#46039f\"],[0.2222222222222222,\"#7201a8\"],[0.3333333333333333,\"#9c179e\"],[0.4444444444444444,\"#bd3786\"],[0.5555555555555556,\"#d8576b\"],[0.6666666666666666,\"#ed7953\"],[0.7777777777777778,\"#fb9f3a\"],[0.8888888888888888,\"#fdca26\"],[1.0,\"#f0f921\"]],\"sequentialminus\":[[0.0,\"#0d0887\"],[0.1111111111111111,\"#46039f\"],[0.2222222222222222,\"#7201a8\"],[0.3333333333333333,\"#9c179e\"],[0.4444444444444444,\"#bd3786\"],[0.5555555555555556,\"#d8576b\"],[0.6666666666666666,\"#ed7953\"],[0.7777777777777778,\"#fb9f3a\"],[0.8888888888888888,\"#fdca26\"],[1.0,\"#f0f921\"]]},\"colorway\":[\"#636efa\",\"#EF553B\",\"#00cc96\",\"#ab63fa\",\"#FFA15A\",\"#19d3f3\",\"#FF6692\",\"#B6E880\",\"#FF97FF\",\"#FECB52\"],\"font\":{\"color\":\"#2a3f5f\"},\"geo\":{\"bgcolor\":\"white\",\"lakecolor\":\"white\",\"landcolor\":\"white\",\"showlakes\":true,\"showland\":true,\"subunitcolor\":\"#C8D4E3\"},\"hoverlabel\":{\"align\":\"left\"},\"hovermode\":\"closest\",\"mapbox\":{\"style\":\"light\"},\"paper_bgcolor\":\"white\",\"plot_bgcolor\":\"white\",\"polar\":{\"angularaxis\":{\"gridcolor\":\"#EBF0F8\",\"linecolor\":\"#EBF0F8\",\"ticks\":\"\"},\"bgcolor\":\"white\",\"radialaxis\":{\"gridcolor\":\"#EBF0F8\",\"linecolor\":\"#EBF0F8\",\"ticks\":\"\"}},\"scene\":{\"xaxis\":{\"backgroundcolor\":\"white\",\"gridcolor\":\"#DFE8F3\",\"gridwidth\":2,\"linecolor\":\"#EBF0F8\",\"showbackground\":true,\"ticks\":\"\",\"zerolinecolor\":\"#EBF0F8\"},\"yaxis\":{\"backgroundcolor\":\"white\",\"gridcolor\":\"#DFE8F3\",\"gridwidth\":2,\"linecolor\":\"#EBF0F8\",\"showbackground\":true,\"ticks\":\"\",\"zerolinecolor\":\"#EBF0F8\"},\"zaxis\":{\"backgroundcolor\":\"white\",\"gridcolor\":\"#DFE8F3\",\"gridwidth\":2,\"linecolor\":\"#EBF0F8\",\"showbackground\":true,\"ticks\":\"\",\"zerolinecolor\":\"#EBF0F8\"}},\"shapedefaults\":{\"line\":{\"color\":\"#2a3f5f\"}},\"ternary\":{\"aaxis\":{\"gridcolor\":\"#DFE8F3\",\"linecolor\":\"#A2B1C6\",\"ticks\":\"\"},\"baxis\":{\"gridcolor\":\"#DFE8F3\",\"linecolor\":\"#A2B1C6\",\"ticks\":\"\"},\"bgcolor\":\"white\",\"caxis\":{\"gridcolor\":\"#DFE8F3\",\"linecolor\":\"#A2B1C6\",\"ticks\":\"\"}},\"title\":{\"x\":0.05},\"xaxis\":{\"automargin\":true,\"gridcolor\":\"#EBF0F8\",\"linecolor\":\"#EBF0F8\",\"ticks\":\"\",\"title\":{\"standoff\":15},\"zerolinecolor\":\"#EBF0F8\",\"zerolinewidth\":2},\"yaxis\":{\"automargin\":true,\"gridcolor\":\"#EBF0F8\",\"linecolor\":\"#EBF0F8\",\"ticks\":\"\",\"title\":{\"standoff\":15},\"zerolinecolor\":\"#EBF0F8\",\"zerolinewidth\":2}}},\"xaxis\":{\"anchor\":\"y\",\"domain\":[0.0,0.175],\"showgrid\":true},\"yaxis\":{\"anchor\":\"x\",\"domain\":[0.6000000000000001,1.0],\"showgrid\":true},\"xaxis2\":{\"anchor\":\"y2\",\"domain\":[0.275,0.45],\"showgrid\":true},\"yaxis2\":{\"anchor\":\"x2\",\"domain\":[0.6000000000000001,1.0],\"showgrid\":true},\"xaxis3\":{\"anchor\":\"y3\",\"domain\":[0.55,0.7250000000000001],\"showgrid\":true},\"yaxis3\":{\"anchor\":\"x3\",\"domain\":[0.6000000000000001,1.0],\"showgrid\":true},\"xaxis4\":{\"anchor\":\"y4\",\"domain\":[0.825,1.0],\"showgrid\":true},\"yaxis4\":{\"anchor\":\"x4\",\"domain\":[0.6000000000000001,1.0],\"showgrid\":true},\"xaxis5\":{\"anchor\":\"y5\",\"domain\":[0.0,0.175],\"showgrid\":true},\"yaxis5\":{\"anchor\":\"x5\",\"domain\":[0.0,0.4],\"showgrid\":true},\"xaxis6\":{\"anchor\":\"y6\",\"domain\":[0.275,0.45],\"showgrid\":true},\"yaxis6\":{\"anchor\":\"x6\",\"domain\":[0.0,0.4],\"showgrid\":true},\"xaxis7\":{\"anchor\":\"y7\",\"domain\":[0.55,0.7250000000000001],\"showgrid\":true},\"yaxis7\":{\"anchor\":\"x7\",\"domain\":[0.0,0.4],\"showgrid\":true},\"xaxis8\":{\"anchor\":\"y8\",\"domain\":[0.825,1.0],\"showgrid\":true},\"yaxis8\":{\"anchor\":\"x8\",\"domain\":[0.0,0.4],\"showgrid\":true},\"annotations\":[{\"font\":{\"size\":16},\"showarrow\":false,\"text\":\"Topic 0\",\"x\":0.0875,\"xanchor\":\"center\",\"xref\":\"paper\",\"y\":1.0,\"yanchor\":\"bottom\",\"yref\":\"paper\"},{\"font\":{\"size\":16},\"showarrow\":false,\"text\":\"Topic 1\",\"x\":0.36250000000000004,\"xanchor\":\"center\",\"xref\":\"paper\",\"y\":1.0,\"yanchor\":\"bottom\",\"yref\":\"paper\"},{\"font\":{\"size\":16},\"showarrow\":false,\"text\":\"Topic 2\",\"x\":0.6375000000000001,\"xanchor\":\"center\",\"xref\":\"paper\",\"y\":1.0,\"yanchor\":\"bottom\",\"yref\":\"paper\"},{\"font\":{\"size\":16},\"showarrow\":false,\"text\":\"Topic 3\",\"x\":0.9125,\"xanchor\":\"center\",\"xref\":\"paper\",\"y\":1.0,\"yanchor\":\"bottom\",\"yref\":\"paper\"},{\"font\":{\"size\":16},\"showarrow\":false,\"text\":\"Topic 4\",\"x\":0.0875,\"xanchor\":\"center\",\"xref\":\"paper\",\"y\":0.4,\"yanchor\":\"bottom\",\"yref\":\"paper\"},{\"font\":{\"size\":16},\"showarrow\":false,\"text\":\"Topic 5\",\"x\":0.36250000000000004,\"xanchor\":\"center\",\"xref\":\"paper\",\"y\":0.4,\"yanchor\":\"bottom\",\"yref\":\"paper\"},{\"font\":{\"size\":16},\"showarrow\":false,\"text\":\"Topic 6\",\"x\":0.6375000000000001,\"xanchor\":\"center\",\"xref\":\"paper\",\"y\":0.4,\"yanchor\":\"bottom\",\"yref\":\"paper\"},{\"font\":{\"size\":16},\"showarrow\":false,\"text\":\"Topic 7\",\"x\":0.9125,\"xanchor\":\"center\",\"xref\":\"paper\",\"y\":0.4,\"yanchor\":\"bottom\",\"yref\":\"paper\"}],\"title\":{\"font\":{\"size\":22,\"color\":\"Black\"},\"text\":\"Topic Word Scores\",\"x\":0.5,\"xanchor\":\"center\",\"yanchor\":\"top\"},\"hoverlabel\":{\"font\":{\"size\":16,\"family\":\"Rockwell\"},\"bgcolor\":\"white\"},\"showlegend\":false,\"width\":1000,\"height\":500},                        {\"responsive\": true}                    ).then(function(){\n",
       "                            \n",
       "var gd = document.getElementById('902ea83f-27b1-4c5e-b5ff-ae76df6edeb6');\n",
       "var x = new MutationObserver(function (mutations, observer) {{\n",
       "        var display = window.getComputedStyle(gd).display;\n",
       "        if (!display || display === 'none') {{\n",
       "            console.log([gd, 'removed!']);\n",
       "            Plotly.purge(gd);\n",
       "            observer.disconnect();\n",
       "        }}\n",
       "}});\n",
       "\n",
       "// Listen for the removal of the full notebook cells\n",
       "var notebookContainer = gd.closest('#notebook-container');\n",
       "if (notebookContainer) {{\n",
       "    x.observe(notebookContainer, {childList: true});\n",
       "}}\n",
       "\n",
       "// Listen for the clearing of the current output cell\n",
       "var outputEl = gd.closest('.output');\n",
       "if (outputEl) {{\n",
       "    x.observe(outputEl, {childList: true});\n",
       "}}\n",
       "\n",
       "                        })                };                });            </script>        </div>"
      ]
     },
     "metadata": {},
     "output_type": "display_data"
    }
   ],
   "source": [
    "topics, probs, model = create_topics(\"auto\", \"CountVectorizer\", mentions)\n",
    "model.visualize_barchart()"
   ]
  },
  {
   "cell_type": "code",
   "execution_count": 8,
   "id": "52fe3c32",
   "metadata": {},
   "outputs": [
    {
     "data": {
      "text/plain": [
       "{-1: ['The national GHG emissions were estimated for the year 2016 according to 2006 IPCC Guidelines and the 2019 Refinement to the 2006 IPCC Guidelines. The estimation of the overall national inventory was carried out using the 2006 IPCC Inventory Software for non-Annex I Parties. The sectors and subsectors that were considered are the Energy, Industrial Processes and Product Use (IPPU), Agriculture, Forestry, and Other Land Use (AFOLU) and Waste.',\n",
       "  'The Third National Communication Greenhouse Gas Inventory for the year 2006 is the third inventory to be prepared for Zimbabwe. The 2006 Intergovernmental Panel on Climate Change (IPCC) Guidelines were used to estimate GHG emissions from Energy and Industrial Processes and Other Product Use (IPPU) while the Agriculture, Land Use, Land Use Change and Forestry (LULUCF) and Waste GHG inventories were compiled using the Revised 1996 IPCC Guidelines for National GHG Inventories. It was also based on the Good Practice Guidance and Uncertainty Management in National GHG Inventories (GPG 2000) and the Good Practice Guidance and Uncertainty Management (GPG 2002). The sectors covered in the inventories were: (1) Energy; (2) Industrial Process; (3) Solvents and Other Product Use; (4) Agriculture; (5) Land Use, Land Use Change and Forestry (LULUCF); and (6) Waste. Removals of GHGs were estimated from LULUCF.',\n",
       "  'This GHG inventory was developed following the methodologies of the InterGovernmental Panel on Climate Change (IPCC) \"Revised 1996 Guidelines for National Greenhouse Gas Inventories\". Five main sectors were identified for estimation of national GHG emissions and removals, namely:'],\n",
       " 0: ['The TSMS produces regional climate projections for Turkey until 2100 using the dynamic downscaling method, in accordance with the scenarios used in the IPCC 5 Assessment Report, Working Group 1 report. Of the global models used under the CMIPS project, regional climate projections were generated using dynamic downscaling method in the RegCM4 model of the HadGEM outputs. 1971-2000 period was taken as reference and a projection for years 2016-2099 was made. To produce high-resolution climate projections which will be used in regional climate change adaptation and impact assessment studies, products of coordinated regional climate model studies (Coordinated Regional Climate Downscaling Experiment, CORDEX) supported by the World Climate Research Programme were used. When it is evaluated together with the results of the outputs for all of the scenarios, while some differences can be seen depending on the scenario, it is generally seen that the temperatures will rise by 2-3°C in average and the precipitation will significantly reduce. It is estimated that across Turkey, there will be a significant increase in the number of consecutive dry days, the number of days with frost will decrease and the average temperature in the basins will how an upward trend until 2099.',\n",
       "  'The IPCC Working Group | Report for the AR6 cycle has warned us that the global climate will change significantly unless rapid and drastic reductions in emissions are taken. Global temperatures are projected to very likely rise by 1.0-5.7°C by the end of the century from preindustrial levels, while global mean sea levels are likely expected to increase by 0.28 m to 1.01 m over the same period, relative to 1995-2014 sea levels. Extreme weather events (such as heavy rainfall) over the region are also projected to be more intense and frequent. The IPCC Working Group II Report further cautions that widespread climate impacts are already being felt across the world, with some of these effects irreversibly and disproportionately affecting vulnerable countries, notably small island developing states (SIDS). The window for securing a liveable future is rapidly closing.',\n",
       "  'Models for precipitation and temperature variability however are associated with more uncertainties. Although a decrease in precipitation is being predicted, projected changes in precipitation should be viewed with some caution. The trends analysis implies that total rainy days with 0.1 mm or more of rainfall are decreasing while total yearly days with 10 mm or more of rain is increasing. This may be interpreted as a decrease in the total amount of precipitation but an increasing trend for convective type rainfall or heavy rainfall. While the uncertainties still prevail, the trends identified from data observations are in line with regional scenarios (found in the IPCC FAR) with regards to both decrease in mean annual precipitation and increase in extreme weather events (increase in the intensity of daily precipitation events) for the Mediterranean region. The IPCC report notes that there will be a higher incidence of drought and heat waves in summer. In this context, while this report will focus on the more certain increase in temperature, as also verified by locally generated scenarios, other impacts associated with the decrease in precipitation and increase in extreme events will be addressed based on regional scenarios.'],\n",
       " 1: ['In the national context, the subcategories of Forest Land Remaining Forest Land and Land Converted to Forest Land for Biomass Storage were estimated, due to data availability. In each land use and land use change category, carbon stock changes are estimated in the following three pools: biomass (aboveground and below ground), dead organic matter (litter and dead wood), and soils ( soil organic matter). In the case of this category, only the CO₂ emissions and removals from the biomass pool are presented, since, due to the lack of data on dead organic matter and soil carbon, it is assumed that C in these pools is in equilibrium, in accordance with the provisions of the Tier 1 method of the 2006 IPCC Guidelines.',\n",
       "  'The land use, land-use change, and forestry (LULUCF) sector deals with greenhouse gas (GHG) emissions and removals resulting from land use such as forestry activities and land-use change. Japan classifies its national land into six categories-forest land, cropland, grassland, wetlands, settlements, and other land-and subdivides each of them into two subcategories by distinguishing them on the basis of whether or not land conversion has been occurred, in accordance with the 2006 IPCC Guidelines; a default value of 20 years was used when distinguishing the land conversion. GHG emissions and removals in this sector consist of carbon stock changes in five carbon pools (aboveground biomass, belowground biomass, dead wood, litter, and soil), carbon stock changes in harvested wood products (HWP) in forest land, direct N₂O emissions from N fertilization in forest land, CH4 and N₂O emissions from drainage of organic soils, N₂O emissions from nitrogen mineralization resulting from change of land use or management of mineral soils, indirect N:O emissions from managed soils, and non-CO₂ emissions from biomass burning.',\n",
       "  'South Africa uses a combination of Tier 1, and Tier 2 methods for estimating emissions for the Land category. Annual carbon stock changes in biomass were estimated using the process-based (gain-loss) approach where gains are attributed to growth and losses are due to decay, harvesting, burning, disease, etc. For the land remaining in the same land-use category annual increases in biomass carbon stocks were estimated using Equation 2.9 of the IPCC 2006 Guidelines, where the mean annual biomass growth was estimated using the Tier 1 approach of Equation 2.10 in the IPCC 2006 Guidelines with country specific data. For plantations the Tier 2 approach of this equation was applied. The annual decrease in carbon stocks due to biomass losses were estimated from Equations 2.11 to 2.14 of the IPCC 2006 Guidelines. A Tier 2 approach was implemented for the estimation of carbon biomass stock change in Forest land for both land remaining land and land converted to forest land, while for all the other land classes a Tier 1 for land remaining land and a Tier 2 for land converted to other land (IPCC 2006 Equations 2.15 and 2.16) were applied. The dead organic matter pool only includes litter estimates due to a lack of dead wood data, and it is assumed that all litter pool carbon losses occur entirely in the year of transition (Tier 1). Carbon stock changes in litter were estimated with the stock-difference method (Tier 1), according to Equation 2.23 of the IPCC 2006 Guidelines. Changes in mineral soil carbon stocks for both land remaining land and land converted to a new land use were estimated with a Tier 1 approach from the formulation B of Equation 2.25 (IPCC, 2006 Guidelines, volume 4, p. 2.34). A summary of the methods used are provided in Table 5.3.'],\n",
       " 2: ['The uncertainty of the LULUCF sector activity data comes mainly from the estimation error of the geospatial data. While the uncertainties of the emission factors used come from the default values of the 2006 IPCC Guidelines. The uncertainty of the activity data has been included in the uncertainty calculation process and are reported together as uncertainties of emission factors.',\n",
       "  'The uncertainty estimate of the 2017 inventory has been done according to the Tier 1 method presented by the IPCC 2006 GL. Tier 1 method combines the uncertainty in activity rates and emission factors, for each source category and GHG, and then aggregates these uncertainties, for all source categories and GHG-s, to obtain the total uncertainty for the inventory. In many cases uncertainty values have been assigned based on default uncertainty estimates according to IPCC guidelines or expert judgement, because there is a lack of the information. For each source, uncertainties are quantified for emission factors and activity data.',\n",
       "  'The uncertainty estimate of the 2017 inventory has been done according to the Tier 1 method presented by the IPCC 2006 GL. Tier 1 method combines the uncertainty in activity rates and emission factors, for each source category and GHG, and then aggregates these uncertainties, for all source categories and GHGs, to obtain the total uncertainty for the inventory. In many cases uncertainty values have been assigned based on default uncertainty estimates according to IPCC guidelines or expert judgement, because there is a lack of the information. For each source, uncertainties are quantified for emission factors and activity data.'],\n",
       " 3: ['The sectoral or bottom up approach is used based on the 2006 Greenhouse gas Invitatory Guidelines and the IPCC software. Due to unavailability of national emission factor, Tier 1 is used although it is likely to provide the least accurate estimates of emissions. Applying a Tier 1 emission estimate requires the following information for each source category and fuel: Data on the amount of fuel combusted in the source category and the associated emission factor based on the end use equipment. The Activity data can be obtained from national statistics. Sectoral Approach and Reference Approach, the emissions factors of the Direct GHG is readily available in the IPCC Inventory Guidelines. The emission factors are given based on the types of the fuels and the end use equipment',\n",
       "  'The Tier 1 calculation method has been used in most categories calculations, as well as with default emission factors from 2006 IPCC Guidelines.',\n",
       "  'The conversion factors used in the reference approach are the same factors used in the sectoral approach. For carbon content and fraction of carbon oxidized, default factors proposed by 2006 IPCC Guidelines have been used.'],\n",
       " 4: ['The greenhouse gas (GHG) inventory details the anthropogenic emissions and removals for the year 2014 for four sectors: energy; industrial processes and product use (IPPU); agriculture, forestry and other land use (AFOLU); and waste. The inventory also contains time series estimates from 1990 to 2014 for all the sectors that were recalculated to reflect updated activity data and emission factors. These GHG inventory estimates were obtained following the 2006 IPCC Guidelines for National Greenhouse Gas Inventories. Efforts have been taken to compile a more complete and accurate GHG inventory in this report. One of the improvements is the inclusion of estimates of precursor gases (NO, CO, NMVOCs and SO₂) for the 2014 GHG inventory',\n",
       "  'During the period 2006-2018, cumulative total GHG emissions enjoyed a continuously increasing trend. The summary of total GHG emissions per source category is summarized in Table 3.4. As it could be seen from the table, transport remained the main source of GHG emissions for the whole period followed by other sectors, while Manufacturing Industries and Construction showed a modest increase contribution. It is noteworthy that the GHG emissions from other sectors are mainly generated by biomass combustion activities and following the IPCC guidelines, the CO₂ emissions generated by biomass are not added to the total GHG emissions. The emissions of CO₂ from biomass fuels are estimated and reported in the AFOLU sector as part of the AFOLU methodology. In the reporting tables, emissions from the combustion of biofuels are reported as information items but not included in the sectoral or national totals to avoid double counting. The emissions of CH4 and N₂O, however, are estimated and included in the sector and national totals because their effect is in addition to the stock changes estimated in the AFOLU sector. Following this methodology, the CH4 and N2O emissions from biomass were estimated and added to the energy sector totals. This is the main reason why the transportation category, which was having a minute contribution to total energy consumption, became the main contributor to total GHG emissions. (IPCC 2006, 2006).',\n",
       "  'Georgia has conducted the Fifth National Inventory of anthropogenic emissions by sources and removal by sinks of greenhouse gases (GHG) along with the Second Biennial Update Report to UNFCCC over the period of 2014-2015. The GHG Inventory is compiled according to the 2006 IPCC Guidelines for National Greenhouse Gas Inventories, including emissions and removals of six direct greenhouse gases: CO₂, CH4, N₂O, HFCs, PFCs and SF6, and four indirect gases: CO, NOx, NMVOC and SO₂. According to the Common Reporting Format (CRF) of the IPCC Methodology, the inventory covers five sectors: Energy, Industrial Processes and Product Use (IPPU), Agriculture, Land use, Land-Use Change and Forestry (LULUCF) and Waste. The results were recalculated for the following years 1990, 1994, 2000, 2005, 2010-2013 in all sectors, due to the use of IPCC 2006 guidelines.'],\n",
       " 5: ['The waste sector covers GHG emissions from treatment and disposal of waste, which are estimated for solid waste disposal (4.A.), biological treatment of solid waste (4.8.), incineration and open burning of waste (4.C.), and wastewater treatment and discharge (4.D.) in accordance with treatment processes suggested in the 2006 IPCC Guidelines.',\n",
       "  'In the waste sector, GHG emissions from treatment and disposal of waste are estimated for solid waste disposal, biological treatment of solid waste, incineration and open burning of waste, wastewater treatment and discharge, and others in accordance with treatment processes. \"Waste\" to be covered in this sector is the waste as defined in the 2006 IPCC Guidelines. Waste sector estimates GHG emissions from not only incineration and disposal of municipal and industrial waste, which are defined by the \"Waste Disposal and Public Cleansing Law\", but also energy or material use of recycled materials.',\n",
       "  'The scope of the IPCC 2006 Guidelines for the Waste sector gives methodological guidance for estimation of carbon dioxide (CO₂), methane (CH₂) and nitrous oxide (N₂O) emissions from Solid waste disposal, Biological treatment of solid waste, Incineration and open burning of waste, and Waste water treatment and discharge emissions from the Municipal Solid Waste (MSW). GHG emissions originating from the Waste Sector were estimated using a Tier 1 approach as per the IPCC, 2006 Guidelines and default emission factor for National GHG Inventories. The estimation of GHG emission from waste sector considers only the solid waste disposal and open burning of waste in this inventory. The result of aggregate GHG emission from waste sector in 2018 is 33.07 GgCO2-eq. the highest GHG emission contributor came from the solid waste disposal accounting for 97% and the remaining 3% was from open burning of waste (Figure 3.12).'],\n",
       " 6: ['Equation 3.1 (chapter 3 of the 2006 IPCC guidelines Volume 1):',\n",
       "  'Equation 3.1, page 3.8, Chapter 3, Volume 5, the IPCC 2006 Guidelines;',\n",
       "  '- Equation 3.2, page 3.9, Chapter 3, Volume 5, the IPCC 2006 Guidelines.'],\n",
       " 7: ['Emissions from manure management were calculated using IPCC Tier 1 methodology and default emission factors. This was done by multiplying the individual animal population with the default emission factor of the respective animal type according to manure management system. The fraction of manure treated under the different manure management systems for each livestock species is given in Table 2.59.',\n",
       "  'Direct N₂O emissions from manure management were calculated from animal population data, activity data and manure management system data using Equation 10.25 and 10.30 from the IPCC 2006 Guidelines. Nitrogen excretion rates (N) for horses, mules/asses, swine and poultry were determined from data utilised in Du Toit et al. (2013c). For the other livestock the Africa default values (IPCC, 2006, Table 10.19) were applied. The typical animal mass (TAM) for the various livestock categories is provided in the livestock category sections below. Manure management data (Table 5.22) was used to produce the fraction of total annual nitrogen excretion for each livestock category managed in the various manure management systems. IPCC 2006 default N,O emission factors were used for the various manure management systems (IPCC 2006, Table 10.21). Weighted average N₂O emission factors for each livestock type were determined from the manure management usage data and the N₂O',\n",
       "  'Emissions from manure management were calculated using IPCC Tier 1 methodology and default EFs. This was done by multiplying the individual animal population with the default EF of the respective animal type according to manure management system. The fraction of manure treated under the different manure management systems for each livestock species is given in Table 6.2.'],\n",
       " 8: [\"The values of Global Warming Potential (GWP) used in the Third National Communication are described in the IPCC's Second Assessment Report (see Table 3.2 below).\",\n",
       "  'According to the UNFCCC reporting guidelines on annual inventories, the Global Warming Potentials (GWP) provided by the IPCC in its Second Assessment Report (\"1995 IPCC GWP Values\") based on the effects of GHGs over a 100-year time horizon was used for expressing GHG emissions and removals in CO₂ equivalents. The values of the GWP of greenhouse gases are shown in the Table below\".',\n",
       "  'A: The estimates are based on the global warming potential (GWP) values from the IPCC Second Assessment Report (SAR).'],\n",
       " 9: ['The second pathway is the leaching and runoff from land of N from synthetic and organic fertilizer additions, crop residues, mineralization of N associated with loss of soil C in mineral and drained/managed organic soils through land-use change or management practices, and urine and dung deposition from grazing animals. As described in the 2006 IPCC GL, Vol. 4, Chapter 11.2.2 some of the inorganic N in or on the soil, mainly in the',\n",
       "  'The IPCC 2006 Guidelines divide the Agricultural Soil Management source category into five components: (1) direct emissions due to N additions to cropland and grassland mineral soils, including synthetic fertilizers, mulch, and crop residues applications, organic amendments, and biological N fixation associated with the planting of legumes on croplands; (2) direct emissions from soil organic matter mineralization due to land use and management change, (3) direct emissions from the drainage of organic soils in croplands and grasslands; (4) direct emissions from soils due to the deposition of manure by livestock on grasslands; and (5) indirect emissions from soils and water due to N additions and manure deposition to soils that lead to volatilization, leaching, or runoff of N and subsequent conversion to N₂O.',\n",
       "  'Emissions of N₂O in agricultural soils addresses the direct and indirect emissions of N₂O into the atmosphere, a product of the N applied in agricultural systems. Estimated in this category are N inputs from synthetic fertilizers, organic fertilizers, N from livestock urine and manure deposited by grazing animals on pastures or rangelands, crop residues, N mineralization related to loss or gain of soil organic matter due to land use change or mineral soil management, and organic soil management (IPCC, 2006).'],\n",
       " 10: ['According to Equation 6.4, page 6.20, Chapter 6, Volume 5, the IPCC 2006 Guidelines, AD for calculating CH, emissions from domestic wastewater included: 1) Total industrial product; 2) Amount of wastewater generated by each type of industry; 3) COD value in wastewater of each type of industry; and 4) Proportion of industrial wastewater treatment systems.',\n",
       "  'Wastewater is derived from a variety of domestic, commercial, and industrial sources and may be treated on-site (uncollected), sewed to a centralized plant (collected), or disposed of untreated nearby or via an outfall. Domestic wastewater is defined as wastewater from household water use, while industrial wastewater is from industrial practices only (IPCC, 2006). Considering that, the methodology is on a per person basis, emissions from commercial wastewater are estimated as part of domestic wastewater. To avoid misunderstanding, the term municipal wastewater was not used in this report. Municipal wastewater is a mixture of household, commercial and non-hazardous industrial wastewater, treated at wastewater treatment plants (IPCC, 2006).',\n",
       "  'The CH. emissions from industrial wastewater have been calculated using the IPCC Tier 1 methodology proposed by IPCC 2006. Assessment of CH4 production potential from industrial wastewater streams is based on the concentration of degradable organic matter in the wastewater is chemical oxygen demand (COD), the volume of wastewater, industrial sectors and ways of wastewater treatment. Data on industrial output for industries with the largest potential for wastewater methane emissions identified as follows:'],\n",
       " 11: ['Quality assurance/quality control (QA/QC) procedures for the preparation of the inventory are implemented in accordance with the requirements of the 2006 IPCC Guidelines for National Greenhouse Gas Inventories.',\n",
       "  'The quality control (QC) procedures are performed by the experts during inventory calculation and compilation. QC measures are aimed at the attainment of the quality objectives. The QC procedures comply with the IPCC good practice guidance and the 2006 IPCC Guidelines. General inventory QC checks include routine checks of the integrity, correctness and completeness of data, identification of errors and deficiencies and documentation and archiving of inventory data and quality control actions.',\n",
       "  'The quality control (QC) procedures are performed by the experts during inventory calculation and compilation. QC measures are aimed at the attainment of the quality objectives. The QC procedures comply with the IPCC good practice guidance and the 2006 IPCC Guidelines. General inventory QC checks include routine checks of the integrity, correctness and completeness of data, identification of errors and deficiencies and documentation and archiving of inventory data and quality control actions.'],\n",
       " 12: ['as well as 1996 IPCC Guidelines for National Greenhouse Gas Inventories.',\n",
       "  '- The 2006 IPCC Guidelines for National Greenhouse Gas Inventories (IPCC, 2006);',\n",
       "  '3 Categories from the 2006 IPCC Guidelines for National Greenhouse Gas Inventories'],\n",
       " 13: [\"The analysis of key categories that contribute the most to the absolute level of national emissions and removals (level assessment) and to the trend of emissions and removals (trend assessment), is conducted using Approach 1 in the 2006 IPCC Guidelines. According to this approach, key categories are those that, when summed together in descending order of magnitude, add up to 95% of the total level/trend. In other words, a key source category is one that is prioritised within the national inventory system because its estimate has a significant influence on a country's total inventory of direct GHGs, in terms of the absolute emissions and the trend. The level assessment key categories for 2016 are as\",\n",
       "  \"According to the IPCC definition, a key category is one that is prioritized within the national inventory system because its estimate has a significant influence on a country's total inventory of direct GHGs in terms of the absolute level of emissions, the trend in emissions, or both. Total emissions from the key categories amount to 95% of the total emissions included in the inventory. Key categories for Lebanon are determined with Approach 1 described in Volume 1, Chapter 4 of the 2006 IPCC Guidelines. 4 categories have been identified as key in the analysis, with CO₂ being the main gas and the energy sector being the main key category. Analyses of key categories is performed collectively for all sectors and a list of all key categories is presented in Table 10.\",\n",
       "  \"The analysis of key categories that contribute the most to the absolute level of national emissions and removals (level assessment) and to the trend of emissions and removals (trend assessment), is conducted using Approach 1 in the 2006 IPCC Guidelines. According to this approach, key categories are those that, when summed together in descending order of magnitude, add up to 95% of the total level/ trend. On other words, a key source category is one that is prioritized within the national inventory system because its estimate has a significant influence on a country's total inventory of direct GHGs, in terms of the absolute emissions and the trend. The level assessment key categories for 2016 are:\"],\n",
       " 14: ['This category addresses the emissions of HFCs and to a very limited extent, PFCs generated by the use of these fluorinated gases as alternatives or substitutes for ODS. Emissions in this category are associated with HFC and PFC application areas including refrigeration and air conditioning, fire fighting and explosion protection, aerosols, solvent cleaning, blowing agents, and other applications (IPCC, 2006). .',\n",
       "  \"Hydrofluorocarbons (HFCs) and, to a very limited extent, perfluorocarbons (PFCs), have high global warming potentials and are being used as alternatives to different classes of ozone-depleting substances (ODS) that are being phased out under the Montreal Protocol. According to the IPCC 2006 guidelines, HFCs and PFCs are being used in a variety of applications that includes refrigeration and air conditioning, fire suppression and explosion protection, aerosols, solvent cleaning, foam blowing, and other applications such as equipment's sterilization.\",\n",
       "  \"Hydrofluorocarbons (HFCs) and, to a very limited extent, perfluorocarbons (PFCs), have high global warming potentials and are being used as alternatives to different classes of ozone-depleting substances (ODS) that are being phased out under the Montreal Protocol. According to the IPCC 2006 guidelines, HFCs and PFCs are being used in a variety of applications that includes refrigeration and air conditioning, fire suppression and explosion protection, aerosols, solvent cleaning, foam blowing, and other applications such as equipment's sterilization. Rwanda neither produces nor export substitutes for ozone-depleting substances but they are being imported mainly for refrigeration and stationary air conditioning and also the Mobile air conditioning. Other applications, such as aerosols, solvent cleaning, and foam blowing exist in Rwanda; however, there is a lack of inventory data to estimate these sources of emissions.\"],\n",
       " 15: ['The GHG inventory under the First Biennial Update Report (BUR1) is coordinated by the Ministry of Tourism and Environment as the UNFCCC focal point and the central authority in Albania in charge for climate change policy. The preparation of the GHG Inventory is project based, supported by the Global Environment Facility (GEF) and the UNDP. Six professionals were engaged to form the GHG inventory team (each of them responsible for one or more sectors including data collection). The inventory was prepared using the latest IPCC Inventory software version available at the time of the preparing the inventory (IPCC 2006 software - version 2.691).',\n",
       "  'The GHG inventory was coordinated by the Ministry of Tourism and Environment as the UNFCCC focal point and the central authority in Albania in charge for climate change policy. The preparation of the GHG inventory was project based, supported by the Global Environment Facility (GEF) and the United Nations Development Programme (UNDP). Six professionals were engaged to form the GHG inventory team (each of them responsible for one or more sectors including data collection). The inventory was prepared using the latest IPCC Inventory software version available at the time of the preparing the inventory (IPCC 2006 software - version 2.691%) within which the key category analysis and uncertainty assessments were performed.',\n",
       "  \"In addition to the IPCC Guidelines for National GHG Inventories, the 'Good Practice Guidance and Uncertainty Management in National GHG Inventories' guidelines were used for preparation of the inventory.\"],\n",
       " 16: ['For estimating the CH. emissions from cattle the 2006 IPCC Guidelines Tier 2 approach ¹53 has been applied. For all other livestock categories (sheep, goats, horses, mules and asses), the 2006 IPCC Guidelines Tier 1 was used.',\n",
       "  'Dairy cattle are split between the Dairy cattle (3Alai) and Other cattle (3Alaii) sub-categories. According to IPCC 2006 (Chapter 10, page 10.10) the Dairy cattle category does not include cows kept principally to produce calves for meat or to provide draft power. It indicates that low producing cows and heifers should be considered Other cattle. Therefore, even though the methodology for all dairy cattle is discussed in this section, it is important to note that only cows (lactating and dry) and lactating heifers are included under Dairy cattle, while the emissions from the rest are included under Other cattle (non-lactating producing dairy cattle).',\n",
       "  \"(1) Activity data cover the following animal categories: cattle, horses, camels, sheep, goats, swine and poultry. For the period between 1990 and 2014, the activity data are taken from Statistical yearbooks of agriculture 1990-2014. For dairy cattle, in Mongolia, specialized dairy breeds are still rare (<1%), and females are more appropriately categorized as 'other cattle'. Therefore all cattle of Mongolia are taken as other cattle. Broiler chickens are typically grown approximately 60 days before slaughter. In order to avoid overestimation, annual average population of poultry is estimated according to equation 10.1 (IPCC 2006) and estimated numbers are entered in the Table 5-1.\"],\n",
       " 17: ['Total national GHG emissions by category of IPCC sector Industrial Processes and Product Use (IPPU)',\n",
       "  'The industrial processes and product use category covers the processes that transform materials, chemically or physically, to make desired products. The energy inputs for process heating are covered under the energy sector section. The IPCC broadly classifies this sector into seven industrial processes, of which three are most relevant to Ethiopia: mineral products (cement and lime production), metal production (iron production/recycling), and other production, including textile, food and beverage production. The main industrial processes considered for estimation of emissions are the cement, lime, glass and iron manufacturing industries. Gases released include CO₂, NMVOC, SO₂, NO, and PFCs. The methodology for calculation of emissions involves multiplication of the activity data by the corresponding emission factors listed in the revised IPCC 1996 guidelines. Figure 3-15 shows the emissions from the IPPU sector in 1994-2013. The cement and metal production industries are growing fast due to the booming construction sector in the country.',\n",
       "  'CO₂ emissions by category of IPCC sector Industrial Processes and Product Use (IPPU)'],\n",
       " 18: ['The uncertainties for activity data and emission factors used for IPCC category 3.F Field burning of agricultural residues are presented in the following table.',\n",
       "  'The uncertainties for activity data and emission factors used for IPCC category 3.F Field burning of agricultural residues are presented in the following table.',\n",
       "  'GHG Emissions from IPCC category 3.F Field burning of agricultural residues'],\n",
       " 19: ['To estimate emissions from the Lime Production subcategory, the Tier 2 method of the 2006 IPCC Guidelines, Equation 2.6, was applied; Episode 2; Volume 3, based on national production data by type of lime.',\n",
       "  'CO₂ is released by heating limestone or calcium carbonate to break down the carbonates, this is usually done in reed kilns or rotary kilns at high temperatures. For the estimation of emissions from the production of lime, the Tier 2 method of the 2006 IPCC Guidelines was applied, based on the data of the national production of lime by type. Country-specific information is required at this level on the proportion of hydrated lime that is produced. The proportions by type of lime with respect to production of lime kiln dust (LKD) at the plant level should be obtained as shown in the following equation.',\n",
       "  'According to 2006 IPCC Guidelines, Vol. 3, Chap. 2.3.1.1, the Tier 1 method is based on applying a default emission factor to national level lime production data. While country-specific information on lime production by type (e.g., high calcium lime, dolomitic lime, or hydraulic lime) is not necessary for good practice in Tier 1, where data are available to identify the specific types of lime produced in the country, this may be used. It is not necessary for good practice to account for LKD in Tier 1.'],\n",
       " 20: ['were used in the GHG estimation. But, 2006 IPCC default EFs were used for CO₂, CH4 and N₂O emission',\n",
       "  'The default IPCC Emission Factors (EFS) have been for the inventory.',\n",
       "  'The default EFs applied are the country specific EFs and default values according to the IPCC 2006 Guidelines for the emission calculation:'],\n",
       " 21: ['factors used during the compilation of this inventory. All estimates were made via the use of the IPCC 2006 inventory software.',\n",
       "  'Within each source category, the completeness assessment of the inventory was conducted following the IPCC guidelines. Results of the assessment for the Energy and Industrial Processes sectors are presented in Table 2-5. The following notation keys are used in the assessment.',\n",
       "  'A completeness assessment of the inventory was conducted within each source category, following 2006 IPCC Guidelines. Results of the assessment for the Energy, IPPU, Agriculture, LULUCF, and Waste sectors are presented in Table 2-4. The following notation keys are used in the assessment.'],\n",
       " 22: ['Uruguay prepared its first National Inventory of Greenhouse Gases (INGEI) for the reference year 1990, the results of which were reported in the initial National Communication that the country presented in 1997 during the 3rd Conference of the Parties (COP) in the United Nations Framework Convention on Climate Change (hereinafter, Convention). Said inventory was prepared based on the Guidelines of the Intergovernmental Group of Experts on Climate Change (IPCC for its acronym in English), of the year 1995.',\n",
       "  'Uruguay prepared its first National Inventory of Greenhouse Gases (INGEI) for the reference year 1990, the results of which were reported in the initial National Communication that the country presented in 1997 during the 3rd Conference of the Parties (COP) to the Convention. United Nations Framework for Climate Change (hereinafter, Convention). Said inventory was prepared based on the Guidelines of the Intergovernmental Group of Experts on Climate Change (IPCC for its acronym in English), of the year 1995.',\n",
       "  'The country ratified the United Nations Framework Convention on Climate Change (UNFCCC) on 27 October 1995 and ratified also the Kyoto Protocol on 18 November 2005 (IGEE, 2008) thus becoming a contracting Party to the Convention, committed to develop, update, publish the National Communications on Climate Change and other strategic documents on the same theme and participate in the Conferences of the Parties (COP). In order to meet its reporting obligations, Guinea-Bissau has already prepared and submitted systematically: i) The First Inventory and the Initial National Communication in 1996, the reference year 1994; ii) The Second Inventory and subsequent Second National Communication in 2011, the base year 2000; and iii) now the Third Inventory and consequently, within this framework, the reporting guidelines, adopted during COP 8 for the preparation of national communications from Parties not included in Annex I to the Convention and contained in decision 17/CP.8 have been adopted for the preparation of this Third National Communication (reference year is 2010) always steered by the Guidelines and / or Good Practice Guidance 2003 Intergovernmental panel on Climate Change (IPCC) for the Preparation of National Communications from Parties not included in Annex-l of the Convention.'],\n",
       " 23: ['Table 5.9 presents the results of the IPCC Tier 2 key category level analysis for the year 1990. There is a total of 17 key categories based on the Tier 2 base year level analysis, without LULUCF.',\n",
       "  'Table 5.8 presents the results of the IPCC Tier 2 key category level analysis for the year 2019. There is a total of 21 key categories based on the Tier 2 current year level analysis, with LULUCF.',\n",
       "  'Table 5.9 presents the results of the IPCC Tier 2 key category level analysis for the year 1990. There is a total of 13 key categories based on the Tier 2 base year level analysis, without LULUCF.'],\n",
       " 24: ['The IPCC makes it possible to calculate the emissions from the production of pig iron that is not converted into steel. It is preferable to estimate the emissions from this production separately, since the emission factors for the integrated production of iron and steel (BOF and OHF processes) take into account the emissions from both stages. In the case of Mexico, all the pig iron is converted into steel, so the emissions from this production are already considered in the production of iron and steel (see note of Table 4.1 of IPCC 2006).',\n",
       "  'A Tier I approach (country-specific emission factors) was applied to calculate the emissions from iron and steel production for the different process types in 2017. Default IPCC emission factors were used for the calculation of GHG emissions from basic oxygen furnace, electric furnace and pig iron production, direct reduced iron production and sinter. The separation of energy and process emissions emanating from the use of coke was not done due to a lack of disaggregated information on coke consumption. Hence, energy-related emissions from iron and steel production have been accounted for through the application of default IPCC emission factors.',\n",
       "  'Metal production includes the production of metals such as iron and steel. The quantity of iron and steel produced in 2000 was 2.7 and 7.6 kt respectively. Emission factors were the default values recommended by the IPCC 2006. For iron production, default CO2 emission factor from pig iron production was used and as for steel production, CO₂ emission was calculated by electric arc furnace steel making method.'],\n",
       " 25: ['As a quality control, the recommendations indicated in Chapter 6 - Volume 1 of the 2006 IPCC Guidelines were followed. Additionally, the hypotheses used for the selection of the activity data, the appropriate calculation methodologies, the selection of emission factors and calculations. Likewise, the transcription of the activity data from the original sources to the spreadsheets was reviewed, mainly contrasting the totals of the original reports, with the sums made in the spreadsheets.',\n",
       "  'As a quality control, the recommendations indicated in Chapter 6- Volume 1 of the 2006 IPCC Guidelines were followed. Additionally, the hypotheses used for the selection of the activity data, the appropriate calculation methodologies, the selection of emission factors and calculations. Likewise, the transcription of the activity data from the original sources to the spreadsheets was reviewed. In reference to completeness, the occurrence in the country of all the sources of emission and absorption indicated in Chapter 8 - Volume 1 of the 2006 IPCC Guidelines were documented in tabular form, the categories of sources that did not have estimates, either due to lack of information (NE), because they do not occur (NO) or because they are included in another category (IE), justifying the corresponding notation.',\n",
       "  'As a quality control, the recommendations indicated in Chapter 6- Volume 1 of the 2006 IPCC Guidelines were followed. Additionally, the hypotheses used for the selection of the activity data, the appropriate calculation methodologies, the selection of emission factors and calculations. Likewise, the transcription of the activity data from the original sources to the spreadsheets was reviewed. In reference to completeness, the occurrence in the country of all the sources of emission and absorption indicated in Chapter 8 - Volume 1 of the 2006 IPCC Guidelines were documented in tabular form, the categories of sources that did not have estimates, either due to lack of information (NE), because they do not occur (NO) or because they are included in another category (IE), justifying the corresponding notation.'],\n",
       " 26: ['GHG emissions from cement production were estimated using a Tier 2 methodology (2006 IPCC Guidelines), based on activity data on clinker production. Data obtained directly from the producer on CaO and MgO ratio in clinker and cement were used for calculating the CO₂ emission factors.',\n",
       "  'The methodology used to estimate CO₂ emissions is the Tier 2 method of the IPCC GHG inventory manual, which uses clinker production data and clinker lime content data. As for the estimate of SO₂ emissions from cement production, it was carried out by applying an emission factor excluding combustion to the annual production of cement.',\n",
       "  'Cement production: The IPCC Good Practice Guidance (2000) presents two methods for estimating CO₂ emissions from cement production: Tier 1. Using data from cement production. Cement production data is used to estimate clinker production (taking into account the types of cement produced: Portland cement, pozzolanic cement, composite cement, blast furnace slag cement, etc.) and including clinker imports and exports (when it is possible). Regarding the Emission Factors, default factors were used: from O-IPCC, 3.1.1.1 p.3.10 (Clinker) and from D-IPCC1996, Reference Manual, 2.3.3.p.2.7 (Cement).']}"
      ]
     },
     "execution_count": 8,
     "metadata": {},
     "output_type": "execute_result"
    }
   ],
   "source": [
    "representative_docs = model.get_representative_docs()\n",
    "representative_docs"
   ]
  },
  {
   "cell_type": "code",
   "execution_count": 9,
   "id": "b1c06ec3",
   "metadata": {},
   "outputs": [],
   "source": [
    "# pd.DataFrame(representative_docs).to_csv(\"mentions_topics_final_reps.csv\")"
   ]
  },
  {
   "cell_type": "code",
   "execution_count": 10,
   "id": "c181d87a",
   "metadata": {},
   "outputs": [],
   "source": [
    "df_full = add_topics_to_df(topics, probs, model, df_ipcc_mentions_body, mentions)\n",
    "# df_full.head(10)\n",
    "#df_full[df_full['Topic']==6]\n",
    "#df_full "
   ]
  },
  {
   "cell_type": "code",
   "execution_count": 11,
   "id": "722af50f",
   "metadata": {},
   "outputs": [],
   "source": [
    "# df_full.to_csv(\"mentions_topics_final.csv\")"
   ]
  },
  {
   "cell_type": "markdown",
   "id": "59b43913",
   "metadata": {},
   "source": [
    "## IPCC report"
   ]
  },
  {
   "cell_type": "code",
   "execution_count": 12,
   "id": "4a43a5c1",
   "metadata": {},
   "outputs": [
    {
     "name": "stderr",
     "output_type": "stream",
     "text": [
      "2024-04-16 11:52:59,476 - BERTopic - Embedding - Transforming documents to embeddings.\n"
     ]
    },
    {
     "data": {
      "application/vnd.jupyter.widget-view+json": {
       "model_id": "3a5810ccf50f40f4ae68ec5114f49c67",
       "version_major": 2,
       "version_minor": 0
      },
      "text/plain": [
       "Batches:   0%|          | 0/521 [00:00<?, ?it/s]"
      ]
     },
     "metadata": {},
     "output_type": "display_data"
    },
    {
     "name": "stderr",
     "output_type": "stream",
     "text": [
      "2024-04-16 11:54:51,896 - BERTopic - Embedding - Completed ✓\n",
      "2024-04-16 11:54:51,898 - BERTopic - Dimensionality - Fitting the dimensionality reduction algorithm\n",
      "2024-04-16 11:54:55,669 - BERTopic - Dimensionality - Completed ✓\n",
      "2024-04-16 11:54:55,670 - BERTopic - Cluster - Start clustering the reduced embeddings\n",
      "2024-04-16 11:54:56,804 - BERTopic - Cluster - Completed ✓\n",
      "2024-04-16 11:54:56,804 - BERTopic - Representation - Extracting topics from clusters using representation models.\n",
      "2024-04-16 11:54:57,623 - BERTopic - Representation - Completed ✓\n",
      "2024-04-16 11:54:57,624 - BERTopic - Topic reduction - Reducing number of topics\n",
      "2024-04-16 11:54:58,437 - BERTopic - Topic reduction - Reduced number of topics from 37 to 18\n"
     ]
    },
    {
     "ename": "ValueError",
     "evalue": "too many values to unpack (expected 2)",
     "output_type": "error",
     "traceback": [
      "\u001b[0;31m---------------------------------------------------------------------------\u001b[0m",
      "\u001b[0;31mValueError\u001b[0m                                Traceback (most recent call last)",
      "Cell \u001b[0;32mIn[12], line 1\u001b[0m\n\u001b[0;32m----> 1\u001b[0m topics, model \u001b[38;5;241m=\u001b[39m create_topics(\u001b[38;5;124m\"\u001b[39m\u001b[38;5;124mauto\u001b[39m\u001b[38;5;124m\"\u001b[39m, \u001b[38;5;124m\"\u001b[39m\u001b[38;5;124mCountVectorizer\u001b[39m\u001b[38;5;124m\"\u001b[39m, report)\n\u001b[1;32m      2\u001b[0m model\u001b[38;5;241m.\u001b[39mvisualize_barchart()\n",
      "\u001b[0;31mValueError\u001b[0m: too many values to unpack (expected 2)"
     ]
    }
   ],
   "source": [
    "topics, model = create_topics(\"auto\", \"CountVectorizer\", report)\n",
    "model.visualize_barchart()"
   ]
  },
  {
   "cell_type": "code",
   "execution_count": null,
   "id": "f8d340a8",
   "metadata": {},
   "outputs": [],
   "source": [
    "representative_docs = model.get_representative_docs()\n",
    "representative_docs"
   ]
  },
  {
   "cell_type": "markdown",
   "id": "2042cd80",
   "metadata": {},
   "source": [
    "## Combined corpus"
   ]
  },
  {
   "cell_type": "code",
   "execution_count": 13,
   "id": "3d6bd718",
   "metadata": {},
   "outputs": [],
   "source": [
    "df_full = pd.concat([df_ipccreport, df_ipcc_mentions_body], ignore_index=True, sort=False)\n",
    "df_full[\"doc_type_major\"] = df_full[\"types0\"].where(df_full[\"types0\"] == \"IPCC Report\", other='Country Policy Reports')"
   ]
  },
  {
   "cell_type": "code",
   "execution_count": 14,
   "id": "a1fb60de",
   "metadata": {},
   "outputs": [],
   "source": [
    "# df_full.to_csv(\"ipccreportbodyANDipccmentionsbody.csv\")"
   ]
  },
  {
   "cell_type": "code",
   "execution_count": 15,
   "id": "c9239071",
   "metadata": {},
   "outputs": [],
   "source": [
    "list_full = df_full.text.to_list()"
   ]
  },
  {
   "cell_type": "code",
   "execution_count": 16,
   "id": "0eb5f5f2",
   "metadata": {},
   "outputs": [
    {
     "name": "stderr",
     "output_type": "stream",
     "text": [
      "2024-04-17 09:51:26,674 - BERTopic - Embedding - Transforming documents to embeddings.\n"
     ]
    },
    {
     "data": {
      "application/vnd.jupyter.widget-view+json": {
       "model_id": "613e94b9fad04493bdf7de5e19607cdd",
       "version_major": 2,
       "version_minor": 0
      },
      "text/plain": [
       "Batches:   0%|          | 0/1110 [00:00<?, ?it/s]"
      ]
     },
     "metadata": {},
     "output_type": "display_data"
    },
    {
     "ename": "KeyboardInterrupt",
     "evalue": "",
     "output_type": "error",
     "traceback": [
      "\u001b[0;31m---------------------------------------------------------------------------\u001b[0m",
      "\u001b[0;31mKeyboardInterrupt\u001b[0m                         Traceback (most recent call last)",
      "Cell \u001b[0;32mIn[16], line 1\u001b[0m\n\u001b[0;32m----> 1\u001b[0m topics, probs, model \u001b[38;5;241m=\u001b[39m create_topics(\u001b[38;5;124m\"\u001b[39m\u001b[38;5;124mauto\u001b[39m\u001b[38;5;124m\"\u001b[39m, \u001b[38;5;124m\"\u001b[39m\u001b[38;5;124mCountVectorizer\u001b[39m\u001b[38;5;124m\"\u001b[39m, list_full)\n\u001b[1;32m      2\u001b[0m model\u001b[38;5;241m.\u001b[39mvisualize_barchart()\n",
      "Cell \u001b[0;32mIn[5], line 20\u001b[0m, in \u001b[0;36mcreate_topics\u001b[0;34m(no_clusters, stopword_removal, text)\u001b[0m\n\u001b[1;32m      4\u001b[0m hdbscan_model \u001b[38;5;241m=\u001b[39m HDBSCAN(min_cluster_size\u001b[38;5;241m=\u001b[39m\u001b[38;5;241m100\u001b[39m, metric\u001b[38;5;241m=\u001b[39m\u001b[38;5;124m'\u001b[39m\u001b[38;5;124meuclidean\u001b[39m\u001b[38;5;124m'\u001b[39m, \n\u001b[1;32m      5\u001b[0m                     cluster_selection_method\u001b[38;5;241m=\u001b[39m\u001b[38;5;124m'\u001b[39m\u001b[38;5;124meom\u001b[39m\u001b[38;5;124m'\u001b[39m, prediction_data\u001b[38;5;241m=\u001b[39m\u001b[38;5;28;01mTrue\u001b[39;00m, min_samples\u001b[38;5;241m=\u001b[39m\u001b[38;5;241m5\u001b[39m)\n\u001b[1;32m      7\u001b[0m \u001b[38;5;28;01mmatch\u001b[39;00m stopword_removal:\n\u001b[1;32m      8\u001b[0m     \u001b[38;5;28;01mcase\u001b[39;00m \u001b[38;5;124m\"\u001b[39m\u001b[38;5;124mCountVectorizer\u001b[39m\u001b[38;5;124m\"\u001b[39m:\n\u001b[1;32m      9\u001b[0m         vectorizer_model \u001b[38;5;241m=\u001b[39m CountVectorizer(stop_words\u001b[38;5;241m=\u001b[39mstop_words_custom)\n\u001b[0;32m   (...)\u001b[0m\n\u001b[1;32m     17\u001b[0m         representation_model \u001b[38;5;241m=\u001b[39m KeyBERTInspired()\n\u001b[1;32m     18\u001b[0m         model30_nostopwords3 \u001b[38;5;241m=\u001b[39m BERTopic(representation_model\u001b[38;5;241m=\u001b[39mrepresentation_model, nr_topics\u001b[38;5;241m=\u001b[39mno_clusters, hdbscan_model\u001b[38;5;241m=\u001b[39mhdbscan_model,calculate_probabilities\u001b[38;5;241m=\u001b[39m\u001b[38;5;28;01mTrue\u001b[39;00m)\n\u001b[0;32m---> 20\u001b[0m topics, probs \u001b[38;5;241m=\u001b[39m model\u001b[38;5;241m.\u001b[39mfit_transform(text)\n\u001b[1;32m     21\u001b[0m \u001b[38;5;28;01mreturn\u001b[39;00m topics, probs, model\n",
      "File \u001b[0;32m~/anaconda3/lib/python3.11/site-packages/bertopic/_bertopic.py:387\u001b[0m, in \u001b[0;36mBERTopic.fit_transform\u001b[0;34m(self, documents, embeddings, images, y)\u001b[0m\n\u001b[1;32m    384\u001b[0m     logger\u001b[38;5;241m.\u001b[39minfo(\u001b[38;5;124m\"\u001b[39m\u001b[38;5;124mEmbedding - Transforming documents to embeddings.\u001b[39m\u001b[38;5;124m\"\u001b[39m)\n\u001b[1;32m    385\u001b[0m     \u001b[38;5;28mself\u001b[39m\u001b[38;5;241m.\u001b[39membedding_model \u001b[38;5;241m=\u001b[39m select_backend(\u001b[38;5;28mself\u001b[39m\u001b[38;5;241m.\u001b[39membedding_model,\n\u001b[1;32m    386\u001b[0m                                           language\u001b[38;5;241m=\u001b[39m\u001b[38;5;28mself\u001b[39m\u001b[38;5;241m.\u001b[39mlanguage)\n\u001b[0;32m--> 387\u001b[0m     embeddings \u001b[38;5;241m=\u001b[39m \u001b[38;5;28mself\u001b[39m\u001b[38;5;241m.\u001b[39m_extract_embeddings(documents\u001b[38;5;241m.\u001b[39mDocument\u001b[38;5;241m.\u001b[39mvalues\u001b[38;5;241m.\u001b[39mtolist(),\n\u001b[1;32m    388\u001b[0m                                           images\u001b[38;5;241m=\u001b[39mimages,\n\u001b[1;32m    389\u001b[0m                                           method\u001b[38;5;241m=\u001b[39m\u001b[38;5;124m\"\u001b[39m\u001b[38;5;124mdocument\u001b[39m\u001b[38;5;124m\"\u001b[39m,\n\u001b[1;32m    390\u001b[0m                                           verbose\u001b[38;5;241m=\u001b[39m\u001b[38;5;28mself\u001b[39m\u001b[38;5;241m.\u001b[39mverbose)\n\u001b[1;32m    391\u001b[0m     logger\u001b[38;5;241m.\u001b[39minfo(\u001b[38;5;124m\"\u001b[39m\u001b[38;5;124mEmbedding - Completed \u001b[39m\u001b[38;5;130;01m\\u2713\u001b[39;00m\u001b[38;5;124m\"\u001b[39m)\n\u001b[1;32m    392\u001b[0m \u001b[38;5;28;01melse\u001b[39;00m:\n",
      "File \u001b[0;32m~/anaconda3/lib/python3.11/site-packages/bertopic/_bertopic.py:3293\u001b[0m, in \u001b[0;36mBERTopic._extract_embeddings\u001b[0;34m(self, documents, images, method, verbose)\u001b[0m\n\u001b[1;32m   3291\u001b[0m     embeddings \u001b[38;5;241m=\u001b[39m \u001b[38;5;28mself\u001b[39m\u001b[38;5;241m.\u001b[39membedding_model\u001b[38;5;241m.\u001b[39membed_words(words\u001b[38;5;241m=\u001b[39mdocuments, verbose\u001b[38;5;241m=\u001b[39mverbose)\n\u001b[1;32m   3292\u001b[0m \u001b[38;5;28;01melif\u001b[39;00m method \u001b[38;5;241m==\u001b[39m \u001b[38;5;124m\"\u001b[39m\u001b[38;5;124mdocument\u001b[39m\u001b[38;5;124m\"\u001b[39m:\n\u001b[0;32m-> 3293\u001b[0m     embeddings \u001b[38;5;241m=\u001b[39m \u001b[38;5;28mself\u001b[39m\u001b[38;5;241m.\u001b[39membedding_model\u001b[38;5;241m.\u001b[39membed_documents(documents, verbose\u001b[38;5;241m=\u001b[39mverbose)\n\u001b[1;32m   3294\u001b[0m \u001b[38;5;28;01melif\u001b[39;00m documents[\u001b[38;5;241m0\u001b[39m] \u001b[38;5;129;01mis\u001b[39;00m \u001b[38;5;28;01mNone\u001b[39;00m \u001b[38;5;129;01mand\u001b[39;00m images \u001b[38;5;129;01mis\u001b[39;00m \u001b[38;5;28;01mNone\u001b[39;00m:\n\u001b[1;32m   3295\u001b[0m     \u001b[38;5;28;01mraise\u001b[39;00m \u001b[38;5;167;01mValueError\u001b[39;00m(\u001b[38;5;124m\"\u001b[39m\u001b[38;5;124mMake sure to use an embedding model that can either embed documents\u001b[39m\u001b[38;5;124m\"\u001b[39m\n\u001b[1;32m   3296\u001b[0m                      \u001b[38;5;124m\"\u001b[39m\u001b[38;5;124mor images depending on which you want to embed.\u001b[39m\u001b[38;5;124m\"\u001b[39m)\n",
      "File \u001b[0;32m~/anaconda3/lib/python3.11/site-packages/bertopic/backend/_base.py:69\u001b[0m, in \u001b[0;36mBaseEmbedder.embed_documents\u001b[0;34m(self, document, verbose)\u001b[0m\n\u001b[1;32m     55\u001b[0m \u001b[38;5;28;01mdef\u001b[39;00m \u001b[38;5;21membed_documents\u001b[39m(\u001b[38;5;28mself\u001b[39m,\n\u001b[1;32m     56\u001b[0m                     document: List[\u001b[38;5;28mstr\u001b[39m],\n\u001b[1;32m     57\u001b[0m                     verbose: \u001b[38;5;28mbool\u001b[39m \u001b[38;5;241m=\u001b[39m \u001b[38;5;28;01mFalse\u001b[39;00m) \u001b[38;5;241m-\u001b[39m\u001b[38;5;241m>\u001b[39m np\u001b[38;5;241m.\u001b[39mndarray:\n\u001b[1;32m     58\u001b[0m \u001b[38;5;250m    \u001b[39m\u001b[38;5;124;03m\"\"\" Embed a list of n words into an n-dimensional\u001b[39;00m\n\u001b[1;32m     59\u001b[0m \u001b[38;5;124;03m    matrix of embeddings\u001b[39;00m\n\u001b[1;32m     60\u001b[0m \n\u001b[0;32m   (...)\u001b[0m\n\u001b[1;32m     67\u001b[0m \u001b[38;5;124;03m        that each have an embeddings size of `m`\u001b[39;00m\n\u001b[1;32m     68\u001b[0m \u001b[38;5;124;03m    \"\"\"\u001b[39;00m\n\u001b[0;32m---> 69\u001b[0m     \u001b[38;5;28;01mreturn\u001b[39;00m \u001b[38;5;28mself\u001b[39m\u001b[38;5;241m.\u001b[39membed(document, verbose)\n",
      "File \u001b[0;32m~/anaconda3/lib/python3.11/site-packages/bertopic/backend/_sentencetransformers.py:65\u001b[0m, in \u001b[0;36mSentenceTransformerBackend.embed\u001b[0;34m(self, documents, verbose)\u001b[0m\n\u001b[1;32m     51\u001b[0m \u001b[38;5;28;01mdef\u001b[39;00m \u001b[38;5;21membed\u001b[39m(\u001b[38;5;28mself\u001b[39m,\n\u001b[1;32m     52\u001b[0m           documents: List[\u001b[38;5;28mstr\u001b[39m],\n\u001b[1;32m     53\u001b[0m           verbose: \u001b[38;5;28mbool\u001b[39m \u001b[38;5;241m=\u001b[39m \u001b[38;5;28;01mFalse\u001b[39;00m) \u001b[38;5;241m-\u001b[39m\u001b[38;5;241m>\u001b[39m np\u001b[38;5;241m.\u001b[39mndarray:\n\u001b[1;32m     54\u001b[0m \u001b[38;5;250m    \u001b[39m\u001b[38;5;124;03m\"\"\" Embed a list of n documents/words into an n-dimensional\u001b[39;00m\n\u001b[1;32m     55\u001b[0m \u001b[38;5;124;03m    matrix of embeddings\u001b[39;00m\n\u001b[1;32m     56\u001b[0m \n\u001b[0;32m   (...)\u001b[0m\n\u001b[1;32m     63\u001b[0m \u001b[38;5;124;03m        that each have an embeddings size of `m`\u001b[39;00m\n\u001b[1;32m     64\u001b[0m \u001b[38;5;124;03m    \"\"\"\u001b[39;00m\n\u001b[0;32m---> 65\u001b[0m     embeddings \u001b[38;5;241m=\u001b[39m \u001b[38;5;28mself\u001b[39m\u001b[38;5;241m.\u001b[39membedding_model\u001b[38;5;241m.\u001b[39mencode(documents, show_progress_bar\u001b[38;5;241m=\u001b[39mverbose)\n\u001b[1;32m     66\u001b[0m     \u001b[38;5;28;01mreturn\u001b[39;00m embeddings\n",
      "File \u001b[0;32m~/anaconda3/lib/python3.11/site-packages/sentence_transformers/SentenceTransformer.py:373\u001b[0m, in \u001b[0;36mSentenceTransformer.encode\u001b[0;34m(self, sentences, prompt_name, prompt, batch_size, show_progress_bar, output_value, convert_to_numpy, convert_to_tensor, device, normalize_embeddings)\u001b[0m\n\u001b[1;32m    371\u001b[0m             \u001b[38;5;66;03m# fixes for #522 and #487 to avoid oom problems on gpu with large datasets\u001b[39;00m\n\u001b[1;32m    372\u001b[0m             \u001b[38;5;28;01mif\u001b[39;00m convert_to_numpy:\n\u001b[0;32m--> 373\u001b[0m                 embeddings \u001b[38;5;241m=\u001b[39m embeddings\u001b[38;5;241m.\u001b[39mcpu()\n\u001b[1;32m    375\u001b[0m         all_embeddings\u001b[38;5;241m.\u001b[39mextend(embeddings)\n\u001b[1;32m    377\u001b[0m all_embeddings \u001b[38;5;241m=\u001b[39m [all_embeddings[idx] \u001b[38;5;28;01mfor\u001b[39;00m idx \u001b[38;5;129;01min\u001b[39;00m np\u001b[38;5;241m.\u001b[39margsort(length_sorted_idx)]\n",
      "\u001b[0;31mKeyboardInterrupt\u001b[0m: "
     ]
    }
   ],
   "source": [
    "topics, probs, model = create_topics(\"auto\", \"CountVectorizer\", list_full)\n",
    "model.visualize_barchart()"
   ]
  },
  {
   "cell_type": "code",
   "execution_count": null,
   "id": "a9b25133",
   "metadata": {},
   "outputs": [],
   "source": [
    "df_full_comb = add_topics_to_df(topics, probs, model, df_full, list_full)\n",
    "df_full_comb[\"doc_type_major\"] = df_full_comb[\"types0\"].where(df_full_comb[\"types0\"] == \"IPCC Report\", other='Country Policy Reports')\n",
    "df_full_comb.groupby(['Name','doc_type_major'])['text'].size().unstack().plot(kind='bar', stacked=True)"
   ]
  },
  {
   "cell_type": "code",
   "execution_count": null,
   "id": "72f16b48",
   "metadata": {},
   "outputs": [],
   "source": [
    "representative_docs = model.get_representative_docs()\n",
    "representative_docs"
   ]
  },
  {
   "cell_type": "code",
   "execution_count": null,
   "id": "2d394a67",
   "metadata": {},
   "outputs": [],
   "source": [
    "equiv = {0:\"Ice and Glaciers\", \n",
    "        1:\"Food and Bioenergy\",\n",
    "        2:\"Manure and cattle\",\n",
    "        3:\"Biomass/ LULUCF\",\n",
    "        4:\"GHG Investories\",\n",
    "        5:\"Desertification\",\n",
    "        6:\"Uncertainties\",\n",
    "        7:\"Wastewater\",\n",
    "        8:\"QAQC\",\n",
    "        9:\"Waste\"}\n",
    "df_concat[\"topic_name\"] = df_concat[\"topic\"].map(equiv)"
   ]
  },
  {
   "cell_type": "code",
   "execution_count": null,
   "id": "f3396675",
   "metadata": {},
   "outputs": [],
   "source": [
    "df_concat.to_csv(\"topics3.csv\")"
   ]
  },
  {
   "cell_type": "markdown",
   "id": "a7334762",
   "metadata": {},
   "source": [
    "### BERTTopic results\n",
    "- Times run: 3\n",
    "- Number of topics: auto (a few hundred) \n",
    "- Stopword removal: CountVectorizer\n",
    "- Results: Also seeing skewed distributions"
   ]
  },
  {
   "cell_type": "code",
   "execution_count": 23,
   "id": "508f45c9",
   "metadata": {},
   "outputs": [
    {
     "data": {
      "text/plain": [
       "<Axes: xlabel='topic_name'>"
      ]
     },
     "execution_count": 23,
     "metadata": {},
     "output_type": "execute_result"
    },
    {
     "data": {
      "image/png": "[encoded data removed]",
      "text/plain": [
       "<Figure size 640x480 with 1 Axes>"
      ]
     },
     "metadata": {},
     "output_type": "display_data"
    }
   ],
   "source": [
    "topics1 = pd.read_csv(\"topics1.csv\")\n",
    "df_concat = topics1\n",
    "df_concat['topic'] = pd.to_numeric(df_concat.topic)\n",
    "df_concat = df_concat[df_concat['topic']<30]\n",
    "df_concat = df_concat[df_concat['topic']>=0]\n",
    "df_concat.groupby(['topic_name','doc_type_major'])['text'].size().unstack().plot(kind='bar', stacked=True)"
   ]
  },
  {
   "cell_type": "code",
   "execution_count": 24,
   "id": "bba2dbfa",
   "metadata": {},
   "outputs": [
    {
     "data": {
      "text/plain": [
       "<Axes: xlabel='topic_name'>"
      ]
     },
     "execution_count": 24,
     "metadata": {},
     "output_type": "execute_result"
    },
    {
     "data": {
      "image/png": "[encoded data removed]",
      "text/plain": [
       "<Figure size 640x480 with 1 Axes>"
      ]
     },
     "metadata": {},
     "output_type": "display_data"
    }
   ],
   "source": [
    "topics2 = pd.read_csv(\"topics2.csv\")\n",
    "df_concat = topics2\n",
    "df_concat[\"doc_type_major\"] = df_concat[\"types0\"].where(df_concat[\"types0\"] == \"IPCC Report\", other='Country Policy Reports')\n",
    "df_concat['topic'] = pd.to_numeric(df_concat.topic)\n",
    "df_concat = df_concat[df_concat['topic']<30]\n",
    "df_concat = df_concat[df_concat['topic']>=0]\n",
    "df_concat.groupby(['topic_name','doc_type_major'])['text'].size().unstack().plot(kind='bar', stacked=True)"
   ]
  },
  {
   "cell_type": "code",
   "execution_count": 21,
   "id": "fecfa751",
   "metadata": {},
   "outputs": [
    {
     "data": {
      "text/plain": [
       "<Axes: xlabel='topic'>"
      ]
     },
     "execution_count": 21,
     "metadata": {},
     "output_type": "execute_result"
    },
    {
     "data": {
      "image/png": "[encoded data removed]",
      "text/plain": [
       "<Figure size 640x480 with 1 Axes>"
      ]
     },
     "metadata": {},
     "output_type": "display_data"
    }
   ],
   "source": [
    "topics3 = pd.read_csv(\"topics3.csv\")\n",
    "df_concat = topics3\n",
    "df_concat[\"doc_type_major\"] = df_concat[\"types0\"].where(df_concat[\"types0\"] == \"IPCC Report\", other='Country Policy Reports')\n",
    "df_concat['topic'] = pd.to_numeric(df_concat.topic)\n",
    "df_concat = df_concat[df_concat['topic']<30]\n",
    "df_concat = df_concat[df_concat['topic']>=0]\n",
    "df_concat.groupby(['topic','doc_type_major'])['text'].size().unstack().plot(kind='bar', stacked=True)"
   ]
  },
  {
   "cell_type": "markdown",
   "id": "e760384e",
   "metadata": {},
   "source": [
    "### STM\n",
    "- Times run: 1\n",
    "- Number of topics: 30\n",
    "- Stopword removal: Yes\n",
    "- Results: Most minor topics also finely skewed\n",
    "- Note: For topics that are similar to the BERTtopic models, the distributions is just as skewed"
   ]
  },
  {
   "cell_type": "code",
   "execution_count": null,
   "id": "07430c83",
   "metadata": {},
   "outputs": [],
   "source": [
    "# Pull in STM results from 5000 samples\n",
    "topics_STM = pd.read_csv(\"topics_STM.csv\")\n",
    "topics_STM_labels = pd.read_csv(\"topics_STM_labels.csv\")\n",
    "# Check distribution in the sample"
   ]
  },
  {
   "cell_type": "code",
   "execution_count": null,
   "id": "933c1d9a",
   "metadata": {},
   "outputs": [],
   "source": [
    "topics_STM['doc_type_major'].value_counts()"
   ]
  },
  {
   "cell_type": "code",
   "execution_count": null,
   "id": "822aaf3d",
   "metadata": {},
   "outputs": [],
   "source": [
    "topics_STM_labels = topics_STM_labels.rename(columns={'Unnamed: 0': 'topic', 'x': 'topic_name'})\n",
    "topics_STM = topics_STM.merge(topics_STM_labels, on = 'topic',how='left')"
   ]
  },
  {
   "cell_type": "code",
   "execution_count": null,
   "id": "c56db0c7",
   "metadata": {},
   "outputs": [],
   "source": [
    "top10topics = pd.DataFrame(topics_STM.groupby(['topic_name'])['text'].size().head(10)).index.values.tolist()"
   ]
  },
  {
   "cell_type": "code",
   "execution_count": null,
   "id": "5a01a9fa",
   "metadata": {},
   "outputs": [],
   "source": [
    "topics_STM = topics_STM[topics_STM['topic_name'].isin(top10topics)]"
   ]
  },
  {
   "cell_type": "code",
   "execution_count": null,
   "id": "6d056cf5",
   "metadata": {},
   "outputs": [],
   "source": [
    "topics_STM.groupby(['topic_name','doc_type_major'])['text'].size().unstack().plot(kind='bar', stacked=True)"
   ]
  },
  {
   "cell_type": "code",
   "execution_count": null,
   "id": "cb437d36",
   "metadata": {},
   "outputs": [],
   "source": [
    "# Next:\n",
    "# Read how other papers process topics\n",
    "## Manually label all hundreds of topics? Then do % of each?\n",
    "## Just show top topics\n",
    "\n",
    "# Create table highlighting findings from topic modelling section\n",
    "## Table 1: IPCC mentions - topic modelling \n",
    "## Table 2: IPCC mentions vs. IPCC report - topic modelling and distributions\n"
   ]
  },
  {
   "cell_type": "code",
   "execution_count": null,
   "id": "4d91eb12",
   "metadata": {},
   "outputs": [],
   "source": []
  }
 ],
 "metadata": {
  "kernelspec": {
   "display_name": "Python 3 (ipykernel)",
   "language": "python",
   "name": "python3"
  },
  "language_info": {
   "codemirror_mode": {
    "name": "ipython",
    "version": 3
   },
   "file_extension": ".py",
   "mimetype": "text/x-python",
   "name": "python",
   "nbconvert_exporter": "python",
   "pygments_lexer": "ipython3",
   "version": "3.11.5"
  }
 },
 "nbformat": 4,
 "nbformat_minor": 5
}

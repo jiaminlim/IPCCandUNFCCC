{
 "cells": [
  {
   "cell_type": "code",
   "execution_count": 1,
   "id": "60f2fd95",
   "metadata": {},
   "outputs": [],
   "source": [
    "import pandas as pd\n",
    "import numpy as np\n",
    "from datasets import load_dataset\n",
    "import plotly.express as px\n",
    "import pycountry_convert as pc\n",
    "import pylab as pl\n",
    "import matplotlib.pyplot as plt\n"
   ]
  },
  {
   "cell_type": "code",
   "execution_count": 2,
   "id": "01dd6292",
   "metadata": {},
   "outputs": [],
   "source": [
    "link = r'/Users/jiaminlim/Documents/Research/climate_nlp/IPCCandPolicy/metadata.csv'\n",
    "\n",
    "metadata = pd.read_csv(link)\n",
    "\n",
    "# Using huggingface (easiest)\n",
    "dataset = load_dataset(\"ClimatePolicyRadar/global-stocktake-documents\")\n",
    "\n",
    "# Using pandas\n",
    "link = r'/Users/jiaminlim/Documents/Research/climate_nlp/global-stocktake-documents/full_text.parquet'\n",
    "df = pd.read_parquet(link)"
   ]
  },
  {
   "cell_type": "markdown",
   "id": "9689248a",
   "metadata": {},
   "source": [
    "## Features"
   ]
  },
  {
   "cell_type": "code",
   "execution_count": null,
   "id": "d7084277",
   "metadata": {},
   "outputs": [],
   "source": [
    "# TODO \n",
    "# Check for duplicates?\n",
    "# XAB - India and Bhutan\n",
    "# http://example.com"
   ]
  },
  {
   "cell_type": "code",
   "execution_count": 3,
   "id": "2ead8a13",
   "metadata": {},
   "outputs": [],
   "source": [
    "# Select relevant columns that you want\n",
    "df = df[['geography_iso','author','document_name','date','type','type_confidence','text','text_block_id','types','document_source_url','translated']]"
   ]
  },
  {
   "cell_type": "code",
   "execution_count": 4,
   "id": "35593750",
   "metadata": {},
   "outputs": [],
   "source": [
    "df['text'] = df['text'].str.replace('\\n',' ')\n",
    "df['text']  = df['text'].astype('str')"
   ]
  },
  {
   "cell_type": "code",
   "execution_count": 5,
   "id": "028c6409",
   "metadata": {},
   "outputs": [],
   "source": [
    "df[\"document_name\"] =  df[\"document_name\"].str.replace('\\r','')"
   ]
  },
  {
   "cell_type": "code",
   "execution_count": 6,
   "id": "b180d593",
   "metadata": {},
   "outputs": [],
   "source": [
    "df['types0'] = df.types.apply(lambda x: x[0])\n",
    "df['types0_agg'] = np.where((df['types0']=='Biennial Update Report')|(df['types0']=='Biennial Report'),\n",
    "                            'Biennial Update Report/Biennial Report',\n",
    "                            df['types0'])\n",
    "df['types0_agg'] = np.where((df['types0_agg']=='National Communication')|(df['types0_agg']=='Nationally Determined Contribution')|(df['types0_agg']=='Long-Term Low-Emission Development Strategy')|(df['types0_agg']=='Long-Term Low-Emission Development Strategy')|(df['types0_agg']=='Biennial Update Report/Biennial Report')|(df['types0_agg']=='National Inventory Report'),\n",
    "                            df['types0_agg'],\n",
    "                            'Other')\n",
    "df['n_types'] = df.types.apply(lambda x: len(x)) # maximum two 'types'\n",
    "df['types1'] = df.types.apply(lambda x: x[1] if len(x)>1 else 'n/a')"
   ]
  },
  {
   "cell_type": "code",
   "execution_count": 7,
   "id": "aae74c31",
   "metadata": {},
   "outputs": [],
   "source": [
    "df['types0'] = df['types0'].replace('Global Stocktake Synthesis Reports', 'Global Stocktake Synthesis Report', regex=True)\n",
    "df['types0'] = df['types0'].replace('National Communcation', 'National Communication', regex=True)"
   ]
  },
  {
   "cell_type": "code",
   "execution_count": 8,
   "id": "458d8f9a",
   "metadata": {},
   "outputs": [],
   "source": [
    "df['n_author'] = df.author.apply(lambda x: len(x))\n",
    "df['first_author'] = df.author.apply(lambda x: x[0])\n",
    "df['is_author_country'] = np.where(df['geography_iso'] != 'nan', True, False)"
   ]
  },
  {
   "cell_type": "code",
   "execution_count": 9,
   "id": "10d615f9",
   "metadata": {},
   "outputs": [],
   "source": [
    "df['author_group'] = np.where(df['is_author_country'] == True, 'Country', \n",
    "                             np.where(df['first_author'] == 'IPCC', 'IPCC', \n",
    "                                 np.where(df['first_author'].str.contains('UNFCCC'), 'UNFCCC',\n",
    "                                      'Other')))"
   ]
  },
  {
   "cell_type": "code",
   "execution_count": 10,
   "id": "8916b07d",
   "metadata": {},
   "outputs": [],
   "source": [
    "# Date - add year and m-y column\n",
    "df['date'] = pd.to_datetime(df['date'])\n",
    "df['year'] = df['date'].dt.year\n",
    "df['month'] = df['date'].dt.month\n",
    "df['month_year'] = df['date'].dt.to_period('M')\n",
    "df[\"date_document_name\"] = df[\"date\"].astype(str) + \" - \" + df[\"document_name\"]"
   ]
  },
  {
   "cell_type": "code",
   "execution_count": 11,
   "id": "198ba2f1",
   "metadata": {},
   "outputs": [],
   "source": [
    "df['n_words'] =  df['text'].str.count(' ') + 1\n",
    "df['bool_ipcc'] =  df['text'].str.contains(\"IPCC\")"
   ]
  },
  {
   "cell_type": "code",
   "execution_count": 12,
   "id": "8b262155",
   "metadata": {},
   "outputs": [],
   "source": [
    "df['text_startsLC'] = df['text'].astype(str).str[0].str.islower()"
   ]
  },
  {
   "cell_type": "code",
   "execution_count": 13,
   "id": "f4cc5cda",
   "metadata": {},
   "outputs": [],
   "source": [
    "# Add country names and continents\n",
    "def country_to_continent(country_alpha3):\n",
    "    try:\n",
    "        # country_name = pc.country_alpha3_to_country_name(country_alpha3)\n",
    "        country_alpha2 = pc.country_alpha3_to_country_alpha2(country_alpha3)\n",
    "        country_continent_code = pc.country_alpha2_to_continent_code(country_alpha2)\n",
    "        country_continent_name = pc.convert_continent_code_to_continent_name(country_continent_code)\n",
    "    except:\n",
    "            if country_alpha3 =='TLS':\n",
    "                country_continent_name = \"Asia\"\n",
    "            elif country_alpha3 =='UAE':\n",
    "                country_continent_name = \"Asia\"\n",
    "            elif country_alpha3 =='VAT':\n",
    "                country_continent_name = \"Europe\"\n",
    "            elif country_alpha3 =='EUR':\n",
    "                country_continent_name = \"Europe\"\n",
    "            else:\n",
    "                country_continent_name = \"null\"\n",
    "    return country_continent_name"
   ]
  },
  {
   "cell_type": "code",
   "execution_count": 14,
   "id": "b6f868d1",
   "metadata": {},
   "outputs": [],
   "source": [
    "def countrycode_to_name(country_alpha3):\n",
    "    try:\n",
    "        country_alpha2 = pc.country_alpha3_to_country_alpha2(country_alpha3)\n",
    "        #print(country_alpha2)\n",
    "        country_name = pc.country_alpha2_to_country_name(country_alpha2)\n",
    "    except:\n",
    "        country_name = \"null\"\n",
    "    return country_name"
   ]
  },
  {
   "cell_type": "code",
   "execution_count": 15,
   "id": "707ae32d",
   "metadata": {},
   "outputs": [],
   "source": [
    "df['Continent'] = df['geography_iso'].map(country_to_continent)"
   ]
  },
  {
   "cell_type": "code",
   "execution_count": 16,
   "id": "3fcd7e22",
   "metadata": {},
   "outputs": [],
   "source": [
    "df['geography_iso_name'] = df['geography_iso'].map(countrycode_to_name)"
   ]
  },
  {
   "cell_type": "code",
   "execution_count": 17,
   "id": "a8945cbc",
   "metadata": {},
   "outputs": [
    {
     "data": {
      "text/plain": [
       "geography_iso_name\n",
       "null                             146335\n",
       "Denmark                           95484\n",
       "Argentina                         28568\n",
       "Mexico                            24025\n",
       "Moldova, Republic of              22312\n",
       "                                  ...  \n",
       "San Marino                          546\n",
       "Guinea                              543\n",
       "Cameroon                            446\n",
       "Brunei Darussalam                    97\n",
       "Holy See (Vatican City State)        63\n",
       "Name: count, Length: 197, dtype: int64"
      ]
     },
     "execution_count": 17,
     "metadata": {},
     "output_type": "execute_result"
    }
   ],
   "source": [
    "df['geography_iso_name'].value_counts()"
   ]
  },
  {
   "cell_type": "markdown",
   "id": "82aab5a1",
   "metadata": {},
   "source": [
    "## Initial checks (full)"
   ]
  },
  {
   "cell_type": "markdown",
   "id": "a36a5f67",
   "metadata": {},
   "source": [
    "### Word count"
   ]
  },
  {
   "cell_type": "code",
   "execution_count": null,
   "id": "4eeb020f",
   "metadata": {},
   "outputs": [],
   "source": [
    "df['n_words'].hist(bins=100)\n",
    "max(df['n_words'])"
   ]
  },
  {
   "cell_type": "code",
   "execution_count": null,
   "id": "7893a94a",
   "metadata": {},
   "outputs": [],
   "source": [
    "df_long = pd.DataFrame(df[df['n_words']>1000])\n",
    "# pd.set_option('display.max_colwidth', None)\n",
    "# df_long"
   ]
  },
  {
   "cell_type": "code",
   "execution_count": null,
   "id": "7409c606",
   "metadata": {
    "scrolled": true
   },
   "outputs": [],
   "source": [
    "# Words per document\n",
    "wordcount = pd.DataFrame(df.groupby('date_document_name')['n_words'].sum())\n",
    "#wordcount['n_words'].hist(bins=100)"
   ]
  },
  {
   "cell_type": "markdown",
   "id": "e0e4a496",
   "metadata": {},
   "source": [
    "### Text count"
   ]
  },
  {
   "cell_type": "code",
   "execution_count": null,
   "id": "33cb7d9a",
   "metadata": {},
   "outputs": [],
   "source": [
    "textcount = pd.DataFrame(df.groupby('geography_iso')['text'].nunique())\n",
    "textcount = textcount.rename(columns={'text': 'n_text'})\n",
    "textcount = textcount.reset_index()\n",
    "i = textcount[((textcount.geography_iso == 'nan') &( textcount.n_text == 110271))].index\n",
    "textcount = textcount.drop(i)\n",
    "textcount.sort_values(['n_text'],ascending=False).head(20)"
   ]
  },
  {
   "cell_type": "code",
   "execution_count": null,
   "id": "6d8ca00e",
   "metadata": {},
   "outputs": [],
   "source": [
    "fig = px.choropleth(textcount, locations=\"geography_iso\",\n",
    "                    color=\"n_text\", \n",
    "                    #hover_name=\"geography_iso\", \n",
    "                    title=\"Number of Text Rows by Country\",\n",
    "                    color_continuous_scale=px.colors.sequential.Plasma)\n",
    "fig.show()"
   ]
  },
  {
   "cell_type": "code",
   "execution_count": null,
   "id": "4c57fdd8",
   "metadata": {},
   "outputs": [],
   "source": [
    "textcount_time = df.groupby('year')['text'].nunique()\n",
    "textcount_time.plot.bar()"
   ]
  },
  {
   "cell_type": "markdown",
   "id": "a511b493",
   "metadata": {},
   "source": [
    "### Document count"
   ]
  },
  {
   "cell_type": "code",
   "execution_count": null,
   "id": "cb33b919",
   "metadata": {},
   "outputs": [],
   "source": [
    "# Unique documents per geography and report type\n",
    "print(df['document_name'].nunique())\n",
    "pivot_doccount= pd.pivot_table(data=df,index='geography_iso',columns='types0',values='document_name',aggfunc=lambda x: len(x.unique()),margins=True)\n",
    "pivot_doccount"
   ]
  },
  {
   "cell_type": "code",
   "execution_count": null,
   "id": "d2f1d22f",
   "metadata": {},
   "outputs": [],
   "source": [
    "doccount = pd.DataFrame(df.groupby('geography_iso')['document_name'].nunique())\n",
    "doccount = doccount.rename(columns={'document_name': 'n_docs'})\n",
    "doccount = doccount.reset_index()\n",
    "i = doccount[((doccount.geography_iso == 'nan') &( doccount.n_docs == 512))].index\n",
    "doccount = doccount.drop(i)\n",
    "#docname.sort_values(['n_docs'],ascending=False).head(20)"
   ]
  },
  {
   "cell_type": "code",
   "execution_count": null,
   "id": "a76cb106",
   "metadata": {},
   "outputs": [],
   "source": [
    "fig = px.choropleth(doccount, locations=\"geography_iso\",\n",
    "                    color=\"n_docs\", \n",
    "                    #hover_name=\"geography_iso\", \n",
    "                    title=\"Number of Documents by Country\",\n",
    "                    color_continuous_scale=px.colors.sequential.Plasma)\n",
    "fig.show()"
   ]
  },
  {
   "cell_type": "code",
   "execution_count": null,
   "id": "127ae994",
   "metadata": {},
   "outputs": [],
   "source": [
    "doccount_type = pd.DataFrame(df.groupby('types0')['document_name'].nunique())\n",
    "doccount_type.sort_values('document_name').plot.barh(legend=None)"
   ]
  },
  {
   "cell_type": "code",
   "execution_count": null,
   "id": "238b1195",
   "metadata": {},
   "outputs": [],
   "source": [
    "doccount_time = df.groupby('year')['document_name'].nunique()\n",
    "doccount_time.plot.bar()"
   ]
  },
  {
   "cell_type": "markdown",
   "id": "7b2bd0f5",
   "metadata": {},
   "source": [
    "### Type"
   ]
  },
  {
   "cell_type": "code",
   "execution_count": null,
   "id": "7009ecb5",
   "metadata": {
    "scrolled": true
   },
   "outputs": [],
   "source": [
    "# Type seems to correspond to type (e.g. text, figure)\n",
    "df['type_confidence'].hist(bins=80)"
   ]
  },
  {
   "cell_type": "markdown",
   "id": "ef31731c",
   "metadata": {},
   "source": [
    "### Translated"
   ]
  },
  {
   "cell_type": "code",
   "execution_count": null,
   "id": "5f4f61ef",
   "metadata": {},
   "outputs": [],
   "source": [
    "df['translated'].value_counts()"
   ]
  },
  {
   "cell_type": "code",
   "execution_count": null,
   "id": "f34fd0c0",
   "metadata": {},
   "outputs": [],
   "source": [
    "len(df)"
   ]
  },
  {
   "cell_type": "markdown",
   "id": "6964bb31",
   "metadata": {},
   "source": [
    "## Data sub-sets"
   ]
  },
  {
   "cell_type": "code",
   "execution_count": null,
   "id": "206d9613",
   "metadata": {},
   "outputs": [],
   "source": [
    "filter_ipccmentions = (df['bool_ipcc']==True)\n",
    "filter_ipccreport = (df['types0']=='IPCC Report')"
   ]
  },
  {
   "cell_type": "code",
   "execution_count": null,
   "id": "42580161",
   "metadata": {},
   "outputs": [],
   "source": [
    "# Filters: References to IPCC reports\n",
    "ref0 = (df['text'].str.startswith(\"IPCC.\"))\n",
    "ref1 = (df['text'].str.startswith(\"IPCC (\"))\n",
    "ref2 = (df['text'].str.startswith(\"IPCC, \"))\n",
    "ref3 = (df['text'].str.startswith(\"Intergovernmental Panel on Climate Change (IPCC). \"))\n",
    "ref4 = (df['text'].str.contains(\"Contribution of Working Group\"))\n",
    "ref5 = (df['text'].str.contains(\"IPCC Special Report on the impacts of global warming of 1.5°C above pre\"))\n",
    "\n",
    "refs = (ref0 | ref1 | ref2 | ref3 | ref4 | ref5)\n",
    "not_refs = (~ref0 & ~ref1 & ~ref2 & ~ref3 & ~ref4 & ~ref5)"
   ]
  },
  {
   "cell_type": "code",
   "execution_count": null,
   "id": "32d4a4b8",
   "metadata": {},
   "outputs": [],
   "source": [
    "ref5 = df[df['text'].str.contains(\"IPCC Special Report on the impacts of global warming of 1.5°C above pre\")]\n"
   ]
  },
  {
   "cell_type": "code",
   "execution_count": null,
   "id": "6e468044",
   "metadata": {},
   "outputs": [],
   "source": [
    "# Filters: Body text\n",
    "body0 = (~df['text'].str.startswith(\"Source:\"))\n",
    "body1 = (~df['text'].str.startswith(\"Legend: \"))\n",
    "body2 = (~df['text'].str.startswith(\"*\"))\n",
    "body3 = (df['type']=='Text')\n",
    "body4 = (df['n_words']>10)\n",
    "bodys = body0 & body1 & body1 & body2 & body3 & body4"
   ]
  },
  {
   "cell_type": "code",
   "execution_count": null,
   "id": "8e53b33c",
   "metadata": {},
   "outputs": [],
   "source": [
    "isauthorcountry = (df['is_author_country'] == True)"
   ]
  },
  {
   "cell_type": "markdown",
   "id": "b7a014bc",
   "metadata": {},
   "source": [
    "## Dataset subset: Country Submissions"
   ]
  },
  {
   "cell_type": "code",
   "execution_count": null,
   "id": "484857e8",
   "metadata": {},
   "outputs": [],
   "source": [
    "df_countrysubmissions = df[isauthorcountry]\n",
    "df_countrysubmissions.to_csv('df_countrysubmissions.csv')\n",
    "len(df_countrysubmissions)"
   ]
  },
  {
   "cell_type": "markdown",
   "id": "ba11bdcf",
   "metadata": {},
   "source": [
    "## Dataset subset: IPCC mentions in Country Submissions"
   ]
  },
  {
   "cell_type": "code",
   "execution_count": null,
   "id": "3424df65",
   "metadata": {},
   "outputs": [],
   "source": [
    "df_ipccmentions = df[(filter_ipccmentions)& isauthorcountry]\n",
    "len(df_ipccmentions)"
   ]
  },
  {
   "cell_type": "code",
   "execution_count": null,
   "id": "c3734bfc",
   "metadata": {},
   "outputs": [],
   "source": [
    "df_ipccmentions['document_name'].nunique()"
   ]
  },
  {
   "cell_type": "markdown",
   "id": "71b17973",
   "metadata": {},
   "source": [
    "### Body"
   ]
  },
  {
   "cell_type": "code",
   "execution_count": null,
   "id": "9dd43f9c",
   "metadata": {},
   "outputs": [],
   "source": [
    "df_ipccmentions_body = df[(filter_ipccmentions)\n",
    "                    & isauthorcountry\n",
    "                    & not_refs\n",
    "                    & bodys]\n",
    "len(df_ipccmentions_body)"
   ]
  },
  {
   "cell_type": "code",
   "execution_count": null,
   "id": "a06b0cd5",
   "metadata": {},
   "outputs": [],
   "source": [
    "df_ipccmentions_body['document_name'].nunique()"
   ]
  },
  {
   "cell_type": "code",
   "execution_count": null,
   "id": "271a7cdd",
   "metadata": {},
   "outputs": [],
   "source": [
    "df_ipccmentions_body.to_csv(\"df_ipccmentions_body.csv\")\n",
    "df_ipccmentions_body_readin = pd.read_csv(\"df_ipccmentions_body.csv\")\n",
    "len(df_ipccmentions_body_readin)"
   ]
  },
  {
   "cell_type": "code",
   "execution_count": null,
   "id": "e7ba0d61",
   "metadata": {
    "scrolled": true
   },
   "outputs": [],
   "source": [
    "df_ipccmentions_body['text_startsLC'].value_counts()"
   ]
  },
  {
   "cell_type": "markdown",
   "id": "7dd75419",
   "metadata": {},
   "source": [
    "### References to IPCC report"
   ]
  },
  {
   "cell_type": "code",
   "execution_count": null,
   "id": "ebe32b30",
   "metadata": {},
   "outputs": [],
   "source": [
    "df_ipccmentions_ipccrefs = df[(filter_ipccmentions)\n",
    "                    & isauthorcountry\n",
    "                    & refs]\n",
    "len(df_ipccmentions_ipccrefs)"
   ]
  },
  {
   "cell_type": "code",
   "execution_count": null,
   "id": "8b9544d9",
   "metadata": {},
   "outputs": [],
   "source": [
    "df_ipccmentions_ipccrefs.to_csv('df_ipccmentions_ipccrefs.csv')\n",
    "df_ipccmentions_ipccrefs_readin = pd.read_csv(\"df_ipccmentions_ipccrefs.csv\")\n",
    "len(df_ipccmentions_ipccrefs_readin)"
   ]
  },
  {
   "cell_type": "code",
   "execution_count": null,
   "id": "5d533043",
   "metadata": {},
   "outputs": [],
   "source": [
    "df_ipccmentions_ipccrefs['document_name'].nunique()"
   ]
  },
  {
   "cell_type": "markdown",
   "id": "80b6acf8",
   "metadata": {},
   "source": [
    "### Other (to check)"
   ]
  },
  {
   "cell_type": "markdown",
   "id": "8152a313",
   "metadata": {},
   "source": [
    "## Dataset subset: IPCC report"
   ]
  },
  {
   "cell_type": "code",
   "execution_count": null,
   "id": "e985eec2",
   "metadata": {},
   "outputs": [],
   "source": [
    "df_ipccreport = df[(filter_ipccreport)]\n",
    "len(df_ipccreport)"
   ]
  },
  {
   "cell_type": "code",
   "execution_count": null,
   "id": "ae65ffe2",
   "metadata": {},
   "outputs": [],
   "source": [
    "df_ipccreport['document_name'].nunique()"
   ]
  },
  {
   "cell_type": "markdown",
   "id": "ff278f66",
   "metadata": {},
   "source": [
    "### Body"
   ]
  },
  {
   "cell_type": "code",
   "execution_count": null,
   "id": "54fc9af7",
   "metadata": {},
   "outputs": [],
   "source": [
    "r0 = df_ipccreport['text'].str.contains(\"Association of Polar Early Career Scientist \\(APECS\\)\")\n",
    "r1 = df_ipccreport['text'].str.contains(\"YESS \\(Young Earth System Scientists community\\)\")\n",
    "r2 = df_ipccreport['text'].str.contains(\"United Kingdom \\(of Great Britain and Northern Ireland\\)\")\n",
    "r3 = df_ipccreport['text'].str.contains(\"Permafrost Young Research Network \\(PYRN\\)\")\n",
    "r4 = df_ipccreport['text'].str.contains(\"\\(USA\\)\")\n",
    "r5 = df_ipccreport['text'].str.contains(\"\\(United States of America\\)\")\n",
    "r6 = df_ipccreport['text'].str.contains(\"\\(The United States of America\\)\")\n",
    "r7 = df_ipccreport['text'].str.contains(\"\\(the United States of America\\)\")\n",
    "r8 = df_ipccreport['text'].str.contains(\"\\(United Kingdom\\)\")\n",
    "r9 = df_ipccreport['text'].str.contains(\"\\(France\\)\")\n",
    "r10 = df_ipccreport['text'].str.contains(\"\\(Germany\\)\")\n",
    "remove_authors = r0 | r1 | r2 | r3 | r4 | r5 | r6 | r7 | r8 | r9 | r10"
   ]
  },
  {
   "cell_type": "code",
   "execution_count": null,
   "id": "df276312",
   "metadata": {},
   "outputs": [],
   "source": [
    "df_ipccreport_body = df[(filter_ipccreport)\n",
    "                    & not_refs\n",
    "                    & bodys\n",
    "                    & ~remove_authors]\n",
    "len(df_ipccreport_body)"
   ]
  },
  {
   "cell_type": "code",
   "execution_count": null,
   "id": "1107745f",
   "metadata": {},
   "outputs": [],
   "source": [
    "df_ipccreport_body.to_csv('df_ipccreport_body.csv')\n",
    "df_ipccreport_body_readin = pd.read_csv(\"df_ipccreport_body.csv\")\n",
    "len(df_ipccreport_body_readin)"
   ]
  },
  {
   "cell_type": "code",
   "execution_count": null,
   "id": "ca239ced",
   "metadata": {},
   "outputs": [],
   "source": [
    "df_ipccreport_body['document_name'].nunique()"
   ]
  },
  {
   "cell_type": "code",
   "execution_count": null,
   "id": "b95a4838",
   "metadata": {},
   "outputs": [],
   "source": [
    "df_ipccreport_body['text_startsLC'].value_counts()"
   ]
  },
  {
   "cell_type": "markdown",
   "id": "49b094a7",
   "metadata": {},
   "source": [
    "### References to IPCC report"
   ]
  },
  {
   "cell_type": "code",
   "execution_count": null,
   "id": "bea38b92",
   "metadata": {},
   "outputs": [],
   "source": [
    "df_ipccreport_ipccrefs = df[(filter_ipccreport)\n",
    "                    & refs]\n",
    "len(df_ipccreport_ipccrefs)"
   ]
  },
  {
   "cell_type": "code",
   "execution_count": null,
   "id": "aa81c207",
   "metadata": {},
   "outputs": [],
   "source": [
    "df_ipccreport_ipccrefs['document_name'].nunique()"
   ]
  },
  {
   "cell_type": "markdown",
   "id": "8e01b5ee",
   "metadata": {},
   "source": [
    "### Other (to check)"
   ]
  },
  {
   "cell_type": "code",
   "execution_count": null,
   "id": "06d4ac29",
   "metadata": {},
   "outputs": [],
   "source": [
    "pd.DataFrame(df_countrysubmissions[df_countrysubmissions['geography_iso']=='CAN'][['document_name','types0','types1']].value_counts())"
   ]
  },
  {
   "cell_type": "markdown",
   "id": "887d50a6",
   "metadata": {},
   "source": [
    "## Parsing"
   ]
  },
  {
   "cell_type": "code",
   "execution_count": null,
   "id": "96266414",
   "metadata": {
    "scrolled": true
   },
   "outputs": [],
   "source": [
    "# Summary stats\n",
    "# words per row\n",
    "df[\"n_words\"].describe()"
   ]
  },
  {
   "cell_type": "code",
   "execution_count": null,
   "id": "bae82d82",
   "metadata": {
    "scrolled": false
   },
   "outputs": [],
   "source": [
    "# row per document\n",
    "df_rowperdoc = df.groupby('document_name')['text'].count()\n",
    "df_rowperdoc.describe()\n",
    "#df_rowperdoc.sort_values(ascending=False).head(5)\n"
   ]
  },
  {
   "cell_type": "code",
   "execution_count": null,
   "id": "cdf70a49",
   "metadata": {
    "scrolled": true
   },
   "outputs": [],
   "source": [
    "# words per country\n",
    "df_rowperdoc = df[df['is_author_country'] == True].groupby('geography_iso')['text'].count()\n",
    "df_rowperdoc.describe()"
   ]
  },
  {
   "cell_type": "code",
   "execution_count": null,
   "id": "e3281146",
   "metadata": {
    "scrolled": true
   },
   "outputs": [],
   "source": [
    "# documents per country\n",
    "df_rowperdoc = df[df['is_author_country'] == True].groupby('geography_iso')['document_name'].nunique()\n",
    "df_rowperdoc.describe()"
   ]
  },
  {
   "cell_type": "code",
   "execution_count": null,
   "id": "70565d3d",
   "metadata": {},
   "outputs": [],
   "source": [
    "# histogram of words per row - count document\n",
    "by_document = df[df['is_author_country'] == True].groupby(['document_name']).agg(n_words = ('n_words','sum'), n_rows_unique=('text','nunique'),n_rows_count=('text','count'))\n",
    "by_document = by_document.reset_index()\n",
    "\n",
    "by_document['Words/Row'] = by_document['n_words']/by_document['n_rows_count']\n",
    "by_document['Ratio'] = by_document['n_rows_unique']/by_document['n_rows_count']"
   ]
  },
  {
   "cell_type": "code",
   "execution_count": null,
   "id": "c60939ee",
   "metadata": {},
   "outputs": [],
   "source": [
    "output = by_document.sort_values('Words/Row',ascending = True).head(5)\n",
    "output = output[['document_name','n_words','n_rows_count','n_rows_unique','Words/Row']]\n",
    "output.to_latex()"
   ]
  },
  {
   "cell_type": "code",
   "execution_count": null,
   "id": "7ac32b02",
   "metadata": {},
   "outputs": [],
   "source": [
    "output"
   ]
  },
  {
   "cell_type": "code",
   "execution_count": null,
   "id": "601751ab",
   "metadata": {},
   "outputs": [],
   "source": [
    "#by_document[by_document['document_name'].str.contains(\"Hungary\")]\n",
    "by_document.hist(column='Words/Row',bins = 50)\n",
    "pl.title(\"Country Policy Documents - Document count by Words/Row\")\n",
    "pl.xlabel(\"Words/Row\")\n",
    "pl.ylabel(\"No. of Documents\")"
   ]
  },
  {
   "cell_type": "code",
   "execution_count": null,
   "id": "e773e9d4",
   "metadata": {},
   "outputs": [],
   "source": [
    "by_document.describe()"
   ]
  },
  {
   "cell_type": "code",
   "execution_count": null,
   "id": "3c88a99c",
   "metadata": {},
   "outputs": [],
   "source": [
    "#by_document[by_document['document_name'].str.contains(\"Hungary\")]\n",
    "by_document.hist(column='Ratio',bins = 50)\n",
    "pl.title(\"Histogram - Country Policy Reports by Words/Row\")\n",
    "pl.xlabel(\"Words/Row\")\n",
    "pl.ylabel(\"No. of Documents\")"
   ]
  },
  {
   "cell_type": "code",
   "execution_count": null,
   "id": "3d3f5df8",
   "metadata": {},
   "outputs": [],
   "source": [
    "plt.scatter(by_document['Ratio'], by_document['Words/Row'])\n",
    "plt.title(\"Country Policy Reports\")\n",
    "plt.xlabel(\"Ratio of No. of Rows (Unique Text) to No. of Rows\")\n",
    "plt.ylabel(\"Words/Row\")\n",
    "\n",
    "plt.show()"
   ]
  },
  {
   "cell_type": "code",
   "execution_count": null,
   "id": "1760a52e",
   "metadata": {},
   "outputs": [],
   "source": [
    "pd.set_option('max_colwidth',0)\n",
    "df[df['text'].str.contains(\"2006 IPCC Guidelines\")]\n",
    "df[df['text'].str.contains(\"For estimating the GHG emissions \\(CO₂, CH4, N₂O\\) the 2006 IPCC Guidelines Tier 1 approach has been applied:\")]"
   ]
  },
  {
   "cell_type": "code",
   "execution_count": null,
   "id": "ee75c229",
   "metadata": {},
   "outputs": [],
   "source": [
    "df[df['document_name']=='Afghanistan. Biennial update report (BUR). BUR 1. National inventory report.']"
   ]
  },
  {
   "cell_type": "code",
   "execution_count": null,
   "id": "b5b4dab3",
   "metadata": {},
   "outputs": [],
   "source": [
    "# Group by author_type and document type // count rows and documents\n",
    "by_authoranddoc = df.groupby(['author_group']).agg(n_authors=('first_author','nunique'),n_rows=('text','count'),n_docs=('document_name','nunique'))\n",
    "# by_authoranddoc.to_latex()\n",
    "by_authoranddoc "
   ]
  },
  {
   "cell_type": "code",
   "execution_count": null,
   "id": "b2eaa704",
   "metadata": {
    "scrolled": true
   },
   "outputs": [],
   "source": [
    "df[(df['author_group']=='Other') & (df['types0']=='Global Stocktake Synthesis Report')]['first_author']"
   ]
  },
  {
   "cell_type": "code",
   "execution_count": null,
   "id": "5f4d495c",
   "metadata": {},
   "outputs": [],
   "source": []
  }
 ],
 "metadata": {
  "kernelspec": {
   "display_name": "Python 3 (ipykernel)",
   "language": "python",
   "name": "python3"
  },
  "language_info": {
   "codemirror_mode": {
    "name": "ipython",
    "version": 3
   },
   "file_extension": ".py",
   "mimetype": "text/x-python",
   "name": "python",
   "nbconvert_exporter": "python",
   "pygments_lexer": "ipython3",
   "version": "3.11.5"
  }
 },
 "nbformat": 4,
 "nbformat_minor": 5
}

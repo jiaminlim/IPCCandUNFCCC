{
 "cells": [
  {
   "cell_type": "code",
   "execution_count": 1,
   "id": "60f2fd95",
   "metadata": {},
   "outputs": [],
   "source": [
    "import pandas as pd\n",
    "import numpy as np\n",
    "from datasets import load_dataset\n",
    "import plotly.express as px\n",
    "import pycountry_convert as pc\n",
    "import pylab as pl\n",
    "import matplotlib.pyplot as plt\n",
    "\n",
    "from countrygroups import G20\n",
    "from countrygroups import NON_ANNEX_ONE\n",
    "from countrygroups import ANNEX_ONE"
   ]
  },
  {
   "cell_type": "code",
   "execution_count": 2,
   "id": "01dd6292",
   "metadata": {},
   "outputs": [],
   "source": [
    "link = r'/Users/jiaminlim/Documents/Research/climate_nlp/IPCCandPolicy/metadata.csv'\n",
    "\n",
    "metadata = pd.read_csv(link)\n",
    "\n",
    "# Using huggingface (easiest)\n",
    "dataset = load_dataset(\"ClimatePolicyRadar/global-stocktake-documents\")\n",
    "\n",
    "# Using pandas\n",
    "link = r'/Users/jiaminlim/Documents/Research/climate_nlp/global-stocktake-documents/full_text.parquet'\n",
    "df = pd.read_parquet(link)"
   ]
  },
  {
   "cell_type": "markdown",
   "id": "ac809c53",
   "metadata": {},
   "source": [
    "***"
   ]
  },
  {
   "cell_type": "markdown",
   "id": "9689248a",
   "metadata": {},
   "source": [
    "## Features"
   ]
  },
  {
   "cell_type": "code",
   "execution_count": 3,
   "id": "2ead8a13",
   "metadata": {},
   "outputs": [],
   "source": [
    "# Select relevant columns that you want\n",
    "df = df[['geography_iso','author','document_name','date','type','type_confidence','text','text_block_id','types','document_source_url','translated']]"
   ]
  },
  {
   "cell_type": "code",
   "execution_count": 4,
   "id": "35593750",
   "metadata": {},
   "outputs": [],
   "source": [
    "# Text field \n",
    "df['text'] = df['text'].str.replace('\\n',' ')\n",
    "df['text']  = df['text'].astype('str')"
   ]
  },
  {
   "cell_type": "code",
   "execution_count": 5,
   "id": "028c6409",
   "metadata": {},
   "outputs": [],
   "source": [
    "# Document name field\n",
    "df[\"document_name\"] =  df[\"document_name\"].str.replace('\\r','')"
   ]
  },
  {
   "cell_type": "code",
   "execution_count": 6,
   "id": "b180d593",
   "metadata": {},
   "outputs": [],
   "source": [
    "# Document types - dealing with multiple document types\n",
    "df['types0'] = df.types.apply(lambda x: x[0])\n",
    "df['n_types'] = df.types.apply(lambda x: len(x)) # maximum two 'types'\n",
    "df['types1'] = df.types.apply(lambda x: x[1] if len(x)>1 else 'n/a')"
   ]
  },
  {
   "cell_type": "code",
   "execution_count": 7,
   "id": "aae74c31",
   "metadata": {},
   "outputs": [],
   "source": [
    "# Document types - adjusting spelling error\n",
    "df['types0'] = df['types0'].replace('Global Stocktake Synthesis Reports', 'Global Stocktake Synthesis Report', regex=True)\n",
    "df['types0'] = df['types0'].replace('National Communcation', 'National Communication', regex=True)"
   ]
  },
  {
   "cell_type": "code",
   "execution_count": 8,
   "id": "2952dbcd",
   "metadata": {},
   "outputs": [],
   "source": [
    "# Document types - creating broader categories\n",
    "df['types0_agg'] = np.where((df['types0']=='Biennial Update Report')|(df['types0']=='Biennial Report'),\n",
    "                            'Biennial Update Report/Biennial Report',\n",
    "                            df['types0'])\n",
    "df['types0_agg'] = np.where((df['types0_agg']=='National Communication')|(df['types0_agg']=='Nationally Determined Contribution')|(df['types0_agg']=='Long-Term Low-Emission Development Strategy')|(df['types0_agg']=='Long-Term Low-Emission Development Strategy')|(df['types0_agg']=='Biennial Update Report/Biennial Report')|(df['types0_agg']=='National Inventory Report'),\n",
    "                            df['types0_agg'],\n",
    "                            'Other')"
   ]
  },
  {
   "cell_type": "code",
   "execution_count": 65,
   "id": "458d8f9a",
   "metadata": {},
   "outputs": [],
   "source": [
    "# Author name - extracting first author\n",
    "df['n_author'] = df.author.apply(lambda x: len(x))\n",
    "df['first_author'] = df.author.apply(lambda x: x[0])"
   ]
  },
  {
   "cell_type": "code",
   "execution_count": 73,
   "id": "11280695",
   "metadata": {},
   "outputs": [
    {
     "data": {
      "text/html": [
       "<div>\n",
       "<style scoped>\n",
       "    .dataframe tbody tr th:only-of-type {\n",
       "        vertical-align: middle;\n",
       "    }\n",
       "\n",
       "    .dataframe tbody tr th {\n",
       "        vertical-align: top;\n",
       "    }\n",
       "\n",
       "    .dataframe thead th {\n",
       "        text-align: right;\n",
       "    }\n",
       "</style>\n",
       "<table border=\"1\" class=\"dataframe\">\n",
       "  <thead>\n",
       "    <tr style=\"text-align: right;\">\n",
       "      <th></th>\n",
       "      <th>document_name</th>\n",
       "    </tr>\n",
       "    <tr>\n",
       "      <th>n_author</th>\n",
       "      <th></th>\n",
       "    </tr>\n",
       "  </thead>\n",
       "  <tbody>\n",
       "    <tr>\n",
       "      <th>1</th>\n",
       "      <td>1476</td>\n",
       "    </tr>\n",
       "    <tr>\n",
       "      <th>2</th>\n",
       "      <td>39</td>\n",
       "    </tr>\n",
       "    <tr>\n",
       "      <th>3</th>\n",
       "      <td>7</td>\n",
       "    </tr>\n",
       "    <tr>\n",
       "      <th>4</th>\n",
       "      <td>1</td>\n",
       "    </tr>\n",
       "    <tr>\n",
       "      <th>5</th>\n",
       "      <td>3</td>\n",
       "    </tr>\n",
       "    <tr>\n",
       "      <th>6</th>\n",
       "      <td>2</td>\n",
       "    </tr>\n",
       "    <tr>\n",
       "      <th>7</th>\n",
       "      <td>1</td>\n",
       "    </tr>\n",
       "  </tbody>\n",
       "</table>\n",
       "</div>"
      ],
      "text/plain": [
       "          document_name\n",
       "n_author               \n",
       "1                  1476\n",
       "2                    39\n",
       "3                     7\n",
       "4                     1\n",
       "5                     3\n",
       "6                     2\n",
       "7                     1"
      ]
     },
     "execution_count": 73,
     "metadata": {},
     "output_type": "execute_result"
    }
   ],
   "source": [
    "pd.DataFrame(df[['n_author','document_name']].groupby(['n_author']).nunique())"
   ]
  },
  {
   "cell_type": "code",
   "execution_count": 74,
   "id": "eba98873",
   "metadata": {},
   "outputs": [
    {
     "data": {
      "text/plain": [
       "1529"
      ]
     },
     "execution_count": 74,
     "metadata": {},
     "output_type": "execute_result"
    }
   ],
   "source": [
    "df['document_name'].nunique()"
   ]
  },
  {
   "cell_type": "code",
   "execution_count": 10,
   "id": "473b2212",
   "metadata": {},
   "outputs": [],
   "source": [
    "# Geography \n",
    "# Removing some incorrect entries from XAB tag in geography_iso, and tagging them with their relevant country code\n",
    "df['geography_iso'] = np.where(df['first_author'] == 'India', 'IND', df['geography_iso'])\n",
    "df['geography_iso'] = np.where(df['first_author'] == 'Bhutan', 'BTN', df['geography_iso'])"
   ]
  },
  {
   "cell_type": "code",
   "execution_count": 11,
   "id": "7ec735d2",
   "metadata": {},
   "outputs": [],
   "source": [
    "df['is_author_country'] = np.where(df['geography_iso'] != 'nan', True, False)"
   ]
  },
  {
   "cell_type": "code",
   "execution_count": 12,
   "id": "10d615f9",
   "metadata": {},
   "outputs": [],
   "source": [
    "# Author - creating author type field\n",
    "df['author_type'] = np.where(df['is_author_country'] == True, 'Country', \n",
    "                             np.where(df['first_author'] == 'IPCC', 'IPCC', \n",
    "                                 np.where(df['first_author'].str.contains('UNFCCC'), 'UNFCCC',\n",
    "                                      'Other')))"
   ]
  },
  {
   "cell_type": "code",
   "execution_count": 13,
   "id": "8916b07d",
   "metadata": {},
   "outputs": [],
   "source": [
    "# Date - add year and m-y column\n",
    "df['date'] = pd.to_datetime(df['date'])\n",
    "df['year'] = df['date'].dt.year\n",
    "df['month'] = df['date'].dt.month\n",
    "df['month_year'] = df['date'].dt.to_period('M')\n",
    "df[\"date_document_name\"] = df[\"date\"].astype(str) + \" - \" + df[\"document_name\"]"
   ]
  },
  {
   "cell_type": "code",
   "execution_count": 14,
   "id": "198ba2f1",
   "metadata": {},
   "outputs": [],
   "source": [
    "df['n_words'] =  df['text'].str.count(' ') + 1\n",
    "df['bool_ipcc'] =  df['text'].str.contains(\"IPCC\")"
   ]
  },
  {
   "cell_type": "code",
   "execution_count": 15,
   "id": "8b262155",
   "metadata": {},
   "outputs": [],
   "source": [
    "df['text_startsLC'] = df['text'].astype(str).str[0].str.islower()"
   ]
  },
  {
   "cell_type": "code",
   "execution_count": 16,
   "id": "f4cc5cda",
   "metadata": {},
   "outputs": [],
   "source": [
    "# Add country names and continents\n",
    "def country_to_continent(country_alpha3):\n",
    "    try:\n",
    "        # country_name = pc.country_alpha3_to_country_name(country_alpha3)\n",
    "        country_alpha2 = pc.country_alpha3_to_country_alpha2(country_alpha3)\n",
    "        country_continent_code = pc.country_alpha2_to_continent_code(country_alpha2)\n",
    "        country_continent_name = pc.convert_continent_code_to_continent_name(country_continent_code)\n",
    "    except:\n",
    "            if country_alpha3 =='TLS':\n",
    "                country_continent_name = \"Asia\"\n",
    "            elif country_alpha3 =='UAE':\n",
    "                country_continent_name = \"Asia\"\n",
    "            elif country_alpha3 =='VAT':\n",
    "                country_continent_name = \"Europe\"\n",
    "            elif country_alpha3 =='EUR':\n",
    "                country_continent_name = \"Europe\"\n",
    "            else:\n",
    "                country_continent_name = \"null\"\n",
    "    return country_continent_name"
   ]
  },
  {
   "cell_type": "code",
   "execution_count": 17,
   "id": "b6f868d1",
   "metadata": {},
   "outputs": [],
   "source": [
    "def countrycode_to_name(country_alpha3):\n",
    "    try:\n",
    "        country_alpha2 = pc.country_alpha3_to_country_alpha2(country_alpha3)\n",
    "        #print(country_alpha2)\n",
    "        country_name = pc.country_alpha2_to_country_name(country_alpha2)\n",
    "    except:\n",
    "        country_name = \"null\"\n",
    "    return country_name"
   ]
  },
  {
   "cell_type": "code",
   "execution_count": 18,
   "id": "2a8f1f3d",
   "metadata": {},
   "outputs": [],
   "source": [
    "def countryname_to_code3(cn_name):\n",
    "    try:\n",
    "        country_alpha3 = pc.country_name_to_country_alpha3(cn_name)\n",
    "    except:\n",
    "        country_alpha3 = \"null\"   \n",
    "    return country_alpha3"
   ]
  },
  {
   "cell_type": "code",
   "execution_count": 19,
   "id": "707ae32d",
   "metadata": {},
   "outputs": [],
   "source": [
    "df['Continent'] = df['geography_iso'].map(country_to_continent)"
   ]
  },
  {
   "cell_type": "code",
   "execution_count": 20,
   "id": "3fcd7e22",
   "metadata": {},
   "outputs": [],
   "source": [
    "df['geography_iso_name'] = df['geography_iso'].map(countrycode_to_name)"
   ]
  },
  {
   "cell_type": "code",
   "execution_count": 21,
   "id": "b6d5e278",
   "metadata": {},
   "outputs": [],
   "source": [
    "df['UNFCCC_annex'] = np.where(df['author_type'] == 'Country',\n",
    "                             np.where(df['geography_iso'].isin(ANNEX_ONE), 'Annex I', \n",
    "                                 np.where(df['geography_iso'].isin(NON_ANNEX_ONE), 'Annex II', 'Other')),'null')"
   ]
  },
  {
   "cell_type": "code",
   "execution_count": 22,
   "id": "a259279d",
   "metadata": {},
   "outputs": [],
   "source": [
    "df['G20'] = np.where(df['author_type'] == 'Country',\n",
    "                             np.where(df['geography_iso'].isin(G20), True,False),'null')"
   ]
  },
  {
   "cell_type": "code",
   "execution_count": 55,
   "id": "1d4005c7",
   "metadata": {},
   "outputs": [
    {
     "data": {
      "text/plain": [
       "geography_iso  G20  \n",
       "AFG            False     8214\n",
       "AGO            False     5254\n",
       "ALB            False     7571\n",
       "AND            False     3208\n",
       "ARE            False     1561\n",
       "ARG            True     28568\n",
       "ARM            False     5028\n",
       "ATG            False     3365\n",
       "AUS            True     12166\n",
       "AUT            False     4511\n",
       "AZE            False     4368\n",
       "BDI            False     4039\n",
       "BEL            False     5284\n",
       "BEN            False     3784\n",
       "BFA            False     3695\n",
       "BGD            False     3301\n",
       "BGR            False     4715\n",
       "BHR            False     1252\n",
       "BHS            False     1055\n",
       "BIH            False     4225\n",
       "BLR            False      614\n",
       "BLZ            False     5216\n",
       "BOL            False     4160\n",
       "BRA            True      5508\n",
       "BRB            False     1345\n",
       "BRN            False       97\n",
       "BTN            False     1761\n",
       "BWA            False     1445\n",
       "CAF            False     1457\n",
       "CAN            True     13181\n",
       "CHE            False     8766\n",
       "CHL            False    19219\n",
       "CHN            True     10273\n",
       "CIV            False     3110\n",
       "CMR            False      446\n",
       "COD            False     2786\n",
       "COG            False     1962\n",
       "COK            False     1325\n",
       "COL            False    20985\n",
       "COM            False     2307\n",
       "CPV            False     2954\n",
       "CRI            False    10831\n",
       "CUB            False     4276\n",
       "CYP            False     3016\n",
       "CZE            False     4633\n",
       "DEU            True      7552\n",
       "DJI            False     1526\n",
       "DMA            False     3961\n",
       "DNK            False    95484\n",
       "DOM            False     6421\n",
       "dtype: int64"
      ]
     },
     "execution_count": 55,
     "metadata": {},
     "output_type": "execute_result"
    }
   ],
   "source": [
    "df[['geography_iso','G20']].groupby(['geography_iso','G20']).size().head(50)"
   ]
  },
  {
   "cell_type": "markdown",
   "id": "57280def",
   "metadata": {},
   "source": [
    "***"
   ]
  },
  {
   "cell_type": "markdown",
   "id": "6964bb31",
   "metadata": {},
   "source": [
    "# Data sub-sets"
   ]
  },
  {
   "cell_type": "code",
   "execution_count": 23,
   "id": "206d9613",
   "metadata": {},
   "outputs": [],
   "source": [
    "filter_country = (df['author_type']=='Country')\n",
    "filter_ipccreport = (df['author_type']=='IPCC')\n",
    "filter_ipccmentions = (df['bool_ipcc']==True)"
   ]
  },
  {
   "cell_type": "code",
   "execution_count": 24,
   "id": "42580161",
   "metadata": {},
   "outputs": [],
   "source": [
    "# Filters: References to IPCC reports\n",
    "ref0 = (df['text'].str.startswith(\"IPCC.\"))\n",
    "ref1 = (df['text'].str.startswith(\"IPCC (\"))\n",
    "ref2 = (df['text'].str.startswith(\"IPCC, \"))\n",
    "ref3 = (df['text'].str.startswith(\"Intergovernmental Panel on Climate Change (IPCC). \"))\n",
    "ref4 = (df['text'].str.contains(\"Contribution of Working Group\")\n",
    "# [Add justification in code] \n",
    "ref5 = (df['text'].str.contains(\"IPCC Special Report on the impacts of global warming of 1.5°C above pre\"))\n",
    "\n",
    "refs = (ref0 | ref1 | ref2 | ref3 | ref4 | ref5)\n",
    "not_refs = (~ref0 & ~ref1 & ~ref2 & ~ref3 & ~ref4 & ~ref5)"
   ]
  },
  {
   "cell_type": "code",
   "execution_count": 26,
   "id": "6e468044",
   "metadata": {},
   "outputs": [],
   "source": [
    "# Filters: Body text\n",
    "body0 = (~df['text'].str.startswith(\"Source:\"))\n",
    "body1 = (~df['text'].str.startswith(\"Legend: \"))\n",
    "body2 = (~df['text'].str.startswith(\"*\"))\n",
    "body3 = (df['type']=='Text')\n",
    "body4 = (df['n_words']>10)\n",
    "bodys = body0 & body1 & body1 & body2 & body3 & body4"
   ]
  },
  {
   "cell_type": "markdown",
   "id": "b7a014bc",
   "metadata": {},
   "source": [
    "## Dataset subset: Country Policy Reports"
   ]
  },
  {
   "cell_type": "code",
   "execution_count": 28,
   "id": "484857e8",
   "metadata": {},
   "outputs": [
    {
     "data": {
      "text/plain": [
       "1102177"
      ]
     },
     "execution_count": 28,
     "metadata": {},
     "output_type": "execute_result"
    }
   ],
   "source": [
    "df_countrysubmissions = df[filter_country]\n",
    "#df_countrysubmissions.to_csv('df_countrysubmissions.csv')\n",
    "len(df_countrysubmissions)"
   ]
  },
  {
   "cell_type": "markdown",
   "id": "ba11bdcf",
   "metadata": {},
   "source": [
    "## Dataset subset: Country Policy Reports IPCC mentions"
   ]
  },
  {
   "cell_type": "code",
   "execution_count": 30,
   "id": "3424df65",
   "metadata": {},
   "outputs": [
    {
     "data": {
      "text/plain": [
       "25948"
      ]
     },
     "execution_count": 30,
     "metadata": {},
     "output_type": "execute_result"
    }
   ],
   "source": [
    "df_ipccmentions = df[(filter_ipccmentions)& filter_country]\n",
    "len(df_ipccmentions)"
   ]
  },
  {
   "cell_type": "code",
   "execution_count": 31,
   "id": "c3734bfc",
   "metadata": {},
   "outputs": [
    {
     "data": {
      "text/plain": [
       "794"
      ]
     },
     "execution_count": 31,
     "metadata": {},
     "output_type": "execute_result"
    }
   ],
   "source": [
    "df_ipccmentions['document_name'].nunique()"
   ]
  },
  {
   "cell_type": "markdown",
   "id": "71b17973",
   "metadata": {},
   "source": [
    "### Body"
   ]
  },
  {
   "cell_type": "code",
   "execution_count": 33,
   "id": "9dd43f9c",
   "metadata": {},
   "outputs": [
    {
     "data": {
      "text/plain": [
       "18848"
      ]
     },
     "execution_count": 33,
     "metadata": {},
     "output_type": "execute_result"
    }
   ],
   "source": [
    "df_ipccmentions_body = df[(filter_ipccmentions)\n",
    "                    & filter_country\n",
    "                    & not_refs\n",
    "                    & bodys]\n",
    "len(df_ipccmentions_body)"
   ]
  },
  {
   "cell_type": "code",
   "execution_count": 34,
   "id": "a06b0cd5",
   "metadata": {},
   "outputs": [
    {
     "data": {
      "text/plain": [
       "750"
      ]
     },
     "execution_count": 34,
     "metadata": {},
     "output_type": "execute_result"
    }
   ],
   "source": [
    "df_ipccmentions_body['document_name'].nunique()"
   ]
  },
  {
   "cell_type": "code",
   "execution_count": 35,
   "id": "271a7cdd",
   "metadata": {},
   "outputs": [
    {
     "data": {
      "text/plain": [
       "18848"
      ]
     },
     "execution_count": 35,
     "metadata": {},
     "output_type": "execute_result"
    }
   ],
   "source": [
    "df_ipccmentions_body.to_csv(\"df_ipccmentions_body.csv\")\n",
    "df_ipccmentions_body_readin = pd.read_csv(\"df_ipccmentions_body.csv\")\n",
    "len(df_ipccmentions_body_readin)"
   ]
  },
  {
   "cell_type": "code",
   "execution_count": 56,
   "id": "e7ba0d61",
   "metadata": {
    "scrolled": true
   },
   "outputs": [
    {
     "data": {
      "text/plain": [
       "document_name\n",
       "Afghanistan. Biennial update report (BUR). BUR 1. National inventory report.     489\n",
       "Argentina. Biennial update report (BUR). BUR 4.                                  467\n",
       "Mexico. 2018 National Inventory Report (NIR).                                    430\n",
       "Argentina. Biennial update report (BUR). BUR 4. National inventory report.       420\n",
       "Argentina. Biennial update report (BUR). BUR 3. National inventory report.       406\n",
       "                                                                                ... \n",
       "Updated Second Nationally Determined Contribution of the United Arab Emirates      1\n",
       "Argentina Second NDC (Updated submission)                                          1\n",
       "Italy's Adaptation communication                                                   1\n",
       "Saint Kitts and Nevis First NDC (Updated submission)                               1\n",
       "Eswatini First NDC (Archived)                                                      1\n",
       "Name: count, Length: 750, dtype: int64"
      ]
     },
     "execution_count": 56,
     "metadata": {},
     "output_type": "execute_result"
    }
   ],
   "source": [
    "df_ipccmentions_body['document_name'].value_counts()"
   ]
  },
  {
   "cell_type": "markdown",
   "id": "7dd75419",
   "metadata": {},
   "source": [
    "### References to IPCC report"
   ]
  },
  {
   "cell_type": "code",
   "execution_count": 37,
   "id": "ebe32b30",
   "metadata": {},
   "outputs": [
    {
     "data": {
      "text/plain": [
       "817"
      ]
     },
     "execution_count": 37,
     "metadata": {},
     "output_type": "execute_result"
    }
   ],
   "source": [
    "df_ipccmentions_ipccrefs = df[(filter_ipccmentions)\n",
    "                    & filter_country\n",
    "                    & refs]\n",
    "len(df_ipccmentions_ipccrefs)"
   ]
  },
  {
   "cell_type": "code",
   "execution_count": 38,
   "id": "8b9544d9",
   "metadata": {},
   "outputs": [
    {
     "data": {
      "text/plain": [
       "817"
      ]
     },
     "execution_count": 38,
     "metadata": {},
     "output_type": "execute_result"
    }
   ],
   "source": [
    "df_ipccmentions_ipccrefs.to_csv('df_ipccmentions_ipccrefs.csv')\n",
    "df_ipccmentions_ipccrefs_readin = pd.read_csv(\"df_ipccmentions_ipccrefs.csv\")\n",
    "len(df_ipccmentions_ipccrefs_readin)"
   ]
  },
  {
   "cell_type": "code",
   "execution_count": 39,
   "id": "5d533043",
   "metadata": {},
   "outputs": [
    {
     "data": {
      "text/plain": [
       "243"
      ]
     },
     "execution_count": 39,
     "metadata": {},
     "output_type": "execute_result"
    }
   ],
   "source": [
    "df_ipccmentions_ipccrefs['document_name'].nunique()"
   ]
  },
  {
   "cell_type": "markdown",
   "id": "8152a313",
   "metadata": {},
   "source": [
    "## Dataset subset: IPCC report"
   ]
  },
  {
   "cell_type": "code",
   "execution_count": 40,
   "id": "e985eec2",
   "metadata": {},
   "outputs": [
    {
     "data": {
      "text/plain": [
       "37745"
      ]
     },
     "execution_count": 40,
     "metadata": {},
     "output_type": "execute_result"
    }
   ],
   "source": [
    "df_ipccreport = df[(filter_ipccreport)]\n",
    "len(df_ipccreport)"
   ]
  },
  {
   "cell_type": "code",
   "execution_count": 41,
   "id": "ae65ffe2",
   "metadata": {},
   "outputs": [
    {
     "data": {
      "text/plain": [
       "52"
      ]
     },
     "execution_count": 41,
     "metadata": {},
     "output_type": "execute_result"
    }
   ],
   "source": [
    "df_ipccreport['document_name'].nunique()"
   ]
  },
  {
   "cell_type": "markdown",
   "id": "ff278f66",
   "metadata": {},
   "source": [
    "### Body"
   ]
  },
  {
   "cell_type": "code",
   "execution_count": 43,
   "id": "54fc9af7",
   "metadata": {},
   "outputs": [],
   "source": [
    "# These phrases are used to pick up the text strings that contain a list of authors\n",
    "r0 = df_ipccreport['text'].str.contains(\"Association of Polar Early Career Scientist \\(APECS\\)\")\n",
    "r1 = df_ipccreport['text'].str.contains(\"YESS \\(Young Earth System Scientists community\\)\")\n",
    "r2 = df_ipccreport['text'].str.contains(\"United Kingdom \\(of Great Britain and Northern Ireland\\)\")\n",
    "r3 = df_ipccreport['text'].str.contains(\"Permafrost Young Research Network \\(PYRN\\)\")\n",
    "r4 = df_ipccreport['text'].str.contains(\"\\(USA\\)\")\n",
    "r5 = df_ipccreport['text'].str.contains(\"\\(United States of America\\)\")\n",
    "r6 = df_ipccreport['text'].str.contains(\"\\(The United States of America\\)\")\n",
    "r7 = df_ipccreport['text'].str.contains(\"\\(the United States of America\\)\")\n",
    "r8 = df_ipccreport['text'].str.contains(\"\\(United Kingdom\\)\")\n",
    "r9 = df_ipccreport['text'].str.contains(\"\\(France\\)\")\n",
    "r10 = df_ipccreport['text'].str.contains(\"\\(Germany\\)\")\n",
    "remove_authors = r0 | r1 | r2 | r3 | r4 | r5 | r6 | r7 | r8 | r9 | r10"
   ]
  },
  {
   "cell_type": "code",
   "execution_count": 44,
   "id": "df276312",
   "metadata": {},
   "outputs": [
    {
     "data": {
      "text/plain": [
       "16666"
      ]
     },
     "execution_count": 44,
     "metadata": {},
     "output_type": "execute_result"
    }
   ],
   "source": [
    "df_ipccreport_body = df[(filter_ipccreport)\n",
    "                    & not_refs\n",
    "                    & bodys\n",
    "                    & ~remove_authors]\n",
    "len(df_ipccreport_body)"
   ]
  },
  {
   "cell_type": "code",
   "execution_count": 51,
   "id": "1107745f",
   "metadata": {},
   "outputs": [
    {
     "data": {
      "text/plain": [
       "16666"
      ]
     },
     "execution_count": 51,
     "metadata": {},
     "output_type": "execute_result"
    }
   ],
   "source": [
    "df_ipccreport_body.to_csv('df_ipccreport_body.csv')\n",
    "df_ipccreport_body_readin = pd.read_csv(\"df_ipccreport_body.csv\")\n",
    "len(df_ipccreport_body_readin)"
   ]
  },
  {
   "cell_type": "code",
   "execution_count": 64,
   "id": "cd221d9a",
   "metadata": {},
   "outputs": [
    {
     "data": {
      "text/html": [
       "<div>\n",
       "<style scoped>\n",
       "    .dataframe tbody tr th:only-of-type {\n",
       "        vertical-align: middle;\n",
       "    }\n",
       "\n",
       "    .dataframe tbody tr th {\n",
       "        vertical-align: top;\n",
       "    }\n",
       "\n",
       "    .dataframe thead th {\n",
       "        text-align: right;\n",
       "    }\n",
       "</style>\n",
       "<table border=\"1\" class=\"dataframe\">\n",
       "  <thead>\n",
       "    <tr style=\"text-align: right;\">\n",
       "      <th></th>\n",
       "      <th>0</th>\n",
       "    </tr>\n",
       "    <tr>\n",
       "      <th>date</th>\n",
       "      <th></th>\n",
       "    </tr>\n",
       "  </thead>\n",
       "  <tbody>\n",
       "    <tr>\n",
       "      <th>2018-10-01</th>\n",
       "      <td>4259</td>\n",
       "    </tr>\n",
       "    <tr>\n",
       "      <th>2019-08-01</th>\n",
       "      <td>10481</td>\n",
       "    </tr>\n",
       "    <tr>\n",
       "      <th>2019-09-01</th>\n",
       "      <td>8123</td>\n",
       "    </tr>\n",
       "    <tr>\n",
       "      <th>2021-08-01</th>\n",
       "      <td>5552</td>\n",
       "    </tr>\n",
       "    <tr>\n",
       "      <th>2022-02-01</th>\n",
       "      <td>2714</td>\n",
       "    </tr>\n",
       "    <tr>\n",
       "      <th>2022-04-04</th>\n",
       "      <td>5075</td>\n",
       "    </tr>\n",
       "    <tr>\n",
       "      <th>2023-03-01</th>\n",
       "      <td>1541</td>\n",
       "    </tr>\n",
       "  </tbody>\n",
       "</table>\n",
       "</div>"
      ],
      "text/plain": [
       "                0\n",
       "date             \n",
       "2018-10-01   4259\n",
       "2019-08-01  10481\n",
       "2019-09-01   8123\n",
       "2021-08-01   5552\n",
       "2022-02-01   2714\n",
       "2022-04-04   5075\n",
       "2023-03-01   1541"
      ]
     },
     "execution_count": 64,
     "metadata": {},
     "output_type": "execute_result"
    }
   ],
   "source": [
    "pd.DataFrame(df_ipccreport[['date','document_name']].groupby(['date']).size()).head(100)\n",
    "# All the reports published by the IPCC since 2018 were included in the dataset, other than 2019 Refinement to the 2006 IPCC Guidelines for National Greenhouse Gas Inventories.\n",
    "# This includes 3 special reports, the 4 AR6 related reports published between 2021 and 2023. "
   ]
  },
  {
   "cell_type": "markdown",
   "id": "49b094a7",
   "metadata": {},
   "source": [
    "### References to IPCC report"
   ]
  },
  {
   "cell_type": "code",
   "execution_count": null,
   "id": "bea38b92",
   "metadata": {},
   "outputs": [],
   "source": [
    "df_ipccreport_ipccrefs = df[(filter_ipccreport)\n",
    "                    & refs]\n",
    "len(df_ipccreport_ipccrefs)"
   ]
  },
  {
   "cell_type": "code",
   "execution_count": 57,
   "id": "aa81c207",
   "metadata": {},
   "outputs": [
    {
     "ename": "NameError",
     "evalue": "name 'df_ipccreport_ipccrefs' is not defined",
     "output_type": "error",
     "traceback": [
      "\u001b[0;31m---------------------------------------------------------------------------\u001b[0m",
      "\u001b[0;31mNameError\u001b[0m                                 Traceback (most recent call last)",
      "Cell \u001b[0;32mIn[57], line 1\u001b[0m\n\u001b[0;32m----> 1\u001b[0m df_ipccreport_ipccrefs[\u001b[38;5;124m'\u001b[39m\u001b[38;5;124mdocument_name\u001b[39m\u001b[38;5;124m'\u001b[39m]\u001b[38;5;241m.\u001b[39mnunique()\n",
      "\u001b[0;31mNameError\u001b[0m: name 'df_ipccreport_ipccrefs' is not defined"
     ]
    }
   ],
   "source": [
    "df_ipccreport_ipccrefs['document_name'].nunique()"
   ]
  },
  {
   "cell_type": "markdown",
   "id": "9c0903a4",
   "metadata": {},
   "source": [
    "***"
   ]
  },
  {
   "cell_type": "markdown",
   "id": "82aab5a1",
   "metadata": {},
   "source": [
    "# Data Checks"
   ]
  },
  {
   "cell_type": "markdown",
   "id": "a36a5f67",
   "metadata": {},
   "source": [
    "### Word count"
   ]
  },
  {
   "cell_type": "code",
   "execution_count": null,
   "id": "4eeb020f",
   "metadata": {},
   "outputs": [],
   "source": [
    "df['n_words'].hist(bins=100)\n",
    "max(df['n_words'])"
   ]
  },
  {
   "cell_type": "code",
   "execution_count": null,
   "id": "7893a94a",
   "metadata": {},
   "outputs": [],
   "source": [
    "df_long = pd.DataFrame(df[df['n_words']>1000])\n",
    "# pd.set_option('display.max_colwidth', None)\n",
    "df_long"
   ]
  },
  {
   "cell_type": "code",
   "execution_count": null,
   "id": "7409c606",
   "metadata": {
    "scrolled": true
   },
   "outputs": [],
   "source": [
    "# Words per document\n",
    "wordcount = pd.DataFrame(df.groupby('date_document_name')['n_words'].sum())\n",
    "wordcount['n_words'].hist(bins=100)"
   ]
  },
  {
   "cell_type": "markdown",
   "id": "e0e4a496",
   "metadata": {},
   "source": [
    "### Text count"
   ]
  },
  {
   "cell_type": "code",
   "execution_count": null,
   "id": "33cb7d9a",
   "metadata": {},
   "outputs": [],
   "source": [
    "textcount = pd.DataFrame(df.groupby('geography_iso')['text'].nunique())\n",
    "textcount = textcount.rename(columns={'text': 'n_text'})\n",
    "textcount = textcount.reset_index()\n",
    "i = textcount[((textcount.geography_iso == 'nan') &( textcount.n_text == 110271))].index\n",
    "textcount = textcount.drop(i)\n",
    "textcount.sort_values(['n_text'],ascending=False).head(20)"
   ]
  },
  {
   "cell_type": "code",
   "execution_count": null,
   "id": "6d8ca00e",
   "metadata": {},
   "outputs": [],
   "source": [
    "fig = px.choropleth(textcount, locations=\"geography_iso\",\n",
    "                    color=\"n_text\", \n",
    "                    #hover_name=\"geography_iso\", \n",
    "                    title=\"Number of Text Rows by Country\",\n",
    "                    color_continuous_scale=px.colors.sequential.Plasma)\n",
    "fig.show()"
   ]
  },
  {
   "cell_type": "code",
   "execution_count": null,
   "id": "4c57fdd8",
   "metadata": {},
   "outputs": [],
   "source": [
    "textcount_time = df.groupby('year')['text'].nunique()\n",
    "textcount_time.plot.bar()"
   ]
  },
  {
   "cell_type": "markdown",
   "id": "a511b493",
   "metadata": {},
   "source": [
    "### Document count"
   ]
  },
  {
   "cell_type": "code",
   "execution_count": null,
   "id": "cb33b919",
   "metadata": {},
   "outputs": [],
   "source": [
    "# Unique documents per geography and report type\n",
    "print(df['document_name'].nunique())\n",
    "pivot_doccount= pd.pivot_table(data=df,index='geography_iso',columns='types0',values='document_name',aggfunc=lambda x: len(x.unique()),margins=True)\n",
    "pivot_doccount"
   ]
  },
  {
   "cell_type": "code",
   "execution_count": null,
   "id": "d2f1d22f",
   "metadata": {},
   "outputs": [],
   "source": [
    "doccount = pd.DataFrame(df.groupby('geography_iso')['document_name'].nunique())\n",
    "doccount = doccount.rename(columns={'document_name': 'n_docs'})\n",
    "doccount = doccount.reset_index()\n",
    "i = doccount[((doccount.geography_iso == 'nan') &( doccount.n_docs == 512))].index\n",
    "doccount = doccount.drop(i)\n",
    "#docname.sort_values(['n_docs'],ascending=False).head(20)"
   ]
  },
  {
   "cell_type": "code",
   "execution_count": null,
   "id": "a76cb106",
   "metadata": {},
   "outputs": [],
   "source": [
    "fig = px.choropleth(doccount, locations=\"geography_iso\",\n",
    "                    color=\"n_docs\", \n",
    "                    #hover_name=\"geography_iso\", \n",
    "                    title=\"Number of Documents by Country\",\n",
    "                    color_continuous_scale=px.colors.sequential.Plasma)\n",
    "fig.show()"
   ]
  },
  {
   "cell_type": "code",
   "execution_count": null,
   "id": "127ae994",
   "metadata": {},
   "outputs": [],
   "source": [
    "doccount_type = pd.DataFrame(df.groupby('types0')['document_name'].nunique())\n",
    "doccount_type.sort_values('document_name').plot.barh(legend=None)"
   ]
  },
  {
   "cell_type": "code",
   "execution_count": null,
   "id": "238b1195",
   "metadata": {},
   "outputs": [],
   "source": [
    "doccount_time = df.groupby('year')['document_name'].nunique()\n",
    "doccount_time.plot.bar()"
   ]
  },
  {
   "cell_type": "markdown",
   "id": "887d50a6",
   "metadata": {},
   "source": [
    "### Parsing"
   ]
  },
  {
   "cell_type": "code",
   "execution_count": null,
   "id": "bae82d82",
   "metadata": {
    "scrolled": false
   },
   "outputs": [],
   "source": [
    "# row per document\n",
    "df_rowperdoc = df.groupby('document_name')['text'].count()\n",
    "df_rowperdoc.describe()\n",
    "#df_rowperdoc.sort_values(ascending=False).head(5)\n"
   ]
  },
  {
   "cell_type": "code",
   "execution_count": null,
   "id": "cdf70a49",
   "metadata": {
    "scrolled": true
   },
   "outputs": [],
   "source": [
    "# words per country\n",
    "df_wordspercountry = df[df['is_author_country'] == True].groupby('geography_iso')['text'].count()\n",
    "df_rwordspercountry.describe()"
   ]
  },
  {
   "cell_type": "code",
   "execution_count": null,
   "id": "e3281146",
   "metadata": {
    "scrolled": true
   },
   "outputs": [],
   "source": [
    "# documents per country\n",
    "df_docspercountry = df[df['is_author_country'] == True].groupby('geography_iso')['document_name'].nunique()\n",
    "df_docspercountry.describe()"
   ]
  },
  {
   "cell_type": "code",
   "execution_count": null,
   "id": "70565d3d",
   "metadata": {},
   "outputs": [],
   "source": [
    "# histogram of words per row - count document\n",
    "by_document = df[df['is_author_country'] == True].groupby(['document_name']).agg(n_words = ('n_words','sum'), n_rows_unique=('text','nunique'),n_rows_count=('text','count'))\n",
    "by_document = by_document.reset_index()\n",
    "\n",
    "by_document['Words/Row'] = by_document['n_words']/by_document['n_rows_count']\n",
    "by_document['Ratio'] = by_document['n_rows_unique']/by_document['n_rows_count']"
   ]
  },
  {
   "cell_type": "code",
   "execution_count": null,
   "id": "c60939ee",
   "metadata": {},
   "outputs": [],
   "source": [
    "output = by_document.sort_values('Words/Row',ascending = True).head(5)\n",
    "output = output[['document_name','n_words','n_rows_count','n_rows_unique','Words/Row']]\n",
    "output.to_latex()"
   ]
  },
  {
   "cell_type": "code",
   "execution_count": null,
   "id": "601751ab",
   "metadata": {},
   "outputs": [],
   "source": [
    "by_document.hist(column='Words/Row',bins = 50)\n",
    "pl.title(\"Country Policy Documents - Document count by Words/Row\")\n",
    "pl.xlabel(\"Words/Row\")\n",
    "pl.ylabel(\"No. of Documents\")"
   ]
  },
  {
   "cell_type": "code",
   "execution_count": null,
   "id": "e773e9d4",
   "metadata": {},
   "outputs": [],
   "source": [
    "by_document.describe()"
   ]
  },
  {
   "cell_type": "code",
   "execution_count": null,
   "id": "3c88a99c",
   "metadata": {},
   "outputs": [],
   "source": [
    "#by_document[by_document['document_name'].str.contains(\"Hungary\")]\n",
    "by_document.hist(column='Ratio',bins = 50)\n",
    "pl.title(\"Histogram - Country Policy Reports by Words/Row\")\n",
    "pl.xlabel(\"Words/Row\")\n",
    "pl.ylabel(\"No. of Documents\")"
   ]
  },
  {
   "cell_type": "code",
   "execution_count": null,
   "id": "3d3f5df8",
   "metadata": {},
   "outputs": [],
   "source": [
    "plt.scatter(by_document['Ratio'], by_document['Words/Row'])\n",
    "plt.title(\"Country Policy Reports\")\n",
    "plt.xlabel(\"Ratio of No. of Rows (Unique Text) to No. of Rows\")\n",
    "plt.ylabel(\"Words/Row\")\n",
    "\n",
    "plt.show()"
   ]
  },
  {
   "cell_type": "code",
   "execution_count": null,
   "id": "b5b4dab3",
   "metadata": {},
   "outputs": [],
   "source": [
    "# Group by author_type and document type // count rows and documents\n",
    "by_authoranddoc = df.groupby(['author_group']).agg(n_authors=('first_author','nunique'),n_rows=('text','count'),n_docs=('document_name','nunique'))\n",
    "by_authoranddoc.loc['Total'] = by_authoranddoc.iloc[:, :].sum()\n",
    "\n",
    "# by_authoranddoc.to_latex()\n",
    "by_authoranddoc "
   ]
  },
  {
   "cell_type": "code",
   "execution_count": null,
   "id": "028a44e9",
   "metadata": {},
   "outputs": [],
   "source": [
    "# words per row\n",
    "df_countrysubmissions['n_words'].describe()"
   ]
  },
  {
   "cell_type": "code",
   "execution_count": null,
   "id": "609ee517",
   "metadata": {},
   "outputs": [],
   "source": [
    "# row per document\n",
    "df_rowperdoc = df_countrysubmissions.groupby('document_name')['text'].count()\n",
    "df_rowperdoc.describe()"
   ]
  },
  {
   "cell_type": "code",
   "execution_count": null,
   "id": "56381a75",
   "metadata": {},
   "outputs": [],
   "source": [
    "# documents per country\n",
    "df_docspercountry = df_countrysubmissions.groupby('first_author')['document_name'].nunique()\n",
    "df_docspercountry.describe()"
   ]
  }
 ],
 "metadata": {
  "kernelspec": {
   "display_name": "Python 3 (ipykernel)",
   "language": "python",
   "name": "python3"
  },
  "language_info": {
   "codemirror_mode": {
    "name": "ipython",
    "version": 3
   },
   "file_extension": ".py",
   "mimetype": "text/x-python",
   "name": "python",
   "nbconvert_exporter": "python",
   "pygments_lexer": "ipython3",
   "version": "3.11.5"
  }
 },
 "nbformat": 4,
 "nbformat_minor": 5
}
